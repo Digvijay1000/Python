{
 "cells": [
  {
   "cell_type": "code",
   "execution_count": 1,
   "id": "f204ce9d-8dd0-458c-b656-9d9af7113ceb",
   "metadata": {},
   "outputs": [
    {
     "name": "stdout",
     "output_type": "stream",
     "text": [
      "The Zen of Python, by Tim Peters\n",
      "\n",
      "Beautiful is better than ugly.\n",
      "Explicit is better than implicit.\n",
      "Simple is better than complex.\n",
      "Complex is better than complicated.\n",
      "Flat is better than nested.\n",
      "Sparse is better than dense.\n",
      "Readability counts.\n",
      "Special cases aren't special enough to break the rules.\n",
      "Although practicality beats purity.\n",
      "Errors should never pass silently.\n",
      "Unless explicitly silenced.\n",
      "In the face of ambiguity, refuse the temptation to guess.\n",
      "There should be one-- and preferably only one --obvious way to do it.\n",
      "Although that way may not be obvious at first unless you're Dutch.\n",
      "Now is better than never.\n",
      "Although never is often better than *right* now.\n",
      "If the implementation is hard to explain, it's a bad idea.\n",
      "If the implementation is easy to explain, it may be a good idea.\n",
      "Namespaces are one honking great idea -- let's do more of those!\n"
     ]
    }
   ],
   "source": [
    "import this"
   ]
  },
  {
   "cell_type": "code",
   "execution_count": 2,
   "id": "8f321705-8845-4514-8fb8-84323c0b5571",
   "metadata": {},
   "outputs": [],
   "source": [
    "str=\"Python and Data Science\""
   ]
  },
  {
   "cell_type": "code",
   "execution_count": 3,
   "id": "749a388f-d218-4982-9c6c-196b6f5422e9",
   "metadata": {},
   "outputs": [
    {
     "data": {
      "text/plain": [
       "23"
      ]
     },
     "execution_count": 3,
     "metadata": {},
     "output_type": "execute_result"
    }
   ],
   "source": [
    "len(str)"
   ]
  },
  {
   "cell_type": "code",
   "execution_count": 4,
   "id": "dd4afaf1-a285-4e0c-ab68-d6cfcf640518",
   "metadata": {},
   "outputs": [
    {
     "data": {
      "text/plain": [
       "' Data Science'"
      ]
     },
     "execution_count": 4,
     "metadata": {},
     "output_type": "execute_result"
    }
   ],
   "source": [
    "str[10:23]"
   ]
  },
  {
   "cell_type": "code",
   "execution_count": 5,
   "id": "16b9c952-b0ba-4229-b5bd-8e8acae448ca",
   "metadata": {},
   "outputs": [
    {
     "data": {
      "text/plain": [
       "'Python and'"
      ]
     },
     "execution_count": 5,
     "metadata": {},
     "output_type": "execute_result"
    }
   ],
   "source": [
    "str[:10]"
   ]
  },
  {
   "cell_type": "code",
   "execution_count": 6,
   "id": "5a1bb5b4-9e82-4349-be99-f26d5c28b413",
   "metadata": {},
   "outputs": [
    {
     "data": {
      "text/plain": [
       "'ecneicS ataD dna nohtyP'"
      ]
     },
     "execution_count": 6,
     "metadata": {},
     "output_type": "execute_result"
    }
   ],
   "source": [
    "str[::-1]"
   ]
  },
  {
   "cell_type": "code",
   "execution_count": 7,
   "id": "71ae6bb7-2f03-4057-ad03-1a6106db4b99",
   "metadata": {},
   "outputs": [
    {
     "name": "stdout",
     "output_type": "stream",
     "text": [
      "thon : ta S\n"
     ]
    }
   ],
   "source": [
    "print(str[2:6] , ':', str[-10:-6])"
   ]
  },
  {
   "cell_type": "code",
   "execution_count": 8,
   "id": "16bde7a9-be12-4d41-ab7c-0630fe82e0fc",
   "metadata": {},
   "outputs": [
    {
     "data": {
      "text/plain": [
       "'Pto n aaSine'"
      ]
     },
     "execution_count": 8,
     "metadata": {},
     "output_type": "execute_result"
    }
   ],
   "source": [
    "str[::2]"
   ]
  },
  {
   "cell_type": "code",
   "execution_count": 1,
   "id": "9c0d917c-64fb-4edc-b2d3-8b06ecf69df3",
   "metadata": {},
   "outputs": [
    {
     "name": "stdout",
     "output_type": "stream",
     "text": [
      "integer to float: 100.0 integer to complex: (100+0j) integer to string: 100\n"
     ]
    }
   ],
   "source": [
    "# a=100\n",
    "# b=100.100\n",
    "# c='100000'\n",
    "# d=str(b)\n",
    "# print('integer to float :',float(a), 'integer to complex :',complex(a), 'integer to string :', d)\n",
    "\n",
    "a = 100\n",
    "b = 100.100\n",
    "c = 1+2j\n",
    "d = '100000'\n",
    "\n",
    "print('integer to float:', float(a), 'integer to complex:', complex(a), 'integer to string:', str(a))\n"
   ]
  },
  {
   "cell_type": "code",
   "execution_count": 2,
   "id": "5b7e0d5c-72e1-4a2c-8469-c11214bac0bd",
   "metadata": {},
   "outputs": [
    {
     "name": "stdout",
     "output_type": "stream",
     "text": [
      "float to integer : 100 flot to complex : (100.1+0j) float to string : 100.1\n"
     ]
    }
   ],
   "source": [
    "print('float to integer :',int(b), 'flot to complex :', complex(b), 'float to string :',str(b))"
   ]
  },
  {
   "cell_type": "code",
   "execution_count": 3,
   "id": "e752c069-f5e7-483b-b76b-1d59e0c3a5c4",
   "metadata": {},
   "outputs": [
    {
     "name": "stdout",
     "output_type": "stream",
     "text": [
      "string to int : 100000 string to float : 100000.0 string to complex : (100000+0j)\n"
     ]
    }
   ],
   "source": [
    "print('string to int :', int(d), 'string to float :',float(d), 'string to complex :', complex(d))"
   ]
  },
  {
   "cell_type": "code",
   "execution_count": 4,
   "id": "01cd2c4e-e54a-45d9-9bb6-e71b3082a8b7",
   "metadata": {},
   "outputs": [
    {
     "name": "stdout",
     "output_type": "stream",
     "text": [
      "complex to any other data type conversion is not possible\n"
     ]
    }
   ],
   "source": [
    "print('complex to any other data type conversion is not possible')"
   ]
  },
  {
   "cell_type": "code",
   "execution_count": 5,
   "id": "fcaddf38-582b-4fee-bfd8-a89256aa324b",
   "metadata": {},
   "outputs": [],
   "source": [
    "x = 100\n",
    "y = 100\n",
    "z = 100\n",
    "\n",
    "a = 10.10\n",
    "b = 10.10\n",
    "c = 10.10"
   ]
  },
  {
   "cell_type": "code",
   "execution_count": 6,
   "id": "a9defda2-eebb-4e0a-a327-4fac8eccecd1",
   "metadata": {},
   "outputs": [
    {
     "name": "stdout",
     "output_type": "stream",
     "text": [
      "x : 140732860264328\n",
      "y : 140732860264328\n",
      "z : 140732860264328\n"
     ]
    }
   ],
   "source": [
    "print('x :',id(x))\n",
    "print('y :',id(y))\n",
    "print('z :',id(z))"
   ]
  },
  {
   "cell_type": "code",
   "execution_count": 7,
   "id": "d7b4dc7b-94d2-4606-ab27-82f6b54b7bc3",
   "metadata": {},
   "outputs": [
    {
     "name": "stdout",
     "output_type": "stream",
     "text": [
      "a : 1194903219216\n",
      "b : 1194903218928\n",
      "c : 1194903209072\n"
     ]
    }
   ],
   "source": [
    "print('a :',id(a))\n",
    "print('b :',id(b))\n",
    "print('c :',id(c))"
   ]
  },
  {
   "cell_type": "code",
   "execution_count": 8,
   "id": "d4ba8841-3e10-4ccc-8af0-6f619c534c63",
   "metadata": {},
   "outputs": [
    {
     "name": "stdout",
     "output_type": "stream",
     "text": [
      "[10, 20, 30]\n",
      "10\n",
      "20\n",
      "30\n"
     ]
    }
   ],
   "source": [
    "lst = [10,20,30]\n",
    "b = bytes(lst)\n",
    "print(lst)\n",
    "for i in b:\n",
    "    print(i)"
   ]
  },
  {
   "cell_type": "code",
   "execution_count": 9,
   "id": "c0737301-d8ce-46bc-9597-ce3418a4e31b",
   "metadata": {},
   "outputs": [],
   "source": [
    "a = 'ABC'\n",
    "b = b'BAC'"
   ]
  },
  {
   "cell_type": "code",
   "execution_count": 10,
   "id": "088a9536-a902-460e-b614-0a2e3c8b5214",
   "metadata": {},
   "outputs": [
    {
     "name": "stdout",
     "output_type": "stream",
     "text": [
      "ABC <class 'str'>\n",
      "b'BAC' <class 'bytes'>\n",
      "66\n",
      "65\n",
      "67\n"
     ]
    }
   ],
   "source": [
    "print(a, type(a))\n",
    "print(b, type(b))\n",
    "\n",
    "for i in b:\n",
    "    print(i)"
   ]
  },
  {
   "cell_type": "code",
   "execution_count": 11,
   "id": "17991b7b-f429-4da8-af0d-10ade4fc312f",
   "metadata": {},
   "outputs": [
    {
     "name": "stdout",
     "output_type": "stream",
     "text": [
      "[144, 166, 255] <class 'list'>\n",
      "bytearray(b'\\x90\\xa6\\xff') <class 'bytearray'>\n",
      "144\n",
      "166\n",
      "255\n"
     ]
    }
   ],
   "source": [
    "lst = [144, 166, 255]\n",
    "ba = bytearray(lst)\n",
    "print(lst, type(lst))\n",
    "print(ba, type(ba))\n",
    "\n",
    "for i in ba:\n",
    "    print(i)\n"
   ]
  },
  {
   "cell_type": "code",
   "execution_count": 12,
   "id": "013125af-e449-4905-97ac-f998f9071a80",
   "metadata": {},
   "outputs": [],
   "source": [
    "ba[0]= 0"
   ]
  },
  {
   "cell_type": "code",
   "execution_count": 13,
   "id": "174a2e2a-afda-4d25-95e8-cb798791b992",
   "metadata": {},
   "outputs": [
    {
     "name": "stdout",
     "output_type": "stream",
     "text": [
      "0\n",
      "166\n",
      "255\n"
     ]
    }
   ],
   "source": [
    "for i in ba:\n",
    "    print(i)"
   ]
  },
  {
   "cell_type": "code",
   "execution_count": 14,
   "id": "bd8f8d51-39f2-4eb2-8af5-fd3297b2dc4b",
   "metadata": {},
   "outputs": [],
   "source": [
    "lst = [10, 10.10, '1000', 1+2j, -110, 0]"
   ]
  },
  {
   "cell_type": "code",
   "execution_count": 15,
   "id": "1a8ef4ad-f498-4efd-b692-b6fc1492118f",
   "metadata": {},
   "outputs": [
    {
     "name": "stdout",
     "output_type": "stream",
     "text": [
      "[10, 10.1, '1000', (1+2j), -110, 0] <class 'list'>\n"
     ]
    }
   ],
   "source": [
    "print(lst, type(lst))"
   ]
  },
  {
   "cell_type": "code",
   "execution_count": 16,
   "id": "4a58db9d-e458-48a4-91d5-3400ede82ba9",
   "metadata": {},
   "outputs": [
    {
     "data": {
      "text/plain": [
       "[0, -110, (1+2j), '1000', 10.1, 10]"
      ]
     },
     "execution_count": 16,
     "metadata": {},
     "output_type": "execute_result"
    }
   ],
   "source": [
    "lst[::-1]"
   ]
  },
  {
   "cell_type": "code",
   "execution_count": 17,
   "id": "c5a44461-4717-4962-bdec-37ae94ce63e1",
   "metadata": {},
   "outputs": [
    {
     "data": {
      "text/plain": [
       "[10, '1000', -110]"
      ]
     },
     "execution_count": 17,
     "metadata": {},
     "output_type": "execute_result"
    }
   ],
   "source": [
    "lst[::2]"
   ]
  },
  {
   "cell_type": "code",
   "execution_count": 18,
   "id": "0260bdbd-7640-40f9-8e1f-94402b1d0888",
   "metadata": {},
   "outputs": [
    {
     "data": {
      "text/plain": [
       "[0, (1+2j), 10.1]"
      ]
     },
     "execution_count": 18,
     "metadata": {},
     "output_type": "execute_result"
    }
   ],
   "source": [
    "lst[::-2]"
   ]
  },
  {
   "cell_type": "markdown",
   "id": "fb8f1336-e03f-4533-908f-656dff14a71c",
   "metadata": {},
   "source": [
    "list1.append\n",
    "list1.clear\n",
    "list1.copy\n",
    "list1.count\n",
    "list1.extend\n",
    "list1.index\n",
    "list1.insert\n",
    "list1.pop\n",
    "list1.remove\n",
    "list1.reverse\n",
    "list1.sort"
   ]
  },
  {
   "cell_type": "code",
   "execution_count": 24,
   "id": "90aaf7ca-b7af-43b7-82dc-c5bceb326737",
   "metadata": {},
   "outputs": [
    {
     "data": {
      "text/plain": [
       "[10, 10.1, '1000', (1+2j), -110, 0]"
      ]
     },
     "execution_count": 24,
     "metadata": {},
     "output_type": "execute_result"
    }
   ],
   "source": [
    "lst"
   ]
  },
  {
   "cell_type": "code",
   "execution_count": 25,
   "id": "3e8e710d-011f-46cd-b761-13267cd2b677",
   "metadata": {},
   "outputs": [],
   "source": [
    "lst.append(\"DSM\")"
   ]
  },
  {
   "cell_type": "code",
   "execution_count": 26,
   "id": "ef9ef705-f54d-4f94-9bb1-10940d3451d6",
   "metadata": {},
   "outputs": [
    {
     "data": {
      "text/plain": [
       "[10, 10.1, '1000', (1+2j), -110, 0, 'DSM']"
      ]
     },
     "execution_count": 26,
     "metadata": {},
     "output_type": "execute_result"
    }
   ],
   "source": [
    "lst"
   ]
  },
  {
   "cell_type": "code",
   "execution_count": 27,
   "id": "ebb64d80-a628-4e90-abec-26265ad28263",
   "metadata": {},
   "outputs": [
    {
     "data": {
      "text/plain": [
       "'DSM'"
      ]
     },
     "execution_count": 27,
     "metadata": {},
     "output_type": "execute_result"
    }
   ],
   "source": [
    "lst.pop()"
   ]
  },
  {
   "cell_type": "code",
   "execution_count": 28,
   "id": "bec3644e-6a0a-4cff-9761-8ad9cafe38c0",
   "metadata": {},
   "outputs": [
    {
     "data": {
      "text/plain": [
       "[10, 10.1, '1000', (1+2j), -110, 0]"
      ]
     },
     "execution_count": 28,
     "metadata": {},
     "output_type": "execute_result"
    }
   ],
   "source": [
    "lst"
   ]
  },
  {
   "cell_type": "code",
   "execution_count": 29,
   "id": "dd979534-5193-461d-a40e-3c035e4a6144",
   "metadata": {},
   "outputs": [
    {
     "name": "stdout",
     "output_type": "stream",
     "text": [
      "[10, 10.1, '1000', (1+2j), -110, 0]\n",
      "[10, 10.1, '1000', (1+2j), -110, 0]\n"
     ]
    }
   ],
   "source": [
    "lst1 = lst.copy()\n",
    "print(lst)\n",
    "print(lst1)"
   ]
  },
  {
   "cell_type": "code",
   "execution_count": 30,
   "id": "7e3c5d6a-726b-4f9e-9c71-1e55af1ffe3e",
   "metadata": {},
   "outputs": [],
   "source": [
    "lst1.clear()"
   ]
  },
  {
   "cell_type": "code",
   "execution_count": 31,
   "id": "be5f9749-46fd-4b63-a7a4-30fa6b7ab772",
   "metadata": {},
   "outputs": [
    {
     "name": "stdout",
     "output_type": "stream",
     "text": [
      "[]\n"
     ]
    }
   ],
   "source": [
    "print(lst1)"
   ]
  },
  {
   "cell_type": "code",
   "execution_count": 34,
   "id": "40182a16-f334-4a02-8ea1-46fd9deb1916",
   "metadata": {},
   "outputs": [
    {
     "data": {
      "text/plain": [
       "1"
      ]
     },
     "execution_count": 34,
     "metadata": {},
     "output_type": "execute_result"
    }
   ],
   "source": [
    "lst.count(10)"
   ]
  },
  {
   "cell_type": "code",
   "execution_count": 35,
   "id": "2168fa16-4d80-4b4a-a9fb-a98c6d04eb60",
   "metadata": {},
   "outputs": [],
   "source": [
    "lst2  = ['A','B','C']\n",
    "lst.extend(lst2)"
   ]
  },
  {
   "cell_type": "code",
   "execution_count": 36,
   "id": "c5a57864-919a-43c0-9243-e2d1f5a15b4c",
   "metadata": {},
   "outputs": [
    {
     "name": "stdout",
     "output_type": "stream",
     "text": [
      "[10, 10.1, '1000', (1+2j), -110, 0, 'A', 'B', 'C', 'A', 'B', 'C']\n"
     ]
    }
   ],
   "source": [
    "print(lst)"
   ]
  },
  {
   "cell_type": "code",
   "execution_count": 37,
   "id": "d811f906-6083-4ce1-ae57-9e13e448f2f0",
   "metadata": {},
   "outputs": [
    {
     "data": {
      "text/plain": [
       "6"
      ]
     },
     "execution_count": 37,
     "metadata": {},
     "output_type": "execute_result"
    }
   ],
   "source": [
    "lst.index('A', 0, 8)"
   ]
  },
  {
   "cell_type": "code",
   "execution_count": 38,
   "id": "2f9aa180-f45c-4b07-a27f-e9782042fd0c",
   "metadata": {},
   "outputs": [],
   "source": [
    "lst.insert(1,101)"
   ]
  },
  {
   "cell_type": "code",
   "execution_count": 39,
   "id": "2c3b6119-df84-4568-a1c4-c66921534f0c",
   "metadata": {},
   "outputs": [
    {
     "name": "stdout",
     "output_type": "stream",
     "text": [
      "[10, 101, 10.1, '1000', (1+2j), -110, 0, 'A', 'B', 'C', 'A', 'B', 'C']\n"
     ]
    }
   ],
   "source": [
    "print(lst)"
   ]
  },
  {
   "cell_type": "code",
   "execution_count": 40,
   "id": "75a1b416-32ca-4d80-9739-96dcaa726cb9",
   "metadata": {},
   "outputs": [],
   "source": [
    "lst.remove(101)"
   ]
  },
  {
   "cell_type": "code",
   "execution_count": 41,
   "id": "8857cac1-e6be-4968-9d48-ecb1e815955e",
   "metadata": {},
   "outputs": [
    {
     "name": "stdout",
     "output_type": "stream",
     "text": [
      "[10, 10.1, '1000', (1+2j), -110, 0, 'A', 'B', 'C', 'A', 'B', 'C']\n"
     ]
    }
   ],
   "source": [
    "print(lst)"
   ]
  },
  {
   "cell_type": "code",
   "execution_count": 42,
   "id": "ebb45805-4d39-4b6f-b255-71bf0ac016e9",
   "metadata": {},
   "outputs": [],
   "source": [
    "lst.reverse()"
   ]
  },
  {
   "cell_type": "code",
   "execution_count": 43,
   "id": "31d6c95d-2e67-4208-aca2-aed420ff155f",
   "metadata": {},
   "outputs": [
    {
     "name": "stdout",
     "output_type": "stream",
     "text": [
      "['C', 'B', 'A', 'C', 'B', 'A', 0, -110, (1+2j), '1000', 10.1, 10]\n"
     ]
    }
   ],
   "source": [
    "print(lst)"
   ]
  },
  {
   "cell_type": "code",
   "execution_count": 44,
   "id": "4f567fb4-2dcf-4858-8e55-5349b94267f0",
   "metadata": {},
   "outputs": [
    {
     "data": {
      "text/plain": [
       "['(1+2j)', '-110', '0', '10', '10.1', '1000', 'A', 'A', 'B', 'B', 'C', 'C']"
      ]
     },
     "execution_count": 44,
     "metadata": {},
     "output_type": "execute_result"
    }
   ],
   "source": [
    "# lst.sort(*, key=None, reverse=False)\n",
    "lst =sorted(map(str,lst))\n",
    "lst"
   ]
  },
  {
   "cell_type": "code",
   "execution_count": 45,
   "id": "7949b622-2dc7-4ba1-aed3-b233c3e5ca72",
   "metadata": {},
   "outputs": [
    {
     "data": {
      "text/plain": [
       "[1, 1, 3, 4, 4, 5, 5, 6, 6, 7, 8, 8, 9, 9, 10, 44]"
      ]
     },
     "execution_count": 45,
     "metadata": {},
     "output_type": "execute_result"
    }
   ],
   "source": [
    "lst=[1,9,4,1,3,5,4,8,6,44,5,6,7,8,9,10]\n",
    "lst.sort()\n",
    "lst"
   ]
  },
  {
   "cell_type": "code",
   "execution_count": 46,
   "id": "b1a90204-5778-449c-8484-4e9c60d5eb76",
   "metadata": {},
   "outputs": [
    {
     "data": {
      "text/plain": [
       "['dfd', 'dfd', 'gv', 'tr']"
      ]
     },
     "execution_count": 46,
     "metadata": {},
     "output_type": "execute_result"
    }
   ],
   "source": [
    "lst=['gv','dfd','dfd','tr']\n",
    "lst.sort()\n",
    "lst"
   ]
  },
  {
   "cell_type": "code",
   "execution_count": 47,
   "id": "68863f4d-f13f-436d-8d94-879a98a84668",
   "metadata": {},
   "outputs": [
    {
     "name": "stdout",
     "output_type": "stream",
     "text": [
      "[1, 2, 3, 4, 5, 6, 7, 8, 9]\n",
      "[1, 2, 22, 33, 44, 4, 5, 6, 7, 8, 9]\n",
      "44\n"
     ]
    }
   ],
   "source": [
    "list20=[1,2,3,4,5,6,7,8,9]\n",
    "print(list20)\n",
    "list20[2:3]=[22,33,44]\n",
    "print(list20)\n",
    "print(list20[4])"
   ]
  },
  {
   "cell_type": "code",
   "execution_count": 48,
   "id": "df8b4765-8629-43a3-bd6f-303cf8678c03",
   "metadata": {},
   "outputs": [
    {
     "name": "stdout",
     "output_type": "stream",
     "text": [
      "() <class 'tuple'>\n"
     ]
    }
   ],
   "source": [
    "tup = ()\n",
    "print(tup, type(tup))"
   ]
  },
  {
   "cell_type": "code",
   "execution_count": 53,
   "id": "d7c3c46f-fa00-46d8-a306-26993049e63c",
   "metadata": {},
   "outputs": [
    {
     "name": "stdout",
     "output_type": "stream",
     "text": [
      "(1, 2, 3, 4) <class 'tuple'>\n"
     ]
    }
   ],
   "source": [
    "tup = (1,2,3,4)\n",
    "print(tup, type(tup))"
   ]
  },
  {
   "cell_type": "code",
   "execution_count": 55,
   "id": "d77c0f97-1f5e-43d4-a9e9-4c2f48a5f20c",
   "metadata": {},
   "outputs": [
    {
     "name": "stdout",
     "output_type": "stream",
     "text": [
      "Initial Tuple : (1, 2, 3, 4) <class 'tuple'>\n",
      "Modified Tuple (help of type casting) : (1, 1000, 3, 4) <class 'tuple'>\n"
     ]
    }
   ],
   "source": [
    "print('Initial Tuple :',tup, type(tup))\n",
    "tup=list(tup)\n",
    "tup[1]=1000\n",
    "tup = tuple(tup)\n",
    "print('Modified Tuple (help of type casting) :',tup, type(tup))"
   ]
  },
  {
   "cell_type": "code",
   "execution_count": 56,
   "id": "7b19fec3-7a5f-4c48-b81b-00e748876ae7",
   "metadata": {},
   "outputs": [
    {
     "data": {
      "text/plain": [
       "1"
      ]
     },
     "execution_count": 56,
     "metadata": {},
     "output_type": "execute_result"
    }
   ],
   "source": [
    "tup.count(1)"
   ]
  },
  {
   "cell_type": "code",
   "execution_count": 57,
   "id": "2a56a865-f475-4739-a8cf-a390d730cab0",
   "metadata": {},
   "outputs": [
    {
     "data": {
      "text/plain": [
       "0"
      ]
     },
     "execution_count": 57,
     "metadata": {},
     "output_type": "execute_result"
    }
   ],
   "source": [
    "tup.index(1)"
   ]
  },
  {
   "cell_type": "code",
   "execution_count": 59,
   "id": "f69194b3-213a-4006-b499-aa5fcfad1bd7",
   "metadata": {},
   "outputs": [
    {
     "name": "stdout",
     "output_type": "stream",
     "text": [
      "(10, 20, 30, 40, 50, 60, 70, 80, 90, 100)\n"
     ]
    }
   ],
   "source": [
    "tup = (10,20,30,40,50,60,70,80,90,100)\n",
    "print(tup)"
   ]
  },
  {
   "cell_type": "code",
   "execution_count": 64,
   "id": "dbe2c48b-308a-4983-8862-68e4dd4a0d1d",
   "metadata": {},
   "outputs": [
    {
     "name": "stdout",
     "output_type": "stream",
     "text": [
      "10\n",
      "[20, 30, 40, 50, 60, 70]\n",
      "80\n",
      "90\n",
      "100\n"
     ]
    }
   ],
   "source": [
    "(a,*b,c,d,e)=tup\n",
    "print(a)\n",
    "print(b)\n",
    "print(c)\n",
    "print(d)\n",
    "print(e)"
   ]
  },
  {
   "cell_type": "code",
   "execution_count": 65,
   "id": "ad5b482a-11b3-4aa2-91bd-91ecccb75888",
   "metadata": {},
   "outputs": [
    {
     "name": "stdout",
     "output_type": "stream",
     "text": [
      "(10, 20, 30, 40, 50, 60, 70, 80, 90, 100)\n",
      "(1, 2, 3, 4, 5, 6, 7, 8, 9, 10)\n"
     ]
    }
   ],
   "source": [
    "tup1 = (10,20,30,40,50,60,70,80,90,100)\n",
    "print(tup1)\n",
    "tup2 = (1,2,3,4,5,6,7,8,9,10)\n",
    "print(tup2)"
   ]
  },
  {
   "cell_type": "code",
   "execution_count": 66,
   "id": "d5385807-313d-4182-981f-0dd0de6f19a4",
   "metadata": {},
   "outputs": [
    {
     "name": "stdout",
     "output_type": "stream",
     "text": [
      "((10, 20, 30, 40, 50, 60, 70, 80, 90, 100), (1, 2, 3, 4, 5, 6, 7, 8, 9, 10))\n"
     ]
    }
   ],
   "source": [
    "tup3  = (tup1, tup2)\n",
    "print(tup3)"
   ]
  },
  {
   "cell_type": "code",
   "execution_count": 68,
   "id": "77e12861-6bb4-42b6-945c-60fed159a0a5",
   "metadata": {},
   "outputs": [
    {
     "name": "stdout",
     "output_type": "stream",
     "text": [
      "(10, 20, 30, 40, 50, 60, 70, 80, 90, 100, 1, 2, 3, 4, 5, 6, 7, 8, 9, 10)\n"
     ]
    }
   ],
   "source": [
    "tup3  = (*tup1, *tup2)\n",
    "print(tup3)"
   ]
  },
  {
   "cell_type": "code",
   "execution_count": 69,
   "id": "b8d779e5-6312-4469-b612-ca84ad8be6c4",
   "metadata": {},
   "outputs": [
    {
     "data": {
      "text/plain": [
       "(10, 20, 30, 40, 50, 60, 70, 80, 90, 100)"
      ]
     },
     "execution_count": 69,
     "metadata": {},
     "output_type": "execute_result"
    }
   ],
   "source": [
    "tup1"
   ]
  },
  {
   "cell_type": "code",
   "execution_count": 70,
   "id": "922ef79e-becc-4a69-a68c-423d1f49af7d",
   "metadata": {},
   "outputs": [
    {
     "name": "stdout",
     "output_type": "stream",
     "text": [
      "10\n",
      "20\n",
      "[30, 40, 50, 60, 70, 80, 90, 100]\n"
     ]
    }
   ],
   "source": [
    "(a,b,*c)=tup1\n",
    "print(a)\n",
    "print(b)\n",
    "print(c)"
   ]
  },
  {
   "cell_type": "code",
   "execution_count": 73,
   "id": "d2006152-93ef-437b-8f16-9deeeba143f0",
   "metadata": {},
   "outputs": [
    {
     "data": {
      "text/plain": [
       "(10, 20, 30, 40, 50, 60, 70, 80, 90, 100, 1, 2, 3, 4, 5, 6, 7, 8, 9, 10)"
      ]
     },
     "execution_count": 73,
     "metadata": {},
     "output_type": "execute_result"
    }
   ],
   "source": [
    "tup4 = (*tup,*tup2)\n",
    "tup4"
   ]
  },
  {
   "cell_type": "code",
   "execution_count": 74,
   "id": "6b609cc7-d4c8-4a82-b686-5f28bf312aff",
   "metadata": {},
   "outputs": [],
   "source": [
    "def add_numbers(a,b,c):\n",
    "    return a+b+c"
   ]
  },
  {
   "cell_type": "code",
   "execution_count": 75,
   "id": "e2ec98a4-9c1d-4a37-97a3-6742c2f2e7af",
   "metadata": {},
   "outputs": [
    {
     "data": {
      "text/plain": [
       "60"
      ]
     },
     "execution_count": 75,
     "metadata": {},
     "output_type": "execute_result"
    }
   ],
   "source": [
    "add_numbers(10,20,30)"
   ]
  },
  {
   "cell_type": "code",
   "execution_count": 77,
   "id": "5525f9af-99dd-4f30-be92-3a601e182d40",
   "metadata": {},
   "outputs": [
    {
     "data": {
      "text/plain": [
       "60"
      ]
     },
     "execution_count": 77,
     "metadata": {},
     "output_type": "execute_result"
    }
   ],
   "source": [
    "values = (10,20,30)\n",
    "add_numbers(*values)"
   ]
  },
  {
   "cell_type": "code",
   "execution_count": null,
   "id": "a0c3c5b6-6fb1-4318-8292-b88e8bf4ae21",
   "metadata": {},
   "outputs": [],
   "source": []
  }
 ],
 "metadata": {
  "kernelspec": {
   "display_name": "Python 3 (ipykernel)",
   "language": "python",
   "name": "python3"
  },
  "language_info": {
   "codemirror_mode": {
    "name": "ipython",
    "version": 3
   },
   "file_extension": ".py",
   "mimetype": "text/x-python",
   "name": "python",
   "nbconvert_exporter": "python",
   "pygments_lexer": "ipython3",
   "version": "3.11.3"
  }
 },
 "nbformat": 4,
 "nbformat_minor": 5
}
