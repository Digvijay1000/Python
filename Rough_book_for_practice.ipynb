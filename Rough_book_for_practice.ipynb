{
 "cells": [
  {
   "cell_type": "code",
   "execution_count": 1,
   "id": "f204ce9d-8dd0-458c-b656-9d9af7113ceb",
   "metadata": {},
   "outputs": [
    {
     "name": "stdout",
     "output_type": "stream",
     "text": [
      "The Zen of Python, by Tim Peters\n",
      "\n",
      "Beautiful is better than ugly.\n",
      "Explicit is better than implicit.\n",
      "Simple is better than complex.\n",
      "Complex is better than complicated.\n",
      "Flat is better than nested.\n",
      "Sparse is better than dense.\n",
      "Readability counts.\n",
      "Special cases aren't special enough to break the rules.\n",
      "Although practicality beats purity.\n",
      "Errors should never pass silently.\n",
      "Unless explicitly silenced.\n",
      "In the face of ambiguity, refuse the temptation to guess.\n",
      "There should be one-- and preferably only one --obvious way to do it.\n",
      "Although that way may not be obvious at first unless you're Dutch.\n",
      "Now is better than never.\n",
      "Although never is often better than *right* now.\n",
      "If the implementation is hard to explain, it's a bad idea.\n",
      "If the implementation is easy to explain, it may be a good idea.\n",
      "Namespaces are one honking great idea -- let's do more of those!\n"
     ]
    }
   ],
   "source": [
    "                                                                                                                                                                                                                                                                                                                                                                                                                                                                                                                                                                                                                                                                        import this"
   ]
  },
  {
   "cell_type": "code",
   "execution_count": 2,
   "id": "8f321705-8845-4514-8fb8-84323c0b5571",
   "metadata": {},
   "outputs": [],
   "source": [
    "str=\"Python and Data Science\""
   ]
  },
  {
   "cell_type": "code",
   "execution_count": 3,
   "id": "749a388f-d218-4982-9c6c-196b6f5422e9",
   "metadata": {},
   "outputs": [
    {
     "data": {
      "text/plain": [
       "23"
      ]
     },
     "execution_count": 3,
     "metadata": {},
     "output_type": "execute_result"
    }
   ],
   "source": [
    "len(str)"
   ]
  },
  {
   "cell_type": "code",
   "execution_count": 4,
   "id": "dd4afaf1-a285-4e0c-ab68-d6cfcf640518",
   "metadata": {},
   "outputs": [
    {
     "data": {
      "text/plain": [
       "' Data Science'"
      ]
     },
     "execution_count": 4,
     "metadata": {},
     "output_type": "execute_result"
    }
   ],
   "source": [
    "str[10:23]"
   ]
  },
  {
   "cell_type": "code",
   "execution_count": 5,
   "id": "16b9c952-b0ba-4229-b5bd-8e8acae448ca",
   "metadata": {},
   "outputs": [
    {
     "data": {
      "text/plain": [
       "'Python and'"
      ]
     },
     "execution_count": 5,
     "metadata": {},
     "output_type": "execute_result"
    }
   ],
   "source": [
    "str[:10]"
   ]
  },
  {
   "cell_type": "code",
   "execution_count": 6,
   "id": "5a1bb5b4-9e82-4349-be99-f26d5c28b413",
   "metadata": {},
   "outputs": [
    {
     "data": {
      "text/plain": [
       "'ecneicS ataD dna nohtyP'"
      ]
     },
     "execution_count": 6,
     "metadata": {},
     "output_type": "execute_result"
    }
   ],
   "source": [
    "str[::-1]"
   ]
  },
  {
   "cell_type": "code",
   "execution_count": 7,
   "id": "71ae6bb7-2f03-4057-ad03-1a6106db4b99",
   "metadata": {},
   "outputs": [
    {
     "name": "stdout",
     "output_type": "stream",
     "text": [
      "thon : ta S\n"
     ]
    }
   ],
   "source": [
    "print(str[2:6] , ':', str[-10:-6])"
   ]
  },
  {
   "cell_type": "code",
   "execution_count": 8,
   "id": "16bde7a9-be12-4d41-ab7c-0630fe82e0fc",
   "metadata": {},
   "outputs": [
    {
     "data": {
      "text/plain": [
       "'Pto n aaSine'"
      ]
     },
     "execution_count": 8,
     "metadata": {},
     "output_type": "execute_result"
    }
   ],
   "source": [
    "str[::2]"
   ]
  },
  {
   "cell_type": "code",
   "execution_count": 9,
   "id": "9c0d917c-64fb-4edc-b2d3-8b06ecf69df3",
   "metadata": {},
   "outputs": [],
   "source": [
    "# a=100\n",
    "# b=100.100\n",
    "# c='100000'\n",
    "# d=str(b)\n",
    "# print('integer to float :',float(a), 'integer to complex :',complex(a), 'integer to string :', d)\n",
    "\n",
    "a = 100\n",
    "b = 100.100\n",
    "c = 1+2j\n",
    "d = '100000'\n",
    "\n",
    "# print('integer to float:', float(a), 'integer to complex:', complex(a), 'integer to string:', str(a))\n"
   ]
  },
  {
   "cell_type": "code",
   "execution_count": 10,
   "id": "5b7e0d5c-72e1-4a2c-8469-c11214bac0bd",
   "metadata": {},
   "outputs": [],
   "source": [
    "# print('float to integer :',int(b), 'flot to complex :', complex(b), 'float to string :',str(b))"
   ]
  },
  {
   "cell_type": "code",
   "execution_count": 11,
   "id": "e752c069-f5e7-483b-b76b-1d59e0c3a5c4",
   "metadata": {},
   "outputs": [
    {
     "name": "stdout",
     "output_type": "stream",
     "text": [
      "string to int : 100000 string to float : 100000.0 string to complex : (100000+0j)\n"
     ]
    }
   ],
   "source": [
    "print('string to int :', int(d), 'string to float :',float(d), 'string to complex :', complex(d))"
   ]
  },
  {
   "cell_type": "code",
   "execution_count": 12,
   "id": "01cd2c4e-e54a-45d9-9bb6-e71b3082a8b7",
   "metadata": {},
   "outputs": [
    {
     "name": "stdout",
     "output_type": "stream",
     "text": [
      "complex to any other data type conversion is not possible\n"
     ]
    }
   ],
   "source": [
    "print('complex to any other data type conversion is not possible')"
   ]
  },
  {
   "cell_type": "code",
   "execution_count": 13,
   "id": "fcaddf38-582b-4fee-bfd8-a89256aa324b",
   "metadata": {},
   "outputs": [],
   "source": [
    "x = 100\n",
    "y = 100\n",
    "z = 100\n",
    "\n",
    "a = 10.10\n",
    "b = 10.10\n",
    "c = 10.10"
   ]
  },
  {
   "cell_type": "code",
   "execution_count": 14,
   "id": "a9defda2-eebb-4e0a-a327-4fac8eccecd1",
   "metadata": {},
   "outputs": [
    {
     "name": "stdout",
     "output_type": "stream",
     "text": [
      "x : 140732241059720\n",
      "y : 140732241059720\n",
      "z : 140732241059720\n"
     ]
    }
   ],
   "source": [
    "print('x :',id(x))\n",
    "print('y :',id(y))\n",
    "print('z :',id(z))"
   ]
  },
  {
   "cell_type": "code",
   "execution_count": 15,
   "id": "d7b4dc7b-94d2-4606-ab27-82f6b54b7bc3",
   "metadata": {},
   "outputs": [
    {
     "name": "stdout",
     "output_type": "stream",
     "text": [
      "a : 2050672997552\n",
      "b : 2050672985808\n",
      "c : 2050672996496\n"
     ]
    }
   ],
   "source": [
    "print('a :',id(a))\n",
    "print('b :',id(b))\n",
    "print('c :',id(c))"
   ]
  },
  {
   "cell_type": "code",
   "execution_count": 16,
   "id": "d4ba8841-3e10-4ccc-8af0-6f619c534c63",
   "metadata": {},
   "outputs": [
    {
     "name": "stdout",
     "output_type": "stream",
     "text": [
      "[10, 20, 30]\n",
      "10\n",
      "20\n",
      "30\n"
     ]
    }
   ],
   "source": [
    "lst = [10,20,30]\n",
    "b = bytes(lst)\n",
    "print(lst)\n",
    "for i in b:\n",
    "    print(i)"
   ]
  },
  {
   "cell_type": "code",
   "execution_count": 17,
   "id": "c0737301-d8ce-46bc-9597-ce3418a4e31b",
   "metadata": {},
   "outputs": [],
   "source": [
    "a = 'ABC'\n",
    "b = b'BAC'"
   ]
  },
  {
   "cell_type": "code",
   "execution_count": 18,
   "id": "088a9536-a902-460e-b614-0a2e3c8b5214",
   "metadata": {},
   "outputs": [
    {
     "name": "stdout",
     "output_type": "stream",
     "text": [
      "ABC <class 'str'>\n",
      "b'BAC' <class 'bytes'>\n",
      "66\n",
      "65\n",
      "67\n"
     ]
    }
   ],
   "source": [
    "print(a, type(a))\n",
    "print(b, type(b))\n",
    "\n",
    "for i in b:\n",
    "    print(i)"
   ]
  },
  {
   "cell_type": "code",
   "execution_count": 19,
   "id": "17991b7b-f429-4da8-af0d-10ade4fc312f",
   "metadata": {},
   "outputs": [
    {
     "name": "stdout",
     "output_type": "stream",
     "text": [
      "[144, 166, 255] <class 'list'>\n",
      "bytearray(b'\\x90\\xa6\\xff') <class 'bytearray'>\n",
      "144\n",
      "166\n",
      "255\n"
     ]
    }
   ],
   "source": [
    "lst = [144, 166, 255]\n",
    "ba = bytearray(lst)\n",
    "print(lst, type(lst))\n",
    "print(ba, type(ba))\n",
    "\n",
    "for i in ba:\n",
    "    print(i)\n"
   ]
  },
  {
   "cell_type": "code",
   "execution_count": 20,
   "id": "013125af-e449-4905-97ac-f998f9071a80",
   "metadata": {},
   "outputs": [],
   "source": [
    "ba[0]= 0"
   ]
  },
  {
   "cell_type": "code",
   "execution_count": 21,
   "id": "174a2e2a-afda-4d25-95e8-cb798791b992",
   "metadata": {},
   "outputs": [
    {
     "name": "stdout",
     "output_type": "stream",
     "text": [
      "0\n",
      "166\n",
      "255\n"
     ]
    }
   ],
   "source": [
    "for i in ba:\n",
    "    print(i)"
   ]
  },
  {
   "cell_type": "code",
   "execution_count": 22,
   "id": "bd8f8d51-39f2-4eb2-8af5-fd3297b2dc4b",
   "metadata": {},
   "outputs": [],
   "source": [
    "lst = [10, 10.10, '1000', 1+2j, -110, 0]"
   ]
  },
  {
   "cell_type": "code",
   "execution_count": 23,
   "id": "1a8ef4ad-f498-4efd-b692-b6fc1492118f",
   "metadata": {},
   "outputs": [
    {
     "name": "stdout",
     "output_type": "stream",
     "text": [
      "[10, 10.1, '1000', (1+2j), -110, 0] <class 'list'>\n"
     ]
    }
   ],
   "source": [
    "print(lst, type(lst))"
   ]
  },
  {
   "cell_type": "code",
   "execution_count": 24,
   "id": "4a58db9d-e458-48a4-91d5-3400ede82ba9",
   "metadata": {},
   "outputs": [
    {
     "data": {
      "text/plain": [
       "[0, -110, (1+2j), '1000', 10.1, 10]"
      ]
     },
     "execution_count": 24,
     "metadata": {},
     "output_type": "execute_result"
    }
   ],
   "source": [
    "lst[::-1]"
   ]
  },
  {
   "cell_type": "code",
   "execution_count": 25,
   "id": "c5a44461-4717-4962-bdec-37ae94ce63e1",
   "metadata": {},
   "outputs": [
    {
     "data": {
      "text/plain": [
       "[10, '1000', -110]"
      ]
     },
     "execution_count": 25,
     "metadata": {},
     "output_type": "execute_result"
    }
   ],
   "source": [
    "lst[::2]"
   ]
  },
  {
   "cell_type": "code",
   "execution_count": 26,
   "id": "0260bdbd-7640-40f9-8e1f-94402b1d0888",
   "metadata": {},
   "outputs": [
    {
     "data": {
      "text/plain": [
       "[0, (1+2j), 10.1]"
      ]
     },
     "execution_count": 26,
     "metadata": {},
     "output_type": "execute_result"
    }
   ],
   "source": [
    "lst[::-2]"
   ]
  },
  {
   "cell_type": "markdown",
   "id": "fb8f1336-e03f-4533-908f-656dff14a71c",
   "metadata": {},
   "source": [
    "list1.append\n",
    "list1.clear\n",
    "list1.copy\n",
    "list1.count\n",
    "list1.extend\n",
    "list1.index\n",
    "list1.insert\n",
    "list1.pop\n",
    "list1.remove\n",
    "list1.reverse\n",
    "list1.sort"
   ]
  },
  {
   "cell_type": "code",
   "execution_count": 27,
   "id": "90aaf7ca-b7af-43b7-82dc-c5bceb326737",
   "metadata": {},
   "outputs": [
    {
     "data": {
      "text/plain": [
       "[10, 10.1, '1000', (1+2j), -110, 0]"
      ]
     },
     "execution_count": 27,
     "metadata": {},
     "output_type": "execute_result"
    }
   ],
   "source": [
    "lst"
   ]
  },
  {
   "cell_type": "code",
   "execution_count": 28,
   "id": "3e8e710d-011f-46cd-b761-13267cd2b677",
   "metadata": {},
   "outputs": [],
   "source": [
    "lst.append(\"DSM\")"
   ]
  },
  {
   "cell_type": "code",
   "execution_count": 29,
   "id": "ef9ef705-f54d-4f94-9bb1-10940d3451d6",
   "metadata": {},
   "outputs": [
    {
     "data": {
      "text/plain": [
       "[10, 10.1, '1000', (1+2j), -110, 0, 'DSM']"
      ]
     },
     "execution_count": 29,
     "metadata": {},
     "output_type": "execute_result"
    }
   ],
   "source": [
    "lst"
   ]
  },
  {
   "cell_type": "code",
   "execution_count": 30,
   "id": "ebb64d80-a628-4e90-abec-26265ad28263",
   "metadata": {},
   "outputs": [
    {
     "data": {
      "text/plain": [
       "'DSM'"
      ]
     },
     "execution_count": 30,
     "metadata": {},
     "output_type": "execute_result"
    }
   ],
   "source": [
    "lst.pop()"
   ]
  },
  {
   "cell_type": "code",
   "execution_count": 31,
   "id": "bec3644e-6a0a-4cff-9761-8ad9cafe38c0",
   "metadata": {},
   "outputs": [
    {
     "data": {
      "text/plain": [
       "[10, 10.1, '1000', (1+2j), -110, 0]"
      ]
     },
     "execution_count": 31,
     "metadata": {},
     "output_type": "execute_result"
    }
   ],
   "source": [
    "lst"
   ]
  },
  {
   "cell_type": "code",
   "execution_count": 32,
   "id": "dd979534-5193-461d-a40e-3c035e4a6144",
   "metadata": {},
   "outputs": [
    {
     "name": "stdout",
     "output_type": "stream",
     "text": [
      "[10, 10.1, '1000', (1+2j), -110, 0]\n",
      "[10, 10.1, '1000', (1+2j), -110, 0]\n"
     ]
    }
   ],
   "source": [
    "lst1 = lst.copy()\n",
    "print(lst)\n",
    "print(lst1)"
   ]
  },
  {
   "cell_type": "code",
   "execution_count": 33,
   "id": "7e3c5d6a-726b-4f9e-9c71-1e55af1ffe3e",
   "metadata": {},
   "outputs": [],
   "source": [
    "lst1.clear()"
   ]
  },
  {
   "cell_type": "code",
   "execution_count": 34,
   "id": "be5f9749-46fd-4b63-a7a4-30fa6b7ab772",
   "metadata": {},
   "outputs": [
    {
     "name": "stdout",
     "output_type": "stream",
     "text": [
      "[]\n"
     ]
    }
   ],
   "source": [
    "print(lst1)"
   ]
  },
  {
   "cell_type": "code",
   "execution_count": 35,
   "id": "40182a16-f334-4a02-8ea1-46fd9deb1916",
   "metadata": {},
   "outputs": [
    {
     "data": {
      "text/plain": [
       "1"
      ]
     },
     "execution_count": 35,
     "metadata": {},
     "output_type": "execute_result"
    }
   ],
   "source": [
    "lst.count(10)"
   ]
  },
  {
   "cell_type": "code",
   "execution_count": 36,
   "id": "2168fa16-4d80-4b4a-a9fb-a98c6d04eb60",
   "metadata": {},
   "outputs": [],
   "source": [
    "lst2  = ['A','B','C']\n",
    "lst.extend(lst2)"
   ]
  },
  {
   "cell_type": "code",
   "execution_count": 37,
   "id": "c5a57864-919a-43c0-9243-e2d1f5a15b4c",
   "metadata": {},
   "outputs": [
    {
     "name": "stdout",
     "output_type": "stream",
     "text": [
      "[10, 10.1, '1000', (1+2j), -110, 0, 'A', 'B', 'C']\n"
     ]
    }
   ],
   "source": [
    "print(lst)"
   ]
  },
  {
   "cell_type": "code",
   "execution_count": 38,
   "id": "d811f906-6083-4ce1-ae57-9e13e448f2f0",
   "metadata": {},
   "outputs": [
    {
     "data": {
      "text/plain": [
       "6"
      ]
     },
     "execution_count": 38,
     "metadata": {},
     "output_type": "execute_result"
    }
   ],
   "source": [
    "lst.index('A', 0, 8)"
   ]
  },
  {
   "cell_type": "code",
   "execution_count": 39,
   "id": "2f9aa180-f45c-4b07-a27f-e9782042fd0c",
   "metadata": {},
   "outputs": [],
   "source": [
    "lst.insert(1,101)"
   ]
  },
  {
   "cell_type": "code",
   "execution_count": 40,
   "id": "2c3b6119-df84-4568-a1c4-c66921534f0c",
   "metadata": {},
   "outputs": [
    {
     "name": "stdout",
     "output_type": "stream",
     "text": [
      "[10, 101, 10.1, '1000', (1+2j), -110, 0, 'A', 'B', 'C']\n"
     ]
    }
   ],
   "source": [
    "print(lst)"
   ]
  },
  {
   "cell_type": "code",
   "execution_count": 41,
   "id": "75a1b416-32ca-4d80-9739-96dcaa726cb9",
   "metadata": {},
   "outputs": [],
   "source": [
    "lst.remove(101)"
   ]
  },
  {
   "cell_type": "code",
   "execution_count": 42,
   "id": "8857cac1-e6be-4968-9d48-ecb1e815955e",
   "metadata": {},
   "outputs": [
    {
     "name": "stdout",
     "output_type": "stream",
     "text": [
      "[10, 10.1, '1000', (1+2j), -110, 0, 'A', 'B', 'C']\n"
     ]
    }
   ],
   "source": [
    "print(lst)"
   ]
  },
  {
   "cell_type": "code",
   "execution_count": 43,
   "id": "ebb45805-4d39-4b6f-b255-71bf0ac016e9",
   "metadata": {},
   "outputs": [],
   "source": [
    "lst.reverse()"
   ]
  },
  {
   "cell_type": "code",
   "execution_count": 44,
   "id": "31d6c95d-2e67-4208-aca2-aed420ff155f",
   "metadata": {},
   "outputs": [
    {
     "name": "stdout",
     "output_type": "stream",
     "text": [
      "['C', 'B', 'A', 0, -110, (1+2j), '1000', 10.1, 10]\n"
     ]
    }
   ],
   "source": [
    "print(lst)"
   ]
  },
  {
   "cell_type": "code",
   "execution_count": 45,
   "id": "4f567fb4-2dcf-4858-8e55-5349b94267f0",
   "metadata": {},
   "outputs": [],
   "source": [
    "# lst.sort(*, key=None, reverse=False)\n",
    "# lst =sorted(map(str,lst))\n",
    "# lst"
   ]
  },
  {
   "cell_type": "code",
   "execution_count": 46,
   "id": "7949b622-2dc7-4ba1-aed3-b233c3e5ca72",
   "metadata": {},
   "outputs": [
    {
     "data": {
      "text/plain": [
       "[1, 1, 3, 4, 4, 5, 5, 6, 6, 7, 8, 8, 9, 9, 10, 44]"
      ]
     },
     "execution_count": 46,
     "metadata": {},
     "output_type": "execute_result"
    }
   ],
   "source": [
    "lst=[1,9,4,1,3,5,4,8,6,44,5,6,7,8,9,10]\n",
    "lst.sort()\n",
    "lst"
   ]
  },
  {
   "cell_type": "code",
   "execution_count": 47,
   "id": "b1a90204-5778-449c-8484-4e9c60d5eb76",
   "metadata": {},
   "outputs": [
    {
     "data": {
      "text/plain": [
       "['dfd', 'dfd', 'gv', 'tr']"
      ]
     },
     "execution_count": 47,
     "metadata": {},
     "output_type": "execute_result"
    }
   ],
   "source": [
    "lst=['gv','dfd','dfd','tr']\n",
    "lst.sort()\n",
    "lst"
   ]
  },
  {
   "cell_type": "code",
   "execution_count": 48,
   "id": "68863f4d-f13f-436d-8d94-879a98a84668",
   "metadata": {},
   "outputs": [
    {
     "name": "stdout",
     "output_type": "stream",
     "text": [
      "[1, 2, 3, 4, 5, 6, 7, 8, 9]\n",
      "[1, 2, 22, 33, 44, 4, 5, 6, 7, 8, 9]\n",
      "44\n"
     ]
    }
   ],
   "source": [
    "list20=[1,2,3,4,5,6,7,8,9]\n",
    "print(list20)\n",
    "list20[2:3]=[22,33,44]\n",
    "print(list20)\n",
    "print(list20[4])"
   ]
  },
  {
   "cell_type": "code",
   "execution_count": 49,
   "id": "df8b4765-8629-43a3-bd6f-303cf8678c03",
   "metadata": {},
   "outputs": [
    {
     "name": "stdout",
     "output_type": "stream",
     "text": [
      "() <class 'tuple'>\n"
     ]
    }
   ],
   "source": [
    "tup = ()\n",
    "print(tup, type(tup))"
   ]
  },
  {
   "cell_type": "code",
   "execution_count": 50,
   "id": "d7c3c46f-fa00-46d8-a306-26993049e63c",
   "metadata": {},
   "outputs": [
    {
     "name": "stdout",
     "output_type": "stream",
     "text": [
      "(1, 2, 3, 4) <class 'tuple'>\n"
     ]
    }
   ],
   "source": [
    "tup = (1,2,3,4)\n",
    "print(tup, type(tup))"
   ]
  },
  {
   "cell_type": "code",
   "execution_count": 51,
   "id": "d77c0f97-1f5e-43d4-a9e9-4c2f48a5f20c",
   "metadata": {},
   "outputs": [
    {
     "name": "stdout",
     "output_type": "stream",
     "text": [
      "Initial Tuple : (1, 2, 3, 4) <class 'tuple'>\n",
      "Modified Tuple (help of type casting) : (1, 1000, 3, 4) <class 'tuple'>\n"
     ]
    }
   ],
   "source": [
    "print('Initial Tuple :',tup, type(tup))\n",
    "tup=list(tup)\n",
    "tup[1]=1000\n",
    "tup = tuple(tup)\n",
    "print('Modified Tuple (help of type casting) :',tup, type(tup))"
   ]
  },
  {
   "cell_type": "code",
   "execution_count": 52,
   "id": "7b19fec3-7a5f-4c48-b81b-00e748876ae7",
   "metadata": {},
   "outputs": [
    {
     "data": {
      "text/plain": [
       "1"
      ]
     },
     "execution_count": 52,
     "metadata": {},
     "output_type": "execute_result"
    }
   ],
   "source": [
    "tup.count(1)"
   ]
  },
  {
   "cell_type": "code",
   "execution_count": 53,
   "id": "2a56a865-f475-4739-a8cf-a390d730cab0",
   "metadata": {},
   "outputs": [
    {
     "data": {
      "text/plain": [
       "0"
      ]
     },
     "execution_count": 53,
     "metadata": {},
     "output_type": "execute_result"
    }
   ],
   "source": [
    "tup.index(1)"
   ]
  },
  {
   "cell_type": "code",
   "execution_count": 54,
   "id": "f69194b3-213a-4006-b499-aa5fcfad1bd7",
   "metadata": {},
   "outputs": [
    {
     "name": "stdout",
     "output_type": "stream",
     "text": [
      "(10, 20, 30, 40, 50, 60, 70, 80, 90, 100)\n"
     ]
    }
   ],
   "source": [
    "tup = (10,20,30,40,50,60,70,80,90,100)\n",
    "print(tup)"
   ]
  },
  {
   "cell_type": "code",
   "execution_count": 55,
   "id": "dbe2c48b-308a-4983-8862-68e4dd4a0d1d",
   "metadata": {},
   "outputs": [
    {
     "name": "stdout",
     "output_type": "stream",
     "text": [
      "10\n",
      "[20, 30, 40, 50, 60, 70]\n",
      "80\n",
      "90\n",
      "100\n"
     ]
    }
   ],
   "source": [
    "(a,*b,c,d,e)=tup\n",
    "print(a)\n",
    "print(b)\n",
    "print(c)\n",
    "print(d)\n",
    "print(e)"
   ]
  },
  {
   "cell_type": "code",
   "execution_count": 56,
   "id": "ad5b482a-11b3-4aa2-91bd-91ecccb75888",
   "metadata": {},
   "outputs": [
    {
     "name": "stdout",
     "output_type": "stream",
     "text": [
      "(10, 20, 30, 40, 50, 60, 70, 80, 90, 100)\n",
      "(1, 2, 3, 4, 5, 6, 7, 8, 9, 10)\n"
     ]
    }
   ],
   "source": [
    "tup1 = (10,20,30,40,50,60,70,80,90,100)\n",
    "print(tup1)\n",
    "tup2 = (1,2,3,4,5,6,7,8,9,10)\n",
    "print(tup2)"
   ]
  },
  {
   "cell_type": "code",
   "execution_count": 57,
   "id": "d5385807-313d-4182-981f-0dd0de6f19a4",
   "metadata": {},
   "outputs": [
    {
     "name": "stdout",
     "output_type": "stream",
     "text": [
      "((10, 20, 30, 40, 50, 60, 70, 80, 90, 100), (1, 2, 3, 4, 5, 6, 7, 8, 9, 10))\n"
     ]
    }
   ],
   "source": [
    "tup3  = (tup1, tup2)\n",
    "print(tup3)"
   ]
  },
  {
   "cell_type": "code",
   "execution_count": 58,
   "id": "77e12861-6bb4-42b6-945c-60fed159a0a5",
   "metadata": {},
   "outputs": [
    {
     "name": "stdout",
     "output_type": "stream",
     "text": [
      "(10, 20, 30, 40, 50, 60, 70, 80, 90, 100, 1, 2, 3, 4, 5, 6, 7, 8, 9, 10)\n"
     ]
    }
   ],
   "source": [
    "tup3  = (*tup1, *tup2)\n",
    "print(tup3)"
   ]
  },
  {
   "cell_type": "code",
   "execution_count": 59,
   "id": "b8d779e5-6312-4469-b612-ca84ad8be6c4",
   "metadata": {},
   "outputs": [
    {
     "data": {
      "text/plain": [
       "(10, 20, 30, 40, 50, 60, 70, 80, 90, 100)"
      ]
     },
     "execution_count": 59,
     "metadata": {},
     "output_type": "execute_result"
    }
   ],
   "source": [
    "tup1"
   ]
  },
  {
   "cell_type": "code",
   "execution_count": 60,
   "id": "922ef79e-becc-4a69-a68c-423d1f49af7d",
   "metadata": {},
   "outputs": [
    {
     "name": "stdout",
     "output_type": "stream",
     "text": [
      "10\n",
      "20\n",
      "[30, 40, 50, 60, 70, 80, 90, 100]\n"
     ]
    }
   ],
   "source": [
    "(a,b,*c)=tup1\n",
    "print(a)\n",
    "print(b)\n",
    "print(c)"
   ]
  },
  {
   "cell_type": "code",
   "execution_count": 61,
   "id": "d2006152-93ef-437b-8f16-9deeeba143f0",
   "metadata": {},
   "outputs": [
    {
     "data": {
      "text/plain": [
       "(10, 20, 30, 40, 50, 60, 70, 80, 90, 100, 1, 2, 3, 4, 5, 6, 7, 8, 9, 10)"
      ]
     },
     "execution_count": 61,
     "metadata": {},
     "output_type": "execute_result"
    }
   ],
   "source": [
    "tup4 = (*tup,*tup2)\n",
    "tup4"
   ]
  },
  {
   "cell_type": "code",
   "execution_count": 62,
   "id": "6b609cc7-d4c8-4a82-b686-5f28bf312aff",
   "metadata": {},
   "outputs": [],
   "source": [
    "def add_numbers(a,b,c):\n",
    "    return a+b+c"
   ]
  },
  {
   "cell_type": "code",
   "execution_count": 63,
   "id": "e2ec98a4-9c1d-4a37-97a3-6742c2f2e7af",
   "metadata": {},
   "outputs": [
    {
     "data": {
      "text/plain": [
       "60"
      ]
     },
     "execution_count": 63,
     "metadata": {},
     "output_type": "execute_result"
    }
   ],
   "source": [
    "add_numbers(10,20,30)"
   ]
  },
  {
   "cell_type": "code",
   "execution_count": 64,
   "id": "5525f9af-99dd-4f30-be92-3a601e182d40",
   "metadata": {},
   "outputs": [
    {
     "data": {
      "text/plain": [
       "60"
      ]
     },
     "execution_count": 64,
     "metadata": {},
     "output_type": "execute_result"
    }
   ],
   "source": [
    "values = (10,20,30)\n",
    "add_numbers(*values)"
   ]
  },
  {
   "cell_type": "code",
   "execution_count": 65,
   "id": "a0c3c5b6-6fb1-4318-8292-b88e8bf4ae21",
   "metadata": {},
   "outputs": [
    {
     "name": "stdout",
     "output_type": "stream",
     "text": [
      "{100, 500, 'A', 200, 'B'} <class 'set'>\n"
     ]
    }
   ],
   "source": [
    "set1={'A', 'B', 100, 200, 500}\n",
    "print(set1, type(set1))"
   ]
  },
  {
   "cell_type": "code",
   "execution_count": 66,
   "id": "1ace93c7",
   "metadata": {},
   "outputs": [
    {
     "data": {
      "text/plain": [
       "5"
      ]
     },
     "execution_count": 66,
     "metadata": {},
     "output_type": "execute_result"
    }
   ],
   "source": [
    "len(set1)"
   ]
  },
  {
   "cell_type": "code",
   "execution_count": 67,
   "id": "62ab2af6",
   "metadata": {},
   "outputs": [
    {
     "name": "stdout",
     "output_type": "stream",
     "text": [
      "[30, 40, 50, 60, 70, 80, 90, 100] <class 'list'>\n",
      "{100, 70, 40, 80, 50, 90, 60, 30} <class 'set'>\n"
     ]
    }
   ],
   "source": [
    "lst = [30, 40, 50, 60, 70, 80, 90, 100]\n",
    "print(lst, type(lst))\n",
    "lst = set([30, 40, 50, 60, 70, 80, 90, 100])\n",
    "print(lst, type(lst))"
   ]
  },
  {
   "cell_type": "code",
   "execution_count": 68,
   "id": "b627247e",
   "metadata": {},
   "outputs": [
    {
     "data": {
      "text/plain": [
       "(10, 20, 30, 40, 50, 60, 70, 80, 90, 100, 1, 2, 3, 4, 5, 6, 7, 8, 9, 10)"
      ]
     },
     "execution_count": 68,
     "metadata": {},
     "output_type": "execute_result"
    }
   ],
   "source": [
    "tup4"
   ]
  },
  {
   "cell_type": "code",
   "execution_count": 69,
   "id": "fcd6d0cc",
   "metadata": {},
   "outputs": [
    {
     "name": "stdout",
     "output_type": "stream",
     "text": [
      "(10, 20, 30, 40, 50, 60, 70, 80, 90, 100, 1, 2, 3, 4, 5, 6, 7, 8, 9, 10) <class 'tuple'>\n",
      "{1, 2, 3, 4, 5, 6, 7, 8, 9, 10, 20, 30, 40, 50, 60, 70, 80, 90, 100} <class 'set'>\n"
     ]
    }
   ],
   "source": [
    "print(tup4, type(tup4))\n",
    "set2 = set(tup4)\n",
    "print(set2, type(set2))"
   ]
  },
  {
   "cell_type": "code",
   "execution_count": 70,
   "id": "422882ec",
   "metadata": {},
   "outputs": [
    {
     "name": "stdout",
     "output_type": "stream",
     "text": [
      "{1, 2, 3, 4, 5, 6, 7, 8, 9, 10, 20, 30, 40, 50, 60, 70, 80, 90, 100}\n"
     ]
    }
   ],
   "source": [
    "print(set2)"
   ]
  },
  {
   "cell_type": "code",
   "execution_count": 71,
   "id": "8c2eed34",
   "metadata": {},
   "outputs": [
    {
     "data": {
      "text/plain": [
       "True"
      ]
     },
     "execution_count": 71,
     "metadata": {},
     "output_type": "execute_result"
    }
   ],
   "source": [
    "10 in set2"
   ]
  },
  {
   "cell_type": "code",
   "execution_count": 72,
   "id": "d6e9b8be",
   "metadata": {},
   "outputs": [
    {
     "name": "stdout",
     "output_type": "stream",
     "text": [
      "10\n"
     ]
    }
   ],
   "source": [
    "if 10 in set2:\n",
    "    print(10)"
   ]
  },
  {
   "cell_type": "code",
   "execution_count": 73,
   "id": "f47531e1",
   "metadata": {},
   "outputs": [],
   "source": [
    "set2.add(\"Digvijay\")"
   ]
  },
  {
   "cell_type": "code",
   "execution_count": 74,
   "id": "f1ef568b",
   "metadata": {},
   "outputs": [
    {
     "name": "stdout",
     "output_type": "stream",
     "text": [
      "{1, 2, 3, 4, 5, 6, 7, 8, 9, 10, 20, 30, 40, 50, 60, 70, 80, 90, 100, 'Digvijay'}\n"
     ]
    }
   ],
   "source": [
    "print(set2)"
   ]
  },
  {
   "cell_type": "code",
   "execution_count": 75,
   "id": "3a23c26f",
   "metadata": {},
   "outputs": [],
   "source": [
    "set1.update(set2)"
   ]
  },
  {
   "cell_type": "code",
   "execution_count": 76,
   "id": "55f4c1c0",
   "metadata": {},
   "outputs": [
    {
     "name": "stdout",
     "output_type": "stream",
     "text": [
      "{1, 2, 3, 4, 5, 6, 7, 200, 8, 9, 10, 70, 80, 20, 'B', 90, 30, 100, 'A', 40, 50, 500, 'Digvijay', 60}\n"
     ]
    }
   ],
   "source": [
    "print(set1)"
   ]
  },
  {
   "cell_type": "code",
   "execution_count": 88,
   "id": "c58f1d04",
   "metadata": {},
   "outputs": [
    {
     "name": "stdout",
     "output_type": "stream",
     "text": [
      "{100, 70, 40, 10, 80, 50, 20, 90, 60, 30} <class 'set'> (10, 20, 30, 40, 50, 60, 70, 80, 90, 100) <class 'tuple'>\n"
     ]
    }
   ],
   "source": [
    "print(lst,type(lst), tup,type(tup))"
   ]
  },
  {
   "cell_type": "code",
   "execution_count": 99,
   "id": "dee497f8",
   "metadata": {},
   "outputs": [],
   "source": [
    "lst.update(tup)"
   ]
  },
  {
   "cell_type": "code",
   "execution_count": 100,
   "id": "ba2c932c",
   "metadata": {},
   "outputs": [
    {
     "name": "stdout",
     "output_type": "stream",
     "text": [
      "{100, 70, 40, 10, 80, 50, 20, 90, 60, 30}\n"
     ]
    }
   ],
   "source": [
    "print(lst)"
   ]
  },
  {
   "cell_type": "code",
   "execution_count": 126,
   "id": "52bfe189",
   "metadata": {},
   "outputs": [],
   "source": [
    "a= [1,2,3]\n",
    "b = {10,20,30}\n",
    "c=(100,200,300)"
   ]
  },
  {
   "cell_type": "code",
   "execution_count": 127,
   "id": "a94730ba",
   "metadata": {},
   "outputs": [
    {
     "name": "stdout",
     "output_type": "stream",
     "text": [
      "[1, 2, 3] <class 'list'>\n",
      "{10, 20, 30} <class 'set'>\n",
      "(100, 200, 300) <class 'tuple'>\n"
     ]
    }
   ],
   "source": [
    "print(a,type(a))\n",
    "print(b,type(b))\n",
    "print(c,type(c))"
   ]
  },
  {
   "cell_type": "code",
   "execution_count": 128,
   "id": "c3cc2cc4",
   "metadata": {},
   "outputs": [],
   "source": [
    "b.update(a)"
   ]
  },
  {
   "cell_type": "code",
   "execution_count": 129,
   "id": "7ce4b130",
   "metadata": {},
   "outputs": [
    {
     "data": {
      "text/plain": [
       "{1, 2, 3, 10, 20, 30}"
      ]
     },
     "execution_count": 129,
     "metadata": {},
     "output_type": "execute_result"
    }
   ],
   "source": [
    "b"
   ]
  },
  {
   "cell_type": "code",
   "execution_count": 130,
   "id": "e4f7b521",
   "metadata": {},
   "outputs": [],
   "source": [
    "b.update(c)"
   ]
  },
  {
   "cell_type": "code",
   "execution_count": 131,
   "id": "d89df009",
   "metadata": {},
   "outputs": [
    {
     "data": {
      "text/plain": [
       "{1, 2, 3, 10, 20, 30, 100, 200, 300}"
      ]
     },
     "execution_count": 131,
     "metadata": {},
     "output_type": "execute_result"
    }
   ],
   "source": [
    "b"
   ]
  },
  {
   "cell_type": "code",
   "execution_count": 132,
   "id": "b776b6b7",
   "metadata": {},
   "outputs": [
    {
     "name": "stdout",
     "output_type": "stream",
     "text": [
      "{1, 2, 3, 100, 200, 10, 300, 20, 30} <class 'set'>\n"
     ]
    }
   ],
   "source": [
    "print(b, type(b))"
   ]
  },
  {
   "cell_type": "code",
   "execution_count": 133,
   "id": "31798db0",
   "metadata": {},
   "outputs": [],
   "source": [
    "b.discard(1000)"
   ]
  },
  {
   "cell_type": "code",
   "execution_count": 134,
   "id": "bae86a06",
   "metadata": {},
   "outputs": [
    {
     "name": "stdout",
     "output_type": "stream",
     "text": [
      "{2, 3, 100, 200, 10, 300, 20, 30}\n"
     ]
    }
   ],
   "source": [
    "b.pop()\n",
    "print(b)"
   ]
  },
  {
   "cell_type": "code",
   "execution_count": 135,
   "id": "61b9087d",
   "metadata": {},
   "outputs": [],
   "source": [
    "b.remove(100)"
   ]
  },
  {
   "cell_type": "code",
   "execution_count": 136,
   "id": "cc9c6fba",
   "metadata": {},
   "outputs": [
    {
     "name": "stdout",
     "output_type": "stream",
     "text": [
      "{2, 3, 200, 10, 300, 20, 30}\n"
     ]
    }
   ],
   "source": [
    "print(b)"
   ]
  },
  {
   "cell_type": "code",
   "execution_count": 137,
   "id": "ecf614b0",
   "metadata": {},
   "outputs": [],
   "source": [
    "b.add(100)"
   ]
  },
  {
   "cell_type": "code",
   "execution_count": 138,
   "id": "eebaaad7",
   "metadata": {},
   "outputs": [
    {
     "name": "stdout",
     "output_type": "stream",
     "text": [
      "{2, 3, 100, 200, 10, 300, 20, 30}\n"
     ]
    }
   ],
   "source": [
    "print(b)"
   ]
  },
  {
   "cell_type": "code",
   "execution_count": 139,
   "id": "b780dda3",
   "metadata": {},
   "outputs": [],
   "source": [
    "b.discard(100)"
   ]
  },
  {
   "cell_type": "code",
   "execution_count": 140,
   "id": "6091d7af",
   "metadata": {},
   "outputs": [
    {
     "name": "stdout",
     "output_type": "stream",
     "text": [
      "{2, 3, 200, 10, 300, 20, 30}\n"
     ]
    }
   ],
   "source": [
    "print(b)"
   ]
  },
  {
   "cell_type": "code",
   "execution_count": 141,
   "id": "e33116f2",
   "metadata": {},
   "outputs": [
    {
     "data": {
      "text/plain": [
       "2"
      ]
     },
     "execution_count": 141,
     "metadata": {},
     "output_type": "execute_result"
    }
   ],
   "source": [
    "b.pop()"
   ]
  },
  {
   "cell_type": "code",
   "execution_count": 142,
   "id": "0c47a2ad",
   "metadata": {},
   "outputs": [
    {
     "name": "stdout",
     "output_type": "stream",
     "text": [
      "{3, 200, 10, 300, 20, 30}\n"
     ]
    }
   ],
   "source": [
    "print(b)"
   ]
  },
  {
   "cell_type": "code",
   "execution_count": 143,
   "id": "c8f0d687",
   "metadata": {},
   "outputs": [],
   "source": [
    "s1 = {1,2,3,4}\n",
    "s2 = {3,4,5,6}"
   ]
  },
  {
   "cell_type": "code",
   "execution_count": 144,
   "id": "8e002c3c",
   "metadata": {},
   "outputs": [
    {
     "data": {
      "text/plain": [
       "{1, 2, 3, 4, 5, 6}"
      ]
     },
     "execution_count": 144,
     "metadata": {},
     "output_type": "execute_result"
    }
   ],
   "source": [
    "s1.union(s2)"
   ]
  },
  {
   "cell_type": "code",
   "execution_count": 145,
   "id": "a93f550c",
   "metadata": {},
   "outputs": [
    {
     "data": {
      "text/plain": [
       "{3, 4}"
      ]
     },
     "execution_count": 145,
     "metadata": {},
     "output_type": "execute_result"
    }
   ],
   "source": [
    "s1.intersection(s2)"
   ]
  },
  {
   "cell_type": "code",
   "execution_count": 147,
   "id": "343bbef0",
   "metadata": {},
   "outputs": [
    {
     "data": {
      "text/plain": [
       "({1, 2}, {5, 6})"
      ]
     },
     "execution_count": 147,
     "metadata": {},
     "output_type": "execute_result"
    }
   ],
   "source": [
    "s1.difference(s2), s2.difference(s1)"
   ]
  },
  {
   "cell_type": "code",
   "execution_count": 148,
   "id": "d5434f47",
   "metadata": {},
   "outputs": [
    {
     "data": {
      "text/plain": [
       "{1, 2, 5, 6}"
      ]
     },
     "execution_count": 148,
     "metadata": {},
     "output_type": "execute_result"
    }
   ],
   "source": [
    "s1.symmetric_difference(s2)"
   ]
  },
  {
   "cell_type": "code",
   "execution_count": 149,
   "id": "aa0ae9b9",
   "metadata": {},
   "outputs": [
    {
     "data": {
      "text/plain": [
       "False"
      ]
     },
     "execution_count": 149,
     "metadata": {},
     "output_type": "execute_result"
    }
   ],
   "source": [
    "s1.isdisjoint(s2)"
   ]
  },
  {
   "cell_type": "code",
   "execution_count": 150,
   "id": "acfba609",
   "metadata": {},
   "outputs": [
    {
     "name": "stdout",
     "output_type": "stream",
     "text": [
      "{1, 2, 3, 4}\n"
     ]
    }
   ],
   "source": [
    "print(s1)"
   ]
  },
  {
   "cell_type": "code",
   "execution_count": 151,
   "id": "c2a362be",
   "metadata": {},
   "outputs": [],
   "source": [
    "del s1"
   ]
  },
  {
   "cell_type": "code",
   "execution_count": 153,
   "id": "9c06424d",
   "metadata": {},
   "outputs": [
    {
     "data": {
      "text/plain": [
       "{3, 4, 5, 6}"
      ]
     },
     "execution_count": 153,
     "metadata": {},
     "output_type": "execute_result"
    }
   ],
   "source": [
    "s2"
   ]
  },
  {
   "cell_type": "code",
   "execution_count": 155,
   "id": "034c2679",
   "metadata": {},
   "outputs": [],
   "source": [
    "s2.clear()"
   ]
  },
  {
   "cell_type": "code",
   "execution_count": 156,
   "id": "a89ee17c",
   "metadata": {},
   "outputs": [
    {
     "data": {
      "text/plain": [
       "set()"
      ]
     },
     "execution_count": 156,
     "metadata": {},
     "output_type": "execute_result"
    }
   ],
   "source": [
    "s2"
   ]
  },
  {
   "cell_type": "code",
   "execution_count": 1,
   "id": "31c83bf6",
   "metadata": {},
   "outputs": [
    {
     "name": "stdout",
     "output_type": "stream",
     "text": [
      "{1, 33, 3, 4, 5, 2, 11, 12, 55} <class 'set'>\n"
     ]
    }
   ],
   "source": [
    "set1 = {1,1,1,12,3,4,4,5,5,5,33,2,2,11,4,55,}\n",
    "print(set1,type(set1))"
   ]
  },
  {
   "cell_type": "code",
   "execution_count": 2,
   "id": "1c0cb54e",
   "metadata": {},
   "outputs": [
    {
     "name": "stdout",
     "output_type": "stream",
     "text": [
      "frozenset({1, 33, 3, 4, 5, 2, 11, 12, 55}) <class 'frozenset'>\n"
     ]
    }
   ],
   "source": [
    "fset=frozenset(set1)\n",
    "print(fset, type(fset))"
   ]
  },
  {
   "cell_type": "code",
   "execution_count": 4,
   "id": "2a523ae7",
   "metadata": {},
   "outputs": [],
   "source": [
    "# fset.add('Mohite') >> we cant modify once frozenset has been created"
   ]
  },
  {
   "cell_type": "code",
   "execution_count": 5,
   "id": "111193be",
   "metadata": {},
   "outputs": [
    {
     "name": "stdout",
     "output_type": "stream",
     "text": [
      "{frozenset({'banana', 'apple', 'orange'}): {'in_stock': True, 'quantity': 10}}\n"
     ]
    }
   ],
   "source": [
    "# Define a frozenset\n",
    "fruits = frozenset({'apple', 'banana', 'orange'}) \n",
    "\n",
    "# Create a dictionary with frozenset key\n",
    "inventory = {\n",
    "        fruits: {\n",
    "            'in_stock': True, \n",
    "            'quantity': 10\n",
    "                }\n",
    "            }\n",
    "\n",
    "print(inventory)"
   ]
  },
  {
   "cell_type": "code",
   "execution_count": 10,
   "id": "13ecf539",
   "metadata": {},
   "outputs": [
    {
     "name": "stdout",
     "output_type": "stream",
     "text": [
      "{frozenset({'u', 'e', 'a', 'i', 'o'}): '10, 20 , 30, 40, 50'}\n"
     ]
    }
   ],
   "source": [
    "vowels = frozenset({'a','e','i','o','u'})\n",
    "\n",
    "d = {vowels : \"10, 20 , 30, 40, 50\"}\n",
    "print(d)"
   ]
  },
  {
   "cell_type": "code",
   "execution_count": 11,
   "id": "c49fa33a",
   "metadata": {},
   "outputs": [
    {
     "name": "stdout",
     "output_type": "stream",
     "text": [
      "KEY : frozenset({'u', 'e', 'a', 'i', 'o'})\n",
      "Values : 10, 20 , 30, 40, 50\n"
     ]
    }
   ],
   "source": [
    "for key in d:\n",
    "    print(\"KEY :\",key)\n",
    "    print(\"Values :\",d[key])"
   ]
  },
  {
   "cell_type": "code",
   "execution_count": 12,
   "id": "f24b557f",
   "metadata": {},
   "outputs": [],
   "source": [
    "# Dictionary"
   ]
  },
  {
   "cell_type": "code",
   "execution_count": 64,
   "id": "d32fbd98",
   "metadata": {},
   "outputs": [],
   "source": [
    "d = {'D' :'DIGVIJAY',\n",
    "     'Sc' : 'SACHIN',\n",
    "     'A' : 'ABHIMANYU',\n",
    "     'S' : 'SHOURYA'}"
   ]
  },
  {
   "cell_type": "code",
   "execution_count": 24,
   "id": "1eb90708",
   "metadata": {},
   "outputs": [
    {
     "name": "stdout",
     "output_type": "stream",
     "text": [
      "{'D': 'DIGVIJAY', 'Sc': 'SACHIN', 'A': 'ABHIMANYU', 'S': 'SHOURYA'} <class 'dict'>\n"
     ]
    }
   ],
   "source": [
    "print(d, type(d))"
   ]
  },
  {
   "cell_type": "code",
   "execution_count": 28,
   "id": "987e13b0",
   "metadata": {},
   "outputs": [
    {
     "data": {
      "text/plain": [
       "('DIGVIJAY', 'SACHIN', 'ABHIMANYU', 'SHOURYA')"
      ]
     },
     "execution_count": 28,
     "metadata": {},
     "output_type": "execute_result"
    }
   ],
   "source": [
    "d['D'], d['Sc'], d['A'], d['S'] # by using mention the direct key"
   ]
  },
  {
   "cell_type": "code",
   "execution_count": 32,
   "id": "f1bcb1e9",
   "metadata": {},
   "outputs": [
    {
     "data": {
      "text/plain": [
       "('DIGVIJAY', 'SACHIN')"
      ]
     },
     "execution_count": 32,
     "metadata": {},
     "output_type": "execute_result"
    }
   ],
   "source": [
    "d.get('D'), d.get('Sc') # by using get method"
   ]
  },
  {
   "cell_type": "code",
   "execution_count": 35,
   "id": "a04834dc",
   "metadata": {},
   "outputs": [
    {
     "name": "stdout",
     "output_type": "stream",
     "text": [
      "None\n"
     ]
    }
   ],
   "source": [
    "print(d.get(2))"
   ]
  },
  {
   "cell_type": "code",
   "execution_count": 40,
   "id": "fd3a5be9",
   "metadata": {},
   "outputs": [
    {
     "name": "stdout",
     "output_type": "stream",
     "text": [
      "dict_keys(['D', 'Sc', 'A', 'S'])\n",
      "dict_values(['DIGVIJAY', 'SACHIN', 'ABHIMANYU', 'SHOURYA'])\n"
     ]
    }
   ],
   "source": [
    "# by using notation like .keys and .values\n",
    "print(d.keys())\n",
    "print(d.values())"
   ]
  },
  {
   "cell_type": "code",
   "execution_count": 41,
   "id": "cde9112a",
   "metadata": {},
   "outputs": [
    {
     "data": {
      "text/plain": [
       "dict_items([('D', 'DIGVIJAY'), ('Sc', 'SACHIN'), ('A', 'ABHIMANYU'), ('S', 'SHOURYA')])"
      ]
     },
     "execution_count": 41,
     "metadata": {},
     "output_type": "execute_result"
    }
   ],
   "source": [
    "# by using .items\n",
    "d.items()"
   ]
  },
  {
   "cell_type": "code",
   "execution_count": 42,
   "id": "cba2bec3",
   "metadata": {},
   "outputs": [],
   "source": [
    "# update the dictionary\n",
    "d.update({'So':'SOPAN','M':'MOHITE'})"
   ]
  },
  {
   "cell_type": "code",
   "execution_count": 43,
   "id": "999773c9",
   "metadata": {},
   "outputs": [
    {
     "name": "stdout",
     "output_type": "stream",
     "text": [
      "{'D': 'DIGVIJAY', 'Sc': 'SACHIN', 'A': 'ABHIMANYU', 'S': 'SHOURYA', 'So': 'SOPAN', 'M': 'MOHITE'}\n"
     ]
    }
   ],
   "source": [
    "print(d)"
   ]
  },
  {
   "cell_type": "code",
   "execution_count": 46,
   "id": "6495d1da",
   "metadata": {},
   "outputs": [
    {
     "data": {
      "text/plain": [
       "'MOHITE'"
      ]
     },
     "execution_count": 46,
     "metadata": {},
     "output_type": "execute_result"
    }
   ],
   "source": [
    "d.pop('M')"
   ]
  },
  {
   "cell_type": "code",
   "execution_count": 47,
   "id": "d33d4963",
   "metadata": {},
   "outputs": [
    {
     "data": {
      "text/plain": [
       "{'D': 'DIGVIJAY',\n",
       " 'Sc': 'SACHIN',\n",
       " 'A': 'ABHIMANYU',\n",
       " 'S': 'SHOURYA',\n",
       " 'So': 'SOPAN'}"
      ]
     },
     "execution_count": 47,
     "metadata": {},
     "output_type": "execute_result"
    }
   ],
   "source": [
    "d"
   ]
  },
  {
   "cell_type": "code",
   "execution_count": 48,
   "id": "32c74de3",
   "metadata": {},
   "outputs": [
    {
     "data": {
      "text/plain": [
       "('So', 'SOPAN')"
      ]
     },
     "execution_count": 48,
     "metadata": {},
     "output_type": "execute_result"
    }
   ],
   "source": [
    "d.popitem()"
   ]
  },
  {
   "cell_type": "code",
   "execution_count": 65,
   "id": "5e5b5702",
   "metadata": {},
   "outputs": [
    {
     "data": {
      "text/plain": [
       "{'D': 'DIGVIJAY', 'Sc': 'SACHIN', 'A': 'ABHIMANYU', 'S': 'SHOURYA'}"
      ]
     },
     "execution_count": 65,
     "metadata": {},
     "output_type": "execute_result"
    }
   ],
   "source": [
    "d"
   ]
  },
  {
   "cell_type": "code",
   "execution_count": 66,
   "id": "ee788c48",
   "metadata": {},
   "outputs": [],
   "source": [
    "dd=d.copy()"
   ]
  },
  {
   "cell_type": "code",
   "execution_count": 67,
   "id": "a95dc66b",
   "metadata": {},
   "outputs": [
    {
     "data": {
      "text/plain": [
       "{'D': 'DIGVIJAY', 'Sc': 'SACHIN', 'A': 'ABHIMANYU', 'S': 'SHOURYA'}"
      ]
     },
     "execution_count": 67,
     "metadata": {},
     "output_type": "execute_result"
    }
   ],
   "source": [
    "dd"
   ]
  },
  {
   "cell_type": "code",
   "execution_count": 69,
   "id": "30128177",
   "metadata": {},
   "outputs": [],
   "source": [
    "ddd=d.copy()"
   ]
  },
  {
   "cell_type": "code",
   "execution_count": 70,
   "id": "75eae7cb",
   "metadata": {},
   "outputs": [
    {
     "data": {
      "text/plain": [
       "{'D': 'DIGVIJAY', 'Sc': 'SACHIN', 'A': 'ABHIMANYU', 'S': 'SHOURYA'}"
      ]
     },
     "execution_count": 70,
     "metadata": {},
     "output_type": "execute_result"
    }
   ],
   "source": [
    "ddd"
   ]
  },
  {
   "cell_type": "code",
   "execution_count": 71,
   "id": "ffeb392a",
   "metadata": {},
   "outputs": [],
   "source": [
    "del dd"
   ]
  },
  {
   "cell_type": "code",
   "execution_count": 72,
   "id": "86b7ff1f",
   "metadata": {},
   "outputs": [],
   "source": [
    "ddd.clear()"
   ]
  },
  {
   "cell_type": "code",
   "execution_count": 73,
   "id": "3059f8dd",
   "metadata": {},
   "outputs": [
    {
     "data": {
      "text/plain": [
       "{}"
      ]
     },
     "execution_count": 73,
     "metadata": {},
     "output_type": "execute_result"
    }
   ],
   "source": [
    "ddd"
   ]
  },
  {
   "cell_type": "code",
   "execution_count": 74,
   "id": "facfbc3e",
   "metadata": {},
   "outputs": [
    {
     "data": {
      "text/plain": [
       "{'D': 'DIGVIJAY', 'Sc': 'SACHIN', 'A': 'ABHIMANYU', 'S': 'SHOURYA'}"
      ]
     },
     "execution_count": 74,
     "metadata": {},
     "output_type": "execute_result"
    }
   ],
   "source": [
    "d"
   ]
  },
  {
   "cell_type": "code",
   "execution_count": 76,
   "id": "519d4799",
   "metadata": {},
   "outputs": [],
   "source": [
    "d['D']='DIPAK'"
   ]
  },
  {
   "cell_type": "code",
   "execution_count": 77,
   "id": "8bcaecf6",
   "metadata": {},
   "outputs": [
    {
     "data": {
      "text/plain": [
       "{'D': 'DIPAK', 'Sc': 'SACHIN', 'A': 'ABHIMANYU', 'S': 'SHOURYA'}"
      ]
     },
     "execution_count": 77,
     "metadata": {},
     "output_type": "execute_result"
    }
   ],
   "source": [
    "d"
   ]
  },
  {
   "cell_type": "code",
   "execution_count": 78,
   "id": "ff5b16a4",
   "metadata": {},
   "outputs": [
    {
     "name": "stdout",
     "output_type": "stream",
     "text": [
      "{'D': 'DIPAK', 'Sc': 'SACHIN', 'A': 'ABHIMANYU', 'S': 'SHOURYA'}\n",
      "{'D': 'DIPAK', 'Sc': 'SACHIN', 'A': 'ABHIMANYU', 'S': 'SHOURYA'}\n",
      "{'D': 'DIPAK', 'Sc': 'SACHIN', 'A': 'ABHIMANYU', 'S': 'SHOURYA', 'J': 'JAGDALE'}\n"
     ]
    }
   ],
   "source": [
    "dd = d.copy()\n",
    "print(d)\n",
    "print(dd)\n",
    "dd['J']='JAGDALE'\n",
    "print(dd)"
   ]
  },
  {
   "cell_type": "code",
   "execution_count": 80,
   "id": "7c1b8075",
   "metadata": {},
   "outputs": [
    {
     "name": "stdout",
     "output_type": "stream",
     "text": [
      "{'D': 'DIPAK', 'Sc': 'SACHIN', 'A': 'ABHIMANYU', 'S': 'SHOURYA', 'J': 'JAGDALE'}\n"
     ]
    }
   ],
   "source": [
    "ddd = dict(dd)\n",
    "print(ddd)"
   ]
  },
  {
   "cell_type": "code",
   "execution_count": 82,
   "id": "e16172ae",
   "metadata": {},
   "outputs": [
    {
     "name": "stdout",
     "output_type": "stream",
     "text": [
      "{'D': 'JAY HO...!', 'Sc': 'JAY HO...!', 'A': 'JAY HO...!', 'S': 'JAY HO...!', 'J': 'JAY HO...!'}\n"
     ]
    }
   ],
   "source": [
    "print(dict.fromkeys(ddd,'JAY HO...!'))"
   ]
  },
  {
   "cell_type": "code",
   "execution_count": 83,
   "id": "f5c62abe",
   "metadata": {},
   "outputs": [
    {
     "data": {
      "text/plain": [
       "{'D': 'GOT SUCCESS',\n",
       " 'Sc': 'GOT SUCCESS',\n",
       " 'A': 'GOT SUCCESS',\n",
       " 'S': 'GOT SUCCESS',\n",
       " 'J': 'GOT SUCCESS'}"
      ]
     },
     "execution_count": 83,
     "metadata": {},
     "output_type": "execute_result"
    }
   ],
   "source": [
    "dict.fromkeys(ddd,'GOT SUCCESS')"
   ]
  },
  {
   "cell_type": "code",
   "execution_count": 84,
   "id": "85af857e",
   "metadata": {},
   "outputs": [
    {
     "data": {
      "text/plain": [
       "{'D': 'DIPAK', 'Sc': 'SACHIN', 'A': 'ABHIMANYU', 'S': 'SHOURYA'}"
      ]
     },
     "execution_count": 84,
     "metadata": {},
     "output_type": "execute_result"
    }
   ],
   "source": [
    "d "
   ]
  },
  {
   "cell_type": "code",
   "execution_count": 85,
   "id": "ede3914e",
   "metadata": {},
   "outputs": [
    {
     "data": {
      "text/plain": [
       "'MOHITE'"
      ]
     },
     "execution_count": 85,
     "metadata": {},
     "output_type": "execute_result"
    }
   ],
   "source": [
    "d.setdefault('SURNAME','MOHITE')"
   ]
  },
  {
   "cell_type": "code",
   "execution_count": 86,
   "id": "6f475329",
   "metadata": {},
   "outputs": [
    {
     "data": {
      "text/plain": [
       "{'D': 'DIPAK',\n",
       " 'Sc': 'SACHIN',\n",
       " 'A': 'ABHIMANYU',\n",
       " 'S': 'SHOURYA',\n",
       " 'SURNAME': 'MOHITE'}"
      ]
     },
     "execution_count": 86,
     "metadata": {},
     "output_type": "execute_result"
    }
   ],
   "source": [
    "d"
   ]
  },
  {
   "cell_type": "code",
   "execution_count": 88,
   "id": "953e60d0",
   "metadata": {},
   "outputs": [
    {
     "data": {
      "text/plain": [
       "'MOHITE'"
      ]
     },
     "execution_count": 88,
     "metadata": {},
     "output_type": "execute_result"
    }
   ],
   "source": [
    "d.setdefault('SURNAME')"
   ]
  },
  {
   "cell_type": "code",
   "execution_count": 90,
   "id": "d8416342",
   "metadata": {},
   "outputs": [
    {
     "name": "stdout",
     "output_type": "stream",
     "text": [
      "{'F_name': 'DIGVIJAY'}\n"
     ]
    }
   ],
   "source": [
    "dict1 = {}\n",
    "dict1.setdefault('F_name','DIGVIJAY')\n",
    "print(dict1)"
   ]
  },
  {
   "cell_type": "code",
   "execution_count": 91,
   "id": "8a9c9adf",
   "metadata": {},
   "outputs": [],
   "source": [
    "# nested dictionary"
   ]
  },
  {
   "cell_type": "code",
   "execution_count": 93,
   "id": "ca284ae9",
   "metadata": {},
   "outputs": [
    {
     "data": {
      "text/plain": [
       "{'Dipak': {'Age': 10, 'Loc': 'Mumbai'}, 'Digvijay': {'Age': 11, 'Loc': 'Pune'}}"
      ]
     },
     "execution_count": 93,
     "metadata": {},
     "output_type": "execute_result"
    }
   ],
   "source": [
    "stud = {\n",
    "    \"Dipak\": {'Age':10, 'Loc':'Mumbai'},\n",
    "    \"Digvijay\":{'Age':11, 'Loc':'Pune'}\n",
    "    }\n",
    "\n",
    "stud"
   ]
  },
  {
   "cell_type": "code",
   "execution_count": 95,
   "id": "2c75c246",
   "metadata": {},
   "outputs": [
    {
     "data": {
      "text/plain": [
       "'Mumbai'"
      ]
     },
     "execution_count": 95,
     "metadata": {},
     "output_type": "execute_result"
    }
   ],
   "source": [
    "stud['Dipak']['Loc']"
   ]
  },
  {
   "cell_type": "code",
   "execution_count": 96,
   "id": "971615ae",
   "metadata": {},
   "outputs": [],
   "source": [
    "company = {\n",
    "   \"sales\": [\n",
    "     {\"name\": \"John\"},\n",
    "     {\"name\": \"Ana\"}\n",
    "    ],\n",
    "   \"development\": [\n",
    "     {\"name\": \"Chris\"},\n",
    "     {\"name\": \"Ann\"}\n",
    "   ]\n",
    "}\n"
   ]
  },
  {
   "cell_type": "code",
   "execution_count": 97,
   "id": "2cf77701",
   "metadata": {},
   "outputs": [
    {
     "data": {
      "text/plain": [
       "{'sales': [{'name': 'John'}, {'name': 'Ana'}],\n",
       " 'development': [{'name': 'Chris'}, {'name': 'Ann'}]}"
      ]
     },
     "execution_count": 97,
     "metadata": {},
     "output_type": "execute_result"
    }
   ],
   "source": [
    "company"
   ]
  },
  {
   "cell_type": "code",
   "execution_count": 101,
   "id": "a4a81aad",
   "metadata": {},
   "outputs": [
    {
     "data": {
      "text/plain": [
       "'Ana'"
      ]
     },
     "execution_count": 101,
     "metadata": {},
     "output_type": "execute_result"
    }
   ],
   "source": [
    "company['sales'][1]['name']"
   ]
  },
  {
   "cell_type": "code",
   "execution_count": 102,
   "id": "b6e6faa4",
   "metadata": {},
   "outputs": [
    {
     "name": "stdout",
     "output_type": "stream",
     "text": [
      "{'f_key': {'p_key': {'s_key': {'gs_key': 'grans_son_name'}, 's_name': 'son_name'}, 'p_name': 'Parent_name'}}\n"
     ]
    }
   ],
   "source": [
    "grandson = {\n",
    "    'gs_key':'grans_son_name'\n",
    "}\n",
    "\n",
    "\n",
    "son = {\n",
    "    's_key' : grandson,\n",
    "    's_name': 'son_name'\n",
    "}\n",
    "\n",
    "\n",
    "parent = {\n",
    "    'p_key':son,\n",
    "    'p_name':'Parent_name'\n",
    "}\n",
    "\n",
    "\n",
    "family ={\n",
    "    'f_key':parent,\n",
    "}\n",
    "\n",
    "print(family)"
   ]
  },
  {
   "cell_type": "code",
   "execution_count": 111,
   "id": "2ab0e38a",
   "metadata": {},
   "outputs": [
    {
     "data": {
      "text/plain": [
       "'Parent_name'"
      ]
     },
     "execution_count": 111,
     "metadata": {},
     "output_type": "execute_result"
    }
   ],
   "source": [
    "family['f_key']['p_name']"
   ]
  },
  {
   "cell_type": "code",
   "execution_count": 112,
   "id": "d9346ba8",
   "metadata": {},
   "outputs": [
    {
     "data": {
      "text/plain": [
       "'grans_son_name'"
      ]
     },
     "execution_count": 112,
     "metadata": {},
     "output_type": "execute_result"
    }
   ],
   "source": [
    "family['f_key']['p_key']['s_key']['gs_key']"
   ]
  },
  {
   "cell_type": "code",
   "execution_count": 114,
   "id": "41678e2c",
   "metadata": {},
   "outputs": [
    {
     "data": {
      "text/plain": [
       "'son_name'"
      ]
     },
     "execution_count": 114,
     "metadata": {},
     "output_type": "execute_result"
    }
   ],
   "source": [
    "family['f_key']['p_key']['s_name']"
   ]
  },
  {
   "cell_type": "code",
   "execution_count": 1,
   "id": "f8b767c5",
   "metadata": {},
   "outputs": [],
   "source": [
    "# arithmatic operators\n"
   ]
  },
  {
   "cell_type": "code",
   "execution_count": 32,
   "id": "02edff6a",
   "metadata": {},
   "outputs": [],
   "source": [
    "a=15\n",
    "b=2"
   ]
  },
  {
   "cell_type": "code",
   "execution_count": 33,
   "id": "00600788",
   "metadata": {},
   "outputs": [
    {
     "data": {
      "text/plain": [
       "(17, 13, 7.5, 7, 1, 30, 225)"
      ]
     },
     "execution_count": 33,
     "metadata": {},
     "output_type": "execute_result"
    }
   ],
   "source": [
    "# Arithmatic Opeartors\n",
    "a+b, a-b, a/b, a//b, a%b, a*b, a**b"
   ]
  },
  {
   "cell_type": "code",
   "execution_count": 46,
   "id": "2c97e0d7",
   "metadata": {},
   "outputs": [
    {
     "data": {
      "text/plain": [
       "15"
      ]
     },
     "execution_count": 46,
     "metadata": {},
     "output_type": "execute_result"
    }
   ],
   "source": [
    "# Assignment Opeartors\n",
    "a=10\n",
    "a+=5\n",
    "a"
   ]
  },
  {
   "cell_type": "code",
   "execution_count": 48,
   "id": "0fa88031",
   "metadata": {},
   "outputs": [
    {
     "data": {
      "text/plain": [
       "8"
      ]
     },
     "execution_count": 48,
     "metadata": {},
     "output_type": "execute_result"
    }
   ],
   "source": [
    "x=2\n",
    "x**=3\n",
    "x"
   ]
  },
  {
   "cell_type": "code",
   "execution_count": 49,
   "id": "2261a35d",
   "metadata": {},
   "outputs": [],
   "source": [
    "n1=10\n",
    "n2=20"
   ]
  },
  {
   "cell_type": "code",
   "execution_count": 51,
   "id": "572acfa1",
   "metadata": {},
   "outputs": [
    {
     "data": {
      "text/plain": [
       "True"
      ]
     },
     "execution_count": 51,
     "metadata": {},
     "output_type": "execute_result"
    }
   ],
   "source": [
    "n1<=10 and n2>=10"
   ]
  },
  {
   "cell_type": "code",
   "execution_count": 52,
   "id": "9d54fa20",
   "metadata": {},
   "outputs": [
    {
     "data": {
      "text/plain": [
       "True"
      ]
     },
     "execution_count": 52,
     "metadata": {},
     "output_type": "execute_result"
    }
   ],
   "source": [
    "n1>4 or n2<4"
   ]
  },
  {
   "cell_type": "code",
   "execution_count": 56,
   "id": "3db703bd",
   "metadata": {},
   "outputs": [
    {
     "data": {
      "text/plain": [
       "False"
      ]
     },
     "execution_count": 56,
     "metadata": {},
     "output_type": "execute_result"
    }
   ],
   "source": [
    "not(n1>4 or n2<4)"
   ]
  },
  {
   "cell_type": "code",
   "execution_count": 57,
   "id": "62241571",
   "metadata": {},
   "outputs": [],
   "source": [
    "x=10\n",
    "y=9"
   ]
  },
  {
   "cell_type": "code",
   "execution_count": 58,
   "id": "6b7b2ca4",
   "metadata": {},
   "outputs": [
    {
     "data": {
      "text/plain": [
       "False"
      ]
     },
     "execution_count": 58,
     "metadata": {},
     "output_type": "execute_result"
    }
   ],
   "source": [
    "x is y"
   ]
  },
  {
   "cell_type": "code",
   "execution_count": 59,
   "id": "9799782c",
   "metadata": {},
   "outputs": [
    {
     "data": {
      "text/plain": [
       "True"
      ]
     },
     "execution_count": 59,
     "metadata": {},
     "output_type": "execute_result"
    }
   ],
   "source": [
    "x is not y"
   ]
  },
  {
   "cell_type": "code",
   "execution_count": 61,
   "id": "9c47d2d4",
   "metadata": {},
   "outputs": [],
   "source": [
    "x=100\n",
    "y=900"
   ]
  },
  {
   "cell_type": "code",
   "execution_count": 63,
   "id": "fb568845",
   "metadata": {},
   "outputs": [
    {
     "name": "stdout",
     "output_type": "stream",
     "text": [
      "x is not greather than y.....!\n"
     ]
    }
   ],
   "source": [
    "if x>y:\n",
    "    print('x is greater than y........!')\n",
    "else:\n",
    "    print('x is not greather than y.....!')"
   ]
  },
  {
   "cell_type": "code",
   "execution_count": 64,
   "id": "a3952cfe",
   "metadata": {},
   "outputs": [
    {
     "name": "stdout",
     "output_type": "stream",
     "text": [
      "x<y\n"
     ]
    }
   ],
   "source": [
    "if x>y:\n",
    "    print('x>y')\n",
    "elif x<y:\n",
    "    print('x<y')\n",
    "elif x==y:\n",
    "    print('x=y')\n",
    "else:\n",
    "    print('other')"
   ]
  },
  {
   "cell_type": "code",
   "execution_count": 71,
   "id": "352e2402",
   "metadata": {},
   "outputs": [
    {
     "name": "stdout",
     "output_type": "stream",
     "text": [
      "Enter the total marks :60\n",
      "SECOND CLASS\n"
     ]
    }
   ],
   "source": [
    "marks = float(input('Enter the total marks :'))\n",
    "\n",
    "if marks<=34:\n",
    "    print(\"FAIL\")\n",
    "elif marks>35 and marks<=45:\n",
    "    print(\"PASS\")\n",
    "elif marks>45 and marks<=60:\n",
    "    print(\"SECOND CLASS\")\n",
    "elif marks>60 and marks<=75:\n",
    "    print('FIRST CLASS')\n",
    "else:\n",
    "    print('DISTINCTION')"
   ]
  },
  {
   "cell_type": "code",
   "execution_count": 78,
   "id": "fb64703d",
   "metadata": {},
   "outputs": [
    {
     "name": "stdout",
     "output_type": "stream",
     "text": [
      "y is greater\n"
     ]
    }
   ],
   "source": [
    "x = 10000\n",
    "y = 20000\n",
    "\n",
    "print(\"x is greater\") if x > y else print(\"y is greater\")"
   ]
  },
  {
   "cell_type": "code",
   "execution_count": 80,
   "id": "5e469bb4",
   "metadata": {},
   "outputs": [
    {
     "name": "stdout",
     "output_type": "stream",
     "text": [
      "Enter the total marks :36\n",
      "DISTINCTION\n"
     ]
    }
   ],
   "source": [
    "marks = float(input('Enter the total marks :'))\n",
    "\n",
    "print('FAIL') if marks<35 else print('DISTINCTION')                                                                                            "
   ]
  },
  {
   "cell_type": "code",
   "execution_count": 109,
   "id": "45cb97c9",
   "metadata": {},
   "outputs": [
    {
     "name": "stdout",
     "output_type": "stream",
     "text": [
      "x < 100\n"
     ]
    }
   ],
   "source": [
    "x=9\n",
    "\n",
    "if x>100:\n",
    "    if x==400:\n",
    "        print('X:400')\n",
    "    else:\n",
    "        print('X >100')\n",
    "elif x<100:\n",
    "    print('x < 100')\n",
    "else:\n",
    "    print('Other')"
   ]
  },
  {
   "cell_type": "code",
   "execution_count": 92,
   "id": "3ee61e6d",
   "metadata": {},
   "outputs": [
    {
     "name": "stdout",
     "output_type": "stream",
     "text": [
      "1\n",
      "2\n",
      "3\n",
      "4\n",
      "5\n",
      "6\n",
      "7\n",
      "8\n",
      "9\n",
      "10\n"
     ]
    }
   ],
   "source": [
    "count = 1\n",
    "\n",
    "while count < 11:\n",
    "    print(count)\n",
    "    count+=1"
   ]
  },
  {
   "cell_type": "code",
   "execution_count": 100,
   "id": "4dae1912",
   "metadata": {},
   "outputs": [
    {
     "name": "stdout",
     "output_type": "stream",
     "text": [
      "mango\n",
      "cherry\n",
      "papaya\n",
      "bluberry\n",
      "apple\n",
      "banana\n"
     ]
    }
   ],
   "source": [
    "list1 = [\"mango\",\"cherry\",\"papaya\",\"bluberry\",\"apple\",\"banana\"]\n",
    "\n",
    "x=0\n",
    "while x < len(list1):\n",
    "    print(list1[x])\n",
    "    x+=1"
   ]
  },
  {
   "cell_type": "code",
   "execution_count": 101,
   "id": "0513a873",
   "metadata": {},
   "outputs": [
    {
     "name": "stdout",
     "output_type": "stream",
     "text": [
      "mango\n",
      "cherry\n",
      "papaya\n",
      "bluberry\n",
      "apple\n",
      "banana\n"
     ]
    }
   ],
   "source": [
    "for i in list1:\n",
    "    print(i)"
   ]
  },
  {
   "cell_type": "code",
   "execution_count": 88,
   "id": "fdda9419",
   "metadata": {},
   "outputs": [],
   "source": [
    "list1 = [\"mango\",\"cherry\",\"papaya\",\"bluberry\",\"apple\",\"banana\"]"
   ]
  },
  {
   "cell_type": "code",
   "execution_count": 89,
   "id": "43588982",
   "metadata": {},
   "outputs": [
    {
     "name": "stdout",
     "output_type": "stream",
     "text": [
      "List Elements : ['mango', 'cherry', 'papaya', 'bluberry', 'apple', 'banana']\n"
     ]
    }
   ],
   "source": [
    "print(\"List Elements :\",list1)"
   ]
  },
  {
   "cell_type": "code",
   "execution_count": 90,
   "id": "f737bb4b",
   "metadata": {},
   "outputs": [
    {
     "name": "stdout",
     "output_type": "stream",
     "text": [
      "mango\n",
      "cherry\n",
      "papaya\n",
      "bluberry\n",
      "apple\n",
      "banana\n"
     ]
    }
   ],
   "source": [
    "for i in list1:\n",
    "    print(i)"
   ]
  },
  {
   "cell_type": "code",
   "execution_count": 102,
   "id": "63930cae",
   "metadata": {},
   "outputs": [],
   "source": [
    "tup=(\"RAM\", 'KRISHNA', 'HARI', 'VITTHAL')"
   ]
  },
  {
   "cell_type": "code",
   "execution_count": 103,
   "id": "c03e4c6c",
   "metadata": {},
   "outputs": [
    {
     "name": "stdout",
     "output_type": "stream",
     "text": [
      "RAM\n",
      "KRISHNA\n",
      "HARI\n",
      "VITTHAL\n"
     ]
    }
   ],
   "source": [
    "index=0\n",
    "while index< len(tup):\n",
    "    print(tup[index])\n",
    "    index+=1"
   ]
  },
  {
   "cell_type": "code",
   "execution_count": 104,
   "id": "d0a7e6bd",
   "metadata": {},
   "outputs": [
    {
     "name": "stdout",
     "output_type": "stream",
     "text": [
      "0\n",
      "1\n",
      "2\n",
      "3\n",
      "4\n",
      "5\n",
      "6\n",
      "7\n",
      "8\n",
      "9\n",
      "10\n"
     ]
    }
   ],
   "source": [
    "count=0\n",
    "while count<11:\n",
    "    print(count)\n",
    "    count+=1\n",
    "#     count = count+1"
   ]
  },
  {
   "cell_type": "code",
   "execution_count": 107,
   "id": "5c22b1bc",
   "metadata": {},
   "outputs": [
    {
     "name": "stdout",
     "output_type": "stream",
     "text": [
      "Enter positive number: 6\n",
      "Enter positive number: 8\n",
      "Enter positive number: 9\n",
      "Enter positive number: 4\n",
      "Enter positive number: 3\n",
      "Enter positive number: 2\n",
      "Enter positive number: 1\n",
      "Enter positive number: -1\n",
      "Enter positive number: 10\n",
      "Enter positive number: 11\n",
      "11\n"
     ]
    }
   ],
   "source": [
    "number = 0 \n",
    "while number <= 10:\n",
    "    number = int(input(\"Enter positive number: \"))\n",
    "print(number)"
   ]
  },
  {
   "cell_type": "code",
   "execution_count": 120,
   "id": "9a9594da",
   "metadata": {},
   "outputs": [
    {
     "name": "stdout",
     "output_type": "stream",
     "text": [
      "0\n",
      "1\n",
      "2\n",
      "3\n",
      "4\n",
      "Contioue opearation done\n",
      "6\n",
      "7\n",
      "8\n",
      "Contioue opearation done\n"
     ]
    }
   ],
   "source": [
    "x=0\n",
    "\n",
    "while x<10:\n",
    "    \n",
    "    if x==5 or x==9:\n",
    "        x+=1\n",
    "        print('Contioue opearation done')\n",
    "        continue\n",
    "        \n",
    "    print(x)\n",
    "    x+=1"
   ]
  },
  {
   "cell_type": "code",
   "execution_count": 2,
   "id": "7b7ea155",
   "metadata": {},
   "outputs": [
    {
     "name": "stdout",
     "output_type": "stream",
     "text": [
      "0\n",
      "1\n",
      "2\n",
      "My Favorite Number \n",
      "4\n",
      "5\n",
      "6\n",
      "My Favorite Number \n",
      "8\n",
      "9\n",
      "10\n"
     ]
    }
   ],
   "source": [
    "x=0\n",
    "\n",
    "while x<11:\n",
    "    \n",
    "    if x==3 or x==7:\n",
    "        x+=1\n",
    "        print('My Favorite Number ')\n",
    "        continue\n",
    "    print(x)\n",
    "    x+=1"
   ]
  },
  {
   "cell_type": "code",
   "execution_count": 7,
   "id": "a8159be4",
   "metadata": {},
   "outputs": [
    {
     "name": "stdout",
     "output_type": "stream",
     "text": [
      "0\n",
      "1\n",
      "2\n",
      "3\n",
      "4\n",
      "Skiped\n",
      "Skiped\n",
      "7\n",
      "8\n",
      "9\n",
      "10\n",
      "11\n",
      "12\n",
      "13\n",
      "14\n"
     ]
    }
   ],
   "source": [
    "x=0\n",
    "\n",
    "while x<15:\n",
    "    \n",
    "    if x==5 or x==6:\n",
    "        x+=1\n",
    "        print('Skiped')\n",
    "        continue\n",
    "        \n",
    "    print(x)\n",
    "    x+=1"
   ]
  },
  {
   "cell_type": "code",
   "execution_count": 1,
   "id": "ec1e99f7",
   "metadata": {},
   "outputs": [
    {
     "name": "stdout",
     "output_type": "stream",
     "text": [
      "0\n",
      "1\n",
      "2\n",
      "3\n",
      "4\n",
      "5\n",
      "6\n",
      "SKIPKED NUMBER\n",
      "8\n",
      "SKIPKED NUMBER\n"
     ]
    }
   ],
   "source": [
    "x=0\n",
    "\n",
    "while x<10:\n",
    "    \n",
    "    if x==9 or x==7:\n",
    "        x+=1\n",
    "        print('SKIPKED NUMBER')\n",
    "        continue\n",
    "    else:\n",
    "        print(x)\n",
    "        x+=1\n",
    "    "
   ]
  },
  {
   "cell_type": "code",
   "execution_count": 3,
   "id": "7e2b15b3",
   "metadata": {},
   "outputs": [
    {
     "name": "stdout",
     "output_type": "stream",
     "text": [
      "0\n",
      "1\n",
      "2\n",
      "3\n",
      "4\n",
      "5\n",
      "6\n",
      "SKIPKED NUMBER\n",
      "8\n",
      "SKIPKED NUMBER\n",
      "The end loop\n"
     ]
    }
   ],
   "source": [
    "x=0\n",
    "\n",
    "while x<10:\n",
    "    \n",
    "    if x==9 or x==7:\n",
    "        x+=1\n",
    "        print('SKIPKED NUMBER')\n",
    "        continue\n",
    "\n",
    "    print(x)\n",
    "    x+=1\n",
    "else:\n",
    "    print('The end loop')"
   ]
  },
  {
   "cell_type": "code",
   "execution_count": 4,
   "id": "396bf491",
   "metadata": {},
   "outputs": [
    {
     "name": "stdout",
     "output_type": "stream",
     "text": [
      "0\n",
      "2\n",
      "4\n",
      "6\n",
      "8\n"
     ]
    }
   ],
   "source": [
    "#for i in range(10):\n",
    "\n",
    "for i in range(0,10,2):\n",
    "    print(i)"
   ]
  },
  {
   "cell_type": "code",
   "execution_count": 12,
   "id": "83b14353",
   "metadata": {},
   "outputs": [
    {
     "name": "stdout",
     "output_type": "stream",
     "text": [
      "1 a\n",
      "1 b\n",
      "1 c\n",
      "1 d\n",
      "2 a\n",
      "2 b\n",
      "2 c\n",
      "2 d\n"
     ]
    }
   ],
   "source": [
    "list1 = [1, 2]\n",
    "list2 = ['a', 'b', 'c', 'd']\n",
    "\n",
    "for i in list1: \n",
    "    for j in list2:\n",
    "        print(i,j)\n"
   ]
  },
  {
   "cell_type": "code",
   "execution_count": 20,
   "id": "50e05995",
   "metadata": {},
   "outputs": [
    {
     "name": "stdout",
     "output_type": "stream",
     "text": [
      "[1, 2, 4, 5, 7, 8, 10]\n"
     ]
    }
   ],
   "source": [
    "list1 = [1,2,3,4,5,6,7,8,9,10]\n",
    "\n",
    "x=2\n",
    "\n",
    "while x<len(list1):\n",
    "    del list1[x]\n",
    "    x+=2\n",
    "    \n",
    "print(list1)"
   ]
  },
  {
   "cell_type": "code",
   "execution_count": 21,
   "id": "507630db",
   "metadata": {},
   "outputs": [
    {
     "name": "stdout",
     "output_type": "stream",
     "text": [
      "Removed every 3rd element from list : [1, 2, 4, 5, 7, 8]\n"
     ]
    }
   ],
   "source": [
    "# wrinting and removing every third element from a list\n",
    "\n",
    "my_list = [1, 2, 3, 4, 5, 6, 7, 8, 9]\n",
    "\n",
    "i = 2 \n",
    "\n",
    "while i < len(my_list):\n",
    "    del my_list[i]\n",
    "    i += 2 \n",
    "\n",
    "print(\"Removed every 3rd element from list :\",my_list)"
   ]
  },
  {
   "cell_type": "code",
   "execution_count": 7,
   "id": "85294b44",
   "metadata": {},
   "outputs": [],
   "source": [
    "lst=['A',10,'B',20,'C',30,'D',40,'E',50]"
   ]
  },
  {
   "cell_type": "code",
   "execution_count": 8,
   "id": "05748b55",
   "metadata": {},
   "outputs": [
    {
     "name": "stdout",
     "output_type": "stream",
     "text": [
      "['A', 10, 'B', 20, 'C', 30, 'D', 40, 'E', 50]\n",
      "['A', 'B', 'C', 'D', 'E']\n"
     ]
    }
   ],
   "source": [
    "lst=['A',10,'B',20,'C',30,'D',40,'E',50]\n",
    "\n",
    "print(lst)\n",
    "\n",
    "x = 1\n",
    "\n",
    "while x<len(lst):\n",
    "    del lst[x]\n",
    "    x+=1\n",
    "    \n",
    "print(lst)"
   ]
  },
  {
   "cell_type": "code",
   "execution_count": 11,
   "id": "8812595e",
   "metadata": {},
   "outputs": [],
   "source": [
    "lst=['A',10,100,'B',20,200,'C',30,300,'D',40,400,'E',50,500]"
   ]
  },
  {
   "cell_type": "code",
   "execution_count": 12,
   "id": "6c487fbb",
   "metadata": {},
   "outputs": [
    {
     "name": "stdout",
     "output_type": "stream",
     "text": [
      "['A', 10, 100, 'B', 20, 200, 'C', 30, 300, 'D', 40, 400, 'E', 50, 500]\n",
      "['A', 10, 'B', 20, 'C', 30, 'D', 40, 'E', 50]\n"
     ]
    }
   ],
   "source": [
    "lst=['A',10,100,'B',20,200,'C',30,300,'D',40,400,'E',50,500]\n",
    "\n",
    "i = 2\n",
    "print(lst)\n",
    "while i<len(lst):\n",
    "    del lst[i]\n",
    "    i+=2\n",
    "print(lst)"
   ]
  },
  {
   "cell_type": "code",
   "execution_count": 18,
   "id": "075515d6",
   "metadata": {},
   "outputs": [],
   "source": [
    "def printing():\n",
    "    print(\"We are doing study\")"
   ]
  },
  {
   "cell_type": "code",
   "execution_count": 20,
   "id": "bd184679",
   "metadata": {},
   "outputs": [
    {
     "name": "stdout",
     "output_type": "stream",
     "text": [
      "We are doing study\n"
     ]
    }
   ],
   "source": [
    "obj = printing()"
   ]
  },
  {
   "cell_type": "code",
   "execution_count": 39,
   "id": "434f9723",
   "metadata": {},
   "outputs": [
    {
     "name": "stdout",
     "output_type": "stream",
     "text": [
      "Local Veriable : 200\n",
      "Global Variable : 100\n"
     ]
    }
   ],
   "source": [
    "a=100\n",
    "def display():\n",
    "    a=200\n",
    "    print('Local Veriable :',a)\n",
    "    print('Global Variable :',globals()['a'])\n",
    "    \n",
    "display()"
   ]
  },
  {
   "cell_type": "code",
   "execution_count": 3,
   "id": "1108d3ce",
   "metadata": {},
   "outputs": [],
   "source": [
    "global a\n",
    "a=100\n",
    "def display1():\n",
    "    a=200\n",
    "    print('Local Veriable :',a)\n",
    "    print('Global Variable :',a)\n",
    "# def display2():\n",
    "# #     global a\n",
    "#     a=300\n",
    "#     print('Local Veriable :',a)\n",
    "#     print('Global Variable :',a)"
   ]
  },
  {
   "cell_type": "code",
   "execution_count": 4,
   "id": "d54eb598",
   "metadata": {},
   "outputs": [
    {
     "name": "stdout",
     "output_type": "stream",
     "text": [
      "Local Veriable : 200\n",
      "Global Variable : 200\n"
     ]
    }
   ],
   "source": [
    "display1()"
   ]
  },
  {
   "cell_type": "code",
   "execution_count": 7,
   "id": "82b7f8b1",
   "metadata": {},
   "outputs": [
    {
     "name": "stdout",
     "output_type": "stream",
     "text": [
      "digvijay\n"
     ]
    }
   ],
   "source": [
    "def dis(name):\n",
    "    print(name)\n",
    "    \n",
    "dis('digvijay')"
   ]
  },
  {
   "cell_type": "code",
   "execution_count": 6,
   "id": "6512ae8e",
   "metadata": {},
   "outputs": [
    {
     "name": "stdout",
     "output_type": "stream",
     "text": [
      "DIGVIJAY MOHITE FROM SANGLI MAHARASHATRA SELECTED AS DATA SCIENTIST\n"
     ]
    }
   ],
   "source": [
    "my_name = 'DIGVIJAY MOHITE FROM SANGLI MAHARASHATRA SELECTED AS DATA SCIENTIST'\n",
    "dis(my_name)"
   ]
  },
  {
   "cell_type": "code",
   "execution_count": 8,
   "id": "fd1a7e75",
   "metadata": {},
   "outputs": [],
   "source": [
    "def add(a,b):\n",
    "    c=a+b\n",
    "    print(c)"
   ]
  },
  {
   "cell_type": "code",
   "execution_count": 10,
   "id": "77b33592",
   "metadata": {},
   "outputs": [
    {
     "name": "stdout",
     "output_type": "stream",
     "text": [
      "110\n"
     ]
    }
   ],
   "source": [
    "add(10,100)"
   ]
  },
  {
   "cell_type": "code",
   "execution_count": 11,
   "id": "6f896826",
   "metadata": {},
   "outputs": [],
   "source": [
    "def add(a,b):\n",
    "    c=a+b\n",
    "    return c"
   ]
  },
  {
   "cell_type": "code",
   "execution_count": 12,
   "id": "c56f1d7b",
   "metadata": {},
   "outputs": [
    {
     "data": {
      "text/plain": [
       "200"
      ]
     },
     "execution_count": 12,
     "metadata": {},
     "output_type": "execute_result"
    }
   ],
   "source": [
    "add(100,100)"
   ]
  },
  {
   "cell_type": "code",
   "execution_count": 20,
   "id": "98b22a9b",
   "metadata": {},
   "outputs": [
    {
     "name": "stdout",
     "output_type": "stream",
     "text": [
      "Enter The Name :Abhimanyu\n",
      "Enter The Surname :Mohite\n",
      "Enter The Class :1\n",
      "Enter The Rollnumber :41\n",
      "****************************************************************************************************\n",
      "Abhimanyu , Mohite , 1 , 41\n"
     ]
    }
   ],
   "source": [
    "def stud_reg():\n",
    "    fn=input('Enter The Name :')\n",
    "    sn=input('Enter The Surname :')\n",
    "    cl=input('Enter The Class :')\n",
    "    rn=input('Enter The Rollnumber :')\n",
    "    print('*'*100)\n",
    "    print(fn,',',sn,',',cl,',',rn)\n",
    "    \n",
    "for i in range(1):\n",
    "    stud_reg()"
   ]
  },
  {
   "cell_type": "code",
   "execution_count": 21,
   "id": "0a4a26ec",
   "metadata": {},
   "outputs": [],
   "source": [
    "def display(*letters):\n",
    "    print('All the letters :',letters)\n",
    "    print('Length of characters :',len(letters))"
   ]
  },
  {
   "cell_type": "code",
   "execution_count": 22,
   "id": "1b8c437d",
   "metadata": {},
   "outputs": [
    {
     "name": "stdout",
     "output_type": "stream",
     "text": [
      "All the letters : ('CHATRAPATI SHIVAJI MAHARAJ KI JAY',)\n",
      "Length of characters : 1\n"
     ]
    }
   ],
   "source": [
    "display('CHATRAPATI SHIVAJI MAHARAJ KI JAY')"
   ]
  },
  {
   "cell_type": "code",
   "execution_count": 23,
   "id": "a759ce00",
   "metadata": {},
   "outputs": [],
   "source": [
    "def add(a,b):\n",
    "    c=a+b\n",
    "    return c"
   ]
  },
  {
   "cell_type": "code",
   "execution_count": 25,
   "id": "1ecb280d",
   "metadata": {},
   "outputs": [
    {
     "data": {
      "text/plain": [
       "300"
      ]
     },
     "execution_count": 25,
     "metadata": {},
     "output_type": "execute_result"
    }
   ],
   "source": [
    "add(100,200)"
   ]
  },
  {
   "cell_type": "code",
   "execution_count": 26,
   "id": "ac8fea60",
   "metadata": {},
   "outputs": [],
   "source": [
    "def display():\n",
    "    print('My name is Digvijay')"
   ]
  },
  {
   "cell_type": "code",
   "execution_count": 27,
   "id": "09226e93",
   "metadata": {},
   "outputs": [
    {
     "name": "stdout",
     "output_type": "stream",
     "text": [
      "My name is Digvijay\n"
     ]
    }
   ],
   "source": [
    "display()"
   ]
  },
  {
   "cell_type": "code",
   "execution_count": 1,
   "id": "9a4d0856",
   "metadata": {},
   "outputs": [],
   "source": [
    "def stud_record():\n",
    "    fn=input('Enter the Name :')\n",
    "    rn=input('Enter the roll number :')\n",
    "    print('-'*100)\n",
    "    print(fn,',',rn)\n",
    "    print(';'*100)"
   ]
  },
  {
   "cell_type": "code",
   "execution_count": 2,
   "id": "fe71d535",
   "metadata": {},
   "outputs": [
    {
     "name": "stdout",
     "output_type": "stream",
     "text": [
      "Enter the Name :abhiamnyu\n",
      "Enter the roll number :1\n",
      "----------------------------------------------------------------------------------------------------\n",
      "abhiamnyu , 1\n",
      ";;;;;;;;;;;;;;;;;;;;;;;;;;;;;;;;;;;;;;;;;;;;;;;;;;;;;;;;;;;;;;;;;;;;;;;;;;;;;;;;;;;;;;;;;;;;;;;;;;;;\n"
     ]
    }
   ],
   "source": [
    "stud_record()"
   ]
  },
  {
   "cell_type": "code",
   "execution_count": 3,
   "id": "95b3c3b0",
   "metadata": {},
   "outputs": [
    {
     "name": "stdout",
     "output_type": "stream",
     "text": [
      "Enter the Name :Abhimanyu\n",
      "Enter the roll number :41\n",
      "----------------------------------------------------------------------------------------------------\n",
      "Abhimanyu , 41\n",
      ";;;;;;;;;;;;;;;;;;;;;;;;;;;;;;;;;;;;;;;;;;;;;;;;;;;;;;;;;;;;;;;;;;;;;;;;;;;;;;;;;;;;;;;;;;;;;;;;;;;;\n",
      "Enter the Name :shourya\n",
      "Enter the roll number :1\n",
      "----------------------------------------------------------------------------------------------------\n",
      "shourya , 1\n",
      ";;;;;;;;;;;;;;;;;;;;;;;;;;;;;;;;;;;;;;;;;;;;;;;;;;;;;;;;;;;;;;;;;;;;;;;;;;;;;;;;;;;;;;;;;;;;;;;;;;;;\n"
     ]
    }
   ],
   "source": [
    "for i in range(1,3):\n",
    "    stud_record()"
   ]
  },
  {
   "cell_type": "code",
   "execution_count": 8,
   "id": "82d07197",
   "metadata": {},
   "outputs": [],
   "source": [
    "def display(*letter):\n",
    "    print(letter)"
   ]
  },
  {
   "cell_type": "code",
   "execution_count": 10,
   "id": "7f4b90dc",
   "metadata": {},
   "outputs": [
    {
     "name": "stdout",
     "output_type": "stream",
     "text": [
      "('A', 'B', 'C', 'D')\n"
     ]
    }
   ],
   "source": [
    "display('A','B','C','D')"
   ]
  },
  {
   "cell_type": "code",
   "execution_count": 11,
   "id": "d69fb1c4",
   "metadata": {},
   "outputs": [],
   "source": [
    "def childs(c1,c4,c2,c3):\n",
    "    print('first youngest child is :',c4)\n",
    "    print('second youngest child is :',c3)\n",
    "    print('third youngest child is :',c2)\n",
    "    print('fourth youngest child is :',c1)"
   ]
  },
  {
   "cell_type": "code",
   "execution_count": 14,
   "id": "58dda522",
   "metadata": {},
   "outputs": [
    {
     "name": "stdout",
     "output_type": "stream",
     "text": [
      "first youngest child is : D\n",
      "second youngest child is : C\n",
      "third youngest child is : B\n",
      "fourth youngest child is : A\n"
     ]
    }
   ],
   "source": [
    "childs(c1='A',c3='C',c4='D',c2='B')"
   ]
  },
  {
   "cell_type": "code",
   "execution_count": 38,
   "id": "401c7ad0",
   "metadata": {},
   "outputs": [],
   "source": [
    "def display(**letters):\n",
    "    for key, value in letters.items():\n",
    "        print(f'{key}:{value}')"
   ]
  },
  {
   "cell_type": "code",
   "execution_count": 39,
   "id": "a3769dce",
   "metadata": {},
   "outputs": [
    {
     "name": "stdout",
     "output_type": "stream",
     "text": [
      "a:Abhimanyu\n",
      "b:shourya\n",
      "c:dipak\n",
      "d:digvijay\n"
     ]
    }
   ],
   "source": [
    "display(a='Abhimanyu',b='shourya',c='dipak',d='digvijay')"
   ]
  },
  {
   "cell_type": "code",
   "execution_count": 40,
   "id": "bbaf5730",
   "metadata": {},
   "outputs": [],
   "source": [
    "def email(gmail='dlsmohite@gmail.com'):\n",
    "    print('MY ID IS :',gmail)"
   ]
  },
  {
   "cell_type": "code",
   "execution_count": 41,
   "id": "b3412ec3",
   "metadata": {},
   "outputs": [
    {
     "name": "stdout",
     "output_type": "stream",
     "text": [
      "MY ID IS : dipak@gmail.com\n"
     ]
    }
   ],
   "source": [
    "email('dipak@gmail.com')"
   ]
  },
  {
   "cell_type": "code",
   "execution_count": 42,
   "id": "6cabc1b7",
   "metadata": {},
   "outputs": [
    {
     "name": "stdout",
     "output_type": "stream",
     "text": [
      "MY ID IS : dlsmohite@gmail.com\n"
     ]
    }
   ],
   "source": [
    "email()"
   ]
  },
  {
   "cell_type": "code",
   "execution_count": 57,
   "id": "d1c92d7d",
   "metadata": {},
   "outputs": [
    {
     "data": {
      "text/plain": [
       "126749"
      ]
     },
     "execution_count": 57,
     "metadata": {},
     "output_type": "execute_result"
    }
   ],
   "source": [
    "addition = lambda *a : sum(a)\n",
    "addition(10,20,30,2,10,6,6,4,4,3,22,22,3,4,5,3,22,2,2,2,2,4,4,44,100,126353,44,4,4,4,4)"
   ]
  },
  {
   "cell_type": "code",
   "execution_count": 7,
   "id": "c175f270",
   "metadata": {},
   "outputs": [],
   "source": [
    "def myfun(n):\n",
    "    print('The value of n is :',n)\n",
    "    return (lambda a:a*n)"
   ]
  },
  {
   "cell_type": "code",
   "execution_count": 8,
   "id": "2234dfbc",
   "metadata": {},
   "outputs": [
    {
     "name": "stdout",
     "output_type": "stream",
     "text": [
      "The value of n is : 10\n"
     ]
    },
    {
     "data": {
      "text/plain": [
       "<function __main__.myfun.<locals>.<lambda>(a)>"
      ]
     },
     "execution_count": 8,
     "metadata": {},
     "output_type": "execute_result"
    }
   ],
   "source": [
    "myfun(10)"
   ]
  },
  {
   "cell_type": "code",
   "execution_count": 9,
   "id": "23b41c1c",
   "metadata": {},
   "outputs": [
    {
     "name": "stdout",
     "output_type": "stream",
     "text": [
      "The value of n is : 2\n"
     ]
    }
   ],
   "source": [
    "otherfunction =myfun(2)"
   ]
  },
  {
   "cell_type": "code",
   "execution_count": 16,
   "id": "7705c7bb",
   "metadata": {},
   "outputs": [],
   "source": [
    "add = lambda *a : sum(a)"
   ]
  },
  {
   "cell_type": "code",
   "execution_count": 17,
   "id": "02d0f8d1",
   "metadata": {},
   "outputs": [
    {
     "data": {
      "text/plain": [
       "11941"
      ]
     },
     "execution_count": 17,
     "metadata": {},
     "output_type": "execute_result"
    }
   ],
   "source": [
    "add(10,20,1111,3445,6677,678)"
   ]
  },
  {
   "cell_type": "code",
   "execution_count": 32,
   "id": "27ddb44e",
   "metadata": {},
   "outputs": [],
   "source": [
    "def myfun(n):\n",
    "    print('The value of n:',n)\n",
    "    return (lambda a:a*n)"
   ]
  },
  {
   "cell_type": "code",
   "execution_count": 33,
   "id": "a872f8ad",
   "metadata": {},
   "outputs": [
    {
     "name": "stdout",
     "output_type": "stream",
     "text": [
      "The value of n: 10\n",
      "200\n"
     ]
    }
   ],
   "source": [
    "other_fun = myfun(10)\n",
    "print(other_fun(20))"
   ]
  },
  {
   "cell_type": "code",
   "execution_count": 36,
   "id": "fc3e9d46",
   "metadata": {},
   "outputs": [
    {
     "name": "stdout",
     "output_type": "stream",
     "text": [
      "[('bird', 5), ('cat', 20), ('dog', 50), ('fox', 10)]\n"
     ]
    }
   ],
   "source": [
    "animals = [('dog', 50), ('cat', 20), ('fox', 10), ('bird', 5)]\n",
    "\n",
    "# Sort animals by weight using lambda\n",
    "animals.sort(key=lambda x: x[0])  \n",
    "\n",
    "print(animals)\n",
    "\n",
    "# Output\n",
    "# [('bird', 5), ('fox', 10), ('cat', 20), ('dog', 50)]"
   ]
  },
  {
   "cell_type": "code",
   "execution_count": 37,
   "id": "b60e2ca6",
   "metadata": {},
   "outputs": [
    {
     "name": "stdout",
     "output_type": "stream",
     "text": [
      "20\n",
      "30\n"
     ]
    }
   ],
   "source": [
    "double = lambda a : a*2\n",
    "triple = lambda a : a*3\n",
    "\n",
    "print(double(10))\n",
    "print(triple(10))"
   ]
  },
  {
   "cell_type": "raw",
   "id": "dd1c4354",
   "metadata": {},
   "source": [
    "[i for i in list1]"
   ]
  },
  {
   "cell_type": "code",
   "execution_count": 39,
   "id": "4341d686",
   "metadata": {},
   "outputs": [
    {
     "name": "stdout",
     "output_type": "stream",
     "text": [
      "[6, 5, 8, 5]\n"
     ]
    }
   ],
   "source": [
    "fruits = ['banana', 'mango', 'cococnut', 'chiku']\n",
    "\n",
    "print([len(fruit) for fruit in fruits])"
   ]
  },
  {
   "cell_type": "code",
   "execution_count": 40,
   "id": "c3e806cd",
   "metadata": {},
   "outputs": [
    {
     "name": "stdout",
     "output_type": "stream",
     "text": [
      "[[2, 4, 6, 8, 10, 12, 14, 16, 18, 20]]\n"
     ]
    }
   ],
   "source": [
    "lst = [1,2,3,4,5,6,7,8,9,10]\n",
    "\n",
    "print([[i*2 for i in lst]])"
   ]
  },
  {
   "cell_type": "code",
   "execution_count": 47,
   "id": "96248523",
   "metadata": {},
   "outputs": [],
   "source": [
    "square = (lambda i:[i*2 for i in lst])"
   ]
  },
  {
   "cell_type": "code",
   "execution_count": 48,
   "id": "3993c16f",
   "metadata": {},
   "outputs": [
    {
     "data": {
      "text/plain": [
       "[2, 4, 6, 8, 10, 12, 14, 16, 18, 20]"
      ]
     },
     "execution_count": 48,
     "metadata": {},
     "output_type": "execute_result"
    }
   ],
   "source": [
    "square(lst)"
   ]
  },
  {
   "cell_type": "code",
   "execution_count": 53,
   "id": "e0012007",
   "metadata": {},
   "outputs": [
    {
     "data": {
      "text/plain": [
       "[1, 2, 3, 4, 5, 6, 7, 8, 9, 10]"
      ]
     },
     "execution_count": 53,
     "metadata": {},
     "output_type": "execute_result"
    }
   ],
   "source": [
    "lst"
   ]
  },
  {
   "cell_type": "code",
   "execution_count": 58,
   "id": "757e6592",
   "metadata": {},
   "outputs": [
    {
     "name": "stdout",
     "output_type": "stream",
     "text": [
      "[1, 2, 3, 4, 5, 6, 7, 8, 9, 10]\n"
     ]
    }
   ],
   "source": [
    "print([i for i in lst])"
   ]
  },
  {
   "cell_type": "code",
   "execution_count": 4,
   "id": "e41f980f",
   "metadata": {},
   "outputs": [],
   "source": [
    "class Student:\n",
    "    fname = 'Digvijay'\n",
    "    lname = 'Mohite'\n",
    "    phone = 9175535381\n",
    "    \n",
    "    def display(self):\n",
    "        print('Student Fitst Name :',self.fname)\n",
    "        print('Student Last Name :',self.lname)\n",
    "        print('Student Phone Number :',self.phone)"
   ]
  },
  {
   "cell_type": "code",
   "execution_count": 5,
   "id": "8b01ffd8",
   "metadata": {},
   "outputs": [
    {
     "name": "stdout",
     "output_type": "stream",
     "text": [
      "Student Fitst Name : Digvijay\n",
      "Student Last Name : Mohite\n",
      "Student Phone Number : 9175535381\n"
     ]
    }
   ],
   "source": [
    "obj1 = Student()\n",
    "obj1.display()"
   ]
  },
  {
   "cell_type": "code",
   "execution_count": 7,
   "id": "2d9a06f1",
   "metadata": {},
   "outputs": [
    {
     "name": "stdout",
     "output_type": "stream",
     "text": [
      "Student Fitst Name : Dipak\n",
      "Student Last Name : Jagdale\n",
      "Student Phone Number : 123456789\n"
     ]
    }
   ],
   "source": [
    "obj2=Student()\n",
    "obj2.fname = 'Dipak'\n",
    "obj2.lname = 'Jagdale'\n",
    "obj2.phone = 123456789\n",
    "\n",
    "obj2.display()"
   ]
  },
  {
   "cell_type": "code",
   "execution_count": 12,
   "id": "c77762c0",
   "metadata": {},
   "outputs": [],
   "source": [
    "class Stud:\n",
    "    name1= 'Digvijay'\n",
    "    name2= 'Dipak'\n",
    "    \n",
    "    def display1(self):\n",
    "        print('stud 1:',self.name1)\n",
    "        \n",
    "    def display2(self):\n",
    "        print('stud 2:',self.name2)"
   ]
  },
  {
   "cell_type": "code",
   "execution_count": 13,
   "id": "72d0cc52",
   "metadata": {},
   "outputs": [],
   "source": [
    "obj=Stud()"
   ]
  },
  {
   "cell_type": "code",
   "execution_count": 14,
   "id": "ad0a7250",
   "metadata": {},
   "outputs": [
    {
     "data": {
      "text/plain": [
       "'Digvijay'"
      ]
     },
     "execution_count": 14,
     "metadata": {},
     "output_type": "execute_result"
    }
   ],
   "source": [
    "obj.name1"
   ]
  },
  {
   "cell_type": "code",
   "execution_count": 15,
   "id": "91133e66",
   "metadata": {},
   "outputs": [
    {
     "data": {
      "text/plain": [
       "'Dipak'"
      ]
     },
     "execution_count": 15,
     "metadata": {},
     "output_type": "execute_result"
    }
   ],
   "source": [
    "obj.name2"
   ]
  },
  {
   "cell_type": "code",
   "execution_count": 16,
   "id": "5caeb7dc",
   "metadata": {},
   "outputs": [
    {
     "name": "stdout",
     "output_type": "stream",
     "text": [
      "stud 1: Digvijay\n"
     ]
    }
   ],
   "source": [
    "obj.display1()"
   ]
  },
  {
   "cell_type": "code",
   "execution_count": 17,
   "id": "9bb1fcd7",
   "metadata": {},
   "outputs": [
    {
     "name": "stdout",
     "output_type": "stream",
     "text": [
      "stud 2: Dipak\n"
     ]
    }
   ],
   "source": [
    "obj.display2()"
   ]
  },
  {
   "cell_type": "code",
   "execution_count": 27,
   "id": "3849dc74",
   "metadata": {},
   "outputs": [],
   "source": [
    "class Employee:\n",
    "    ename = 'DIPAK'\n",
    "    salary = 100000\n",
    "    designation = 'ML Engineer'\n",
    "    \n",
    "    def info(self):\n",
    "        print(self.ename, self.salary, self.designation)"
   ]
  },
  {
   "cell_type": "code",
   "execution_count": 28,
   "id": "020ef85b",
   "metadata": {},
   "outputs": [],
   "source": [
    "e=Employee()"
   ]
  },
  {
   "cell_type": "code",
   "execution_count": 29,
   "id": "cd635423",
   "metadata": {},
   "outputs": [
    {
     "data": {
      "text/plain": [
       "'DIPAK'"
      ]
     },
     "execution_count": 29,
     "metadata": {},
     "output_type": "execute_result"
    }
   ],
   "source": [
    "e.ename"
   ]
  },
  {
   "cell_type": "code",
   "execution_count": 30,
   "id": "4eadff86",
   "metadata": {},
   "outputs": [
    {
     "data": {
      "text/plain": [
       "100000"
      ]
     },
     "execution_count": 30,
     "metadata": {},
     "output_type": "execute_result"
    }
   ],
   "source": [
    "e.salary"
   ]
  },
  {
   "cell_type": "code",
   "execution_count": 31,
   "id": "97a7bcc5",
   "metadata": {},
   "outputs": [
    {
     "data": {
      "text/plain": [
       "'ML Engineer'"
      ]
     },
     "execution_count": 31,
     "metadata": {},
     "output_type": "execute_result"
    }
   ],
   "source": [
    "e.designation"
   ]
  },
  {
   "cell_type": "code",
   "execution_count": 32,
   "id": "80040c56",
   "metadata": {},
   "outputs": [
    {
     "name": "stdout",
     "output_type": "stream",
     "text": [
      "DIPAK 100000 ML Engineer\n"
     ]
    }
   ],
   "source": [
    "e.info()"
   ]
  },
  {
   "cell_type": "code",
   "execution_count": 33,
   "id": "aa0316cb",
   "metadata": {},
   "outputs": [],
   "source": [
    "d=Employee()\n",
    "d.ename = 'Digvijay'\n",
    "d.salary  = 900000\n",
    "d.designation = 'ML eNGINEER'"
   ]
  },
  {
   "cell_type": "code",
   "execution_count": 34,
   "id": "87d6633e",
   "metadata": {},
   "outputs": [
    {
     "name": "stdout",
     "output_type": "stream",
     "text": [
      "Digvijay 900000 ML eNGINEER\n"
     ]
    }
   ],
   "source": [
    "d.info()"
   ]
  },
  {
   "cell_type": "code",
   "execution_count": 69,
   "id": "04534c9d",
   "metadata": {},
   "outputs": [],
   "source": [
    "class Employee:\n",
    "    ename = 'DIPAK'\n",
    "    salary = 100000\n",
    "    designation = 'ML Engineer'\n",
    "    \n",
    "    def __init__(self,aename,asalary,adesignation):\n",
    "        self.ename = aename\n",
    "        self.salary = asalary\n",
    "        self.designation = adesignation\n",
    "    \n",
    "    def info(self):\n",
    "        print(self.ename, self.salary, self.designation)"
   ]
  },
  {
   "cell_type": "code",
   "execution_count": 58,
   "id": "fd4ba0ce",
   "metadata": {},
   "outputs": [],
   "source": [
    "obj = Employee()"
   ]
  },
  {
   "cell_type": "code",
   "execution_count": 59,
   "id": "b138e1ca",
   "metadata": {},
   "outputs": [
    {
     "data": {
      "text/plain": [
       "'DIPAK'"
      ]
     },
     "execution_count": 59,
     "metadata": {},
     "output_type": "execute_result"
    }
   ],
   "source": [
    "obj.ename"
   ]
  },
  {
   "cell_type": "code",
   "execution_count": 60,
   "id": "7c8bf4ee",
   "metadata": {},
   "outputs": [
    {
     "data": {
      "text/plain": [
       "100000"
      ]
     },
     "execution_count": 60,
     "metadata": {},
     "output_type": "execute_result"
    }
   ],
   "source": [
    "obj.salary"
   ]
  },
  {
   "cell_type": "code",
   "execution_count": 62,
   "id": "b8c70494",
   "metadata": {},
   "outputs": [
    {
     "name": "stdout",
     "output_type": "stream",
     "text": [
      "DIPAK 100000 ML Engineer\n"
     ]
    }
   ],
   "source": [
    "obj.info()"
   ]
  },
  {
   "cell_type": "code",
   "execution_count": 66,
   "id": "287358ed",
   "metadata": {},
   "outputs": [],
   "source": [
    "abc = Employee()\n",
    "abc.ename = 'ABHIMANYU'\n",
    "abc.salary = 10000\n",
    "abc.designation = 'TRANY'"
   ]
  },
  {
   "cell_type": "code",
   "execution_count": 67,
   "id": "8dea543a",
   "metadata": {},
   "outputs": [
    {
     "data": {
      "text/plain": [
       "'ABHIMANYU'"
      ]
     },
     "execution_count": 67,
     "metadata": {},
     "output_type": "execute_result"
    }
   ],
   "source": [
    "abc.ename"
   ]
  },
  {
   "cell_type": "code",
   "execution_count": 68,
   "id": "592c6d8f",
   "metadata": {},
   "outputs": [
    {
     "name": "stdout",
     "output_type": "stream",
     "text": [
      "ABHIMANYU 10000 TRANY\n"
     ]
    }
   ],
   "source": [
    "abc.info()"
   ]
  },
  {
   "cell_type": "code",
   "execution_count": 70,
   "id": "62768cd8",
   "metadata": {},
   "outputs": [],
   "source": [
    "xyz = Employee('SHOURYA', 150000, 'STD')\n",
    "dsm = Employee('ABHI', 9000, 'std' )"
   ]
  },
  {
   "cell_type": "code",
   "execution_count": 71,
   "id": "ee945b75",
   "metadata": {},
   "outputs": [
    {
     "name": "stdout",
     "output_type": "stream",
     "text": [
      "SHOURYA 150000 STD\n"
     ]
    }
   ],
   "source": [
    "xyz.info()"
   ]
  },
  {
   "cell_type": "code",
   "execution_count": 72,
   "id": "6578c271",
   "metadata": {},
   "outputs": [
    {
     "name": "stdout",
     "output_type": "stream",
     "text": [
      "ABHI 9000 std\n"
     ]
    }
   ],
   "source": [
    "dsm.info()"
   ]
  },
  {
   "cell_type": "code",
   "execution_count": 7,
   "id": "c7d09b77",
   "metadata": {},
   "outputs": [],
   "source": [
    "# single inheritance\n",
    "\n",
    "class Parent:\n",
    "    \n",
    "    def pdisplay(self):\n",
    "        print('PARAENT')\n",
    "    \n",
    "class Child(Parent):\n",
    "    \n",
    "    def cdisplay(self):\n",
    "        print('CHILD')   "
   ]
  },
  {
   "cell_type": "code",
   "execution_count": 8,
   "id": "d1455a79",
   "metadata": {},
   "outputs": [
    {
     "name": "stdout",
     "output_type": "stream",
     "text": [
      "PARAENT\n"
     ]
    }
   ],
   "source": [
    "pobj=Parent()\n",
    "cobj = Child()\n",
    "pobj.pdisplay()"
   ]
  },
  {
   "cell_type": "code",
   "execution_count": 9,
   "id": "340fcbbb",
   "metadata": {},
   "outputs": [
    {
     "name": "stdout",
     "output_type": "stream",
     "text": [
      "CHILD\n",
      "PARAENT\n"
     ]
    }
   ],
   "source": [
    "cobj.cdisplay()\n",
    "cobj.pdisplay()"
   ]
  },
  {
   "cell_type": "code",
   "execution_count": 12,
   "id": "87c688d6",
   "metadata": {},
   "outputs": [],
   "source": [
    "# Multiple\n",
    "\n",
    "class abc:\n",
    "    def adisplay(self):\n",
    "        print('ABC')\n",
    "\n",
    "class xyz:\n",
    "    def xdisplay(self):\n",
    "        print('XYZ')\n",
    "    \n",
    "class abyz(abc,xyz):\n",
    "    def axdisplay(self):\n",
    "        print('ABYZ')"
   ]
  },
  {
   "cell_type": "code",
   "execution_count": 13,
   "id": "9f002e4b",
   "metadata": {},
   "outputs": [
    {
     "name": "stdout",
     "output_type": "stream",
     "text": [
      "ABC\n",
      "XYZ\n",
      "ABYZ\n"
     ]
    }
   ],
   "source": [
    "obj1 = abyz()\n",
    "obj1.adisplay()\n",
    "obj1.xdisplay()\n",
    "obj1.axdisplay()"
   ]
  },
  {
   "cell_type": "code",
   "execution_count": 16,
   "id": "1bcf0ca3",
   "metadata": {},
   "outputs": [],
   "source": [
    "# multilevel Inhritance\n",
    "\n",
    "class a:\n",
    "    def adisplay(self):\n",
    "        print('Level 1')\n",
    "        \n",
    "class b(a):\n",
    "    def bdisplay(self):\n",
    "        print('Level 2')\n",
    "        \n",
    "class c(b):\n",
    "    def cdisplay(self):\n",
    "        print('Level 3')"
   ]
  },
  {
   "cell_type": "code",
   "execution_count": 17,
   "id": "f2e5d0b1",
   "metadata": {},
   "outputs": [],
   "source": [
    "x=a()\n",
    "y=b()\n",
    "z=c()"
   ]
  },
  {
   "cell_type": "code",
   "execution_count": 19,
   "id": "46d2706c",
   "metadata": {},
   "outputs": [
    {
     "name": "stdout",
     "output_type": "stream",
     "text": [
      "Level 1\n",
      "Level 2\n",
      "Level 3\n"
     ]
    }
   ],
   "source": [
    "z.adisplay()\n",
    "z.bdisplay()\n",
    "z.cdisplay()"
   ]
  },
  {
   "cell_type": "code",
   "execution_count": 21,
   "id": "63c4f4c3",
   "metadata": {},
   "outputs": [
    {
     "name": "stdout",
     "output_type": "stream",
     "text": [
      "Level 1\n",
      "Level 2\n"
     ]
    }
   ],
   "source": [
    "y.adisplay()\n",
    "y.bdisplay()\n",
    "# y.cdisplay()"
   ]
  },
  {
   "cell_type": "code",
   "execution_count": 23,
   "id": "dbdfad15",
   "metadata": {},
   "outputs": [
    {
     "name": "stdout",
     "output_type": "stream",
     "text": [
      "Level 1\n"
     ]
    }
   ],
   "source": [
    "x.adisplay()\n",
    "# x.bdisplay()\n",
    "# x.cdisplay()"
   ]
  },
  {
   "cell_type": "code",
   "execution_count": 24,
   "id": "a3964b68",
   "metadata": {},
   "outputs": [],
   "source": [
    "class a:\n",
    "    def adis(self):\n",
    "        print('PARAENT')\n",
    "        \n",
    "class b(a):\n",
    "    def bdis(self):\n",
    "        print('CHILD 1')\n",
    "        \n",
    "class c(a):\n",
    "    def cdis(self):\n",
    "        print('CHILD 2')"
   ]
  },
  {
   "cell_type": "code",
   "execution_count": 25,
   "id": "aaa5bb4d",
   "metadata": {},
   "outputs": [],
   "source": [
    "x=a()\n",
    "y=b()\n",
    "z=c()"
   ]
  },
  {
   "cell_type": "code",
   "execution_count": 26,
   "id": "65133992",
   "metadata": {},
   "outputs": [
    {
     "name": "stdout",
     "output_type": "stream",
     "text": [
      "PARAENT\n"
     ]
    }
   ],
   "source": [
    "x.adis()"
   ]
  },
  {
   "cell_type": "code",
   "execution_count": 29,
   "id": "a9fca933",
   "metadata": {},
   "outputs": [
    {
     "name": "stdout",
     "output_type": "stream",
     "text": [
      "CHILD 1\n",
      "PARAENT\n"
     ]
    }
   ],
   "source": [
    "y.bdis()\n",
    "y.adis()"
   ]
  },
  {
   "cell_type": "code",
   "execution_count": 30,
   "id": "55816019",
   "metadata": {},
   "outputs": [
    {
     "name": "stdout",
     "output_type": "stream",
     "text": [
      "CHILD 2\n",
      "PARAENT\n"
     ]
    }
   ],
   "source": [
    "z.cdis()\n",
    "z.adis()"
   ]
  },
  {
   "cell_type": "code",
   "execution_count": 35,
   "id": "6c587b30",
   "metadata": {},
   "outputs": [],
   "source": [
    "class person:\n",
    "    \n",
    "    def __init__(self, fname, lname):\n",
    "        self.fname = fname\n",
    "        self.lname = lname\n",
    "        \n",
    "    def display(self):\n",
    "        print('First Name :', self.fname)\n",
    "        print('Last Name :', self.lname)"
   ]
  },
  {
   "cell_type": "code",
   "execution_count": 36,
   "id": "a906a103",
   "metadata": {},
   "outputs": [],
   "source": [
    "obj = person('Digvijay','Mohite')"
   ]
  },
  {
   "cell_type": "code",
   "execution_count": 37,
   "id": "b18e50c0",
   "metadata": {},
   "outputs": [
    {
     "name": "stdout",
     "output_type": "stream",
     "text": [
      "First Name : Digvijay\n",
      "Last Name : Mohite\n"
     ]
    }
   ],
   "source": [
    "obj.display()"
   ]
  },
  {
   "cell_type": "code",
   "execution_count": 39,
   "id": "ca159b47",
   "metadata": {},
   "outputs": [],
   "source": [
    "obj=person('SACHIN','TENDULKAR')\n",
    "obj2=person('VIRAT', 'KOHLI')\n",
    "obj3=person('DIGVIJAY', 'MOHITE')\n",
    "obj4=person('SOURAV', 'GANGULY')"
   ]
  },
  {
   "cell_type": "code",
   "execution_count": 40,
   "id": "f88ae35e",
   "metadata": {},
   "outputs": [
    {
     "name": "stdout",
     "output_type": "stream",
     "text": [
      "First Name : SACHIN\n",
      "Last Name : TENDULKAR\n",
      "First Name : VIRAT\n",
      "Last Name : KOHLI\n",
      "First Name : DIGVIJAY\n",
      "Last Name : MOHITE\n",
      "First Name : SOURAV\n",
      "Last Name : GANGULY\n"
     ]
    }
   ],
   "source": [
    "obj.display()\n",
    "obj2.display()\n",
    "obj3.display()\n",
    "obj4.display()"
   ]
  },
  {
   "cell_type": "code",
   "execution_count": 41,
   "id": "7604ac22",
   "metadata": {},
   "outputs": [],
   "source": [
    "class player(person):\n",
    "    pass"
   ]
  },
  {
   "cell_type": "code",
   "execution_count": 43,
   "id": "e87cdc58",
   "metadata": {},
   "outputs": [],
   "source": [
    "obj=player('suryakumar','yadav')"
   ]
  },
  {
   "cell_type": "code",
   "execution_count": 44,
   "id": "66d92ade",
   "metadata": {},
   "outputs": [
    {
     "name": "stdout",
     "output_type": "stream",
     "text": [
      "First Name : suryakumar\n",
      "Last Name : yadav\n"
     ]
    }
   ],
   "source": [
    "obj.display()"
   ]
  },
  {
   "cell_type": "code",
   "execution_count": 24,
   "id": "de0508a4",
   "metadata": {},
   "outputs": [
    {
     "name": "stdout",
     "output_type": "stream",
     "text": [
      "VIRAT\n",
      "DELHI\n",
      "18\n",
      "ROHIT\n",
      "NAGPUR\n",
      "45\n"
     ]
    }
   ],
   "source": [
    "class seniour:\n",
    "    def __init__(self,aname,acity,ajno):\n",
    "        self.name=aname\n",
    "        self.city=acity\n",
    "        self.jno=ajno\n",
    "    def sdisplay(self):\n",
    "        print(self.name)\n",
    "        print(self.city)\n",
    "        print(self.jno)\n",
    "        \n",
    "class jouniour(seniour):\n",
    "    def __init__(self,pname, pcity, pjno,page):\n",
    "        self.name=pname\n",
    "        self.city=pcity\n",
    "        self.jno=pjno\n",
    "        self.age=page\n",
    "        \n",
    "    def jdisplay(self):\n",
    "        print(self.name)\n",
    "        print(self.city)\n",
    "        print(self.jno)\n",
    "        print(self.age)\n",
    "        \n",
    "obj=seniour('VIRAT','DELHI',18)\n",
    "obj1=jouniour('ROHIT', 'NAGPUR', 45, 36)\n",
    "obj.sdisplay()\n",
    "obj1.sdisplay()"
   ]
  },
  {
   "cell_type": "code",
   "execution_count": 2,
   "id": "3ff2a102",
   "metadata": {},
   "outputs": [
    {
     "name": "stdout",
     "output_type": "stream",
     "text": [
      "VIRAT\n",
      "DELHI\n",
      "18\n"
     ]
    }
   ],
   "source": [
    "obj=seniour('VIRAT','DELHI',18)\n",
    "obj.sdisplay()"
   ]
  },
  {
   "cell_type": "code",
   "execution_count": 3,
   "id": "34dfd786",
   "metadata": {},
   "outputs": [
    {
     "name": "stdout",
     "output_type": "stream",
     "text": [
      "ROHIT\n",
      "NAGPUR\n",
      "45\n"
     ]
    }
   ],
   "source": [
    "obj=jouniour('ROHIT', 'NAGPUR', 45, 36)\n",
    "# obj.jdisplay()\n",
    "obj.sdisplay()"
   ]
  },
  {
   "cell_type": "code",
   "execution_count": 23,
   "id": "471d476b",
   "metadata": {},
   "outputs": [
    {
     "name": "stdout",
     "output_type": "stream",
     "text": [
      "SHINDE\n",
      "SS\n",
      "67\n",
      "SHINDE\n",
      "SS\n"
     ]
    }
   ],
   "source": [
    "class pm:\n",
    "    \n",
    "    def __init__(self, aname, aparty):\n",
    "        self.name = aname\n",
    "        self.party = aparty\n",
    "    \n",
    "    def pdis(self):\n",
    "        print(self.name)\n",
    "        print(self.party)\n",
    "        \n",
    "class cm(pm):\n",
    "    \n",
    "    def __init__(self, aname, aparty, ag):\n",
    "        pm.__init__(self, aname, aparty)\n",
    "        self.a = ag\n",
    "        \n",
    "    def cdis(self):\n",
    "        print(self.name)\n",
    "        print(self.party)\n",
    "        print(self.a)\n",
    "        \n",
    "o = pm('MODI', 'BJP')\n",
    "oo = cm('SHINDE','SS',67)\n",
    "oo.cdis()\n",
    "oo.pdis()"
   ]
  },
  {
   "cell_type": "code",
   "execution_count": null,
   "id": "50098bdd",
   "metadata": {},
   "outputs": [],
   "source": []
  },
  {
   "cell_type": "code",
   "execution_count": null,
   "id": "0c500dde",
   "metadata": {},
   "outputs": [],
   "source": []
  }
 ],
 "metadata": {
  "kernelspec": {
   "display_name": "Python 3 (ipykernel)",
   "language": "python",
   "name": "python3"
  },
  "language_info": {
   "codemirror_mode": {
    "name": "ipython",
    "version": 3
   },
   "file_extension": ".py",
   "mimetype": "text/x-python",
   "name": "python",
   "nbconvert_exporter": "python",
   "pygments_lexer": "ipython3",
   "version": "3.11.5"
  }
 },
 "nbformat": 4,
 "nbformat_minor": 5
}
