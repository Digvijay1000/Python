{
 "cells": [
  {
   "cell_type": "markdown",
   "metadata": {},
   "source": [
    "## For loop"
   ]
  },
  {
   "cell_type": "raw",
   "metadata": {},
   "source": [
    "Used for iteration over a sequence\n",
    "The sequence can be string, list, tuple, set, dict\n",
    "For loop goes on till the last character in the string or last element in the list/tuple/set/dict"
   ]
  },
  {
   "cell_type": "code",
   "execution_count": 1,
   "metadata": {},
   "outputs": [
    {
     "name": "stdout",
     "output_type": "stream",
     "text": [
      "p\n",
      "y\n",
      "t\n",
      "h\n",
      "o\n",
      "n\n"
     ]
    }
   ],
   "source": [
    "str1='python'\n",
    "for i in str1:\n",
    "    print(i)"
   ]
  },
  {
   "cell_type": "code",
   "execution_count": 2,
   "metadata": {},
   "outputs": [
    {
     "name": "stdout",
     "output_type": "stream",
     "text": [
      "p\n",
      "y\n",
      "t\n",
      "h\n",
      "o\n",
      "n\n"
     ]
    }
   ],
   "source": [
    "for i in 'python':\n",
    "    print(i)"
   ]
  },
  {
   "cell_type": "code",
   "execution_count": 3,
   "metadata": {},
   "outputs": [
    {
     "name": "stdout",
     "output_type": "stream",
     "text": [
      "p\n",
      "y\n",
      "t\n",
      "h\n",
      "o\n",
      "n\n"
     ]
    }
   ],
   "source": [
    "for char in 'python':\n",
    "    print(char)"
   ]
  },
  {
   "cell_type": "code",
   "execution_count": 4,
   "metadata": {},
   "outputs": [
    {
     "name": "stdout",
     "output_type": "stream",
     "text": [
      "P\n",
      "Y\n",
      "T\n",
      "H\n",
      "O\n",
      "N\n"
     ]
    }
   ],
   "source": [
    "for char in 'python':\n",
    "    print(char.upper())"
   ]
  },
  {
   "cell_type": "code",
   "execution_count": 5,
   "metadata": {},
   "outputs": [
    {
     "name": "stdout",
     "output_type": "stream",
     "text": [
      "sunday\n",
      "monday\n",
      "tuesday\n",
      "wednsday\n",
      "friday\n",
      "saturday\n"
     ]
    }
   ],
   "source": [
    "list1=['sunday','monday','tuesday','wednsday','friday','saturday']\n",
    "for day in list1:\n",
    "    print(day)"
   ]
  },
  {
   "cell_type": "code",
   "execution_count": 6,
   "metadata": {},
   "outputs": [
    {
     "name": "stdout",
     "output_type": "stream",
     "text": [
      "Sunday\n",
      "Monday\n",
      "Tuesday\n",
      "Wednsday\n",
      "Friday\n",
      "Saturday\n"
     ]
    }
   ],
   "source": [
    "list1=['sunday','monday','tuesday','wednsday','friday','saturday']\n",
    "for day in list1:\n",
    "    print(day.title())"
   ]
  },
  {
   "cell_type": "code",
   "execution_count": 7,
   "metadata": {},
   "outputs": [
    {
     "name": "stdout",
     "output_type": "stream",
     "text": [
      "0\n",
      "1\n",
      "2\n",
      "3\n",
      "4\n"
     ]
    }
   ],
   "source": [
    "for i in range(5): # 0,1,2,3,4\n",
    "    print(i)"
   ]
  },
  {
   "cell_type": "code",
   "execution_count": 8,
   "metadata": {},
   "outputs": [
    {
     "name": "stdout",
     "output_type": "stream",
     "text": [
      "0\n",
      "1\n",
      "2\n",
      "3\n",
      "4\n"
     ]
    }
   ],
   "source": [
    "for i in range(0,5): \n",
    "    print(i)"
   ]
  },
  {
   "cell_type": "code",
   "execution_count": 9,
   "metadata": {},
   "outputs": [
    {
     "name": "stdout",
     "output_type": "stream",
     "text": [
      "0\n",
      "1\n",
      "2\n",
      "3\n",
      "4\n"
     ]
    }
   ],
   "source": [
    "for i in range(0,5,1): \n",
    "    print(i)"
   ]
  },
  {
   "cell_type": "raw",
   "metadata": {},
   "source": [
    "range(5)=range(0,5)=range(0,5,1)"
   ]
  },
  {
   "cell_type": "code",
   "execution_count": 10,
   "metadata": {},
   "outputs": [
    {
     "name": "stdout",
     "output_type": "stream",
     "text": [
      "0\n",
      "2\n",
      "4\n"
     ]
    }
   ],
   "source": [
    "for i in range(0,5,2): \n",
    "    print(i)"
   ]
  },
  {
   "cell_type": "code",
   "execution_count": 11,
   "metadata": {},
   "outputs": [
    {
     "name": "stdout",
     "output_type": "stream",
     "text": [
      "0\n",
      "2\n",
      "4\n",
      "6\n",
      "8\n",
      "10\n",
      "12\n",
      "14\n",
      "16\n",
      "18\n",
      "20\n"
     ]
    }
   ],
   "source": [
    "for i in range(0,21,2):\n",
    "    print(i)"
   ]
  },
  {
   "cell_type": "code",
   "execution_count": 18,
   "metadata": {},
   "outputs": [
    {
     "name": "stdout",
     "output_type": "stream",
     "text": [
      "\n",
      "next iteration number is:  0\n",
      "updated list:  [0]\n",
      "\n",
      "next iteration number is:  2\n",
      "updated list:  [0, 2]\n",
      "\n",
      "next iteration number is:  4\n",
      "updated list:  [0, 2, 4]\n",
      "\n",
      "next iteration number is:  6\n",
      "updated list:  [0, 2, 4, 6]\n",
      "\n",
      "next iteration number is:  8\n",
      "updated list:  [0, 2, 4, 6, 8]\n",
      "\n",
      "next iteration number is:  10\n",
      "updated list:  [0, 2, 4, 6, 8, 10]\n",
      "\n",
      "next iteration number is:  12\n",
      "updated list:  [0, 2, 4, 6, 8, 10, 12]\n",
      "\n",
      "next iteration number is:  14\n",
      "updated list:  [0, 2, 4, 6, 8, 10, 12, 14]\n",
      "\n",
      "next iteration number is:  16\n",
      "updated list:  [0, 2, 4, 6, 8, 10, 12, 14, 16]\n",
      "\n",
      "next iteration number is:  18\n",
      "updated list:  [0, 2, 4, 6, 8, 10, 12, 14, 16, 18]\n",
      "\n",
      "next iteration number is:  20\n",
      "updated list:  [0, 2, 4, 6, 8, 10, 12, 14, 16, 18, 20]\n"
     ]
    }
   ],
   "source": [
    "even=[]\n",
    "for i in range(0,21,2):\n",
    "    \n",
    "    print()\n",
    "    print('next iteration number is: ',i)\n",
    "    even.append(i)\n",
    "    print('updated list: ',even)"
   ]
  },
  {
   "cell_type": "code",
   "execution_count": 21,
   "metadata": {},
   "outputs": [
    {
     "name": "stdout",
     "output_type": "stream",
     "text": [
      "\n",
      "next iteration number is:  1\n",
      "\n",
      "next iteration number is:  2\n",
      "\n",
      "next iteration number is:  3\n",
      "\n",
      "next iteration number is:  4\n",
      "\n",
      "next iteration number is:  5\n",
      "\n",
      "next iteration number is:  6\n",
      "\n",
      "next iteration number is:  7\n",
      "\n",
      "next iteration number is:  8\n",
      "\n",
      "next iteration number is:  9\n",
      "\n",
      "next iteration number is:  10\n",
      "\n",
      "next iteration number is:  11\n",
      "updated list:  [0, 2, 4, 6, 8, 10, 12, 14, 16, 18, 20]\n"
     ]
    }
   ],
   "source": [
    "even=[]\n",
    "p=0\n",
    "for i in range(0,21,2):\n",
    "    \n",
    "    print()\n",
    "    print('next iteration number is: ',p+1)\n",
    "    p=p+1\n",
    "    even.append(i)\n",
    "print('updated list: ',even)"
   ]
  },
  {
   "cell_type": "code",
   "execution_count": 22,
   "metadata": {},
   "outputs": [
    {
     "name": "stdout",
     "output_type": "stream",
     "text": [
      "updated list:  [0, 2, 4, 6, 8, 10, 12, 14, 16, 18, 20]\n"
     ]
    }
   ],
   "source": [
    "even=[]\n",
    "for i in range(0,21,2):\n",
    "    even.append(i)\n",
    "print('updated list: ',even)"
   ]
  },
  {
   "cell_type": "code",
   "execution_count": 25,
   "metadata": {},
   "outputs": [
    {
     "name": "stdout",
     "output_type": "stream",
     "text": [
      "updated list:  [1, 3, 5, 7, 9, 11, 13, 15, 17, 19]\n"
     ]
    }
   ],
   "source": [
    "odd=[]\n",
    "for i in range(1,20,2):\n",
    "    odd.append(i)\n",
    "print('updated list: ',odd)"
   ]
  },
  {
   "cell_type": "code",
   "execution_count": 27,
   "metadata": {},
   "outputs": [
    {
     "name": "stdout",
     "output_type": "stream",
     "text": [
      "updated list:  [1, 3, 5, 7, 9, 11, 13, 15, 17, 19]\n"
     ]
    }
   ],
   "source": [
    "odd=[]\n",
    "for i in range(1,20,2):\n",
    "    odd.append(i)\n",
    "print('updated list: ',odd)"
   ]
  },
  {
   "cell_type": "code",
   "execution_count": null,
   "metadata": {},
   "outputs": [],
   "source": []
  }
 ],
 "metadata": {
  "kernelspec": {
   "display_name": "Python 3",
   "language": "python",
   "name": "python3"
  },
  "language_info": {
   "codemirror_mode": {
    "name": "ipython",
    "version": 3
   },
   "file_extension": ".py",
   "mimetype": "text/x-python",
   "name": "python",
   "nbconvert_exporter": "python",
   "pygments_lexer": "ipython3",
   "version": "3.8.5"
  }
 },
 "nbformat": 4,
 "nbformat_minor": 4
}
