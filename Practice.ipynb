{
 "cells": [
  {
   "cell_type": "markdown",
   "id": "977d51ef",
   "metadata": {},
   "source": [
    "    object can not be changed after it has been created are called as immutability"
   ]
  },
  {
   "cell_type": "code",
   "execution_count": 3,
   "id": "31620469",
   "metadata": {},
   "outputs": [
    {
     "name": "stdout",
     "output_type": "stream",
     "text": [
      "140726035669928\n",
      "140726035670088\n"
     ]
    }
   ],
   "source": [
    "# immutability\n",
    "x=5\n",
    "print(id(x))\n",
    "x=10\n",
    "print(id(x))"
   ]
  },
  {
   "cell_type": "code",
   "execution_count": 9,
   "id": "b3c0cda3",
   "metadata": {},
   "outputs": [
    {
     "name": "stdout",
     "output_type": "stream",
     "text": [
      "[1, 2, 3]\n",
      "1645887196864\n",
      "[1, 2, [1, 2, 3]]\n",
      "1645887196864\n"
     ]
    }
   ],
   "source": [
    "# mutability\n",
    "list1=[1,2,3]\n",
    "print(list1)\n",
    "print(id(list1))\n",
    "list1[2]=[1,2,3]\n",
    "print(list1)\n",
    "print(id(list1))"
   ]
  },
  {
   "cell_type": "code",
   "execution_count": 27,
   "id": "939953fe",
   "metadata": {},
   "outputs": [
    {
     "name": "stdout",
     "output_type": "stream",
     "text": [
      "[1, 3, 3, 4, 4, 5] <class 'list'>\n",
      "1\n",
      "3\n",
      "3\n",
      "4\n",
      "4\n",
      "5\n",
      "****************************************************************************************************\n",
      "b'\\x01\\x03\\x03\\x04\\x04\\x05' <class 'bytes'>\n",
      "1\n",
      "3\n",
      "3\n",
      "4\n",
      "4\n",
      "5\n",
      "****************************************************************************************************\n",
      "b'DEF' <class 'bytes'>\n",
      "68\n",
      "69\n",
      "70\n"
     ]
    }
   ],
   "source": [
    "list1=[1,3,3,4,4,5]\n",
    "print(list1,type(list1))\n",
    "for i in list1:\n",
    "    print(i)\n",
    "print('*'*100)\n",
    "\n",
    "bytes1=bytes(list1)\n",
    "print(bytes1,type(bytes1))\n",
    "for i in bytes1:\n",
    "    print(i)\n",
    "print('*'*100)\n",
    "\n",
    "bytes2=b'DEF'\n",
    "print(bytes2,type(bytes2))\n",
    "for i in bytes2:\n",
    "    print(i)"
   ]
  },
  {
   "cell_type": "code",
   "execution_count": 20,
   "id": "72774cfe",
   "metadata": {},
   "outputs": [
    {
     "name": "stdout",
     "output_type": "stream",
     "text": [
      "[11, 22, 33, 44] <class 'list'>\n",
      "****************************************************************************************************\n",
      "bytearray(b'\\x0b\\x16!,') <class 'bytearray'>\n",
      "****************************************************************************************************\n",
      "11\n",
      "22\n",
      "33\n",
      "44\n"
     ]
    }
   ],
   "source": [
    "# bytearray\n",
    "\n",
    "list1=[11,22,33,44]\n",
    "print(list1,type(list1))\n",
    "print('*'*100)\n",
    "barray=bytearray(list1)\n",
    "print(barray,type(barray))\n",
    "print('*'*100)\n",
    "for i in barray:\n",
    "    print(i)"
   ]
  },
  {
   "cell_type": "code",
   "execution_count": 26,
   "id": "16d375db",
   "metadata": {},
   "outputs": [
    {
     "name": "stdout",
     "output_type": "stream",
     "text": [
      "bytearray(b'\\x01\\x02\\x03\\x04\\x04')\n",
      "1\n",
      "2\n",
      "3\n",
      "4\n",
      "4\n",
      "****************************************************************************************************\n",
      "bytearray(b'c\\x02\\x03\\x04\\x04')\n",
      "99\n",
      "2\n",
      "3\n",
      "4\n",
      "4\n"
     ]
    }
   ],
   "source": [
    "barray=bytearray([1,2,3,4,4])\n",
    "print(barray)\n",
    "for i in barray:\n",
    "    print(i)\n",
    "    \n",
    "print('*'*100)\n",
    "    \n",
    "barray[0]=99\n",
    "print(barray)\n",
    "for i in barray:\n",
    "    print(i)"
   ]
  },
  {
   "cell_type": "code",
   "execution_count": 98,
   "id": "e06bbb85",
   "metadata": {},
   "outputs": [
    {
     "name": "stdout",
     "output_type": "stream",
     "text": [
      "[1, 2, 3, 4, 5, 6, 7, 8, 9]\n",
      "[1, 2, 3, 4, 5, 6, 7, 8, 9, 100]\n"
     ]
    }
   ],
   "source": [
    "# opration on list\n",
    "lst=[1,2,3,4,5,6,7,8,9]\n",
    "print(lst)\n",
    "lst.append(100)\n",
    "print(lst)"
   ]
  },
  {
   "cell_type": "code",
   "execution_count": 99,
   "id": "29f91944",
   "metadata": {},
   "outputs": [
    {
     "name": "stdout",
     "output_type": "stream",
     "text": [
      "lst : [1, 2, 3, 4, 5, 6, 7, 8, 9, 100]\n",
      "lst1: [1, 2, 3, 4, 5, 6, 7, 8, 9, 100]\n"
     ]
    }
   ],
   "source": [
    "lst1=lst.copy()\n",
    "print('lst :',lst)\n",
    "print('lst1:',lst1)"
   ]
  },
  {
   "cell_type": "code",
   "execution_count": 100,
   "id": "3529010f",
   "metadata": {},
   "outputs": [
    {
     "data": {
      "text/plain": [
       "1"
      ]
     },
     "execution_count": 100,
     "metadata": {},
     "output_type": "execute_result"
    }
   ],
   "source": [
    "lst.count(100)"
   ]
  },
  {
   "cell_type": "code",
   "execution_count": 101,
   "id": "023b6ee5",
   "metadata": {},
   "outputs": [
    {
     "name": "stdout",
     "output_type": "stream",
     "text": [
      "[1, 2, 3, 4, 5, 6, 7, 8, 9, 100, 1, 2, 3, 4, 5, 6, 7, 8, 9, 100]\n"
     ]
    }
   ],
   "source": [
    "lst.extend(lst1)\n",
    "print(lst)"
   ]
  },
  {
   "cell_type": "code",
   "execution_count": 102,
   "id": "b16b4488",
   "metadata": {},
   "outputs": [
    {
     "name": "stdout",
     "output_type": "stream",
     "text": [
      "[5000, 1, 2, 3, 4, 5, 6, 7, 8, 9, 100, 1, 2, 3, 4, 5, 6, 7, 8, 9, 100]\n"
     ]
    }
   ],
   "source": [
    "lst.insert(0,5000)\n",
    "print(lst)"
   ]
  },
  {
   "cell_type": "code",
   "execution_count": 103,
   "id": "f1de622b",
   "metadata": {},
   "outputs": [
    {
     "data": {
      "text/plain": [
       "100"
      ]
     },
     "execution_count": 103,
     "metadata": {},
     "output_type": "execute_result"
    }
   ],
   "source": [
    "lst.pop()"
   ]
  },
  {
   "cell_type": "code",
   "execution_count": 104,
   "id": "9f720aef",
   "metadata": {},
   "outputs": [
    {
     "name": "stdout",
     "output_type": "stream",
     "text": [
      "[5000, 1, 2, 3, 4, 5, 6, 7, 8, 9, 100, 1, 2, 3, 4, 5, 6, 7, 8, 9]\n"
     ]
    }
   ],
   "source": [
    "print(lst)"
   ]
  },
  {
   "cell_type": "code",
   "execution_count": 105,
   "id": "6911cf4c",
   "metadata": {},
   "outputs": [
    {
     "name": "stdout",
     "output_type": "stream",
     "text": [
      "[5000, 1, 2, 3, 4, 5, 6, 7, 8, 9, 1, 2, 3, 4, 5, 6, 7, 8, 9]\n"
     ]
    }
   ],
   "source": [
    "lst.remove(100)\n",
    "print(lst)"
   ]
  },
  {
   "cell_type": "code",
   "execution_count": 106,
   "id": "a3970148",
   "metadata": {},
   "outputs": [
    {
     "name": "stdout",
     "output_type": "stream",
     "text": [
      "[9, 8, 7, 6, 5, 4, 3, 2, 1, 9, 8, 7, 6, 5, 4, 3, 2, 1, 5000]\n"
     ]
    }
   ],
   "source": [
    "lst.reverse()\n",
    "print(lst)"
   ]
  },
  {
   "cell_type": "code",
   "execution_count": 118,
   "id": "10de052e",
   "metadata": {},
   "outputs": [
    {
     "name": "stdout",
     "output_type": "stream",
     "text": [
      "[5000, 9, 9, 8, 8, 7, 7, 6, 6, 5, 5, 4, 4, 3, 3, 2, 2, 1, 1]\n"
     ]
    }
   ],
   "source": [
    "lst.sort(reverse=True)\n",
    "print(lst)"
   ]
  },
  {
   "cell_type": "code",
   "execution_count": 116,
   "id": "9cf05243",
   "metadata": {},
   "outputs": [
    {
     "data": {
      "text/plain": [
       "18"
      ]
     },
     "execution_count": 116,
     "metadata": {},
     "output_type": "execute_result"
    }
   ],
   "source": [
    "lst.index(5000,0,20)"
   ]
  },
  {
   "cell_type": "code",
   "execution_count": 95,
   "id": "ed682ec3",
   "metadata": {},
   "outputs": [],
   "source": [
    "# lst.clear()"
   ]
  },
  {
   "cell_type": "code",
   "execution_count": 119,
   "id": "458950cc",
   "metadata": {},
   "outputs": [
    {
     "data": {
      "text/plain": [
       "19"
      ]
     },
     "execution_count": 119,
     "metadata": {},
     "output_type": "execute_result"
    }
   ],
   "source": [
    "len(lst)"
   ]
  },
  {
   "cell_type": "code",
   "execution_count": 120,
   "id": "cfd0fd5f",
   "metadata": {},
   "outputs": [
    {
     "name": "stdout",
     "output_type": "stream",
     "text": [
      "(1, 0, 1, 0, 1, 0, 1, 0) <class 'tuple'>\n"
     ]
    }
   ],
   "source": [
    "tup=(1,0,1,0,1,0,1,0)\n",
    "print(tup,type(tup))"
   ]
  },
  {
   "cell_type": "code",
   "execution_count": 122,
   "id": "d6628e17",
   "metadata": {},
   "outputs": [],
   "source": [
    "# tup[0]=1000"
   ]
  },
  {
   "cell_type": "code",
   "execution_count": 123,
   "id": "e489e38b",
   "metadata": {},
   "outputs": [
    {
     "name": "stdout",
     "output_type": "stream",
     "text": [
      "(1000, 0, 1, 0, 1, 0, 1, 0) <class 'tuple'>\n"
     ]
    }
   ],
   "source": [
    "lst=list(tup)\n",
    "lst[0]=1000\n",
    "tup=tuple(lst)\n",
    "print(tup,type(tup))"
   ]
  },
  {
   "cell_type": "code",
   "execution_count": 126,
   "id": "d5363ee7",
   "metadata": {},
   "outputs": [
    {
     "data": {
      "text/plain": [
       "3"
      ]
     },
     "execution_count": 126,
     "metadata": {},
     "output_type": "execute_result"
    }
   ],
   "source": [
    "tup.count(1)"
   ]
  },
  {
   "cell_type": "code",
   "execution_count": 127,
   "id": "449df728",
   "metadata": {},
   "outputs": [
    {
     "name": "stdout",
     "output_type": "stream",
     "text": [
      "ram <class 'str'>\n",
      "('ram',) <class 'tuple'>\n"
     ]
    }
   ],
   "source": [
    "tup1=('ram'); print(tup1,type(tup1))\n",
    "tup1=('ram',); print(tup1,type(tup1))"
   ]
  },
  {
   "cell_type": "code",
   "execution_count": 130,
   "id": "59dbee4c",
   "metadata": {},
   "outputs": [
    {
     "name": "stdout",
     "output_type": "stream",
     "text": [
      "(1, 0, 1, 0, 1, 0, 1, 0, 1, 0, 1, 0, 1, 0, 1, 0)\n"
     ]
    }
   ],
   "source": [
    "tup1=(1,0,1,0,1,0,1,0)\n",
    "tup2=(1,0,1,0,1,0,1,0)\n",
    "add=tup1+tup1\n",
    "print(add)"
   ]
  },
  {
   "cell_type": "code",
   "execution_count": 129,
   "id": "04e141c2",
   "metadata": {},
   "outputs": [
    {
     "name": "stdout",
     "output_type": "stream",
     "text": [
      "('ram', 'ram')\n"
     ]
    }
   ],
   "source": [
    "print(add)"
   ]
  },
  {
   "cell_type": "code",
   "execution_count": 149,
   "id": "f370d0dc",
   "metadata": {},
   "outputs": [
    {
     "name": "stdout",
     "output_type": "stream",
     "text": [
      "1\n",
      "[0, 1, 0, 1, 0, 1, 0]\n"
     ]
    }
   ],
   "source": [
    "tup1=[1,0,1,0,1,0,1,0]\n",
    "tup2=(1,0,1,0,1,0,1,0)\n",
    "\n",
    "[a,*b]=tup1\n",
    "print(a)\n",
    "print(b)"
   ]
  },
  {
   "cell_type": "code",
   "execution_count": 152,
   "id": "860e37f1",
   "metadata": {},
   "outputs": [
    {
     "name": "stdout",
     "output_type": "stream",
     "text": [
      "[1, 0, 1, 0, 1, 0, 1, 0, 1, 0, 1, 0, 1, 0, 1, 0]\n"
     ]
    }
   ],
   "source": [
    "tup1=[1,0,1,0,1,0,1,0] # ()\n",
    "tup2=(1,0,1,0,1,0,1,0)\n",
    "tup=[*tup1,*tup2]\n",
    "print(tup)"
   ]
  },
  {
   "cell_type": "code",
   "execution_count": 155,
   "id": "daa07acf",
   "metadata": {},
   "outputs": [
    {
     "name": "stdout",
     "output_type": "stream",
     "text": [
      "6\n"
     ]
    }
   ],
   "source": [
    "def add(a,b,c):\n",
    "    return a+b+c\n",
    "\n",
    "numbers=add(1,2,3)\n",
    "print(numbers)"
   ]
  },
  {
   "cell_type": "code",
   "execution_count": 160,
   "id": "293d4e39",
   "metadata": {},
   "outputs": [
    {
     "name": "stdout",
     "output_type": "stream",
     "text": [
      "60\n"
     ]
    }
   ],
   "source": [
    "values=(10,20,30)\n",
    "numbers=add(*values)\n",
    "print(numbers)"
   ]
  },
  {
   "cell_type": "code",
   "execution_count": 161,
   "id": "8c8955c0",
   "metadata": {},
   "outputs": [
    {
     "data": {
      "text/plain": [
       "1"
      ]
     },
     "execution_count": 161,
     "metadata": {},
     "output_type": "execute_result"
    }
   ],
   "source": [
    "\n",
    "tup=(1,2,2,3,45,5,6,7,8,76,5,4,33,2,3,4,5,5,)\n",
    "\n",
    "tup.count(76)"
   ]
  },
  {
   "cell_type": "code",
   "execution_count": 162,
   "id": "2cd9a082",
   "metadata": {},
   "outputs": [
    {
     "data": {
      "text/plain": [
       "9"
      ]
     },
     "execution_count": 162,
     "metadata": {},
     "output_type": "execute_result"
    }
   ],
   "source": [
    "tup.index(76)"
   ]
  },
  {
   "cell_type": "code",
   "execution_count": 163,
   "id": "9960e09c",
   "metadata": {},
   "outputs": [
    {
     "name": "stdout",
     "output_type": "stream",
     "text": [
      "{1, 2, 3, 4, 5, 6, 7} <class 'set'>\n"
     ]
    }
   ],
   "source": [
    "s1={1,2,3,4,5,6,7,1,2,3}\n",
    "print(s1,type(s1))"
   ]
  },
  {
   "cell_type": "code",
   "execution_count": 165,
   "id": "c8b8accc",
   "metadata": {},
   "outputs": [
    {
     "name": "stdout",
     "output_type": "stream",
     "text": [
      "{1, 2, 3, 4, 5, 6, 7, 100}\n"
     ]
    }
   ],
   "source": [
    "s1.add(100)\n",
    "print(s1)"
   ]
  },
  {
   "cell_type": "code",
   "execution_count": 168,
   "id": "c33702f5",
   "metadata": {},
   "outputs": [
    {
     "name": "stdout",
     "output_type": "stream",
     "text": [
      "{1, 2, 3, 4}\n"
     ]
    }
   ],
   "source": [
    "lst=[1,2,3,4]\n",
    "tp=(11,22,33,44,1,2,3)\n",
    "s=set(lst)\n",
    "print(s)"
   ]
  },
  {
   "cell_type": "code",
   "execution_count": 169,
   "id": "53b10423",
   "metadata": {},
   "outputs": [],
   "source": [
    "s.add(tp)"
   ]
  },
  {
   "cell_type": "code",
   "execution_count": 170,
   "id": "88bdb51f",
   "metadata": {},
   "outputs": [
    {
     "name": "stdout",
     "output_type": "stream",
     "text": [
      "{1, 2, 3, 4, (11, 22, 33, 44, 1, 2, 3)}\n"
     ]
    }
   ],
   "source": [
    "print(s)"
   ]
  },
  {
   "cell_type": "code",
   "execution_count": 171,
   "id": "89119f1d",
   "metadata": {},
   "outputs": [
    {
     "name": "stdout",
     "output_type": "stream",
     "text": [
      "True\n"
     ]
    }
   ],
   "source": [
    "val=4 in s\n",
    "print(val)"
   ]
  },
  {
   "cell_type": "code",
   "execution_count": 175,
   "id": "798a8c9d",
   "metadata": {},
   "outputs": [
    {
     "name": "stdout",
     "output_type": "stream",
     "text": [
      "True\n"
     ]
    }
   ],
   "source": [
    "s= 2 in s\n",
    "print(s)"
   ]
  },
  {
   "cell_type": "code",
   "execution_count": 176,
   "id": "6ee079dd",
   "metadata": {},
   "outputs": [
    {
     "name": "stdout",
     "output_type": "stream",
     "text": [
      "{110, 210, 10, 310}\n",
      "{33, 22, 55, 11, 44}\n",
      "{555, 444, 333, 222, 111}\n",
      "****************************************************************************************************\n",
      "first update s1 {33, 10, 11, 44, 110, 210, 55, 310, 22}\n",
      "****************************************************************************************************\n",
      "second update s1 {33, 10, 11, 44, 555, 110, 333, 111, 210, 55, 310, 22, 444, 222}\n"
     ]
    }
   ],
   "source": [
    "s1={10,110,210,310}\n",
    "s2={11,22,33,44,55}\n",
    "s3={111,222,333,444,555}\n",
    "\n",
    "print(s1)\n",
    "print(s2)\n",
    "print(s3)\n",
    "print('*'*100)\n",
    "s1.update(s2)\n",
    "print('first update s1',s1)\n",
    "print('*'*100)\n",
    "s1.update(s3)\n",
    "print('second update s1',s1)"
   ]
  },
  {
   "cell_type": "code",
   "execution_count": 179,
   "id": "fda98392",
   "metadata": {},
   "outputs": [
    {
     "name": "stdout",
     "output_type": "stream",
     "text": [
      "{'C', 'A', 'E', 'D', 'G', 'F', 'B'}\n",
      "{'E', 'D', 'G', 'F'}\n"
     ]
    }
   ],
   "source": [
    "s={'A','B','C','D','E','F','G'}\n",
    "print(s)\n",
    "s.remove('A')\n",
    "s.discard('B')\n",
    "s.pop()\n",
    "print(s)\n"
   ]
  },
  {
   "cell_type": "code",
   "execution_count": 180,
   "id": "35c8aa30",
   "metadata": {},
   "outputs": [
    {
     "name": "stdout",
     "output_type": "stream",
     "text": [
      "{'C', 'A', 'E', 'D', 'G', 'F', 'B'}\n",
      "{'E', 'D', 'G', 'F'}\n"
     ]
    }
   ],
   "source": [
    "s={'A','B','C','D','E','F','G'}\n",
    "print(s)\n",
    "s.remove('A')\n",
    "s.discard('B')\n",
    "s.pop()\n",
    "print(s)"
   ]
  },
  {
   "cell_type": "code",
   "execution_count": 3,
   "id": "653986ce",
   "metadata": {},
   "outputs": [
    {
     "name": "stdout",
     "output_type": "stream",
     "text": [
      "{1, 2}\n",
      "None\n"
     ]
    }
   ],
   "source": [
    "# intersection\n",
    "\n",
    "set1={1,2,3,4,4}\n",
    "set2={1,2,6,7,8,8,7,9,10}\n",
    "set3={1,2,3,8,9,7}\n",
    "val1=set1.intersection(set2)\n",
    "print(val1)\n",
    "val2= set1.intersection_update(set3)\n",
    "print(val2)"
   ]
  },
  {
   "cell_type": "code",
   "execution_count": 6,
   "id": "905edb96",
   "metadata": {},
   "outputs": [
    {
     "name": "stdout",
     "output_type": "stream",
     "text": [
      "{1, 2, 3, 4, 5}\n",
      "{4, 5, 6, 7, 8}\n",
      "intersection update: None\n",
      "{4, 5}\n",
      "{4, 5, 6, 7, 8}\n"
     ]
    }
   ],
   "source": [
    "set1 = {1, 2, 3, 4, 5}\n",
    "set2 = {4, 5, 6, 7, 8}\n",
    "print(set1)\n",
    "print(set2)\n",
    "val1=set1.intersection_update(set2)\n",
    "print(\"intersection update:\",val1)\n",
    "print(set1)\n",
    "print(set2)"
   ]
  },
  {
   "cell_type": "code",
   "execution_count": 13,
   "id": "9e42008c",
   "metadata": {},
   "outputs": [
    {
     "name": "stdout",
     "output_type": "stream",
     "text": [
      "{1, 2, 3, 4, 5}\n",
      "{4, 5, 6, 7, 8}\n",
      "difference of set1 and set2: {1, 2, 3}\n",
      "difference of set2 and set1: {8, 6, 7}\n",
      "symmetric_difference: {1, 2, 3, 6, 7, 8}\n",
      "symmetric_difference_update : {1, 2, 3, 6, 7, 8}\n",
      "set1: {1, 2, 3, 6, 7, 8}\n",
      "set2: {4, 5, 6, 7, 8}\n"
     ]
    }
   ],
   "source": [
    "set1={1,2,3,4,5}\n",
    "set2={4,5,6,7,8}\n",
    "print(set1)\n",
    "print(set2)\n",
    "\n",
    "# difference: return new set with element which are not present in another set\n",
    "sd1=set1.difference(set2)\n",
    "print('difference of set1 and set2:',sd1)\n",
    "sd2=set2.difference(set1)\n",
    "print(\"difference of set2 and set1:\",sd2)\n",
    "\n",
    "\n",
    "# symmetric_difference : return new set with elements present in s1 but not in set2 and viceversa\n",
    "syd=set1.symmetric_difference(set2)\n",
    "print(\"symmetric_difference:\",syd)\n",
    "\n",
    "\n",
    "# symmetric_difference_update : update a set with symmetric_differnece iteself and another\n",
    "sdu=set1.symmetric_difference_update(set2)\n",
    "print(\"symmetric_difference_update :\",set1)\n",
    "print(\"set1:\",set1)\n",
    "print(\"set2:\",set2)\n"
   ]
  },
  {
   "cell_type": "code",
   "execution_count": 15,
   "id": "05947883",
   "metadata": {},
   "outputs": [
    {
     "name": "stdout",
     "output_type": "stream",
     "text": [
      "{1, 2, 3}\n",
      "{8, 6, 7}\n",
      "isdisjoint: True\n"
     ]
    }
   ],
   "source": [
    "# isdisjoint # true : if no common elements else false\n",
    "set1={1,2,3}\n",
    "set2={6,7,8}\n",
    "print(set1)\n",
    "print(set2)\n",
    "val=set1.isdisjoint(set2)\n",
    "print('isdisjoint:',val)"
   ]
  },
  {
   "cell_type": "code",
   "execution_count": 18,
   "id": "20530114",
   "metadata": {},
   "outputs": [
    {
     "name": "stdout",
     "output_type": "stream",
     "text": [
      "{1, 2, 3, 4, 5, 6, 7, 8}\n",
      "{4, 5, 6, 7, 8}\n",
      "set1.issubset(set2): False\n",
      "set1.issubset(set2): True\n"
     ]
    }
   ],
   "source": [
    "# issubset : true > if set2 is present at set1 else false\n",
    "set1={1,2,3,4,5,6,7,8}\n",
    "set2={4,5,6,7,8}\n",
    "print(set1)\n",
    "print(set2)\n",
    "val=set1.issubset(set2)\n",
    "print('set1.issubset(set2):',val)\n",
    "val2=set2.issubset(set1)\n",
    "print('set1.issubset(set2):',val2)"
   ]
  },
  {
   "cell_type": "code",
   "execution_count": 21,
   "id": "7659d921",
   "metadata": {},
   "outputs": [
    {
     "name": "stdout",
     "output_type": "stream",
     "text": [
      "{1, 2, 3, 4, 5, 6, 7, 8}\n",
      "{4, 5, 6, 7, 8}\n",
      "set1.issuperset(set2): True\n",
      "set2.issuperset(set1): False\n"
     ]
    }
   ],
   "source": [
    "# isuperset : true > if set1 elements in set2  else false\n",
    "set1={1,2,3,4,5,6,7,8}\n",
    "set2={4,5,6,7,8}\n",
    "print(set1)\n",
    "print(set2)\n",
    "val=set1.issuperset(set2)\n",
    "print('set1.issuperset(set2):',val)\n",
    "val2=set2.issuperset(set1)\n",
    "print('set2.issuperset(set1):',val2)"
   ]
  },
  {
   "cell_type": "code",
   "execution_count": 22,
   "id": "745c720a",
   "metadata": {},
   "outputs": [
    {
     "name": "stdout",
     "output_type": "stream",
     "text": [
      "{1, 2, 3}\n",
      "mutable set1: {1, 2, 3, 4}\n"
     ]
    }
   ],
   "source": [
    "# set and frosen set immmutanility\n",
    "\n",
    "set1={1,2,3}\n",
    "print(set1)\n",
    "set1.add(4)\n",
    "print('mutable set1:',set1)"
   ]
  },
  {
   "cell_type": "code",
   "execution_count": 29,
   "id": "2e57b1ed",
   "metadata": {},
   "outputs": [
    {
     "name": "stdout",
     "output_type": "stream",
     "text": [
      "frozenset({1, 2, 3, 4}) <class 'frozenset'>\n"
     ]
    }
   ],
   "source": [
    "fset=frozenset(set1)\n",
    "print(fset,type(fset))\n",
    "# fset.add(set2)"
   ]
  },
  {
   "cell_type": "code",
   "execution_count": 33,
   "id": "2f5ce1ce",
   "metadata": {},
   "outputs": [
    {
     "name": "stdout",
     "output_type": "stream",
     "text": [
      "frozenset({1, 2, 3, 4, 5}) <class 'frozenset'>\n",
      "frozenset({4, 5, 6, 7, 8}) <class 'frozenset'>\n"
     ]
    }
   ],
   "source": [
    "set1=frozenset({1,2,3,4,5})\n",
    "set2=frozenset({4,5,6,7,8})\n",
    "print(set1,type(set1))\n",
    "print(set2,type(set2))"
   ]
  },
  {
   "cell_type": "code",
   "execution_count": 35,
   "id": "f6bea7ee",
   "metadata": {},
   "outputs": [
    {
     "name": "stdout",
     "output_type": "stream",
     "text": [
      "difference of set1 and set2: frozenset({1, 2, 3})\n",
      "difference of set2 and set1: frozenset({8, 6, 7})\n",
      "symmetric_difference: frozenset({1, 2, 3, 6, 7, 8})\n"
     ]
    }
   ],
   "source": [
    "# difference: return new set with element which are not present in another set\n",
    "sd1=set1.difference(set2)\n",
    "print('difference of set1 and set2:',sd1)\n",
    "sd2=set2.difference(set1)\n",
    "print(\"difference of set2 and set1:\",sd2)\n",
    "\n",
    "\n",
    "# symmetric_difference : return new set with elements present in s1 but not in set2 and viceversa\n",
    "syd=set1.symmetric_difference(set2)\n",
    "print(\"symmetric_difference:\",syd)\n",
    "\n",
    "\n",
    "# # symmetric_difference_update : update a set with symmetric_differnece iteself and another\n",
    "# sdu=set1.symmetric_difference_update(set2)\n",
    "# print(\"symmetric_difference_update :\",set1)\n",
    "# print(\"set1:\",set1)\n",
    "# print(\"set2:\",set2)\n"
   ]
  },
  {
   "cell_type": "code",
   "execution_count": 37,
   "id": "21b26a5f",
   "metadata": {},
   "outputs": [
    {
     "name": "stdout",
     "output_type": "stream",
     "text": [
      "frozenset({1, 2, 3, 4, 5, 6, 7, 8})\n",
      "frozenset({4, 5, 6, 7, 8})\n",
      "set1.issuperset(set2): True\n",
      "set2.issuperset(set1): False\n"
     ]
    }
   ],
   "source": [
    "# isuperset : true > if set1 elements in set2  else false\n",
    "set1=frozenset({1,2,3,4,5,6,7,8})\n",
    "set2=frozenset({4,5,6,7,8})\n",
    "print(set1)\n",
    "print(set2)\n",
    "val=set1.issuperset(set2)\n",
    "print('set1.issuperset(set2):',val)\n",
    "val2=set2.issuperset(set1)\n",
    "print('set2.issuperset(set1):',val2)"
   ]
  },
  {
   "cell_type": "code",
   "execution_count": 38,
   "id": "f1204b95",
   "metadata": {},
   "outputs": [
    {
     "name": "stdout",
     "output_type": "stream",
     "text": [
      "frozenset({4, 5, 6, 7, 8})\n",
      "banana is present in set2 ? >> True\n"
     ]
    }
   ],
   "source": [
    "print(set2)\n",
    "val= 8 in set2\n",
    "print(\"banana is present in set2 ? >>\",val)"
   ]
  },
  {
   "cell_type": "code",
   "execution_count": 77,
   "id": "7fbfb67a",
   "metadata": {},
   "outputs": [
    {
     "name": "stdout",
     "output_type": "stream",
     "text": [
      "{'A': 10, 'B': 20, 'C': 30, 40: 'D', 50: 'E'}\n",
      "dict_keys(['A', 'B', 'C', 40, 50])\n",
      "dict_values([10, 20, 30, 'D', 'E'])\n",
      "dict_items([('A', 10), ('B', 20), ('C', 30), (40, 'D'), (50, 'E')])\n",
      "10\n",
      "10\n",
      "{'A': 40, 'B': 40, 'C': 40, 40: 40, 50: 40}\n",
      "{'A': 10, 'B': 20, 'C': 30, 40: 'D', 50: 'E', 'F': 60}\n",
      "{'A': 10, 'B': 20, 'C': 30, 40: 'D', 50: 'E', 'F': 60, '1': 100}\n",
      "{'A': 10, 'B': 20, 'C': 30, 40: 'D', 50: 'E', 'F': 60, '1': 100}\n",
      "{'A': 40, 'B': 40, 'C': 40, 40: 40, 50: 40, 'F': 60, '1': 100}\n",
      "{'A': 40, 'B': 40, 'C': 40, 40: 40, 50: 40, 'F': 60, '1': 100}\n",
      "{'A': 40, 'B': 40, 'C': 40, 50: 40, 'F': 60, '1': 100}\n",
      "{'A': 40, 'B': 40, 'C': 40, 50: 40, 'F': 60, '1': 100}\n",
      "{'A': 40, 'B': 40, 'C': 40, 50: 40, 'F': 60}\n",
      "{'A': 40, 'B': 40, 'C': 40, 50: 40, 'F': 60}\n",
      "{'A': 40, 'B': 40, 'C': 40, 50: 40}\n"
     ]
    }
   ],
   "source": [
    "dict1={\n",
    "     'A' :10,\n",
    "     'B' :20,\n",
    "     'C' :30,\n",
    "     40  :'D',\n",
    "     50  :'E'\n",
    "}\n",
    "\n",
    "print(dict1)\n",
    "\n",
    "print(dict1.keys())\n",
    "\n",
    "print(dict1.values())\n",
    "\n",
    "print(dict1.items())\n",
    "\n",
    "# accesing elements\n",
    "print(dict1.get('A')) \n",
    "print(dict1['A'])\n",
    "\n",
    "d={'A': 10, 'B': 20, 'C': 30, 40: 'D', 50: 'E'}\n",
    "newdict=dict.fromkeys(d,40)\n",
    "print(newdict)\n",
    "\n",
    "dict1.setdefault('F',60)\n",
    "print(dict1)\n",
    "dict1.setdefault('1',100)\n",
    "print(dict1)\n",
    "dict1.setdefault('A',1000)\n",
    "print(dict1)\n",
    "\n",
    "dict1.update(newdict)\n",
    "print(dict1)\n",
    "\n",
    "print(dict1)\n",
    "dict1.pop(40)\n",
    "print(dict1)\n",
    "\n",
    "print(dict1)\n",
    "dict1.popitem()\n",
    "print(dict1)\n",
    "\n",
    "print(dict1)\n",
    "key,value = dict1.popitem()\n",
    "print(dict1)"
   ]
  },
  {
   "cell_type": "code",
   "execution_count": 78,
   "id": "cd6b72d9",
   "metadata": {},
   "outputs": [
    {
     "name": "stdout",
     "output_type": "stream",
     "text": [
      "Before assigning the value  100\n",
      "After assigning the value  200\n"
     ]
    }
   ],
   "source": [
    "# Assignement operator\n",
    "\n",
    "var=100\n",
    "print(\"Before assigning the value \",var)\n",
    "var+=100\n",
    "print(\"After assigning the value \",var)"
   ]
  },
  {
   "cell_type": "code",
   "execution_count": 79,
   "id": "2fe0cd68",
   "metadata": {},
   "outputs": [
    {
     "name": "stdout",
     "output_type": "stream",
     "text": [
      "100\n",
      "90\n"
     ]
    }
   ],
   "source": [
    "var=100\n",
    "print(var)\n",
    "var-=10\n",
    "print(var)"
   ]
  },
  {
   "cell_type": "code",
   "execution_count": 90,
   "id": "264bd2f2",
   "metadata": {},
   "outputs": [
    {
     "name": "stdout",
     "output_type": "stream",
     "text": [
      "100\n",
      "33.333333333333336\n"
     ]
    }
   ],
   "source": [
    "var=100\n",
    "print(var)\n",
    "var/=3\n",
    "print(var)\n"
   ]
  },
  {
   "cell_type": "code",
   "execution_count": 91,
   "id": "78a5789a",
   "metadata": {},
   "outputs": [
    {
     "name": "stdout",
     "output_type": "stream",
     "text": [
      "100\n",
      "33\n"
     ]
    }
   ],
   "source": [
    "var=100\n",
    "print(var)\n",
    "var//=3\n",
    "print(var)"
   ]
  },
  {
   "cell_type": "code",
   "execution_count": 92,
   "id": "26a368f2",
   "metadata": {},
   "outputs": [
    {
     "name": "stdout",
     "output_type": "stream",
     "text": [
      "100\n",
      "1000\n"
     ]
    }
   ],
   "source": [
    "var=100\n",
    "print(var)\n",
    "var*=10\n",
    "print(var)"
   ]
  },
  {
   "cell_type": "code",
   "execution_count": 93,
   "id": "a8fdcf86",
   "metadata": {},
   "outputs": [
    {
     "name": "stdout",
     "output_type": "stream",
     "text": [
      "100\n",
      "10000\n"
     ]
    }
   ],
   "source": [
    "var=100\n",
    "print(var)\n",
    "var**=2\n",
    "print(var)"
   ]
  },
  {
   "cell_type": "code",
   "execution_count": 94,
   "id": "85ce8801",
   "metadata": {},
   "outputs": [
    {
     "name": "stdout",
     "output_type": "stream",
     "text": [
      "100\n",
      "1\n"
     ]
    }
   ],
   "source": [
    "var=100\n",
    "print(var)\n",
    "var%=3\n",
    "print(var)"
   ]
  },
  {
   "cell_type": "code",
   "execution_count": 121,
   "id": "ba20a178",
   "metadata": {},
   "outputs": [],
   "source": [
    "# if else \n",
    "\n",
    "def com(x,y):\n",
    "    if x>y:\n",
    "        print('x is big')\n",
    "    \n",
    "    elif x<y:\n",
    "        print('x is small')\n",
    "    \n",
    "    elif x==y:\n",
    "        print('both are equal')\n",
    "    \n",
    "    else:\n",
    "        print('Enter valid input')"
   ]
  },
  {
   "cell_type": "code",
   "execution_count": 125,
   "id": "95d83f4e",
   "metadata": {},
   "outputs": [
    {
     "name": "stdout",
     "output_type": "stream",
     "text": [
      "x is small\n"
     ]
    }
   ],
   "source": [
    "com(False,True)"
   ]
  },
  {
   "cell_type": "code",
   "execution_count": 133,
   "id": "adf30266",
   "metadata": {},
   "outputs": [
    {
     "ename": "SyntaxError",
     "evalue": "expected 'else' after 'if' expression (2530767878.py, line 4)",
     "output_type": "error",
     "traceback": [
      "\u001b[1;36m  Cell \u001b[1;32mIn[133], line 4\u001b[1;36m\u001b[0m\n\u001b[1;33m    print('A') if x>y  elif x<y print('B') elif x==y print('C')\u001b[0m\n\u001b[1;37m    ^\u001b[0m\n\u001b[1;31mSyntaxError\u001b[0m\u001b[1;31m:\u001b[0m expected 'else' after 'if' expression\n"
     ]
    }
   ],
   "source": [
    "x=10\n",
    "y=10\n",
    " \n",
    "print('A') if x>y  elif x<y print('B') elif x==y print('C') "
   ]
  },
  {
   "cell_type": "code",
   "execution_count": 131,
   "id": "b4b96ded",
   "metadata": {},
   "outputs": [
    {
     "name": "stdout",
     "output_type": "stream",
     "text": [
      "y is small\n"
     ]
    }
   ],
   "source": [
    "x = 100\n",
    "y = 90\n",
    "\n",
    "print(\"y is greater number\")  if y > x  else print('y is small')"
   ]
  },
  {
   "cell_type": "code",
   "execution_count": 134,
   "id": "13e46c12",
   "metadata": {},
   "outputs": [],
   "source": [
    "res = x if x>y else y"
   ]
  },
  {
   "cell_type": "code",
   "execution_count": 135,
   "id": "fa631940",
   "metadata": {},
   "outputs": [
    {
     "data": {
      "text/plain": [
       "100"
      ]
     },
     "execution_count": 135,
     "metadata": {},
     "output_type": "execute_result"
    }
   ],
   "source": [
    "res"
   ]
  },
  {
   "cell_type": "code",
   "execution_count": 146,
   "id": "9762de6a",
   "metadata": {},
   "outputs": [
    {
     "name": "stdout",
     "output_type": "stream",
     "text": [
      "x = 1\n",
      "x = 2 is Even\n",
      "x = 3\n",
      "x = 4 is Even\n",
      "x = 5\n",
      "x = 6 is Even\n",
      "x = 7\n",
      "x = 8 is Even\n",
      "x = 9\n",
      "x = 10 is Even\n",
      "x = 11\n",
      "x = 12 is Even\n",
      "x = 13\n",
      "x = 14 is Even\n",
      "x = 15\n"
     ]
    }
   ],
   "source": [
    "# while loop\n",
    "x=1\n",
    "while x<15:\n",
    "     \n",
    "    if x%2==0:\n",
    "        print(f'x = {x} is Even')\n",
    "        x+=1\n",
    "    \n",
    "    print('x =',x)\n",
    "    x+=1\n",
    "    "
   ]
  },
  {
   "cell_type": "code",
   "execution_count": 157,
   "id": "27c73945",
   "metadata": {},
   "outputs": [
    {
     "name": "stdout",
     "output_type": "stream",
     "text": [
      "2 3 5 7 11 13 17 19 23 29 31 37 41 43 47 53 59 61 67 71 73 79 83 89 97 "
     ]
    }
   ],
   "source": [
    "i=2\n",
    "while i<=100:\n",
    "    j=2\n",
    "    is_prime=True\n",
    "    while j<i:\n",
    "        if i%j==0:\n",
    "            is_prime=False\n",
    "            break\n",
    "        j+=1\n",
    "    if is_prime:\n",
    "        print(i, end=' ')\n",
    "    i+=1"
   ]
  },
  {
   "cell_type": "markdown",
   "id": "8c3f062f",
   "metadata": {},
   "source": [
    "### function"
   ]
  },
  {
   "cell_type": "code",
   "execution_count": 6,
   "id": "7807d6fb",
   "metadata": {},
   "outputs": [
    {
     "name": "stdout",
     "output_type": "stream",
     "text": [
      "Addition of numbers : 30\n"
     ]
    }
   ],
   "source": [
    "# 1. Calling function\n",
    "\n",
    "a=10\n",
    "b=20\n",
    "def addition():\n",
    "    c=a+b\n",
    "    print('Addition of numbers :',c)\n",
    "addition()"
   ]
  },
  {
   "cell_type": "code",
   "execution_count": 4,
   "id": "f579d4b7",
   "metadata": {},
   "outputs": [
    {
     "name": "stdout",
     "output_type": "stream",
     "text": [
      "Name : Digvijay Mohite\n",
      "****************************************************************************************************\n",
      "Addition of numbers: 900\n"
     ]
    }
   ],
   "source": [
    "# 2. Argument in function\n",
    "\n",
    "# one argument in function\n",
    "\n",
    "def display(name):\n",
    "    print('Name :',name)\n",
    "    \n",
    "display('Digvijay Mohite')\n",
    "\n",
    "print('*'*100)\n",
    "\n",
    "# two argument in function\n",
    "\n",
    "def addition(a,b):\n",
    "    c=a+b\n",
    "    print('Addition of numbers:',c)\n",
    "    \n",
    "addition(100,800)"
   ]
  },
  {
   "cell_type": "code",
   "execution_count": 7,
   "id": "0a72f06b",
   "metadata": {},
   "outputs": [
    {
     "name": "stdout",
     "output_type": "stream",
     "text": [
      "Name of student : abhii\n",
      "Age of student :6\n",
      "Score in percentage : 91.99\n",
      "****************************************************************************************************\n",
      "Student Record :\n",
      "Name: abhii Age: 6 Score(%) 91.99\n",
      "@@@@@@@@@@@@@@@@@@@@@@@@@@@@@@@@@@@@@@@@@@@@@@@@@@@@@@@@@@@@@@@@@@@@@@@@@@@@@@@@@@@@@@@@@@@@@@@@@@@@\n"
     ]
    }
   ],
   "source": [
    "# 3. Return values\n",
    "def stud_record():\n",
    "    name=input('Name of student : ')\n",
    "    age=int(input('Age of student :'))\n",
    "    score=float(input('Score in percentage : '))\n",
    "    print('*'*100)\n",
    "    print('Student Record :')\n",
    "    print('Name:',name,'Age:',age,'Score(%)',score)\n",
    "    print('@'*100)\n",
    "    \n",
    "for i in range(0,1):\n",
    "    stud_record()\n"
   ]
  },
  {
   "cell_type": "code",
   "execution_count": 3,
   "id": "a1aff7ce",
   "metadata": {},
   "outputs": [
    {
     "name": "stdout",
     "output_type": "stream",
     "text": [
      "Addition of numbers 50\n"
     ]
    }
   ],
   "source": [
    "# 4. unknown parameters\n",
    "\n",
    "def addition(*numbers):\n",
    "    print('Addition of numbers',sum(numbers))\n",
    "    \n",
    "addition(1,2,3,4,5,5,6,7,8,9)"
   ]
  },
  {
   "cell_type": "code",
   "execution_count": 9,
   "id": "6cc430f1",
   "metadata": {},
   "outputs": [
    {
     "name": "stdout",
     "output_type": "stream",
     "text": [
      "first std kid is : Akashay\n",
      "second std kid is : Rohit\n",
      "third std kid is : VIRAT\n",
      "fourth std kid is : Dhoni\n",
      "fifth std kid is : Hardik\n"
     ]
    }
   ],
   "source": [
    "# 5. argument is key-value pair where order does not matter\n",
    "\n",
    "def my_display(kid1,kid3,kid5,kid2,kid4):\n",
    "    print('first std kid is :',kid1)\n",
    "    print('second std kid is :',kid2)\n",
    "    print('third std kid is :',kid3)\n",
    "    print('fourth std kid is :',kid4)\n",
    "    print('fifth std kid is :',kid5)\n",
    "    \n",
    "my_display(kid3='VIRAT',kid2='Rohit',kid1='Akashay',kid4='Dhoni',kid5='Hardik')"
   ]
  },
  {
   "cell_type": "code",
   "execution_count": 14,
   "id": "a810537f",
   "metadata": {},
   "outputs": [
    {
     "name": "stdout",
     "output_type": "stream",
     "text": [
      "His name is : {'fname': 'Sachin', 'lname': 'Mohite', 'city': 'Pune', 'mbl': 9191919191}\n",
      "His last name is  Mohite\n"
     ]
    }
   ],
   "source": [
    "def my_function(**name): \n",
    "    print('His name is :',name)\n",
    "    print(\"His last name is \",name['lname'])\n",
    "\n",
    "my_function(fname = \"Sachin\", lname = \"Mohite\",city='Pune',mbl=9191919191) "
   ]
  },
  {
   "cell_type": "code",
   "execution_count": 12,
   "id": "6e74c367",
   "metadata": {},
   "outputs": [
    {
     "name": "stdout",
     "output_type": "stream",
     "text": [
      "Alternate email of student :\n",
      "Alternate email is :  abc@gmail.com\n",
      "Alternate email is :  digvi@email.com\n",
      "Alternate email is :  nana@email.com\n"
     ]
    }
   ],
   "source": [
    "\n",
    "def AltEmail(email='default@email.com'):\n",
    "    print(\"Alternate email is : \",email)\n",
    "\n",
    "print(\"Alternate email of student :\")\n",
    "\n",
    "AltEmail(\"abc@gmail.com\")\n",
    "AltEmail('digvi@email.com')\n",
    "AltEmail('nana@email.com')"
   ]
  },
  {
   "cell_type": "code",
   "execution_count": 17,
   "id": "7f93ec4b",
   "metadata": {},
   "outputs": [
    {
     "name": "stdout",
     "output_type": "stream",
     "text": [
      "Digvijay\n",
      "Mohite\n"
     ]
    }
   ],
   "source": [
    "# class \n",
    "\n",
    "class Stud:\n",
    "    name='Digvijay'\n",
    "    lname='Mohite'\n",
    "    rollno=27\n",
    "    marks=74\n",
    "    \n",
    "obj=Stud()\n",
    "print(obj.name)\n",
    "print(obj.lname)"
   ]
  },
  {
   "cell_type": "code",
   "execution_count": 19,
   "id": "c4b003f6",
   "metadata": {},
   "outputs": [
    {
     "name": "stdout",
     "output_type": "stream",
     "text": [
      "Name of student : Abhimnayu\n",
      "Surname of student : Mohite\n",
      "class of student : First standard\n",
      "Marks of student : 91.92\n"
     ]
    }
   ],
   "source": [
    "class student:\n",
    "    def __init__(self,fname,lname,std,marks):\n",
    "        self.fname=fname\n",
    "        self.lname=lname\n",
    "        self.std=std\n",
    "        self.marks=marks\n",
    "        \n",
    "    def display(self):\n",
    "        print('Name of student :',self.fname)\n",
    "        print('Surname of student :',self.lname)\n",
    "        print('class of student :',self.std)\n",
    "        print('Marks of student :',self.marks)\n",
    "        \n",
    "obj=student('Abhimnayu','Mohite','First standard',91.92)\n",
    "obj.display()"
   ]
  },
  {
   "cell_type": "code",
   "execution_count": 22,
   "id": "a731cb14",
   "metadata": {},
   "outputs": [
    {
     "name": "stdout",
     "output_type": "stream",
     "text": [
      "Enter the number of students: 2\n",
      "Enter the name of student 0: a\n",
      "Enter the roll number of student 0: 3\n",
      "Enter the marks of student 0: 333\n",
      "Enter the name of student 1: b\n",
      "Enter the roll number of student 1: 4\n",
      "Enter the marks of student 1: 444\n",
      "Name: a\n",
      "Roll Number: 3\n",
      "Marks: 333.0\n",
      "\n",
      "Name: b\n",
      "Roll Number: 4\n",
      "Marks: 444.0\n",
      "\n"
     ]
    }
   ],
   "source": [
    "class Student:\n",
    "    def __init__(self, name, roll_no, marks):\n",
    "        self.name = name\n",
    "        self.roll_no = roll_no\n",
    "        self.marks = marks\n",
    "\n",
    "    def display_record(self):\n",
    "        print(\"Name:\", self.name)\n",
    "        print(\"Roll Number:\", self.roll_no)\n",
    "        print(\"Marks:\", self.marks)\n",
    "\n",
    "# Prompting the user for the number of students to input\n",
    "num_students = int(input(\"Enter the number of students: \"))\n",
    "\n",
    "# Creating an empty list to store the Student objects\n",
    "students = []\n",
    "\n",
    "# Prompting the user to input the records of each student\n",
    "for i in range(num_students):\n",
    "    name = input(\"Enter the name of student {}: \".format(i+1))\n",
    "    roll_no = int(input(\"Enter the roll number of student {}: \".format(i+1)))\n",
    "    marks = float(input(\"Enter the marks of student {}: \".format(i+1)))\n",
    "    students.append(Student(name, roll_no, marks))\n",
    "\n",
    "# Displaying the records of all students using a for loop\n",
    "for student in students:\n",
    "    student.display_record()\n",
    "    print() # Adding a blank line for readability\n"
   ]
  },
  {
   "cell_type": "code",
   "execution_count": 27,
   "id": "ae4e2a85",
   "metadata": {},
   "outputs": [
    {
     "name": "stdout",
     "output_type": "stream",
     "text": [
      "1\n"
     ]
    },
    {
     "data": {
      "text/plain": [
       "<list_iterator at 0x1c157d1b4c0>"
      ]
     },
     "execution_count": 27,
     "metadata": {},
     "output_type": "execute_result"
    }
   ],
   "source": [
    "a=[1,2,3,4,5,6,7,8,9,10]\n",
    "\n",
    "itr=iter(a)\n",
    "\n",
    "print(next(itr))\n",
    "itr"
   ]
  },
  {
   "cell_type": "code",
   "execution_count": 5,
   "id": "29b6952b",
   "metadata": {},
   "outputs": [
    {
     "name": "stdout",
     "output_type": "stream",
     "text": [
      "1\n",
      "2\n"
     ]
    }
   ],
   "source": [
    "tup=(1,2,3,4,5,1,2,3,4,5,)\n",
    "\n",
    "itr=iter(tup)\n",
    "\n",
    "print(next(itr))\n",
    "print(next(itr))\n",
    "# for i in itr:\n",
    "#     print(i)"
   ]
  },
  {
   "cell_type": "code",
   "execution_count": 10,
   "id": "3a87a0a4",
   "metadata": {},
   "outputs": [
    {
     "name": "stdout",
     "output_type": "stream",
     "text": [
      "1\n",
      "2\n",
      "3\n",
      "4\n",
      "5\n",
      "6\n",
      "7\n",
      "8\n"
     ]
    }
   ],
   "source": [
    "class forloop:\n",
    "    \n",
    "    def __iter__(self):\n",
    "        self.val=1\n",
    "        return self\n",
    "    \n",
    "    def __next__(self):\n",
    "        x=self.val\n",
    "        self.val+=1\n",
    "        \n",
    "        if x==9:\n",
    "            raise StopIteration\n",
    "        return x\n",
    "    \n",
    "count=forloop()\n",
    "\n",
    "itr=iter(count)\n",
    "\n",
    "for i in itr:\n",
    "    print(i)"
   ]
  },
  {
   "cell_type": "code",
   "execution_count": 21,
   "id": "1ccc8701",
   "metadata": {},
   "outputs": [
    {
     "name": "stdout",
     "output_type": "stream",
     "text": [
      "Accessing through paratent class:\n",
      "Player Name: Rohit\n",
      "Team Name : Mumbai Indians\n",
      "City Name : Mumbai\n",
      "....................................................................................................\n",
      "Accessing parent through child class:\n",
      "Player Name: Rohit\n",
      "Team Name : Mumbai Indians\n",
      "City Name : Mumbai\n",
      "....................................................................................................\n",
      "Accessing child through child class:\n",
      "Player Name: Rohit\n",
      "Team Name : Mumbai Indians\n",
      "City Name : Mumbai\n",
      "Jersey Number: 45\n"
     ]
    }
   ],
   "source": [
    "class base:\n",
    "    \n",
    "    def __init__(self,name,team,city):\n",
    "        self.name=name\n",
    "        self.team=team\n",
    "        self.city=city\n",
    "        \n",
    "    def pdisplay(self):\n",
    "        print('Player Name:',self.name)\n",
    "        print('Team Name :',self.team)\n",
    "        print('City Name :',self.city)\n",
    "        \n",
    "class child(base):\n",
    "    \n",
    "    def __init__(self,name,team,city,jersey):\n",
    "        self.name=name\n",
    "        self.team=team\n",
    "        self.city=city\n",
    "        self.jersey=jersey\n",
    "        \n",
    "    def cdisplay(self):\n",
    "        print('Player Name:',self.name)\n",
    "        print('Team Name :',self.team)\n",
    "        print('City Name :',self.city)\n",
    "        print('Jersey Number:',self.jersey)\n",
    "        \n",
    "\n",
    "print('Accessing through paratent class:')    \n",
    "obj=base('Rohit','Mumbai Indians','Mumbai')\n",
    "obj.pdisplay()\n",
    "\n",
    "print('.'*100)\n",
    "\n",
    "print('Accessing parent through child class:')    \n",
    "obj=child('Rohit','Mumbai Indians','Mumbai',45)\n",
    "obj.pdisplay()\n",
    "\n",
    "print('.'*100)\n",
    "\n",
    "print('Accessing child through child class:')    \n",
    "obj=child('Rohit','Mumbai Indians','Mumbai',45)\n",
    "obj.cdisplay()"
   ]
  },
  {
   "cell_type": "code",
   "execution_count": 22,
   "id": "ea7125fd",
   "metadata": {},
   "outputs": [
    {
     "data": {
      "text/plain": [
       "datetime.datetime(2023, 4, 24, 15, 29, 33, 70618)"
      ]
     },
     "execution_count": 22,
     "metadata": {},
     "output_type": "execute_result"
    }
   ],
   "source": [
    "import datetime \n",
    "\n",
    "datetime.datetime.now()"
   ]
  },
  {
   "cell_type": "code",
   "execution_count": 34,
   "id": "4d70e722",
   "metadata": {},
   "outputs": [
    {
     "name": "stdout",
     "output_type": "stream",
     "text": [
      "{'A': 10, 'B': 20, 'C': 30, 'D': 40, 'E': 50} <class 'dict'>\n",
      "....................................................................................................\n",
      "Coversion dictionary to JSON format\n",
      "{\"A\": 10, \"B\": 20, \"C\": 30, \"D\": 40, \"E\": 50} <class 'str'>\n",
      "....................................................................................................\n",
      "Coversion from json to dictionary\n",
      "{'A': 10, 'B': 20, 'C': 30, 'D': 40, 'E': 50} <class 'dict'>\n"
     ]
    }
   ],
   "source": [
    "dict1={\n",
    "    'A':10,\n",
    "    'B':20,\n",
    "    'C':30,\n",
    "    'D':40,\n",
    "    'E':50\n",
    "}\n",
    "\n",
    "print(dict1,type(dict1))\n",
    "print('.'*100)\n",
    "\n",
    "print('Coversion dictionary to JSON format')\n",
    "import json\n",
    "jsondict=json.dumps(dict1)\n",
    "print(jsondict,type(jsondict))\n",
    "print('.'*100)\n",
    "\n",
    "print('Coversion from json to dictionary')\n",
    "dict2=json.loads(jsondict)\n",
    "print(dict2,type(dict2))"
   ]
  },
  {
   "cell_type": "code",
   "execution_count": null,
   "id": "e8353469",
   "metadata": {},
   "outputs": [],
   "source": []
  }
 ],
 "metadata": {
  "kernelspec": {
   "display_name": "Python 3 (ipykernel)",
   "language": "python",
   "name": "python3"
  },
  "language_info": {
   "codemirror_mode": {
    "name": "ipython",
    "version": 3
   },
   "file_extension": ".py",
   "mimetype": "text/x-python",
   "name": "python",
   "nbconvert_exporter": "python",
   "pygments_lexer": "ipython3",
   "version": "3.11.3"
  }
 },
 "nbformat": 4,
 "nbformat_minor": 5
}
