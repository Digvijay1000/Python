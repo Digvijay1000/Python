{
 "cells": [
  {
   "cell_type": "code",
   "execution_count": 3,
   "id": "c0401bd5",
   "metadata": {},
   "outputs": [],
   "source": [
    "import keyword"
   ]
  },
  {
   "cell_type": "code",
   "execution_count": 5,
   "id": "5091daad",
   "metadata": {},
   "outputs": [
    {
     "name": "stdout",
     "output_type": "stream",
     "text": [
      "['False', 'None', 'True', 'and', 'as', 'assert', 'async', 'await', 'break', 'class', 'continue', 'def', 'del', 'elif', 'else', 'except', 'finally', 'for', 'from', 'global', 'if', 'import', 'in', 'is', 'lambda', 'nonlocal', 'not', 'or', 'pass', 'raise', 'return', 'try', 'while', 'with', 'yield']\n"
     ]
    }
   ],
   "source": [
    "print(keyword.kwlist)"
   ]
  },
  {
   "cell_type": "code",
   "execution_count": 6,
   "id": "a9d9d04a",
   "metadata": {},
   "outputs": [
    {
     "name": "stdout",
     "output_type": "stream",
     "text": [
      "35\n"
     ]
    }
   ],
   "source": [
    "print(len(keyword.kwlist))"
   ]
  },
  {
   "cell_type": "code",
   "execution_count": 17,
   "id": "8323d2c0",
   "metadata": {},
   "outputs": [
    {
     "name": "stdout",
     "output_type": "stream",
     "text": [
      "False\n",
      "None\n",
      "True\n",
      "and\n",
      "as\n",
      "assert\n",
      "async\n",
      "await\n",
      "break\n",
      "class\n",
      "continue\n",
      "def\n",
      "del\n",
      "elif\n",
      "else\n",
      "except\n",
      "finally\n",
      "for\n",
      "from\n",
      "global\n",
      "if\n",
      "import\n",
      "in\n",
      "is\n",
      "lambda\n",
      "nonlocal\n",
      "not\n",
      "or\n",
      "pass\n",
      "raise\n",
      "return\n",
      "try\n",
      "while\n",
      "with\n",
      "yield\n"
     ]
    }
   ],
   "source": [
    "words = keyword.kwlist\n",
    "\n",
    "index = 0 \n",
    "\n",
    "while index < len(words):\n",
    "    print(words[index])\n",
    "    index+=1"
   ]
  },
  {
   "cell_type": "code",
   "execution_count": 20,
   "id": "edcb750a",
   "metadata": {},
   "outputs": [
    {
     "name": "stdout",
     "output_type": "stream",
     "text": [
      "False\n",
      "None\n",
      "True\n",
      "and\n",
      "as\n",
      "assert\n",
      "async\n",
      "await\n",
      "break\n",
      "class\n",
      "continue\n",
      "def\n",
      "del\n",
      "elif\n",
      "else\n",
      "except\n",
      "finally\n",
      "for\n",
      "from\n",
      "global\n",
      "if\n",
      "import\n",
      "in\n",
      "is\n",
      "lambda\n",
      "nonlocal\n",
      "not\n",
      "or\n",
      "pass\n",
      "raise\n",
      "return\n",
      "try\n",
      "while\n",
      "with\n",
      "yield\n"
     ]
    }
   ],
   "source": [
    "for i in words:\n",
    "    print(i)"
   ]
  },
  {
   "cell_type": "code",
   "execution_count": 30,
   "id": "4e0b9471",
   "metadata": {},
   "outputs": [
    {
     "name": "stdout",
     "output_type": "stream",
     "text": [
      "8\n"
     ]
    }
   ],
   "source": [
    "x = 0o10\n",
    "print(x)"
   ]
  },
  {
   "cell_type": "code",
   "execution_count": 33,
   "id": "d74f2fe3",
   "metadata": {},
   "outputs": [
    {
     "name": "stdout",
     "output_type": "stream",
     "text": [
      "Octal number is : 0o0\n",
      "octal to deciaml : 0\n",
      "Octal number is : 0o1\n",
      "octal to deciaml : 1\n",
      "Octal number is : 0o2\n",
      "octal to deciaml : 2\n",
      "Octal number is : 0o3\n",
      "octal to deciaml : 3\n",
      "Octal number is : 0o4\n",
      "octal to deciaml : 4\n",
      "Octal number is : 0o5\n",
      "octal to deciaml : 5\n",
      "Octal number is : 0o6\n",
      "octal to deciaml : 6\n",
      "Octal number is : 0o7\n",
      "octal to deciaml : 7\n",
      "Octal number is : 0o10\n",
      "octal to deciaml : 8\n",
      "Octal number is : 0o11\n",
      "octal to deciaml : 9\n",
      "Octal number is : 0o12\n",
      "octal to deciaml : 10\n",
      "Octal number is : 0o13\n",
      "octal to deciaml : 11\n",
      "Octal number is : 0o14\n",
      "octal to deciaml : 12\n",
      "Octal number is : 0o15\n",
      "octal to deciaml : 13\n",
      "Octal number is : 0o16\n",
      "octal to deciaml : 14\n",
      "Octal number is : 0o17\n",
      "octal to deciaml : 15\n",
      "Octal number is : 0o20\n",
      "octal to deciaml : 16\n",
      "Octal number is : 0o21\n",
      "octal to deciaml : 17\n",
      "Octal number is : 0o22\n",
      "octal to deciaml : 18\n",
      "Octal number is : 0o23\n",
      "octal to deciaml : 19\n",
      "Octal number is : 0o24\n",
      "octal to deciaml : 20\n",
      "Octal number is : 0o25\n",
      "octal to deciaml : 21\n",
      "Octal number is : 0o26\n",
      "octal to deciaml : 22\n",
      "Octal number is : 0o27\n",
      "octal to deciaml : 23\n"
     ]
    }
   ],
   "source": [
    "for i in range(0,24):\n",
    "    print(\"Octal number is :\",oct(i))\n",
    "#     if i == 8 or i == 9:\n",
    "#         print(i,\" is not in octal number\")\n",
    "#         continue\n",
    "#     else:\n",
    "    print(\"octal to deciaml :\",int(i))\n",
    "    i+=1"
   ]
  },
  {
   "cell_type": "code",
   "execution_count": 34,
   "id": "bc9f8387",
   "metadata": {},
   "outputs": [
    {
     "name": "stdout",
     "output_type": "stream",
     "text": [
      "0 in hex number is = 0x0\n",
      "1 in hex number is = 0x1\n",
      "2 in hex number is = 0x2\n",
      "3 in hex number is = 0x3\n",
      "4 in hex number is = 0x4\n",
      "5 in hex number is = 0x5\n",
      "6 in hex number is = 0x6\n",
      "7 in hex number is = 0x7\n",
      "8 in hex number is = 0x8\n",
      "9 in hex number is = 0x9\n",
      "10 in hex number is = 0xa\n",
      "11 in hex number is = 0xb\n",
      "12 in hex number is = 0xc\n",
      "13 in hex number is = 0xd\n",
      "14 in hex number is = 0xe\n",
      "15 in hex number is = 0xf\n"
     ]
    }
   ],
   "source": [
    "for i in range(0,16):\n",
    "    print(i,\"in hex number is =\",hex(i))"
   ]
  },
  {
   "cell_type": "code",
   "execution_count": 35,
   "id": "30a97884",
   "metadata": {},
   "outputs": [
    {
     "name": "stdout",
     "output_type": "stream",
     "text": [
      "(10+0j)\n"
     ]
    }
   ],
   "source": [
    "n = 10\n",
    "print(complex(n))"
   ]
  },
  {
   "cell_type": "code",
   "execution_count": 36,
   "id": "9e68bdac",
   "metadata": {},
   "outputs": [
    {
     "data": {
      "text/plain": [
       "10"
      ]
     },
     "execution_count": 36,
     "metadata": {},
     "output_type": "execute_result"
    }
   ],
   "source": [
    "n.real"
   ]
  },
  {
   "cell_type": "code",
   "execution_count": 37,
   "id": "d65679e1",
   "metadata": {},
   "outputs": [
    {
     "data": {
      "text/plain": [
       "0"
      ]
     },
     "execution_count": 37,
     "metadata": {},
     "output_type": "execute_result"
    }
   ],
   "source": [
    "n.imag"
   ]
  },
  {
   "cell_type": "code",
   "execution_count": 38,
   "id": "51b41251",
   "metadata": {},
   "outputs": [
    {
     "name": "stdout",
     "output_type": "stream",
     "text": [
      "<class 'bool'> <class 'str'> <class 'bool'> <class 'str'>\n"
     ]
    }
   ],
   "source": [
    "a=True\n",
    "b='True'\n",
    "c=False\n",
    "d='False'\n",
    "print(type(a),type(b),type(c),type(d))"
   ]
  },
  {
   "cell_type": "code",
   "execution_count": 39,
   "id": "d3ccae62",
   "metadata": {},
   "outputs": [
    {
     "name": "stdout",
     "output_type": "stream",
     "text": [
      "True False\n"
     ]
    }
   ],
   "source": [
    "print(True,False)"
   ]
  },
  {
   "cell_type": "code",
   "execution_count": 40,
   "id": "accf0e74",
   "metadata": {},
   "outputs": [
    {
     "name": "stdout",
     "output_type": "stream",
     "text": [
      "True\n"
     ]
    }
   ],
   "source": [
    "print(True)"
   ]
  },
  {
   "cell_type": "code",
   "execution_count": 41,
   "id": "8230c4a8",
   "metadata": {},
   "outputs": [
    {
     "name": "stdout",
     "output_type": "stream",
     "text": [
      "1 0\n"
     ]
    }
   ],
   "source": [
    "print(int(True), int(False))"
   ]
  },
  {
   "cell_type": "code",
   "execution_count": 42,
   "id": "cde637be",
   "metadata": {},
   "outputs": [
    {
     "name": "stdout",
     "output_type": "stream",
     "text": [
      "(1+0j) 0j\n"
     ]
    }
   ],
   "source": [
    "print(complex(True), complex(False))"
   ]
  },
  {
   "cell_type": "code",
   "execution_count": 43,
   "id": "c100dceb",
   "metadata": {},
   "outputs": [
    {
     "name": "stdout",
     "output_type": "stream",
     "text": [
      "1.0 0.0\n"
     ]
    }
   ],
   "source": [
    "print(float(True), float(False))"
   ]
  },
  {
   "cell_type": "code",
   "execution_count": 45,
   "id": "016f13d2",
   "metadata": {},
   "outputs": [
    {
     "name": "stdout",
     "output_type": "stream",
     "text": [
      "True False\n"
     ]
    }
   ],
   "source": [
    "print(bool(True), bool(False))"
   ]
  },
  {
   "cell_type": "code",
   "execution_count": 55,
   "id": "e001aef7",
   "metadata": {},
   "outputs": [
    {
     "name": "stdout",
     "output_type": "stream",
     "text": [
      "                   Digvijay 2085040493696\n",
      "                   Digvijay 2085040493696\n"
     ]
    }
   ],
   "source": [
    "x = \"                   Digvijay\"\n",
    "print(x, id(x))\n",
    "\n",
    "# x='d'\n",
    "print(x, id(x))"
   ]
  },
  {
   "cell_type": "code",
   "execution_count": 58,
   "id": "7ad15bf3",
   "metadata": {},
   "outputs": [
    {
     "name": "stdout",
     "output_type": "stream",
     "text": [
      "                   Digvijay\n"
     ]
    }
   ],
   "source": [
    "print(x)"
   ]
  },
  {
   "cell_type": "code",
   "execution_count": 63,
   "id": "70ccebfc",
   "metadata": {},
   "outputs": [
    {
     "name": "stdout",
     "output_type": "stream",
     "text": [
      "                              Digvijay            \n"
     ]
    }
   ],
   "source": [
    "z = x.center(50) # 50 is width\n",
    "print(z)"
   ]
  },
  {
   "cell_type": "code",
   "execution_count": 57,
   "id": "02d4a2f1",
   "metadata": {},
   "outputs": [
    {
     "name": "stdout",
     "output_type": "stream",
     "text": [
      "Digvijay\n"
     ]
    }
   ],
   "source": [
    "y = x.strip()\n",
    "print(y)"
   ]
  },
  {
   "cell_type": "code",
   "execution_count": 65,
   "id": "89c6f9a9",
   "metadata": {},
   "outputs": [
    {
     "data": {
      "text/plain": [
       "9"
      ]
     },
     "execution_count": 65,
     "metadata": {},
     "output_type": "execute_result"
    }
   ],
   "source": [
    "str1 = \"india is my country all indian are my brothers and sisters\"\n",
    "str1.find(\"my\")"
   ]
  },
  {
   "cell_type": "code",
   "execution_count": 69,
   "id": "8fb93b8d",
   "metadata": {},
   "outputs": [
    {
     "data": {
      "text/plain": [
       "True"
      ]
     },
     "execution_count": 69,
     "metadata": {},
     "output_type": "execute_result"
    }
   ],
   "source": [
    "str1.endswith('s')"
   ]
  },
  {
   "cell_type": "code",
   "execution_count": 70,
   "id": "25e7246d",
   "metadata": {},
   "outputs": [
    {
     "data": {
      "text/plain": [
       "True"
      ]
     },
     "execution_count": 70,
     "metadata": {},
     "output_type": "execute_result"
    }
   ],
   "source": [
    "str1.startswith('i')"
   ]
  },
  {
   "cell_type": "code",
   "execution_count": 75,
   "id": "086b4287",
   "metadata": {},
   "outputs": [
    {
     "name": "stdout",
     "output_type": "stream",
     "text": [
      "Digvijay                                                                                            Mohite\n"
     ]
    }
   ],
   "source": [
    "str1='Digvijay\\tMohite'\n",
    "str2 = str1.expandtabs(tabsize=100)\n",
    "print(str2)"
   ]
  },
  {
   "cell_type": "code",
   "execution_count": 76,
   "id": "acf0e104",
   "metadata": {},
   "outputs": [
    {
     "data": {
      "text/plain": [
       "'Digv'"
      ]
     },
     "execution_count": 76,
     "metadata": {},
     "output_type": "execute_result"
    }
   ],
   "source": [
    "str1[0:4]"
   ]
  },
  {
   "cell_type": "code",
   "execution_count": 79,
   "id": "2b16197c",
   "metadata": {},
   "outputs": [
    {
     "data": {
      "text/plain": [
       "'Digvijay\\tMohit'"
      ]
     },
     "execution_count": 79,
     "metadata": {},
     "output_type": "execute_result"
    }
   ],
   "source": [
    "str1[:-1]"
   ]
  },
  {
   "cell_type": "code",
   "execution_count": 82,
   "id": "3b59a45e",
   "metadata": {},
   "outputs": [],
   "source": [
    "str1='Digvijay Mohite'"
   ]
  },
  {
   "cell_type": "code",
   "execution_count": 83,
   "id": "5a3f4fa8",
   "metadata": {},
   "outputs": [
    {
     "data": {
      "text/plain": [
       "'etihoM yajivgiD'"
      ]
     },
     "execution_count": 83,
     "metadata": {},
     "output_type": "execute_result"
    }
   ],
   "source": [
    "str1[::-1]"
   ]
  },
  {
   "cell_type": "code",
   "execution_count": 86,
   "id": "86f8263a",
   "metadata": {},
   "outputs": [
    {
     "data": {
      "text/plain": [
       "'Mohit'"
      ]
     },
     "execution_count": 86,
     "metadata": {},
     "output_type": "execute_result"
    }
   ],
   "source": [
    "str1[-6:-1]"
   ]
  },
  {
   "cell_type": "code",
   "execution_count": 87,
   "id": "aa6d9d1a",
   "metadata": {},
   "outputs": [
    {
     "name": "stdout",
     "output_type": "stream",
     "text": [
      "10.0 10 (10+0j)\n"
     ]
    }
   ],
   "source": [
    "a = 10\n",
    "b = 10.10\n",
    "c = '1000'\n",
    "d = 10+4j\n",
    "\n",
    "print(float(a),str(a),complex(a))"
   ]
  },
  {
   "cell_type": "code",
   "execution_count": 88,
   "id": "df39113c",
   "metadata": {},
   "outputs": [
    {
     "name": "stdout",
     "output_type": "stream",
     "text": [
      "10 10.1 (10.1+0j)\n"
     ]
    }
   ],
   "source": [
    "print(int(b),str(b),complex(b))"
   ]
  },
  {
   "cell_type": "code",
   "execution_count": 89,
   "id": "4818b900",
   "metadata": {},
   "outputs": [
    {
     "name": "stdout",
     "output_type": "stream",
     "text": [
      "1000 1000.0 (1000+0j)\n"
     ]
    }
   ],
   "source": [
    "print(int(c),float(c),complex(c))"
   ]
  },
  {
   "cell_type": "code",
   "execution_count": 91,
   "id": "651e351d",
   "metadata": {},
   "outputs": [
    {
     "name": "stdout",
     "output_type": "stream",
     "text": [
      "140707507069864\n",
      "140707507070024\n"
     ]
    }
   ],
   "source": [
    "x=5\n",
    "print(id(x))\n",
    "x=10\n",
    "print(id(x))"
   ]
  },
  {
   "cell_type": "code",
   "execution_count": 92,
   "id": "94575be3",
   "metadata": {},
   "outputs": [
    {
     "name": "stdout",
     "output_type": "stream",
     "text": [
      "[1, 2, 4]\n",
      "2085034959168\n",
      "[1, 2, 3]\n",
      "2085034959168\n"
     ]
    }
   ],
   "source": [
    "lst=[1,2,4]\n",
    "print(lst)\n",
    "print(id(lst))\n",
    "lst[2]=3\n",
    "print(lst)\n",
    "print(id(lst))"
   ]
  },
  {
   "cell_type": "code",
   "execution_count": 101,
   "id": "4a358873",
   "metadata": {},
   "outputs": [
    {
     "name": "stdout",
     "output_type": "stream",
     "text": [
      "2085036092336\n",
      "2085036092336\n",
      "2085036092336\n",
      "2085036092336\n"
     ]
    },
    {
     "data": {
      "text/plain": [
       "True"
      ]
     },
     "execution_count": 101,
     "metadata": {},
     "output_type": "execute_result"
    }
   ],
   "source": [
    "a=100\n",
    "a=b=c=d\n",
    "print(id(a))\n",
    "print(id(b))\n",
    "print(id(c))\n",
    "print(id(d))\n",
    "a is b"
   ]
  },
  {
   "cell_type": "code",
   "execution_count": 100,
   "id": "01fa28c3",
   "metadata": {},
   "outputs": [
    {
     "name": "stdout",
     "output_type": "stream",
     "text": [
      "2085045846160\n",
      "2085027916784\n",
      "2085041480656\n",
      "2085036092336\n"
     ]
    }
   ],
   "source": [
    "a=100.1\n",
    "b=100.1\n",
    "c=100.1\n",
    "d=100.1\n",
    "print(id(a))\n",
    "print(id(b))\n",
    "print(id(c))\n",
    "print(id(d))"
   ]
  },
  {
   "cell_type": "code",
   "execution_count": 104,
   "id": "f77fbe5e",
   "metadata": {},
   "outputs": [
    {
     "data": {
      "text/plain": [
       "b'\\x01\\x02\\x03\\x04\\x05\\x06\\x07\\x08Z'"
      ]
     },
     "execution_count": 104,
     "metadata": {},
     "output_type": "execute_result"
    }
   ],
   "source": [
    "l=[1,2,3,4,5,6,7,8,90]\n",
    "b = bytes(l)\n",
    "b"
   ]
  },
  {
   "cell_type": "code",
   "execution_count": 106,
   "id": "cefabb26",
   "metadata": {},
   "outputs": [
    {
     "name": "stdout",
     "output_type": "stream",
     "text": [
      "1\n",
      "2\n",
      "3\n",
      "4\n",
      "5\n",
      "6\n",
      "7\n",
      "8\n",
      "90\n"
     ]
    }
   ],
   "source": [
    "for i in b:\n",
    "    print(i)"
   ]
  },
  {
   "cell_type": "code",
   "execution_count": 107,
   "id": "f5f52ef0",
   "metadata": {},
   "outputs": [
    {
     "data": {
      "text/plain": [
       "3"
      ]
     },
     "execution_count": 107,
     "metadata": {},
     "output_type": "execute_result"
    }
   ],
   "source": [
    "l=[1,2,3,4,5,6,7]\n",
    "l.pop(2)"
   ]
  },
  {
   "cell_type": "code",
   "execution_count": 108,
   "id": "ea848ae4",
   "metadata": {},
   "outputs": [
    {
     "data": {
      "text/plain": [
       "[1, 2, 4, 5, 6, 7]"
      ]
     },
     "execution_count": 108,
     "metadata": {},
     "output_type": "execute_result"
    }
   ],
   "source": [
    "l"
   ]
  },
  {
   "cell_type": "code",
   "execution_count": 109,
   "id": "82cc277a",
   "metadata": {},
   "outputs": [],
   "source": [
    "s1={1,2,3,4}\n",
    "s2={3,4,5,6,7}"
   ]
  },
  {
   "cell_type": "code",
   "execution_count": 110,
   "id": "3f61f8c1",
   "metadata": {},
   "outputs": [
    {
     "data": {
      "text/plain": [
       "{1, 2, 3, 4, 5, 6, 7}"
      ]
     },
     "execution_count": 110,
     "metadata": {},
     "output_type": "execute_result"
    }
   ],
   "source": [
    "s1.union(s2)"
   ]
  },
  {
   "cell_type": "code",
   "execution_count": 111,
   "id": "5fd0f53d",
   "metadata": {},
   "outputs": [
    {
     "data": {
      "text/plain": [
       "{3, 4}"
      ]
     },
     "execution_count": 111,
     "metadata": {},
     "output_type": "execute_result"
    }
   ],
   "source": [
    "s1.intersection(s2)"
   ]
  },
  {
   "cell_type": "code",
   "execution_count": 112,
   "id": "238c6565",
   "metadata": {},
   "outputs": [
    {
     "data": {
      "text/plain": [
       "{1, 2}"
      ]
     },
     "execution_count": 112,
     "metadata": {},
     "output_type": "execute_result"
    }
   ],
   "source": [
    "s1.difference(s2)"
   ]
  },
  {
   "cell_type": "code",
   "execution_count": 113,
   "id": "40e6bc5c",
   "metadata": {},
   "outputs": [
    {
     "data": {
      "text/plain": [
       "{1, 2, 5, 6, 7}"
      ]
     },
     "execution_count": 113,
     "metadata": {},
     "output_type": "execute_result"
    }
   ],
   "source": [
    "s1.symmetric_difference(s2)"
   ]
  },
  {
   "cell_type": "code",
   "execution_count": 114,
   "id": "0343346c",
   "metadata": {},
   "outputs": [
    {
     "name": "stdout",
     "output_type": "stream",
     "text": [
      "frozenset({1, 2, 3, 4, 5, 6})\n",
      "frozenset({3, 4})\n",
      "frozenset({1, 2})\n",
      "True\n"
     ]
    }
   ],
   "source": [
    "a = frozenset({1, 2, 3, 4})\n",
    "b = frozenset({3, 4, 5, 6})\n",
    "\n",
    "print(a.union(b))  # Union of two frozensets\n",
    "print(a.intersection(b))  # Intersection of two frozensets\n",
    "print(a.difference(b))  # Difference between two frozensets\n",
    "print(3 in a)  # Membership testing\n"
   ]
  },
  {
   "cell_type": "code",
   "execution_count": 1,
   "id": "23e70151",
   "metadata": {},
   "outputs": [
    {
     "name": "stdout",
     "output_type": "stream",
     "text": [
      "enter a =10\n",
      "enter b =20\n",
      "30.0\n"
     ]
    }
   ],
   "source": [
    "# fuctuin \n",
    "# 1. Calling the function\n",
    "def add():\n",
    "    a = float(input('enter a ='))\n",
    "    b = float(input('enter b ='))\n",
    "    c = a+b\n",
    "    print(c)\n",
    "    \n",
    "add()\n",
    "    "
   ]
  },
  {
   "cell_type": "code",
   "execution_count": 2,
   "id": "dc9299ce",
   "metadata": {},
   "outputs": [
    {
     "name": "stdout",
     "output_type": "stream",
     "text": [
      "300\n"
     ]
    }
   ],
   "source": [
    "# 2. argumennt in the function \n",
    "def add(a,b):\n",
    "    c = a+b\n",
    "    print(c)\n",
    "    \n",
    "add(100,200)"
   ]
  },
  {
   "cell_type": "code",
   "execution_count": 3,
   "id": "c53be3a0",
   "metadata": {},
   "outputs": [
    {
     "data": {
      "text/plain": [
       "300"
      ]
     },
     "execution_count": 3,
     "metadata": {},
     "output_type": "execute_result"
    }
   ],
   "source": [
    "# 3. return the values\n",
    "\n",
    "def add(a,b):\n",
    "    result = a+b\n",
    "    return result\n",
    "\n",
    "add(100, 200)"
   ]
  },
  {
   "cell_type": "code",
   "execution_count": 7,
   "id": "0ff5a6fd",
   "metadata": {},
   "outputs": [
    {
     "name": "stdout",
     "output_type": "stream",
     "text": [
      "All the letters : ('A', 'B', 'C')\n",
      "First position of letter : A\n"
     ]
    }
   ],
   "source": [
    "# 4. unknown parameters\n",
    "\n",
    "def my_function(*letter):\n",
    "        print('All the letters :',letter)\n",
    "        print(\"First position of letter :\", letter[0])\n",
    "        \n",
    "my_function('A','B','C')"
   ]
  },
  {
   "cell_type": "code",
   "execution_count": 11,
   "id": "d0c36f63",
   "metadata": {},
   "outputs": [
    {
     "name": "stdout",
     "output_type": "stream",
     "text": [
      "All the letters : {'A': 'A', 'B': 'B', 'C': 'C'}\n",
      "First position of letter : A\n"
     ]
    }
   ],
   "source": [
    "# 5. UNKNOWN KEY-VALUE PAIR PARAMETERS\n",
    "\n",
    "def my_function(**letter):\n",
    "        print('All the letters :',letter)\n",
    "        print(\"First position of letter :\", letter[\"A\"])\n",
    "        \n",
    "my_function(A='A',B='B',C='C')"
   ]
  },
  {
   "cell_type": "code",
   "execution_count": 12,
   "id": "2bad43c4",
   "metadata": {},
   "outputs": [
    {
     "name": "stdout",
     "output_type": "stream",
     "text": [
      "Alternate email of student :\n",
      "Alternate email is :  default@email.com\n",
      "Alternate email is :  digvi@email.com\n"
     ]
    }
   ],
   "source": [
    "# 6. Default value to parameter\n",
    "\n",
    "def AltEmail(email='default@email.com'):\n",
    "    print(\"Alternate email is : \",email)\n",
    "\n",
    "print(\"Alternate email of student :\")\n",
    "\n",
    "AltEmail()\n",
    "AltEmail('digvi@email.com')"
   ]
  },
  {
   "cell_type": "code",
   "execution_count": 14,
   "id": "25c4aa6c",
   "metadata": {},
   "outputs": [
    {
     "data": {
      "text/plain": [
       "16"
      ]
     },
     "execution_count": 14,
     "metadata": {},
     "output_type": "execute_result"
    }
   ],
   "source": [
    "square = lambda x:x**2\n",
    "square(4)"
   ]
  },
  {
   "cell_type": "code",
   "execution_count": 15,
   "id": "f4b14ec2",
   "metadata": {},
   "outputs": [
    {
     "data": {
      "text/plain": [
       "20"
      ]
     },
     "execution_count": 15,
     "metadata": {},
     "output_type": "execute_result"
    }
   ],
   "source": [
    "multiplication = lambda x,y : x*y\n",
    "\n",
    "multiplication(4,5)"
   ]
  },
  {
   "cell_type": "code",
   "execution_count": 18,
   "id": "fbce679b",
   "metadata": {},
   "outputs": [
    {
     "name": "stdout",
     "output_type": "stream",
     "text": [
      "value of n is : 1000\n",
      "value of n is : 1000\n",
      "1100\n"
     ]
    }
   ],
   "source": [
    "def add(n):\n",
    "    print('value of n is :',n)\n",
    "    \n",
    "    return lambda x : x+n\n",
    "\n",
    "add(1000)\n",
    "\n",
    "other = add(1000)\n",
    "print(other(100))"
   ]
  },
  {
   "cell_type": "code",
   "execution_count": 22,
   "id": "30a94888",
   "metadata": {},
   "outputs": [
    {
     "name": "stdout",
     "output_type": "stream",
     "text": [
      "Name of student : Digvijay\n",
      "Branch of student : IT\n"
     ]
    }
   ],
   "source": [
    "class student:\n",
    "    def __init__(self, name, branch):\n",
    "        self.name = name\n",
    "        self.branch = branch\n",
    "        \n",
    "    def display(self):\n",
    "        print('Name of student :',self.name)\n",
    "        print('Branch of student :',self.branch)\n",
    "        \n",
    "obj=student('Digvijay', 'IT')\n",
    "obj.display()"
   ]
  },
  {
   "cell_type": "code",
   "execution_count": 36,
   "id": "70223022",
   "metadata": {},
   "outputs": [
    {
     "name": "stdout",
     "output_type": "stream",
     "text": [
      "Enter first name of student 1 :ABHI\n",
      "Enter total marks in percentage 1 :100\n",
      "Enter first name of student 2 :SHOURYA\n",
      "Enter total marks in percentage 2 :99\n",
      "Enter first name of student 3 :ATHARV\n",
      "Enter total marks in percentage 3 :98\n",
      "Displaying the details of students :\n",
      "Name = ABHI, Marks = 100.0\n",
      "Name = SHOURYA, Marks = 99.0\n",
      "Name = ATHARV, Marks = 98.0\n"
     ]
    }
   ],
   "source": [
    "class stud:\n",
    "    def __init__(self, name, marks):\n",
    "        self.name = name\n",
    "        self.marks = marks\n",
    "        \n",
    "students = []\n",
    "\n",
    "for i in range(1,4):\n",
    "    name = input('Enter first name of student {} :'.format(i))\n",
    "    marks = float(input('Enter total marks in percentage {} :'.format(i)))\n",
    "    obj = stud(name, marks)\n",
    "    students.append(obj)\n",
    "    \n",
    "print('Displaying the details of students :')\n",
    "\n",
    "for obj in students:\n",
    "    print(\"Name = {}, Marks = {}\".format(obj.name, obj.marks))"
   ]
  },
  {
   "cell_type": "code",
   "execution_count": 44,
   "id": "08754164",
   "metadata": {},
   "outputs": [
    {
     "name": "stdout",
     "output_type": "stream",
     "text": [
      "DISPLAYING THROUGH BASE CLASS\n",
      "Name of Player : Virat\n",
      "Team of Player : INDIA\n",
      "None\n",
      "****************************************************************************************************\n",
      "DISPLAYING THROUGH DERIVED CLASS\n",
      "Name of Player : Virat\n",
      "Team of Player : INDIA\n",
      "Jercy of Player : 18\n",
      "None\n"
     ]
    }
   ],
   "source": [
    "class base:\n",
    "    \n",
    "    def __init__(self, name, team):\n",
    "        self.name = name\n",
    "        self.team = team\n",
    "        \n",
    "    def bdisplay(self):\n",
    "        print('DISPLAYING THROUGH BASE CLASS')\n",
    "        print('Name of Player :',self.name)\n",
    "        print('Team of Player :',self.team)\n",
    "        \n",
    "class derived(base):\n",
    "    \n",
    "    def __init__(self, name, team, jercy):\n",
    "        self.name = name\n",
    "        self.team = team\n",
    "        self.jercy = jercy\n",
    "        \n",
    "    def ddisplay(self):\n",
    "        print('DISPLAYING THROUGH DERIVED CLASS')\n",
    "        print('Name of Player :', self.name)\n",
    "        print('Team of Player :',self.team)\n",
    "        print('Jercy of Player :',self.jercy)\n",
    "        \n",
    "obj_base = base('Virat', 'INDIA')\n",
    "obj_derive = derived('Virat', 'INDIA', 18)\n",
    "\n",
    "print(obj_base.bdisplay())\n",
    "print('*'*100)\n",
    "print(obj_derive.ddisplay())\n"
   ]
  },
  {
   "cell_type": "code",
   "execution_count": 47,
   "id": "fd0330d7",
   "metadata": {},
   "outputs": [
    {
     "name": "stdout",
     "output_type": "stream",
     "text": [
      "1\n"
     ]
    }
   ],
   "source": [
    "tup=(1,2,3,4,5)\n",
    "\n",
    "itr = iter(tup)\n",
    "print(next(itr))"
   ]
  },
  {
   "cell_type": "code",
   "execution_count": 49,
   "id": "fe80ba2e",
   "metadata": {},
   "outputs": [
    {
     "name": "stdout",
     "output_type": "stream",
     "text": [
      "1\n",
      "2\n",
      "3\n",
      "4\n",
      "5\n"
     ]
    }
   ],
   "source": [
    "tup=(1,2,3,4,5)\n",
    "\n",
    "itr = iter(tup)\n",
    "for i in itr:\n",
    "    print(i)"
   ]
  },
  {
   "cell_type": "code",
   "execution_count": 50,
   "id": "4857850f",
   "metadata": {},
   "outputs": [
    {
     "name": "stdout",
     "output_type": "stream",
     "text": [
      "I\n",
      " \n",
      "l\n",
      "o\n",
      "v\n",
      "e\n",
      " \n",
      "p\n",
      "y\n",
      "t\n",
      "h\n",
      "o\n",
      "n\n"
     ]
    }
   ],
   "source": [
    "\n",
    "string = \"I love python\"\n",
    "\n",
    "itr = iter(string)\n",
    "\n",
    "for i in itr:\n",
    "    print(i)"
   ]
  },
  {
   "cell_type": "code",
   "execution_count": 55,
   "id": "40d08e58",
   "metadata": {},
   "outputs": [
    {
     "name": "stdout",
     "output_type": "stream",
     "text": [
      "{\n",
      "    \"fname\": \"Digvijay\",\n",
      "    \"lname\": \"Mohite\"\n",
      "}\n"
     ]
    }
   ],
   "source": [
    "import json\n",
    "\n",
    "js = {\n",
    "    \"fname\":'Digvijay',\n",
    "    'lname':'Mohite'\n",
    "}\n",
    "\n",
    "json_obj = json.dumps(js, indent=4)\n",
    "print(json_obj)"
   ]
  },
  {
   "cell_type": "code",
   "execution_count": 57,
   "id": "51520974",
   "metadata": {},
   "outputs": [],
   "source": [
    "import re"
   ]
  },
  {
   "cell_type": "code",
   "execution_count": 64,
   "id": "4644725d",
   "metadata": {},
   "outputs": [
    {
     "name": "stdout",
     "output_type": "stream",
     "text": [
      "<re.Match object; span=(0, 64), match='The python programming was developed in 1991 by G>\n"
     ]
    }
   ],
   "source": [
    "txt = \"The python programming was developed in 1991 by Guido Van Rossom\"\n",
    "x = re.search(\"^The.*Rossom$\",txt)\n",
    "print(x)"
   ]
  },
  {
   "cell_type": "code",
   "execution_count": 68,
   "id": "498c1de9",
   "metadata": {},
   "outputs": [
    {
     "name": "stdout",
     "output_type": "stream",
     "text": [
      "The python programming was developed in 1991 by Guido Van Rossom\n"
     ]
    }
   ],
   "source": [
    "print(x.string)"
   ]
  },
  {
   "cell_type": "code",
   "execution_count": 82,
   "id": "de6eb9f0",
   "metadata": {},
   "outputs": [
    {
     "name": "stdout",
     "output_type": "stream",
     "text": [
      "The_python_programming_was_developed_in_1991_by_Guido_Van_Rossom\n"
     ]
    }
   ],
   "source": [
    "txt = \"The python programming was developed in 1991 by Guido Van Rossom\"\n",
    "x = re.sub(\"\\s\",\"_\",txt)\n",
    "print(x)"
   ]
  },
  {
   "cell_type": "code",
   "execution_count": 85,
   "id": "0dce303c",
   "metadata": {},
   "outputs": [
    {
     "name": "stdout",
     "output_type": "stream",
     "text": [
      "Enter Number :99.99\n",
      "Not valid number\n",
      "Enter Number :100\n"
     ]
    }
   ],
   "source": [
    "while True:\n",
    "    try:\n",
    "        x=int(input('Enter Number :'))\n",
    "        break\n",
    "    except ValueError:\n",
    "        print('Not valid number')"
   ]
  },
  {
   "cell_type": "code",
   "execution_count": 86,
   "id": "6466d978",
   "metadata": {},
   "outputs": [
    {
     "ename": "Exception",
     "evalue": "sorry no number below zero",
     "output_type": "error",
     "traceback": [
      "\u001b[1;31m---------------------------------------------------------------------------\u001b[0m",
      "\u001b[1;31mException\u001b[0m                                 Traceback (most recent call last)",
      "Cell \u001b[1;32mIn[86], line 4\u001b[0m\n\u001b[0;32m      1\u001b[0m x\u001b[38;5;241m=\u001b[39m\u001b[38;5;241m-\u001b[39m\u001b[38;5;241m1\u001b[39m\n\u001b[0;32m      3\u001b[0m \u001b[38;5;28;01mif\u001b[39;00m x \u001b[38;5;241m<\u001b[39m \u001b[38;5;241m0\u001b[39m:\n\u001b[1;32m----> 4\u001b[0m     \u001b[38;5;28;01mraise\u001b[39;00m \u001b[38;5;167;01mException\u001b[39;00m(\u001b[38;5;124m\"\u001b[39m\u001b[38;5;124msorry no number below zero\u001b[39m\u001b[38;5;124m\"\u001b[39m)\n",
      "\u001b[1;31mException\u001b[0m: sorry no number below zero"
     ]
    }
   ],
   "source": [
    "x=-1\n",
    "\n",
    "if x < 0:\n",
    "    raise Exception(\"sorry no number below zero\")"
   ]
  },
  {
   "cell_type": "code",
   "execution_count": 2,
   "id": "27ec3d5b",
   "metadata": {},
   "outputs": [
    {
     "name": "stdout",
     "output_type": "stream",
     "text": [
      "10\n",
      "<class 'int'>\n",
      "10\n",
      "<class 'str'>\n"
     ]
    }
   ],
   "source": [
    "var = 10\n",
    "print(var)\n",
    "print(type(var))\n",
    "var2 = str(var)\n",
    "print(var2)\n",
    "print(type(var2))"
   ]
  },
  {
   "cell_type": "code",
   "execution_count": 4,
   "id": "512d8819-9e3b-41eb-a84c-a4d1a273afda",
   "metadata": {},
   "outputs": [],
   "source": [
    "# pip install jupyterlab"
   ]
  },
  {
   "cell_type": "code",
   "execution_count": 2,
   "id": "582fd98a-b14f-4b25-b227-c157581ccd14",
   "metadata": {},
   "outputs": [],
   "source": [
    "# pip install jupyter"
   ]
  },
  {
   "cell_type": "code",
   "execution_count": 3,
   "id": "38f6f4b5-a405-4fc6-bd1a-1c0ac6f797b0",
   "metadata": {},
   "outputs": [],
   "source": [
    "a = \"Dipak and Digvijay doing study\""
   ]
  },
  {
   "cell_type": "code",
   "execution_count": 5,
   "id": "3f174044-94fb-453b-bdeb-b413fd7aab20",
   "metadata": {},
   "outputs": [
    {
     "name": "stdout",
     "output_type": "stream",
     "text": [
      "Dipak and Digvijay doing study\n"
     ]
    }
   ],
   "source": [
    "print(a)"
   ]
  },
  {
   "cell_type": "code",
   "execution_count": 6,
   "id": "e82d1e5d-1676-4c4b-8b4e-c6349c3b72c0",
   "metadata": {},
   "outputs": [
    {
     "data": {
      "text/plain": [
       "'Dipak and Digvijay done study'"
      ]
     },
     "execution_count": 6,
     "metadata": {},
     "output_type": "execute_result"
    }
   ],
   "source": [
    "a.replace(\"doing\",  \"done\")"
   ]
  },
  {
   "cell_type": "code",
   "execution_count": 7,
   "id": "c1f2eeab-c321-41db-8659-8def59872e80",
   "metadata": {},
   "outputs": [],
   "source": [
    "b = \"            Dipak and Digvijay doing study         \""
   ]
  },
  {
   "cell_type": "code",
   "execution_count": 8,
   "id": "c521d421-8f90-4986-bb47-5b92eb5bf3fa",
   "metadata": {},
   "outputs": [
    {
     "name": "stdout",
     "output_type": "stream",
     "text": [
      "            Dipak and Digvijay doing study         \n"
     ]
    }
   ],
   "source": [
    "print(b)"
   ]
  },
  {
   "cell_type": "code",
   "execution_count": 10,
   "id": "6b04ba03-b261-41c3-9e10-da62ba15adcb",
   "metadata": {},
   "outputs": [
    {
     "data": {
      "text/plain": [
       "'Dipak and Digvijay doing study'"
      ]
     },
     "execution_count": 10,
     "metadata": {},
     "output_type": "execute_result"
    }
   ],
   "source": [
    "b.strip()"
   ]
  },
  {
   "cell_type": "code",
   "execution_count": 14,
   "id": "3539498a-36cd-4d0a-b58c-7dc6137c614a",
   "metadata": {},
   "outputs": [
    {
     "data": {
      "text/plain": [
       "['Dipak and Digvijay doing study']"
      ]
     },
     "execution_count": 14,
     "metadata": {},
     "output_type": "execute_result"
    }
   ],
   "source": [
    "c = a.split(\"-\")\n",
    "c"
   ]
  },
  {
   "cell_type": "code",
   "execution_count": 46,
   "id": "b57c1673-3efb-4390-9cfa-dca9fbadd92b",
   "metadata": {},
   "outputs": [
    {
     "name": "stdout",
     "output_type": "stream",
     "text": [
      "['Hello', 'World', 'How,Are,You']\n"
     ]
    }
   ],
   "source": [
    "# Splitting a string using a space as the delimiter\n",
    "sentence = \"Hello,World,How,Are,You\"\n",
    "words = sentence.split(\",\", 2)\n",
    "print(words)"
   ]
  },
  {
   "cell_type": "code",
   "execution_count": 49,
   "id": "dbecbac1-bf8f-4086-9e73-e1f155fd44e9",
   "metadata": {},
   "outputs": [
    {
     "data": {
      "text/plain": [
       "'Hello$World$How,Are,You'"
      ]
     },
     "execution_count": 49,
     "metadata": {},
     "output_type": "execute_result"
    }
   ],
   "source": [
    "\"$\".join(words)"
   ]
  },
  {
   "cell_type": "code",
   "execution_count": 51,
   "id": "b149d2aa-b965-4290-a117-3be3285c3246",
   "metadata": {},
   "outputs": [
    {
     "data": {
      "text/plain": [
       "['False',\n",
       " 'None',\n",
       " 'True',\n",
       " 'and',\n",
       " 'as',\n",
       " 'assert',\n",
       " 'async',\n",
       " 'await',\n",
       " 'break',\n",
       " 'class',\n",
       " 'continue',\n",
       " 'def',\n",
       " 'del',\n",
       " 'elif',\n",
       " 'else',\n",
       " 'except',\n",
       " 'finally',\n",
       " 'for',\n",
       " 'from',\n",
       " 'global',\n",
       " 'if',\n",
       " 'import',\n",
       " 'in',\n",
       " 'is',\n",
       " 'lambda',\n",
       " 'nonlocal',\n",
       " 'not',\n",
       " 'or',\n",
       " 'pass',\n",
       " 'raise',\n",
       " 'return',\n",
       " 'try',\n",
       " 'while',\n",
       " 'with',\n",
       " 'yield']"
      ]
     },
     "execution_count": 51,
     "metadata": {},
     "output_type": "execute_result"
    }
   ],
   "source": [
    "import keyword\n",
    "keyword.kwlist"
   ]
  },
  {
   "cell_type": "code",
   "execution_count": 9,
   "id": "1edda4bc-9ef4-4904-a163-a5991bf4f792",
   "metadata": {},
   "outputs": [],
   "source": [
    "Str= \"DIGvijay sopan mohite. Dipak Yeshwwant Jagdale\""
   ]
  },
  {
   "cell_type": "code",
   "execution_count": 10,
   "id": "60a69b06-f6df-44ee-b274-b59c56d60e64",
   "metadata": {},
   "outputs": [
    {
     "data": {
      "text/plain": [
       "'DIGvijay sopan mohite. Dipak Yeshwwant Jagdale'"
      ]
     },
     "execution_count": 10,
     "metadata": {},
     "output_type": "execute_result"
    }
   ],
   "source": [
    "Str"
   ]
  },
  {
   "cell_type": "code",
   "execution_count": 11,
   "id": "4eed0ed9-b21c-40ce-a5d9-ccbe835e4eb7",
   "metadata": {},
   "outputs": [
    {
     "data": {
      "text/plain": [
       "'digvijay sopan mohite. dipak yeshwwant jagdale'"
      ]
     },
     "execution_count": 11,
     "metadata": {},
     "output_type": "execute_result"
    }
   ],
   "source": [
    "Str.casefold()"
   ]
  },
  {
   "cell_type": "code",
   "execution_count": 12,
   "id": "d77b7a33-a67d-40dc-a3ba-11d05e7487d7",
   "metadata": {},
   "outputs": [
    {
     "data": {
      "text/plain": [
       "'Digvijay sopan mohite. dipak yeshwwant jagdale'"
      ]
     },
     "execution_count": 12,
     "metadata": {},
     "output_type": "execute_result"
    }
   ],
   "source": [
    "Str.capitalize()"
   ]
  },
  {
   "cell_type": "code",
   "execution_count": 13,
   "id": "215e2417-dea4-4fca-80f7-cb89cd24e622",
   "metadata": {},
   "outputs": [
    {
     "data": {
      "text/plain": [
       "'Digvijay Sopan Mohite. Dipak Yeshwwant Jagdale'"
      ]
     },
     "execution_count": 13,
     "metadata": {},
     "output_type": "execute_result"
    }
   ],
   "source": [
    "Str.title()"
   ]
  },
  {
   "cell_type": "code",
   "execution_count": 19,
   "id": "eee54c04-cf5c-4508-bdf4-78b1bd0dc661",
   "metadata": {},
   "outputs": [
    {
     "data": {
      "text/plain": [
       "'DIGvijay sopan mohite. Dipak Yeshwwant Jagdale'"
      ]
     },
     "execution_count": 19,
     "metadata": {},
     "output_type": "execute_result"
    }
   ],
   "source": [
    "Str.expandtabs()"
   ]
  },
  {
   "cell_type": "code",
   "execution_count": 23,
   "id": "669654da-1c2d-4d2d-90d0-947a050c6e73",
   "metadata": {},
   "outputs": [
    {
     "name": "stdout",
     "output_type": "stream",
     "text": [
      "Hello\tWorld\t!\n",
      "Hello   World   !\n"
     ]
    }
   ],
   "source": [
    "text = \"Hello\\tWorld\\t!\"\n",
    "print(text)\n",
    "expanded_text = text.expandtabs()\n",
    "print(expanded_text)"
   ]
  },
  {
   "cell_type": "code",
   "execution_count": 24,
   "id": "28f159f3-6ea4-45aa-a40c-d9da7e9464de",
   "metadata": {},
   "outputs": [
    {
     "data": {
      "text/plain": [
       "'DIGvijay sopan mohite. Dipak Yeshwwant Jagdale'"
      ]
     },
     "execution_count": 24,
     "metadata": {},
     "output_type": "execute_result"
    }
   ],
   "source": [
    "Str"
   ]
  },
  {
   "cell_type": "code",
   "execution_count": 29,
   "id": "bbdc23ef-9b19-478d-bfe7-414fd47af19e",
   "metadata": {},
   "outputs": [
    {
     "data": {
      "text/plain": [
       "44"
      ]
     },
     "execution_count": 29,
     "metadata": {},
     "output_type": "execute_result"
    }
   ],
   "source": [
    "Str.index('l')"
   ]
  },
  {
   "cell_type": "code",
   "execution_count": 31,
   "id": "eca25386-1b0e-4acc-8ed6-6319b4b4a615",
   "metadata": {},
   "outputs": [
    {
     "data": {
      "text/plain": [
       "44"
      ]
     },
     "execution_count": 31,
     "metadata": {},
     "output_type": "execute_result"
    }
   ],
   "source": [
    "Str.find('l')"
   ]
  },
  {
   "cell_type": "code",
   "execution_count": 32,
   "id": "54f0b8c9-85c8-41af-b5e1-483d0632b9f3",
   "metadata": {},
   "outputs": [
    {
     "data": {
      "text/plain": [
       "-1"
      ]
     },
     "execution_count": 32,
     "metadata": {},
     "output_type": "execute_result"
    }
   ],
   "source": [
    "Str.find('z')"
   ]
  },
  {
   "cell_type": "code",
   "execution_count": 35,
   "id": "5affe727-9843-437f-bb07-eb3671e97aa0",
   "metadata": {},
   "outputs": [
    {
     "data": {
      "text/plain": [
       "'digVIJAY SOPAN MOHITE. dIPAK yESHWWANT jAGDALE'"
      ]
     },
     "execution_count": 35,
     "metadata": {},
     "output_type": "execute_result"
    }
   ],
   "source": [
    "Str.swapcase()"
   ]
  },
  {
   "cell_type": "code",
   "execution_count": 41,
   "id": "564e91d3-780a-41d2-a8d4-4d380294a9f5",
   "metadata": {},
   "outputs": [
    {
     "data": {
      "text/plain": [
       "False"
      ]
     },
     "execution_count": 41,
     "metadata": {},
     "output_type": "execute_result"
    }
   ],
   "source": [
    "Str.endswith('E')"
   ]
  },
  {
   "cell_type": "code",
   "execution_count": 42,
   "id": "391dc81f-bbed-4df7-bf44-7cd41b1d9f17",
   "metadata": {},
   "outputs": [
    {
     "data": {
      "text/plain": [
       "'DIGvijay sopan mohite. Dipak Yeshwwant Jagdale'"
      ]
     },
     "execution_count": 42,
     "metadata": {},
     "output_type": "execute_result"
    }
   ],
   "source": [
    "Str"
   ]
  },
  {
   "cell_type": "code",
   "execution_count": 46,
   "id": "4b24692e-9e70-4b59-b971-7d9184ec434e",
   "metadata": {},
   "outputs": [
    {
     "data": {
      "text/plain": [
       "23"
      ]
     },
     "execution_count": 46,
     "metadata": {},
     "output_type": "execute_result"
    }
   ],
   "source": [
    "Str.index('Di')"
   ]
  },
  {
   "cell_type": "code",
   "execution_count": 57,
   "id": "c13fba60-7e7e-4063-9b63-ea37f62eded1",
   "metadata": {},
   "outputs": [
    {
     "data": {
      "text/plain": [
       "'D w a'"
      ]
     },
     "execution_count": 57,
     "metadata": {},
     "output_type": "execute_result"
    }
   ],
   "source": [
    "Str[23::5]"
   ]
  },
  {
   "cell_type": "code",
   "execution_count": 58,
   "id": "711f17de-149c-4406-92c0-f67ee3d623c2",
   "metadata": {},
   "outputs": [
    {
     "data": {
      "text/plain": [
       "'DIGvijay sopan mohite. Dipak Yeshwwant JagdaleDIGvijay sopan mohite. Dipak Yeshwwant JagdaleDIGvijay sopan mohite. Dipak Yeshwwant Jagdale'"
      ]
     },
     "execution_count": 58,
     "metadata": {},
     "output_type": "execute_result"
    }
   ],
   "source": [
    "Str*3"
   ]
  },
  {
   "cell_type": "code",
   "execution_count": 59,
   "id": "eb370cbc-e9dd-4184-8b32-110540bb129c",
   "metadata": {},
   "outputs": [
    {
     "data": {
      "text/plain": [
       "'eladgaJ tnawwhseY kapiD .etihom napos yajivGID'"
      ]
     },
     "execution_count": 59,
     "metadata": {},
     "output_type": "execute_result"
    }
   ],
   "source": [
    "Str[::-1]"
   ]
  },
  {
   "cell_type": "code",
   "execution_count": 60,
   "id": "f494371b-ff84-425c-be7b-006e1b3b4ecd",
   "metadata": {},
   "outputs": [
    {
     "data": {
      "text/plain": [
       "'ladgaJ tnawwhseY kapiD .etihom napos yajivGID'"
      ]
     },
     "execution_count": 60,
     "metadata": {},
     "output_type": "execute_result"
    }
   ],
   "source": [
    "Str[]"
   ]
  },
  {
   "cell_type": "code",
   "execution_count": 61,
   "id": "c37d2b5a-70f8-4239-86fb-23c6a9994b4c",
   "metadata": {},
   "outputs": [
    {
     "data": {
      "text/plain": [
       "'Dipak Yeshwwant Jagdale'"
      ]
     },
     "execution_count": 61,
     "metadata": {},
     "output_type": "execute_result"
    }
   ],
   "source": [
    "Str[23::]"
   ]
  },
  {
   "cell_type": "code",
   "execution_count": 65,
   "id": "ca6b5a2a-88cf-4727-b9d5-ede21251f0a5",
   "metadata": {},
   "outputs": [
    {
     "data": {
      "text/plain": [
       "'DpkYswatJga'"
      ]
     },
     "execution_count": 65,
     "metadata": {},
     "output_type": "execute_result"
    }
   ],
   "source": [
    "Str[-23:-1:]"
   ]
  },
  {
   "cell_type": "code",
   "execution_count": 69,
   "id": "8f991880-deaa-4aec-b76a-483822f565e9",
   "metadata": {},
   "outputs": [
    {
     "name": "stdout",
     "output_type": "stream",
     "text": [
      "1000 <class 'int'>\n"
     ]
    }
   ],
   "source": [
    "a=1000\n",
    "print(a, type(a))"
   ]
  },
  {
   "cell_type": "code",
   "execution_count": 68,
   "id": "2e4afc48-5746-4105-9527-71906bc95045",
   "metadata": {},
   "outputs": [
    {
     "name": "stdout",
     "output_type": "stream",
     "text": [
      "1000 <class 'str'>\n"
     ]
    }
   ],
   "source": [
    "b=str(a)\n",
    "print(b, type(b))"
   ]
  },
  {
   "cell_type": "code",
   "execution_count": 70,
   "id": "a9d4d63a-dcfa-4cab-a6cc-8c89ab9922b5",
   "metadata": {},
   "outputs": [
    {
     "name": "stdout",
     "output_type": "stream",
     "text": [
      "(1000+0j) <class 'complex'>\n"
     ]
    }
   ],
   "source": [
    "c=complex(a)\n",
    "print(c, type(c))"
   ]
  },
  {
   "cell_type": "code",
   "execution_count": 71,
   "id": "0f55b4f9-7979-4b47-b3a3-ea04033afe46",
   "metadata": {},
   "outputs": [
    {
     "data": {
      "text/plain": [
       "0.0"
      ]
     },
     "execution_count": 71,
     "metadata": {},
     "output_type": "execute_result"
    }
   ],
   "source": [
    "c.imag"
   ]
  },
  {
   "cell_type": "code",
   "execution_count": 72,
   "id": "24510269-02ac-4b39-8584-0b74a41d8c35",
   "metadata": {},
   "outputs": [
    {
     "data": {
      "text/plain": [
       "1000.0"
      ]
     },
     "execution_count": 72,
     "metadata": {},
     "output_type": "execute_result"
    }
   ],
   "source": [
    "c.real"
   ]
  },
  {
   "cell_type": "code",
   "execution_count": 74,
   "id": "965e656a-8770-4909-94c2-5b24655630a7",
   "metadata": {},
   "outputs": [
    {
     "name": "stdout",
     "output_type": "stream",
     "text": [
      "10.101 <class 'float'>\n"
     ]
    }
   ],
   "source": [
    "d = 10.1010\n",
    "print(d, type(d))"
   ]
  },
  {
   "cell_type": "code",
   "execution_count": 84,
   "id": "38c3678b-cdf7-4d9e-b26d-bb2b80f8dc11",
   "metadata": {},
   "outputs": [
    {
     "name": "stdout",
     "output_type": "stream",
     "text": [
      "10 <class 'int'>\n"
     ]
    }
   ],
   "source": [
    "idd = int(d)\n",
    "print(idd, type(idd))"
   ]
  },
  {
   "cell_type": "code",
   "execution_count": 76,
   "id": "d17c41ec-66f4-40a3-8fa1-b3f1ca9b2bed",
   "metadata": {},
   "outputs": [
    {
     "name": "stdout",
     "output_type": "stream",
     "text": [
      "(10.101+0j) <class 'complex'>\n"
     ]
    }
   ],
   "source": [
    "cd=complex(d)\n",
    "print(cd, type(cd))"
   ]
  },
  {
   "cell_type": "code",
   "execution_count": 77,
   "id": "b16caa71-9395-4423-a8fe-895d64ac96ff",
   "metadata": {},
   "outputs": [
    {
     "name": "stdout",
     "output_type": "stream",
     "text": [
      "10.101 <class 'str'>\n"
     ]
    }
   ],
   "source": [
    "sd = str(d)\n",
    "print(sd, type(sd))"
   ]
  },
  {
   "cell_type": "code",
   "execution_count": 78,
   "id": "b2d6cf64-326f-461e-b2f9-d0269a224a40",
   "metadata": {},
   "outputs": [
    {
     "name": "stdout",
     "output_type": "stream",
     "text": [
      "4851 <class 'int'>\n",
      "4851.0 <class 'float'>\n",
      "(4851+0j) <class 'complex'>\n"
     ]
    }
   ],
   "source": [
    "s = '4851'\n",
    "iss = int(s)\n",
    "print(iss, type(iss))\n",
    "fs = float(s)\n",
    "print(fs, type(fs))\n",
    "cs = complex(s)\n",
    "print(cs, type(cs))"
   ]
  },
  {
   "cell_type": "code",
   "execution_count": 79,
   "id": "29fa4950-4ac7-4a4c-b985-379e18fdfccc",
   "metadata": {},
   "outputs": [
    {
     "name": "stdout",
     "output_type": "stream",
     "text": [
      "(4851+0j) <class 'complex'>\n"
     ]
    }
   ],
   "source": [
    "c = 4851+0j\n",
    "print(c, type(c))"
   ]
  },
  {
   "cell_type": "code",
   "execution_count": 86,
   "id": "c524b30e-26bb-4e96-b6cb-d313d0be2133",
   "metadata": {},
   "outputs": [],
   "source": [
    "# ci = int(c)\n",
    "# print(ci, type(ci))"
   ]
  },
  {
   "cell_type": "code",
   "execution_count": 1,
   "id": "6986a77c-c76a-4105-a162-a1851b11b785",
   "metadata": {
    "scrolled": true
   },
   "outputs": [
    {
     "name": "stdout",
     "output_type": "stream",
     "text": [
      "140735530066856\n",
      "140735530067016\n"
     ]
    }
   ],
   "source": [
    "# immutability\n",
    "x=5\n",
    "print(id(x))\n",
    "x=10\n",
    "print(id(x))"
   ]
  },
  {
   "cell_type": "code",
   "execution_count": 2,
   "id": "1d663b27-557b-4877-aff5-5bdabe3913ce",
   "metadata": {},
   "outputs": [
    {
     "name": "stdout",
     "output_type": "stream",
     "text": [
      "140735530066856\n",
      "140735530067016\n"
     ]
    }
   ],
   "source": [
    "# immutability\n",
    "x = 5\n",
    "print(id(x))  # Output: <some_memory_address>\n",
    "x = 10\n",
    "print(id(x))  # Output: <some_different_memory_address>"
   ]
  },
  {
   "cell_type": "code",
   "execution_count": 4,
   "id": "9b854e79-7423-4573-a5d8-9a0e41dc3605",
   "metadata": {
    "scrolled": true
   },
   "outputs": [
    {
     "name": "stdout",
     "output_type": "stream",
     "text": [
      "[1, 2, 3]\n",
      "3261741368512\n"
     ]
    }
   ],
   "source": [
    "list1=[1,2,3]\n",
    "print(list1)\n",
    "print(id(list1))"
   ]
  },
  {
   "cell_type": "code",
   "execution_count": 5,
   "id": "54ae71d2-76de-4afb-a1c9-e94ae7aa2b5a",
   "metadata": {},
   "outputs": [
    {
     "name": "stdout",
     "output_type": "stream",
     "text": [
      "[1, 2, [1, 2, 3]]\n",
      "3261741368512\n"
     ]
    }
   ],
   "source": [
    "list1[2] = [1,2,3]\n",
    "print(list1)\n",
    "print(id(list1))"
   ]
  },
  {
   "cell_type": "code",
   "execution_count": 1,
   "id": "e6fb6a29-1195-48c8-a11b-09ab0470baea",
   "metadata": {},
   "outputs": [],
   "source": [
    "lst = [1,2,3,4]"
   ]
  },
  {
   "cell_type": "code",
   "execution_count": 2,
   "id": "36def5eb-a3e5-43eb-841b-6f8faa913bc8",
   "metadata": {},
   "outputs": [
    {
     "name": "stdout",
     "output_type": "stream",
     "text": [
      "1564121334400\n"
     ]
    }
   ],
   "source": [
    "print(id(lst))"
   ]
  },
  {
   "cell_type": "code",
   "execution_count": 3,
   "id": "cb214fba-e725-443b-8fcc-4753eec867f9",
   "metadata": {},
   "outputs": [],
   "source": [
    "lst[0] = 1111"
   ]
  },
  {
   "cell_type": "code",
   "execution_count": 5,
   "id": "240d70ba-aeeb-4a3c-ad61-7ffb3a230f8f",
   "metadata": {},
   "outputs": [
    {
     "name": "stdout",
     "output_type": "stream",
     "text": [
      "[1111, 2, 3, 4]\n",
      "1564121334400\n"
     ]
    }
   ],
   "source": [
    "print(lst)\n",
    "print(id(lst))"
   ]
  },
  {
   "cell_type": "code",
   "execution_count": 74,
   "id": "ec9d1cff-2bb5-42fb-873d-b5c7298d4250",
   "metadata": {},
   "outputs": [
    {
     "name": "stdout",
     "output_type": "stream",
     "text": [
      "[10, 20, 30, 40]\n",
      "1564131112640\n",
      "****************************************************************************************************\n",
      "[10, 20, 30, 40, 90]\n",
      "1564131112640\n"
     ]
    }
   ],
   "source": [
    "lst1 = [10,20,30,40]\n",
    "print(lst1)\n",
    "print(id(lst1))\n",
    "print('*'*100)\n",
    "\n",
    "lst1.append(90)\n",
    "print(lst1)\n",
    "print(id(lst1))"
   ]
  },
  {
   "cell_type": "code",
   "execution_count": null,
   "id": "b2dce752-2514-41f3-a2b6-c145ffc8427d",
   "metadata": {},
   "outputs": [],
   "source": []
  },
  {
   "cell_type": "code",
   "execution_count": 75,
   "id": "df92c2b5-e26f-47b2-ab0d-d7d8fe6e10a2",
   "metadata": {},
   "outputs": [
    {
     "name": "stdout",
     "output_type": "stream",
     "text": [
      "Digvijay\n",
      "1564121282480\n",
      "****************************************************************************************************\n",
      "DIgvijay\n",
      "1564121334640\n"
     ]
    }
   ],
   "source": [
    "lst11 = \"Digvijay\"\n",
    "print(lst11)\n",
    "print(id(lst11))\n",
    "print('*'*100)\n",
    "\n",
    "str1 = 'DIgvijay'\n",
    "print(str1)\n",
    "print(id(str1))"
   ]
  },
  {
   "cell_type": "code",
   "execution_count": 76,
   "id": "5823968b-c01c-43df-b089-c2faa44e65f4",
   "metadata": {},
   "outputs": [
    {
     "data": {
      "text/plain": [
       "[10, 20, 30, 40, 90]"
      ]
     },
     "execution_count": 76,
     "metadata": {},
     "output_type": "execute_result"
    }
   ],
   "source": [
    "lst1"
   ]
  },
  {
   "cell_type": "code",
   "execution_count": 77,
   "id": "07af12f0-9996-4daa-82c2-32286344075a",
   "metadata": {},
   "outputs": [],
   "source": [
    "lst1.insert(4,50)"
   ]
  },
  {
   "cell_type": "code",
   "execution_count": 78,
   "id": "0ee88dbe-f1a4-4017-b235-1ff8a98e5d08",
   "metadata": {},
   "outputs": [
    {
     "data": {
      "text/plain": [
       "[10, 20, 30, 40, 50, 90]"
      ]
     },
     "execution_count": 78,
     "metadata": {},
     "output_type": "execute_result"
    }
   ],
   "source": [
    "lst1"
   ]
  },
  {
   "cell_type": "code",
   "execution_count": 79,
   "id": "f7e17bcb-5794-40d3-b51d-69f01823bbbb",
   "metadata": {},
   "outputs": [],
   "source": [
    "lst1.append([100, 10, 20 ,111, 22])"
   ]
  },
  {
   "cell_type": "code",
   "execution_count": 80,
   "id": "1f48f105-a905-471c-89fd-ed01823a858b",
   "metadata": {},
   "outputs": [
    {
     "data": {
      "text/plain": [
       "[10, 20, 30, 40, 50, 90, [100, 10, 20, 111, 22]]"
      ]
     },
     "execution_count": 80,
     "metadata": {},
     "output_type": "execute_result"
    }
   ],
   "source": [
    "lst1"
   ]
  },
  {
   "cell_type": "code",
   "execution_count": 81,
   "id": "f72e4c14-422b-4eb0-b153-6f2a063b4238",
   "metadata": {},
   "outputs": [
    {
     "name": "stdout",
     "output_type": "stream",
     "text": [
      "[10, 20, 30, 40, 50, 60, 70, 80, 90, [100, 10, 20, 111, 22]]\n"
     ]
    }
   ],
   "source": [
    "ele_to_be_insert = [60, 70, 80]\n",
    "\n",
    "expected_index = 5\n",
    "\n",
    "for i in ele_to_be_insert:\n",
    "    lst1.insert(expected_index, i)\n",
    "    expected_index += 1 # index = index + 1 (a += 1 >> a = a+1)\n",
    "    \n",
    "print(lst1)"
   ]
  },
  {
   "cell_type": "code",
   "execution_count": 82,
   "id": "f03fa353-c4dd-4456-ab81-84c0fcf31677",
   "metadata": {},
   "outputs": [
    {
     "data": {
      "text/plain": [
       "[10, 20, 30, 40, 50, 60, 70, 80, 90, [100, 10, 20, 111, 22]]"
      ]
     },
     "execution_count": 82,
     "metadata": {},
     "output_type": "execute_result"
    }
   ],
   "source": [
    "lst1"
   ]
  },
  {
   "cell_type": "code",
   "execution_count": 84,
   "id": "94f7e6cf-e8de-4100-be07-812c07f82a9e",
   "metadata": {},
   "outputs": [
    {
     "data": {
      "text/plain": [
       "[10, 111]"
      ]
     },
     "execution_count": 84,
     "metadata": {},
     "output_type": "execute_result"
    }
   ],
   "source": [
    "lst1[9][1::2]"
   ]
  },
  {
   "cell_type": "code",
   "execution_count": 85,
   "id": "7a2fe27a-7f55-423e-acc1-fa9745c4c171",
   "metadata": {},
   "outputs": [],
   "source": [
    "lst1.reverse()"
   ]
  },
  {
   "cell_type": "code",
   "execution_count": 86,
   "id": "c76ad05d-2588-4fa6-8ea4-63d7728f47b4",
   "metadata": {},
   "outputs": [
    {
     "data": {
      "text/plain": [
       "[[100, 10, 20, 111, 22], 90, 80, 70, 60, 50, 40, 30, 20, 10]"
      ]
     },
     "execution_count": 86,
     "metadata": {},
     "output_type": "execute_result"
    }
   ],
   "source": [
    "lst1"
   ]
  },
  {
   "cell_type": "code",
   "execution_count": 87,
   "id": "1f0d1150-0731-43c4-b811-e2df3d857c0d",
   "metadata": {},
   "outputs": [
    {
     "data": {
      "text/plain": [
       "[10, 20, 30, 40, 50, 60, 70, 80, 90, [100, 10, 20, 111, 22]]"
      ]
     },
     "execution_count": 87,
     "metadata": {},
     "output_type": "execute_result"
    }
   ],
   "source": [
    "lst1[::-1]"
   ]
  },
  {
   "cell_type": "code",
   "execution_count": 88,
   "id": "d654633b-05ef-4798-93de-1222de3e562a",
   "metadata": {},
   "outputs": [],
   "source": [
    "lst1.reverse()"
   ]
  },
  {
   "cell_type": "code",
   "execution_count": 89,
   "id": "9e496a29-bfb5-4391-882e-fefbdc489334",
   "metadata": {},
   "outputs": [
    {
     "data": {
      "text/plain": [
       "[10, 20, 30, 40, 50, 60, 70, 80, 90, [100, 10, 20, 111, 22]]"
      ]
     },
     "execution_count": 89,
     "metadata": {},
     "output_type": "execute_result"
    }
   ],
   "source": [
    "lst1"
   ]
  },
  {
   "cell_type": "code",
   "execution_count": 91,
   "id": "9439ff8f-8e20-4801-b61a-b3f8bc781ee5",
   "metadata": {},
   "outputs": [
    {
     "data": {
      "text/plain": [
       "[10, 20, 30, 40, 50, 60, 70, 80, 90, [100, 10, 20, 111, 22]]"
      ]
     },
     "execution_count": 91,
     "metadata": {},
     "output_type": "execute_result"
    }
   ],
   "source": [
    "lst1.reverse()\n",
    "lst1"
   ]
  },
  {
   "cell_type": "code",
   "execution_count": 96,
   "id": "db71d9f8-795b-4e98-9a6a-a2aa6a22bb8d",
   "metadata": {},
   "outputs": [
    {
     "name": "stdout",
     "output_type": "stream",
     "text": [
      "5\n"
     ]
    }
   ],
   "source": [
    "print(len(lst1[9]))"
   ]
  },
  {
   "cell_type": "code",
   "execution_count": 97,
   "id": "1c268fc2-8358-4edf-a733-271380c14f2e",
   "metadata": {},
   "outputs": [
    {
     "data": {
      "text/plain": [
       "[10, 20, 30, 40, 50, 70, 80, 90, [100, 10, 20, 111, 22]]"
      ]
     },
     "execution_count": 97,
     "metadata": {},
     "output_type": "execute_result"
    }
   ],
   "source": [
    "lst1.remove(60)\n",
    "lst1"
   ]
  },
  {
   "cell_type": "code",
   "execution_count": 100,
   "id": "49df438e-46c6-48b3-86f6-48db3929fb96",
   "metadata": {},
   "outputs": [
    {
     "data": {
      "text/plain": [
       "[10, 20, 30, 40, 50, 70, 80, 90, [100, 10, 20, 111, 22]]"
      ]
     },
     "execution_count": 100,
     "metadata": {},
     "output_type": "execute_result"
    }
   ],
   "source": [
    "lst2 = lst1.copy()\n",
    "lst2"
   ]
  },
  {
   "cell_type": "code",
   "execution_count": 101,
   "id": "ddbb485f-dc3c-4327-a741-b689af4ccaae",
   "metadata": {},
   "outputs": [],
   "source": [
    "lst1.extend(lst2)"
   ]
  },
  {
   "cell_type": "code",
   "execution_count": 102,
   "id": "f8c3eaf9-5928-4626-9ad8-d7230eb27519",
   "metadata": {},
   "outputs": [
    {
     "data": {
      "text/plain": [
       "[10,\n",
       " 20,\n",
       " 30,\n",
       " 40,\n",
       " 50,\n",
       " 70,\n",
       " 80,\n",
       " 90,\n",
       " [100, 10, 20, 111, 22],\n",
       " 10,\n",
       " 20,\n",
       " 30,\n",
       " 40,\n",
       " 50,\n",
       " 70,\n",
       " 80,\n",
       " 90,\n",
       " [100, 10, 20, 111, 22]]"
      ]
     },
     "execution_count": 102,
     "metadata": {},
     "output_type": "execute_result"
    }
   ],
   "source": [
    "lst1"
   ]
  },
  {
   "cell_type": "code",
   "execution_count": 103,
   "id": "3b0d4ba0-962c-4170-85bd-bdab0f77eb39",
   "metadata": {},
   "outputs": [
    {
     "data": {
      "text/plain": [
       "7"
      ]
     },
     "execution_count": 103,
     "metadata": {},
     "output_type": "execute_result"
    }
   ],
   "source": [
    "lst1.index(90)"
   ]
  },
  {
   "cell_type": "code",
   "execution_count": 106,
   "id": "85f10378-969b-417c-9a37-fdb7528c00ba",
   "metadata": {},
   "outputs": [],
   "source": [
    "lst1.clear()"
   ]
  },
  {
   "cell_type": "code",
   "execution_count": 107,
   "id": "23172a31-77c6-4ab4-be3b-190af779600a",
   "metadata": {},
   "outputs": [
    {
     "data": {
      "text/plain": [
       "[]"
      ]
     },
     "execution_count": 107,
     "metadata": {},
     "output_type": "execute_result"
    }
   ],
   "source": [
    "lst1"
   ]
  },
  {
   "cell_type": "code",
   "execution_count": 108,
   "id": "5585ba7c-f97e-4150-b0b1-6d1e30cc282f",
   "metadata": {},
   "outputs": [],
   "source": [
    "lst1 = [1,2,'python','java',2.2,3.4]"
   ]
  },
  {
   "cell_type": "code",
   "execution_count": 109,
   "id": "578e53d1-0146-478c-86e6-f0ab205251a1",
   "metadata": {},
   "outputs": [
    {
     "data": {
      "text/plain": [
       "[1, 2, 'python', 'java', 2.2, 3.4]"
      ]
     },
     "execution_count": 109,
     "metadata": {},
     "output_type": "execute_result"
    }
   ],
   "source": [
    "lst1"
   ]
  },
  {
   "cell_type": "code",
   "execution_count": 110,
   "id": "05cf2ed9-66f5-4d51-9d82-8dd4245d5970",
   "metadata": {},
   "outputs": [
    {
     "data": {
      "text/plain": [
       "2"
      ]
     },
     "execution_count": 110,
     "metadata": {},
     "output_type": "execute_result"
    }
   ],
   "source": [
    "lst1.index('python')"
   ]
  },
  {
   "cell_type": "code",
   "execution_count": 111,
   "id": "affb9aff-0375-4685-b139-08d7538db5c9",
   "metadata": {},
   "outputs": [
    {
     "ename": "TypeError",
     "evalue": "'<' not supported between instances of 'str' and 'int'",
     "output_type": "error",
     "traceback": [
      "\u001b[1;31m---------------------------------------------------------------------------\u001b[0m",
      "\u001b[1;31mTypeError\u001b[0m                                 Traceback (most recent call last)",
      "Cell \u001b[1;32mIn[111], line 1\u001b[0m\n\u001b[1;32m----> 1\u001b[0m \u001b[43mlst1\u001b[49m\u001b[38;5;241;43m.\u001b[39;49m\u001b[43msort\u001b[49m\u001b[43m(\u001b[49m\u001b[43m)\u001b[49m\n",
      "\u001b[1;31mTypeError\u001b[0m: '<' not supported between instances of 'str' and 'int'"
     ]
    }
   ],
   "source": [
    "lst1.sort()"
   ]
  },
  {
   "cell_type": "code",
   "execution_count": 112,
   "id": "8b489006-2106-48f1-bf3e-847e6a8ab887",
   "metadata": {},
   "outputs": [
    {
     "data": {
      "text/plain": [
       "3.4"
      ]
     },
     "execution_count": 112,
     "metadata": {},
     "output_type": "execute_result"
    }
   ],
   "source": [
    "lst1.pop()"
   ]
  },
  {
   "cell_type": "code",
   "execution_count": 113,
   "id": "caffbb17-96ca-4c42-849c-32d62e3586d3",
   "metadata": {},
   "outputs": [
    {
     "data": {
      "text/plain": [
       "[1, 2, 'python', 'java', 2.2]"
      ]
     },
     "execution_count": 113,
     "metadata": {},
     "output_type": "execute_result"
    }
   ],
   "source": [
    "lst1"
   ]
  },
  {
   "cell_type": "code",
   "execution_count": 114,
   "id": "5534191d-0f9b-4361-b364-b7b92963d156",
   "metadata": {},
   "outputs": [],
   "source": [
    "lst1.remove('python')"
   ]
  },
  {
   "cell_type": "code",
   "execution_count": 115,
   "id": "9017114e-f72b-4ec0-a870-f5173f19c7d2",
   "metadata": {},
   "outputs": [
    {
     "data": {
      "text/plain": [
       "[1, 2, 'java', 2.2]"
      ]
     },
     "execution_count": 115,
     "metadata": {},
     "output_type": "execute_result"
    }
   ],
   "source": [
    "lst1"
   ]
  },
  {
   "cell_type": "code",
   "execution_count": 118,
   "id": "b410c3a6-6e20-444f-9f98-e479c2d4cf46",
   "metadata": {},
   "outputs": [
    {
     "data": {
      "text/plain": [
       "'java'"
      ]
     },
     "execution_count": 118,
     "metadata": {},
     "output_type": "execute_result"
    }
   ],
   "source": [
    "lst1.pop(2)"
   ]
  },
  {
   "cell_type": "code",
   "execution_count": 119,
   "id": "916582f6-4c70-41d9-83b9-7232b09a44ac",
   "metadata": {},
   "outputs": [
    {
     "data": {
      "text/plain": [
       "[1, 2, 2.2]"
      ]
     },
     "execution_count": 119,
     "metadata": {},
     "output_type": "execute_result"
    }
   ],
   "source": [
    "lst1"
   ]
  },
  {
   "cell_type": "code",
   "execution_count": 126,
   "id": "45e91784-48a2-4b9b-935a-c29ac6bf6940",
   "metadata": {},
   "outputs": [],
   "source": [
    "l=[21,1,9,3,51,16]"
   ]
  },
  {
   "cell_type": "code",
   "execution_count": 127,
   "id": "406e99f6-0cd1-478b-b969-02c8492e7b9a",
   "metadata": {},
   "outputs": [
    {
     "data": {
      "text/plain": [
       "[21, 1, 9, 3, 51, 16]"
      ]
     },
     "execution_count": 127,
     "metadata": {},
     "output_type": "execute_result"
    }
   ],
   "source": [
    "l"
   ]
  },
  {
   "cell_type": "code",
   "execution_count": 132,
   "id": "e7629bac-f24b-41f1-8f84-70c03d0fb733",
   "metadata": {},
   "outputs": [],
   "source": [
    "l.sort(reverse=True)"
   ]
  },
  {
   "cell_type": "code",
   "execution_count": 133,
   "id": "3371f367-cfff-42a6-af49-3722abc524f8",
   "metadata": {},
   "outputs": [
    {
     "data": {
      "text/plain": [
       "[51, 21, 16, 9, 3, 1]"
      ]
     },
     "execution_count": 133,
     "metadata": {},
     "output_type": "execute_result"
    }
   ],
   "source": [
    "l"
   ]
  },
  {
   "cell_type": "code",
   "execution_count": 134,
   "id": "52bab05d-4ca3-4fd0-acf9-708e72562ede",
   "metadata": {},
   "outputs": [],
   "source": [
    "l[0:3] = [5, 2,6]"
   ]
  },
  {
   "cell_type": "code",
   "execution_count": 135,
   "id": "841c558b-8581-417d-9237-a68c0d13988b",
   "metadata": {},
   "outputs": [
    {
     "data": {
      "text/plain": [
       "[5, 2, 6, 9, 3, 1]"
      ]
     },
     "execution_count": 135,
     "metadata": {},
     "output_type": "execute_result"
    }
   ],
   "source": [
    "l"
   ]
  },
  {
   "cell_type": "code",
   "execution_count": 136,
   "id": "f3886621-4edc-468b-97c2-27d7a88151a9",
   "metadata": {},
   "outputs": [
    {
     "name": "stdout",
     "output_type": "stream",
     "text": [
      "5\n",
      "2\n",
      "6\n",
      "9\n",
      "3\n",
      "1\n"
     ]
    }
   ],
   "source": [
    "for i in l:\n",
    "    print(i)"
   ]
  },
  {
   "cell_type": "code",
   "execution_count": 8,
   "id": "ddc06797-0938-468a-91d0-03a16970b8ed",
   "metadata": {},
   "outputs": [
    {
     "name": "stdout",
     "output_type": "stream",
     "text": [
      "[1, 2, 3, 4, 5]\n"
     ]
    }
   ],
   "source": [
    "l1 = [1,2,3,4,5]\n",
    "print(l1)"
   ]
  },
  {
   "cell_type": "code",
   "execution_count": 9,
   "id": "2dda8a02-feec-4717-b905-9b9df56c6805",
   "metadata": {},
   "outputs": [
    {
     "data": {
      "text/plain": [
       "(1, 2, 3, 4, 5)"
      ]
     },
     "execution_count": 9,
     "metadata": {},
     "output_type": "execute_result"
    }
   ],
   "source": [
    "t = tuple(l1)\n",
    "t"
   ]
  },
  {
   "cell_type": "code",
   "execution_count": 10,
   "id": "c566fd79-5414-478d-9259-280ed0cb4682",
   "metadata": {},
   "outputs": [
    {
     "data": {
      "text/plain": [
       "1"
      ]
     },
     "execution_count": 10,
     "metadata": {},
     "output_type": "execute_result"
    }
   ],
   "source": [
    "l1.count(2)"
   ]
  },
  {
   "cell_type": "code",
   "execution_count": 11,
   "id": "bf8572f8-0401-43dc-ade8-884f1cf14bad",
   "metadata": {},
   "outputs": [
    {
     "data": {
      "text/plain": [
       "2"
      ]
     },
     "execution_count": 11,
     "metadata": {},
     "output_type": "execute_result"
    }
   ],
   "source": [
    "t.index(3)"
   ]
  },
  {
   "cell_type": "code",
   "execution_count": 6,
   "id": "2cfe726a-574f-4770-807e-111bcfb2200c",
   "metadata": {},
   "outputs": [
    {
     "name": "stdout",
     "output_type": "stream",
     "text": [
      "(1, 2, 3, 4, 5)\n"
     ]
    }
   ],
   "source": [
    "print(t)"
   ]
  },
  {
   "cell_type": "code",
   "execution_count": 12,
   "id": "7774b0d3-317d-4b36-971f-87a1f603d7c9",
   "metadata": {},
   "outputs": [
    {
     "data": {
      "text/plain": [
       "[1, 2, 3, 4, 5]"
      ]
     },
     "execution_count": 12,
     "metadata": {},
     "output_type": "execute_result"
    }
   ],
   "source": [
    "l1"
   ]
  },
  {
   "cell_type": "code",
   "execution_count": 14,
   "id": "04f199a4-f187-407e-b5b2-fb94a5838323",
   "metadata": {},
   "outputs": [
    {
     "data": {
      "text/plain": [
       "((1, 2, 3, 4, 5), tuple)"
      ]
     },
     "execution_count": 14,
     "metadata": {},
     "output_type": "execute_result"
    }
   ],
   "source": [
    "tup = tuple(l1)\n",
    "tup, type(tup)"
   ]
  },
  {
   "cell_type": "code",
   "execution_count": 15,
   "id": "85cbc9f3-d7d2-4ecd-945e-5b384fb18a2d",
   "metadata": {},
   "outputs": [
    {
     "data": {
      "text/plain": [
       "(1, 2, 3, 4, 5)"
      ]
     },
     "execution_count": 15,
     "metadata": {},
     "output_type": "execute_result"
    }
   ],
   "source": [
    "tup"
   ]
  },
  {
   "cell_type": "code",
   "execution_count": 20,
   "id": "9836331c-3cd5-47b6-a883-fcad104d4511",
   "metadata": {},
   "outputs": [],
   "source": [
    "import numpy as np\n",
    "import pandas as pd"
   ]
  },
  {
   "cell_type": "code",
   "execution_count": 23,
   "id": "546b312d-5b46-460b-9923-95c39dd127a1",
   "metadata": {},
   "outputs": [
    {
     "data": {
      "text/plain": [
       "'3.11.5 (tags/v3.11.5:cce6ba9, Aug 24 2023, 14:38:34) [MSC v.1936 64 bit (AMD64)]'"
      ]
     },
     "execution_count": 23,
     "metadata": {},
     "output_type": "execute_result"
    }
   ],
   "source": [
    "import sys\n",
    "sys.version"
   ]
  },
  {
   "cell_type": "code",
   "execution_count": 1,
   "id": "aa865c70-bdd7-457b-a2f4-af8c90642cf9",
   "metadata": {},
   "outputs": [
    {
     "name": "stdout",
     "output_type": "stream",
     "text": [
      "(1, 2, 3, 4, 5, 6)\n",
      "<class 'tuple'>\n"
     ]
    }
   ],
   "source": [
    "tup=tuple((1,2,3,4,5,6))\n",
    "print(tup)\n",
    "print(type(tup))"
   ]
  },
  {
   "cell_type": "code",
   "execution_count": 2,
   "id": "cd612564-c72d-4b53-a49c-ec982dd24f3f",
   "metadata": {},
   "outputs": [
    {
     "name": "stdout",
     "output_type": "stream",
     "text": [
      "(1, 2, 3, 4, 5, 6)\n",
      "<class 'tuple'>\n",
      "****************************************************************************************************\n",
      "[1, 2, 3, 4, 5, 6]\n",
      "<class 'list'>\n"
     ]
    }
   ],
   "source": [
    "print(tup)\n",
    "print(type(tup))\n",
    "\n",
    "print('*'*100)\n",
    "\n",
    "l_tup=list(tup)\n",
    "print(l_tup)\n",
    "print(type(l_tup))"
   ]
  },
  {
   "cell_type": "code",
   "execution_count": 3,
   "id": "48fc4e4b-363e-4c00-8e05-cb40f7c7e522",
   "metadata": {},
   "outputs": [],
   "source": [
    "l_tup.append(100)"
   ]
  },
  {
   "cell_type": "code",
   "execution_count": 4,
   "id": "2ffba51c-5ad9-4892-827c-26e29b2f7150",
   "metadata": {},
   "outputs": [
    {
     "name": "stdout",
     "output_type": "stream",
     "text": [
      "(1, 2, 3, 4, 5, 6, 100)\n"
     ]
    }
   ],
   "source": [
    "tup = tuple(l_tup)\n",
    "print(tup)"
   ]
  },
  {
   "cell_type": "code",
   "execution_count": 5,
   "id": "101eb600-518f-4e5f-850a-64106dc6767c",
   "metadata": {},
   "outputs": [
    {
     "data": {
      "text/plain": [
       "(1, 2, 3, 4, 5, 6, 100)"
      ]
     },
     "execution_count": 5,
     "metadata": {},
     "output_type": "execute_result"
    }
   ],
   "source": [
    "tup"
   ]
  },
  {
   "cell_type": "code",
   "execution_count": 7,
   "id": "221fd92f-203b-4f80-8af9-8971486d66a4",
   "metadata": {},
   "outputs": [
    {
     "data": {
      "text/plain": [
       "6"
      ]
     },
     "execution_count": 7,
     "metadata": {},
     "output_type": "execute_result"
    }
   ],
   "source": [
    "tup[5]"
   ]
  },
  {
   "cell_type": "code",
   "execution_count": 8,
   "id": "f38c7230-d5d9-4964-b832-17229e40e628",
   "metadata": {},
   "outputs": [],
   "source": [
    "tup11=('A','B','C','D','E')"
   ]
  },
  {
   "cell_type": "code",
   "execution_count": 9,
   "id": "f1f42f37-6e85-4250-99b2-1473d822b243",
   "metadata": {},
   "outputs": [
    {
     "data": {
      "text/plain": [
       "('A', 'B', 'C', 'D', 'E')"
      ]
     },
     "execution_count": 9,
     "metadata": {},
     "output_type": "execute_result"
    }
   ],
   "source": [
    "tup11"
   ]
  },
  {
   "cell_type": "code",
   "execution_count": 10,
   "id": "6b0e790d-42c1-45fb-8d22-f38d2846def5",
   "metadata": {},
   "outputs": [
    {
     "data": {
      "text/plain": [
       "tuple"
      ]
     },
     "execution_count": 10,
     "metadata": {},
     "output_type": "execute_result"
    }
   ],
   "source": [
    "type(tup11)"
   ]
  },
  {
   "cell_type": "code",
   "execution_count": 11,
   "id": "5271245b-4fea-40b8-bae4-d15e82759a85",
   "metadata": {},
   "outputs": [
    {
     "data": {
      "text/plain": [
       "(1, 2, 3, 4, 5, 6, 100)"
      ]
     },
     "execution_count": 11,
     "metadata": {},
     "output_type": "execute_result"
    }
   ],
   "source": [
    "tup"
   ]
  },
  {
   "cell_type": "code",
   "execution_count": 12,
   "id": "07a4c4bc-fc1d-4969-9773-d3cac84eb74a",
   "metadata": {},
   "outputs": [
    {
     "data": {
      "text/plain": [
       "('A', 'B', 'C', 'D', 'E')"
      ]
     },
     "execution_count": 12,
     "metadata": {},
     "output_type": "execute_result"
    }
   ],
   "source": [
    "tup11"
   ]
  },
  {
   "cell_type": "code",
   "execution_count": 13,
   "id": "ef74a0c1-6be3-4e56-bc88-9cd2a732b727",
   "metadata": {},
   "outputs": [
    {
     "data": {
      "text/plain": [
       "(1, 2, 3, 4, 5, 6, 100, 'A', 'B', 'C', 'D', 'E')"
      ]
     },
     "execution_count": 13,
     "metadata": {},
     "output_type": "execute_result"
    }
   ],
   "source": [
    "top = tup +  tup11\n",
    "top"
   ]
  },
  {
   "cell_type": "code",
   "execution_count": 14,
   "id": "88a3ae47-7f07-454f-85b4-bdc0c8af8678",
   "metadata": {},
   "outputs": [],
   "source": [
    "del top"
   ]
  },
  {
   "cell_type": "code",
   "execution_count": 16,
   "id": "42b58551-0817-45f4-b1ae-4cd90b49cf6d",
   "metadata": {},
   "outputs": [],
   "source": [
    "# top"
   ]
  },
  {
   "cell_type": "code",
   "execution_count": 17,
   "id": "06398e16-0a7c-4799-9836-6befc1b66b9e",
   "metadata": {},
   "outputs": [
    {
     "data": {
      "text/plain": [
       "(1, 2, 3, 4, 5, 6, 100)"
      ]
     },
     "execution_count": 17,
     "metadata": {},
     "output_type": "execute_result"
    }
   ],
   "source": [
    "tup"
   ]
  },
  {
   "cell_type": "code",
   "execution_count": 28,
   "id": "d6960d75-aa08-4b75-a1e4-0ce1f7b45468",
   "metadata": {},
   "outputs": [],
   "source": [
    "(dig, *bhav, ps, lalu) = tup"
   ]
  },
  {
   "cell_type": "code",
   "execution_count": 29,
   "id": "e9fa0520-72fe-472a-afce-dbc9ef30d58c",
   "metadata": {},
   "outputs": [
    {
     "name": "stdout",
     "output_type": "stream",
     "text": [
      "1\n",
      "[2, 3, 4, 5]\n",
      "6\n",
      "100\n"
     ]
    }
   ],
   "source": [
    "print(dig)\n",
    "print(bhav)\n",
    "print(ps)\n",
    "print(lalu)"
   ]
  },
  {
   "cell_type": "code",
   "execution_count": 30,
   "id": "c0b8dc29-e581-4221-afb6-8d261a406490",
   "metadata": {},
   "outputs": [
    {
     "data": {
      "text/plain": [
       "((1, 2, 3, 4, 5, 6, 100), ('A', 'B', 'C', 'D', 'E'))"
      ]
     },
     "execution_count": 30,
     "metadata": {},
     "output_type": "execute_result"
    }
   ],
   "source": [
    "tup, tup11"
   ]
  },
  {
   "cell_type": "code",
   "execution_count": 31,
   "id": "e1f6e39c-4f78-40e3-883b-eab4a3bb477c",
   "metadata": {},
   "outputs": [],
   "source": [
    "top = (*tup, *tup11)"
   ]
  },
  {
   "cell_type": "code",
   "execution_count": 32,
   "id": "d6cfc724-c4aa-48ce-8489-ed77f176aed4",
   "metadata": {},
   "outputs": [
    {
     "data": {
      "text/plain": [
       "(1, 2, 3, 4, 5, 6, 100, 'A', 'B', 'C', 'D', 'E')"
      ]
     },
     "execution_count": 32,
     "metadata": {},
     "output_type": "execute_result"
    }
   ],
   "source": [
    "top"
   ]
  },
  {
   "cell_type": "code",
   "execution_count": 33,
   "id": "3d01e247-39ef-4857-909b-7dea5e74a48f",
   "metadata": {},
   "outputs": [],
   "source": [
    "def add(a,b,c,d):\n",
    "    return a+b+c+d"
   ]
  },
  {
   "cell_type": "code",
   "execution_count": 39,
   "id": "eb1793b2-4605-493e-ac4f-9423c7d702fc",
   "metadata": {},
   "outputs": [
    {
     "name": "stdout",
     "output_type": "stream",
     "text": [
      "1912\n"
     ]
    }
   ],
   "source": [
    "value = (1000, 324,388, 200)\n",
    "num = add(*value)\n",
    "print(num)"
   ]
  },
  {
   "cell_type": "code",
   "execution_count": 35,
   "id": "a50b9143-7116-4159-850d-6c2be8c94bf2",
   "metadata": {},
   "outputs": [
    {
     "data": {
      "text/plain": [
       "136"
      ]
     },
     "execution_count": 35,
     "metadata": {},
     "output_type": "execute_result"
    }
   ],
   "source": [
    "values = (1,2,99,34)\n",
    "num = add(*values)\n",
    "num"
   ]
  },
  {
   "cell_type": "code",
   "execution_count": 37,
   "id": "4a73684a-76e5-49f2-a567-2e3ede83e4b0",
   "metadata": {},
   "outputs": [
    {
     "name": "stdout",
     "output_type": "stream",
     "text": [
      "(10, 20, 30, 30, 50)\n",
      "(1, 2, 3, 4, 5)\n"
     ]
    }
   ],
   "source": [
    "t1 = (10,20,30,30,50)\n",
    "t2 = (1, 2, 3, 4, 5)\n",
    "print(t1)\n",
    "print(t2)"
   ]
  },
  {
   "cell_type": "code",
   "execution_count": 40,
   "id": "934b3059-40c6-4b2a-8c0a-e3b581622846",
   "metadata": {},
   "outputs": [
    {
     "name": "stdout",
     "output_type": "stream",
     "text": [
      "{1, 2, 3, 4, 'akash', 'pradip', 'vaibhav'} <class 'set'>\n",
      "{1, 2, 3, 'chetan', 70.1, 'kaviraj', 'sai'} <class 'set'>\n"
     ]
    }
   ],
   "source": [
    "s1 = {1,2,3,4,'vaibhav','akash','pradip'}\n",
    "s2 = {1,2,3,\"sai\",\"kaviraj\",\"chetan\",70.1}\n",
    "print(s1, type(s1))\n",
    "print(s2, type(s2))"
   ]
  },
  {
   "cell_type": "code",
   "execution_count": 51,
   "id": "a5374a21-3082-4304-9352-2565c975579e",
   "metadata": {},
   "outputs": [],
   "source": [
    "s1.add(11)"
   ]
  },
  {
   "cell_type": "code",
   "execution_count": 53,
   "id": "e64b7208-d9ab-4083-ab0c-17ba13d52339",
   "metadata": {},
   "outputs": [],
   "source": [
    "s1.update(s2)"
   ]
  },
  {
   "cell_type": "code",
   "execution_count": 54,
   "id": "32a887be-f819-43b2-9fd1-fd334ac42df5",
   "metadata": {},
   "outputs": [
    {
     "data": {
      "text/plain": [
       "{1,\n",
       " 11,\n",
       " 2,\n",
       " 3,\n",
       " 4,\n",
       " 70.1,\n",
       " 'akash',\n",
       " 'chetan',\n",
       " 'kaviraj',\n",
       " 'pradip',\n",
       " 'sai',\n",
       " 'vaibhav'}"
      ]
     },
     "execution_count": 54,
     "metadata": {},
     "output_type": "execute_result"
    }
   ],
   "source": [
    "s1"
   ]
  },
  {
   "cell_type": "code",
   "execution_count": 55,
   "id": "52bcd5b4-5b05-4fe2-bedf-39a7eaa1c960",
   "metadata": {},
   "outputs": [
    {
     "data": {
      "text/plain": [
       "{1, 2, 3, 70.1, 'chetan', 'kaviraj', 'sai'}"
      ]
     },
     "execution_count": 55,
     "metadata": {},
     "output_type": "execute_result"
    }
   ],
   "source": [
    "s2"
   ]
  },
  {
   "cell_type": "code",
   "execution_count": 56,
   "id": "834e755b-b48e-4bc2-83f5-4cd359650e12",
   "metadata": {},
   "outputs": [],
   "source": [
    "dict1 = {'name' : 'Lala'}"
   ]
  },
  {
   "cell_type": "code",
   "execution_count": 57,
   "id": "319ef95d-2c9d-437e-a560-cdffc364430c",
   "metadata": {},
   "outputs": [
    {
     "data": {
      "text/plain": [
       "{'name': 'Lala'}"
      ]
     },
     "execution_count": 57,
     "metadata": {},
     "output_type": "execute_result"
    }
   ],
   "source": [
    "dict1"
   ]
  },
  {
   "cell_type": "code",
   "execution_count": 58,
   "id": "31a3b77f-f9e9-4c6f-8df4-7e09b5e637f4",
   "metadata": {},
   "outputs": [],
   "source": [
    "s2.update(dict1)"
   ]
  },
  {
   "cell_type": "code",
   "execution_count": 59,
   "id": "c1428215-e470-48c4-a5fe-f1561fbbf308",
   "metadata": {},
   "outputs": [
    {
     "data": {
      "text/plain": [
       "{1, 2, 3, 70.1, 'chetan', 'kaviraj', 'name', 'sai'}"
      ]
     },
     "execution_count": 59,
     "metadata": {},
     "output_type": "execute_result"
    }
   ],
   "source": [
    "s2"
   ]
  },
  {
   "cell_type": "code",
   "execution_count": 60,
   "id": "17548da4-31d4-4ea3-b734-88aeab8a0831",
   "metadata": {},
   "outputs": [],
   "source": [
    "s2.remove('name')"
   ]
  },
  {
   "cell_type": "code",
   "execution_count": 61,
   "id": "eadedc86-3335-44f4-8b49-096f4698e6ec",
   "metadata": {},
   "outputs": [
    {
     "data": {
      "text/plain": [
       "{1, 2, 3, 70.1, 'chetan', 'kaviraj', 'sai'}"
      ]
     },
     "execution_count": 61,
     "metadata": {},
     "output_type": "execute_result"
    }
   ],
   "source": [
    "s2"
   ]
  },
  {
   "cell_type": "code",
   "execution_count": 64,
   "id": "2c39fa95-c016-4c60-87e0-81a2bbe5bbb4",
   "metadata": {},
   "outputs": [],
   "source": [
    "s2.discard('name')"
   ]
  },
  {
   "cell_type": "code",
   "execution_count": 65,
   "id": "a6b9c654-d1ad-4e51-ba65-cbeaa5e43c43",
   "metadata": {},
   "outputs": [
    {
     "data": {
      "text/plain": [
       "{1, 2, 3, 70.1, 'chetan', 'kaviraj', 'sai'}"
      ]
     },
     "execution_count": 65,
     "metadata": {},
     "output_type": "execute_result"
    }
   ],
   "source": [
    "s2"
   ]
  },
  {
   "cell_type": "code",
   "execution_count": 66,
   "id": "e7f960ca-1f92-469f-b5e7-83ce6ad0352e",
   "metadata": {},
   "outputs": [
    {
     "data": {
      "text/plain": [
       "{1,\n",
       " 11,\n",
       " 2,\n",
       " 3,\n",
       " 4,\n",
       " 70.1,\n",
       " 'akash',\n",
       " 'chetan',\n",
       " 'kaviraj',\n",
       " 'pradip',\n",
       " 'sai',\n",
       " 'vaibhav'}"
      ]
     },
     "execution_count": 66,
     "metadata": {},
     "output_type": "execute_result"
    }
   ],
   "source": [
    "s1"
   ]
  },
  {
   "cell_type": "code",
   "execution_count": 67,
   "id": "0250e619-694b-494c-b5c9-65f86c090d7a",
   "metadata": {},
   "outputs": [
    {
     "data": {
      "text/plain": [
       "{1, 2, 3, 70.1, 'chetan', 'kaviraj', 'sai'}"
      ]
     },
     "execution_count": 67,
     "metadata": {},
     "output_type": "execute_result"
    }
   ],
   "source": [
    "s2"
   ]
  },
  {
   "cell_type": "code",
   "execution_count": 68,
   "id": "48cf1fa1-02a0-4bf6-a4b5-322affd9b55a",
   "metadata": {},
   "outputs": [],
   "source": [
    "s1={1,2,3,4}\n",
    "s2={3,4,5,6,7}"
   ]
  },
  {
   "cell_type": "code",
   "execution_count": 69,
   "id": "b85dc86c-0e6c-42f6-875b-800ebae798db",
   "metadata": {},
   "outputs": [
    {
     "data": {
      "text/plain": [
       "{1, 2, 3, 4, 5, 6, 7}"
      ]
     },
     "execution_count": 69,
     "metadata": {},
     "output_type": "execute_result"
    }
   ],
   "source": [
    "s1.union(s2)"
   ]
  },
  {
   "cell_type": "code",
   "execution_count": 70,
   "id": "87f68d2d-f4fc-4855-9cdf-80440bf380bf",
   "metadata": {},
   "outputs": [
    {
     "data": {
      "text/plain": [
       "{3, 4}"
      ]
     },
     "execution_count": 70,
     "metadata": {},
     "output_type": "execute_result"
    }
   ],
   "source": [
    "s1.intersection(s2)"
   ]
  },
  {
   "cell_type": "code",
   "execution_count": 73,
   "id": "d486ce0c-a40f-4285-8c30-bd1b585afebe",
   "metadata": {},
   "outputs": [],
   "source": [
    "s1.intersection_update(s2)"
   ]
  },
  {
   "cell_type": "code",
   "execution_count": 74,
   "id": "c78bdcda-f587-40f1-9f79-67f5346eb18e",
   "metadata": {},
   "outputs": [
    {
     "data": {
      "text/plain": [
       "{3, 4}"
      ]
     },
     "execution_count": 74,
     "metadata": {},
     "output_type": "execute_result"
    }
   ],
   "source": [
    "s1"
   ]
  },
  {
   "cell_type": "code",
   "execution_count": 75,
   "id": "f9f3abea-8d65-4048-b605-32cdf9cf33d9",
   "metadata": {},
   "outputs": [],
   "source": [
    "s2.intersection_update(s1)"
   ]
  },
  {
   "cell_type": "code",
   "execution_count": 76,
   "id": "92b848d9-85e7-43f5-8d8e-f7bfed82fd61",
   "metadata": {},
   "outputs": [
    {
     "data": {
      "text/plain": [
       "{3, 4}"
      ]
     },
     "execution_count": 76,
     "metadata": {},
     "output_type": "execute_result"
    }
   ],
   "source": [
    "s2"
   ]
  },
  {
   "cell_type": "code",
   "execution_count": 81,
   "id": "f99a97cf-b114-47b4-a5d5-b43b9e0c2bc5",
   "metadata": {},
   "outputs": [
    {
     "data": {
      "text/plain": [
       "{6, 7, 8}"
      ]
     },
     "execution_count": 81,
     "metadata": {},
     "output_type": "execute_result"
    }
   ],
   "source": [
    "set1={1,2,3,4,5}\n",
    "set2={4,5,6,7,8}\n",
    "\n",
    "set2.difference(set1)"
   ]
  },
  {
   "cell_type": "code",
   "execution_count": 82,
   "id": "7aa05201-b255-40c1-96d7-aea192fb318f",
   "metadata": {},
   "outputs": [
    {
     "data": {
      "text/plain": [
       "{1, 2, 3, 6, 7, 8}"
      ]
     },
     "execution_count": 82,
     "metadata": {},
     "output_type": "execute_result"
    }
   ],
   "source": [
    "set2.symmetric_difference(set1)"
   ]
  },
  {
   "cell_type": "code",
   "execution_count": 83,
   "id": "b2b97e7d-021b-4901-8bf3-a630e771abfe",
   "metadata": {},
   "outputs": [],
   "source": [
    "set2.symmetric_difference_update(set1)"
   ]
  },
  {
   "cell_type": "code",
   "execution_count": 84,
   "id": "2073e64a-cf3d-40a5-a9cf-f71911fac389",
   "metadata": {},
   "outputs": [
    {
     "data": {
      "text/plain": [
       "{1, 2, 3, 6, 7, 8}"
      ]
     },
     "execution_count": 84,
     "metadata": {},
     "output_type": "execute_result"
    }
   ],
   "source": [
    "set2"
   ]
  },
  {
   "cell_type": "code",
   "execution_count": 86,
   "id": "d38eb135-e969-4d02-bbfd-17fdb1e0463b",
   "metadata": {},
   "outputs": [
    {
     "data": {
      "text/plain": [
       "(frozenset({1, 2, 3, 6, 7, 8}), frozenset)"
      ]
     },
     "execution_count": 86,
     "metadata": {},
     "output_type": "execute_result"
    }
   ],
   "source": [
    "fs = frozenset(set2)\n",
    "fs, type(fs)"
   ]
  },
  {
   "cell_type": "code",
   "execution_count": 87,
   "id": "5911dc86-463b-474c-82e9-931e681f5cd4",
   "metadata": {},
   "outputs": [],
   "source": [
    "stud = {\n",
    "    'roll_no' : 10,\n",
    "    'name' : 'Akashay',\n",
    "    'class' : 'TE',\n",
    "    'marks' : 89.90   \n",
    "       }"
   ]
  },
  {
   "cell_type": "code",
   "execution_count": 88,
   "id": "6848db7c-b821-45e5-b4c3-fb53a677aa78",
   "metadata": {},
   "outputs": [
    {
     "data": {
      "text/plain": [
       "{'roll_no': 10, 'name': 'Akashay', 'class': 'TE', 'marks': 89.9}"
      ]
     },
     "execution_count": 88,
     "metadata": {},
     "output_type": "execute_result"
    }
   ],
   "source": [
    "stud"
   ]
  },
  {
   "cell_type": "code",
   "execution_count": 89,
   "id": "4b568357-5e6b-4c7c-b65a-7ad090dfd354",
   "metadata": {},
   "outputs": [
    {
     "data": {
      "text/plain": [
       "89.9"
      ]
     },
     "execution_count": 89,
     "metadata": {},
     "output_type": "execute_result"
    }
   ],
   "source": [
    "stud['marks']"
   ]
  },
  {
   "cell_type": "code",
   "execution_count": 93,
   "id": "a7c8d3f5-ad42-4885-b16e-a7f1f66cefbd",
   "metadata": {},
   "outputs": [
    {
     "data": {
      "text/plain": [
       "89.9"
      ]
     },
     "execution_count": 93,
     "metadata": {},
     "output_type": "execute_result"
    }
   ],
   "source": [
    "stud.get('marks')"
   ]
  },
  {
   "cell_type": "code",
   "execution_count": 92,
   "id": "7b6621f9-d1aa-403f-bef3-a9e0b092ce98",
   "metadata": {},
   "outputs": [
    {
     "data": {
      "text/plain": [
       "{'roll_no': 10, 'name': 'Akashay', 'class': 'TE', 'marks': 89.9}"
      ]
     },
     "execution_count": 92,
     "metadata": {},
     "output_type": "execute_result"
    }
   ],
   "source": [
    "stud"
   ]
  },
  {
   "cell_type": "code",
   "execution_count": 94,
   "id": "09a52e5b-3296-4233-a171-f5fcf7789ae4",
   "metadata": {},
   "outputs": [
    {
     "data": {
      "text/plain": [
       "dict_keys(['roll_no', 'name', 'class', 'marks'])"
      ]
     },
     "execution_count": 94,
     "metadata": {},
     "output_type": "execute_result"
    }
   ],
   "source": [
    "stud.keys()"
   ]
  },
  {
   "cell_type": "code",
   "execution_count": 98,
   "id": "ef0f3e54-f81b-4fd5-ada8-822fbf742412",
   "metadata": {},
   "outputs": [
    {
     "name": "stdout",
     "output_type": "stream",
     "text": [
      "roll_no 10\n",
      "name Akashay\n",
      "class TE\n",
      "marks 89.9\n"
     ]
    }
   ],
   "source": [
    "for i in stud.keys():\n",
    "    print(i, stud[i])"
   ]
  },
  {
   "cell_type": "code",
   "execution_count": 99,
   "id": "7cfa71c9-742e-4781-aa76-272f9d246d28",
   "metadata": {},
   "outputs": [
    {
     "data": {
      "text/plain": [
       "dict_values([10, 'Akashay', 'TE', 89.9])"
      ]
     },
     "execution_count": 99,
     "metadata": {},
     "output_type": "execute_result"
    }
   ],
   "source": [
    "stud.values()"
   ]
  },
  {
   "cell_type": "code",
   "execution_count": 100,
   "id": "be3e4641-527f-4dc2-9ff6-cf579333ddf2",
   "metadata": {},
   "outputs": [
    {
     "data": {
      "text/plain": [
       "dict_items([('roll_no', 10), ('name', 'Akashay'), ('class', 'TE'), ('marks', 89.9)])"
      ]
     },
     "execution_count": 100,
     "metadata": {},
     "output_type": "execute_result"
    }
   ],
   "source": [
    "stud.items()"
   ]
  },
  {
   "cell_type": "code",
   "execution_count": 101,
   "id": "a891dfbf-e3a6-4d77-811e-1c2c30960510",
   "metadata": {},
   "outputs": [],
   "source": [
    "dict1 = {\n",
    "    'name' : 'Digvijay',\n",
    "    'mobile' : 1234567891,\n",
    "    'address' : 'sangli',\n",
    "    'job' : 'Data Scientist',\n",
    "    'salary' : 1000000,\n",
    "    'salary' : 10000\n",
    "    }"
   ]
  },
  {
   "cell_type": "code",
   "execution_count": 102,
   "id": "d12820bb-e32e-483c-be11-7d6757208cdf",
   "metadata": {},
   "outputs": [
    {
     "data": {
      "text/plain": [
       "'Data Scientist'"
      ]
     },
     "execution_count": 102,
     "metadata": {},
     "output_type": "execute_result"
    }
   ],
   "source": [
    "dict1['job']"
   ]
  },
  {
   "cell_type": "code",
   "execution_count": 103,
   "id": "0f64659b-19d2-46fd-b5b6-b3496fb16d2e",
   "metadata": {},
   "outputs": [
    {
     "data": {
      "text/plain": [
       "'Data Scientist'"
      ]
     },
     "execution_count": 103,
     "metadata": {},
     "output_type": "execute_result"
    }
   ],
   "source": [
    "dict1.get('job')"
   ]
  },
  {
   "cell_type": "code",
   "execution_count": 104,
   "id": "20d50989-46b3-4358-92c8-cb94d8110d4f",
   "metadata": {},
   "outputs": [
    {
     "name": "stdout",
     "output_type": "stream",
     "text": [
      "name Digvijay\n",
      "mobile 1234567891\n",
      "address sangli\n",
      "job Data Scientist\n",
      "salary 10000\n"
     ]
    }
   ],
   "source": [
    "for i in dict1.keys():\n",
    "    print(i, dict1[i])"
   ]
  },
  {
   "cell_type": "code",
   "execution_count": 105,
   "id": "314cf804-6e5a-480e-a23f-7c2ccd2fb02a",
   "metadata": {},
   "outputs": [
    {
     "data": {
      "text/plain": [
       "dict_values(['Digvijay', 1234567891, 'sangli', 'Data Scientist', 10000])"
      ]
     },
     "execution_count": 105,
     "metadata": {},
     "output_type": "execute_result"
    }
   ],
   "source": [
    "dict1.values()"
   ]
  },
  {
   "cell_type": "code",
   "execution_count": 107,
   "id": "5aed81e7-746c-43b2-8a8b-944022a38cb7",
   "metadata": {},
   "outputs": [
    {
     "data": {
      "text/plain": [
       "dict_items([('name', 'Digvijay'), ('mobile', 1234567891), ('address', 'sangli'), ('job', 'Data Scientist'), ('salary', 10000)])"
      ]
     },
     "execution_count": 107,
     "metadata": {},
     "output_type": "execute_result"
    }
   ],
   "source": [
    "dict1.items()"
   ]
  },
  {
   "cell_type": "code",
   "execution_count": 108,
   "id": "435894c1-d988-46cc-959d-6e5d4e79ecc3",
   "metadata": {},
   "outputs": [
    {
     "data": {
      "text/plain": [
       "{'roll_no': 10, 'name': 'Akashay', 'class': 'TE', 'marks': 89.9}"
      ]
     },
     "execution_count": 108,
     "metadata": {},
     "output_type": "execute_result"
    }
   ],
   "source": [
    "stud"
   ]
  },
  {
   "cell_type": "code",
   "execution_count": 109,
   "id": "d9e76e0d-305f-431b-a713-188a9c7dd1d0",
   "metadata": {},
   "outputs": [],
   "source": [
    "stud['name']='Dipak'"
   ]
  },
  {
   "cell_type": "code",
   "execution_count": 110,
   "id": "507806ec-0a96-4176-b01d-180b773e855f",
   "metadata": {},
   "outputs": [
    {
     "data": {
      "text/plain": [
       "{'roll_no': 10, 'name': 'Dipak', 'class': 'TE', 'marks': 89.9}"
      ]
     },
     "execution_count": 110,
     "metadata": {},
     "output_type": "execute_result"
    }
   ],
   "source": [
    "stud"
   ]
  },
  {
   "cell_type": "code",
   "execution_count": 111,
   "id": "ede5471b-258a-4ac6-9933-b89b57891261",
   "metadata": {},
   "outputs": [],
   "source": [
    "stud.update({\n",
    "    'loc' : 'Navi Mumbai',\n",
    "    'phobe' : 8600261039})"
   ]
  },
  {
   "cell_type": "code",
   "execution_count": 112,
   "id": "ecbd8f01-4a35-4e16-bdcc-6651c8baab69",
   "metadata": {},
   "outputs": [
    {
     "data": {
      "text/plain": [
       "{'roll_no': 10,\n",
       " 'name': 'Dipak',\n",
       " 'class': 'TE',\n",
       " 'marks': 89.9,\n",
       " 'loc': 'Navi Mumbai',\n",
       " 'phobe': 8600261039}"
      ]
     },
     "execution_count": 112,
     "metadata": {},
     "output_type": "execute_result"
    }
   ],
   "source": [
    "stud"
   ]
  },
  {
   "cell_type": "code",
   "execution_count": 115,
   "id": "74ccd6f0-02c7-4115-aabe-6af708867253",
   "metadata": {},
   "outputs": [
    {
     "data": {
      "text/plain": [
       "'TE'"
      ]
     },
     "execution_count": 115,
     "metadata": {},
     "output_type": "execute_result"
    }
   ],
   "source": [
    "stud.pop('class')"
   ]
  },
  {
   "cell_type": "code",
   "execution_count": 116,
   "id": "ff6f61e3-4da7-4db1-b48c-04b3dc0d23a6",
   "metadata": {},
   "outputs": [
    {
     "data": {
      "text/plain": [
       "{'roll_no': 10,\n",
       " 'name': 'Dipak',\n",
       " 'marks': 89.9,\n",
       " 'loc': 'Navi Mumbai',\n",
       " 'phobe': 8600261039}"
      ]
     },
     "execution_count": 116,
     "metadata": {},
     "output_type": "execute_result"
    }
   ],
   "source": [
    "stud"
   ]
  },
  {
   "cell_type": "code",
   "execution_count": 117,
   "id": "6e4f0416-77a8-40da-9473-165a6126b57d",
   "metadata": {},
   "outputs": [
    {
     "data": {
      "text/plain": [
       "('phobe', 8600261039)"
      ]
     },
     "execution_count": 117,
     "metadata": {},
     "output_type": "execute_result"
    }
   ],
   "source": [
    "stud.popitem()"
   ]
  },
  {
   "cell_type": "code",
   "execution_count": 118,
   "id": "07471179-18a4-44d2-8e72-cd80b5af3744",
   "metadata": {},
   "outputs": [
    {
     "data": {
      "text/plain": [
       "{'roll_no': 10, 'name': 'Dipak', 'marks': 89.9, 'loc': 'Navi Mumbai'}"
      ]
     },
     "execution_count": 118,
     "metadata": {},
     "output_type": "execute_result"
    }
   ],
   "source": [
    "stud"
   ]
  },
  {
   "cell_type": "code",
   "execution_count": 119,
   "id": "241ed064-061e-428c-b4bd-14c68e4bc623",
   "metadata": {},
   "outputs": [
    {
     "data": {
      "text/plain": [
       "{'roll_no': 'Dipak', 'name': 'Dipak', 'marks': 'Dipak', 'loc': 'Dipak'}"
      ]
     },
     "execution_count": 119,
     "metadata": {},
     "output_type": "execute_result"
    }
   ],
   "source": [
    "ns = stud.fromkeys(stud,'Dipak')\n",
    "ns"
   ]
  },
  {
   "cell_type": "code",
   "execution_count": 120,
   "id": "64c9fc27-f39e-4884-b704-1fee4a10acda",
   "metadata": {},
   "outputs": [
    {
     "data": {
      "text/plain": [
       "123456789"
      ]
     },
     "execution_count": 120,
     "metadata": {},
     "output_type": "execute_result"
    }
   ],
   "source": [
    "stud.setdefault('phone',123456789)"
   ]
  },
  {
   "cell_type": "code",
   "execution_count": 121,
   "id": "0d35ed0b-0131-48be-b30c-f30b43e96a72",
   "metadata": {},
   "outputs": [
    {
     "data": {
      "text/plain": [
       "{'roll_no': 10,\n",
       " 'name': 'Dipak',\n",
       " 'marks': 89.9,\n",
       " 'loc': 'Navi Mumbai',\n",
       " 'phone': 123456789}"
      ]
     },
     "execution_count": 121,
     "metadata": {},
     "output_type": "execute_result"
    }
   ],
   "source": [
    "stud"
   ]
  },
  {
   "cell_type": "code",
   "execution_count": 122,
   "id": "228f4b69-a06a-47b9-acd1-a139ae6202af",
   "metadata": {},
   "outputs": [
    {
     "data": {
      "text/plain": [
       "{'John': {'age': 20, 'grade': 'A'}, 'Sarah': {'age': 19, 'grade': 'B'}}"
      ]
     },
     "execution_count": 122,
     "metadata": {},
     "output_type": "execute_result"
    }
   ],
   "source": [
    "students = {\n",
    "    \"John\": {\n",
    "        \"age\": 20,\n",
    "        \"grade\": \"A\"\n",
    "            },\n",
    "    \n",
    "    \"Sarah\": {\n",
    "        \"age\": 19,\n",
    "        \"grade\": \"B\"\n",
    "             }\n",
    "           }\n",
    "\n",
    "students"
   ]
  },
  {
   "cell_type": "code",
   "execution_count": 123,
   "id": "f02363d9-8e9f-46d6-8989-853aee52a89c",
   "metadata": {},
   "outputs": [
    {
     "data": {
      "text/plain": [
       "20"
      ]
     },
     "execution_count": 123,
     "metadata": {},
     "output_type": "execute_result"
    }
   ],
   "source": [
    "students['John']['age']"
   ]
  },
  {
   "cell_type": "code",
   "execution_count": null,
   "id": "5a03353e-e4b1-4efe-a098-bdbd016a8600",
   "metadata": {},
   "outputs": [],
   "source": []
  }
 ],
 "metadata": {
  "kernelspec": {
   "display_name": "Python 3 (ipykernel)",
   "language": "python",
   "name": "python3"
  },
  "language_info": {
   "codemirror_mode": {
    "name": "ipython",
    "version": 3
   },
   "file_extension": ".py",
   "mimetype": "text/x-python",
   "name": "python",
   "nbconvert_exporter": "python",
   "pygments_lexer": "ipython3",
   "version": "3.11.5"
  }
 },
 "nbformat": 4,
 "nbformat_minor": 5
}
