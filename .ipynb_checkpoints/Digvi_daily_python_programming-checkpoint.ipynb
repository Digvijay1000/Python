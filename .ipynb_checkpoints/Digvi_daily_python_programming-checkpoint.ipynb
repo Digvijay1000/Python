{
 "cells": [
  {
   "cell_type": "markdown",
   "id": "02178d94",
   "metadata": {},
   "source": [
    "                                                                               Date: 16_April-2023"
   ]
  },
  {
   "cell_type": "markdown",
   "id": "88ef62b5",
   "metadata": {},
   "source": [
    "###### 1. WAP for finding common & uncommon element from list and dictionary"
   ]
  },
  {
   "cell_type": "code",
   "execution_count": 1,
   "id": "d8e56b41",
   "metadata": {},
   "outputs": [
    {
     "name": "stdout",
     "output_type": "stream",
     "text": [
      "Values of Common elements from list & dictionary : [10, 20, 30]\n",
      "******************************************************************************************\n",
      "Values of uncommon elements from list & dictionary : [40, 50]\n",
      "******************************************************************************************\n",
      "Keys of common elements from list & dictionary : ['A', 'B', 'C']\n",
      "******************************************************************************************\n",
      "Keys of uncommon elements from list & dictionary : ['D', 'E']\n"
     ]
    }
   ],
   "source": [
    "list1=['A','B','C']\n",
    "dict1={'A':10,'B':20,'C':30,'D':40,'E':50}\n",
    "\n",
    "com=[]\n",
    "uncom=[]\n",
    "com_keys=[]\n",
    "uncom_keys=[]\n",
    "\n",
    "for i in list1:\n",
    "    if i in dict1:\n",
    "        com.append(dict1[i])      \n",
    "\n",
    "for i in dict1:\n",
    "    if i not in list1:\n",
    "        uncom.append(dict1[i])\n",
    "            \n",
    "for i in list1:\n",
    "    if i in dict1:\n",
    "        com_keys.append(i)\n",
    "             \n",
    "for i in dict1:\n",
    "    if i not in list1:\n",
    "        uncom_keys.append(i)\n",
    "          \n",
    "        \n",
    "print('Values of Common elements from list & dictionary :',com)\n",
    "print('*'*90)\n",
    "\n",
    "print(\"Values of uncommon elements from list & dictionary :\",uncom)     \n",
    "print('*'*90)\n",
    "\n",
    "print('Keys of common elements from list & dictionary :',com_keys)     \n",
    "print('*'*90)\n",
    "\n",
    "print('Keys of uncommon elements from list & dictionary :',uncom_keys)"
   ]
  },
  {
   "cell_type": "markdown",
   "id": "bfaf4c83",
   "metadata": {},
   "source": [
    "###### 2. WAP for finding even and odd numbers from range 1 to 100"
   ]
  },
  {
   "cell_type": "code",
   "execution_count": 2,
   "id": "c340a8cb",
   "metadata": {},
   "outputs": [
    {
     "name": "stdout",
     "output_type": "stream",
     "text": [
      "Even numbers are : [2, 4, 6, 8, 10, 12, 14, 16, 18, 20, 22, 24, 26, 28, 30, 32, 34, 36, 38, 40, 42, 44, 46, 48, 50, 52, 54, 56, 58, 60, 62, 64, 66, 68, 70, 72, 74, 76, 78, 80, 82, 84, 86, 88, 90, 92, 94, 96, 98, 100]\n",
      "****************************************************************************************************\n",
      "Odd numbers are : [1, 3, 5, 7, 9, 11, 13, 15, 17, 19, 21, 23, 25, 27, 29, 31, 33, 35, 37, 39, 41, 43, 45, 47, 49, 51, 53, 55, 57, 59, 61, 63, 65, 67, 69, 71, 73, 75, 77, 79, 81, 83, 85, 87, 89, 91, 93, 95, 97, 99]\n"
     ]
    }
   ],
   "source": [
    "even_number=[]\n",
    "odd_number=[]\n",
    "\n",
    "for i in range(1,101):\n",
    "    if i%2==0:\n",
    "        even_number.append(i)\n",
    "    else:\n",
    "        odd_number.append(i)\n",
    "        \n",
    "print(\"Even numbers are :\",even_number)\n",
    "print('*'*100)\n",
    "print(\"Odd numbers are :\",odd_number)"
   ]
  },
  {
   "cell_type": "markdown",
   "id": "e3ef5723",
   "metadata": {},
   "source": [
    "###### 3.  Program for finding given number is prime or not"
   ]
  },
  {
   "cell_type": "markdown",
   "id": "45b85a64",
   "metadata": {},
   "source": [
    "###### Prime Numbers\n",
    "\n",
    "    A prime number is a positive integer greater than 1 that has only two factors, 1 and itself. In other words, it is a number that is divisible by only 1 and itself. For example, 2, 3, 5, 7, 11, 13, 17, 19, 23, 29, 31, 37, 41, 43, 47, 53, 59, 61, 67, 71, 73, 79, 83, 89, 97 are all prime numbers."
   ]
  },
  {
   "cell_type": "code",
   "execution_count": 3,
   "id": "00010cea",
   "metadata": {},
   "outputs": [
    {
     "name": "stdout",
     "output_type": "stream",
     "text": [
      "Enter number100\n",
      "100 is not Prime number\n"
     ]
    }
   ],
   "source": [
    "num=int(input('Enter number'))\n",
    "\n",
    "for i in range(2,num):\n",
    "    if num%i == 0:\n",
    "        print(num,'is not Prime number')\n",
    "        break\n",
    "    else:\n",
    "        print(num,'is Prime number')"
   ]
  },
  {
   "cell_type": "markdown",
   "id": "c5603e15",
   "metadata": {},
   "source": [
    "###### 4. Program for sorting prime /unprime numbers from given range"
   ]
  },
  {
   "cell_type": "code",
   "execution_count": 4,
   "id": "e0ee912b",
   "metadata": {},
   "outputs": [
    {
     "name": "stdout",
     "output_type": "stream",
     "text": [
      "not_prime list : [0, 1, 4, 6, 8, 9, 10, 12, 14, 15, 16, 18, 20, 21, 22, 24, 25, 26, 27, 28, 30, 32, 33, 34, 35, 36, 38, 39, 40, 42, 44, 45, 46, 48, 49, 50, 51, 52, 54, 55, 56, 57, 58, 60, 62, 63, 64, 65, 66, 68, 69, 70, 72, 74, 75, 76, 77, 78, 80, 81, 82, 84, 85, 86, 87, 88, 90, 91, 92, 93, 94, 95, 96, 98, 99, 100]\n",
      "****************************************************************************************************\n",
      "prime_num list : [2, 3, 5, 7, 11, 13, 17, 19, 23, 29, 31, 37, 41, 43, 47, 53, 59, 61, 67, 71, 73, 79, 83, 89, 97]\n"
     ]
    }
   ],
   "source": [
    "def is_prime(n):\n",
    "    if n < 2:\n",
    "        return False\n",
    "    for i in range(2,n):\n",
    "        if n % i == 0:\n",
    "            return False\n",
    "    return True\n",
    "\n",
    "prime_num=[]\n",
    "not_prime=[]\n",
    "\n",
    "for i in range(0,101):\n",
    "    if is_prime(i):\n",
    "        prime_num.append(i)\n",
    "    else:\n",
    "        not_prime.append(i)\n",
    "        \n",
    "print('not_prime list :',not_prime)\n",
    "print('*'*100)\n",
    "print('prime_num list :',prime_num)"
   ]
  },
  {
   "cell_type": "markdown",
   "id": "961e0b86",
   "metadata": {},
   "source": [
    "###### 5. Addition of string and integer Using Explicit Conversion"
   ]
  },
  {
   "cell_type": "code",
   "execution_count": 5,
   "id": "75fef5c9",
   "metadata": {},
   "outputs": [
    {
     "name": "stdout",
     "output_type": "stream",
     "text": [
      "string value : 1000\n",
      "<class 'str'>\n",
      "Integer value : 2000\n",
      "<class 'int'>\n",
      "****************************************************************************************************\n",
      "explicit conversion str_var to int_var :\n",
      "New converted str_var : 1000\n",
      "<class 'int'>\n",
      "****************************************************************************************************\n",
      "Addition of new_str_var and int_var : 3000\n"
     ]
    }
   ],
   "source": [
    "str_var='1000'\n",
    "int_var=2000\n",
    "\n",
    "print('string value :',str_var)\n",
    "print(type(str_var))\n",
    "\n",
    "print('Integer value :',int_var)\n",
    "print(type(int_var))\n",
    "\n",
    "print('*'*100)\n",
    "\n",
    "print('explicit conversion str_var to int_var :')\n",
    "new_str_var=int(str_var) # explicit conversion string to int\n",
    "print('New converted str_var :',new_str_var)\n",
    "print(type(new_str_var))\n",
    "\n",
    "print('*'*100)\n",
    "\n",
    "print('Addition of new_str_var and int_var :',new_str_var+int_var)"
   ]
  },
  {
   "cell_type": "markdown",
   "id": "179284e6",
   "metadata": {},
   "source": [
    "                                                                             Date : 17_April-2023"
   ]
  },
  {
   "cell_type": "markdown",
   "id": "cd943439",
   "metadata": {},
   "source": [
    "###### 6. Python program output of two print statemets in single line."
   ]
  },
  {
   "cell_type": "code",
   "execution_count": 6,
   "id": "a48fdb51",
   "metadata": {},
   "outputs": [
    {
     "name": "stdout",
     "output_type": "stream",
     "text": [
      "Do it now, sometimes later becomes never..! Practice makes man perfect..!\n"
     ]
    }
   ],
   "source": [
    "# print with end whitespace\n",
    "print('Do it now, sometimes later becomes never..!', end= ' ')\n",
    "print('Practice makes man perfect..!')"
   ]
  },
  {
   "cell_type": "code",
   "execution_count": 7,
   "id": "32801902",
   "metadata": {},
   "outputs": [
    {
     "name": "stdout",
     "output_type": "stream",
     "text": [
      "Do it now, sometimes later becomes never..! Practice makes man perfect..!\n"
     ]
    }
   ],
   "source": [
    "# print with the help of variables\n",
    "pr1='Do it now, sometimes later becomes never..!'\n",
    "pr2='Practice makes man perfect..!'\n",
    "\n",
    "print(pr1,pr2)"
   ]
  },
  {
   "cell_type": "markdown",
   "id": "6925a429",
   "metadata": {},
   "source": [
    "###### 7. Python Program to Generate a Random Number"
   ]
  },
  {
   "cell_type": "code",
   "execution_count": 8,
   "id": "c9cc3e52",
   "metadata": {},
   "outputs": [
    {
     "name": "stdout",
     "output_type": "stream",
     "text": [
      "7\n"
     ]
    }
   ],
   "source": [
    "import random\n",
    "\n",
    "var= random.randint(0,9)\n",
    "print(var)"
   ]
  },
  {
   "cell_type": "markdown",
   "id": "16c546c0",
   "metadata": {},
   "source": [
    "###### 8. Python program to check if year is a leap year or not\n",
    "\n",
    "        divided by 100 means century year (ending with 00)\n",
    "        century year divided by 400 is leap year\n",
    "\n",
    "        not divided by 100 means not a century year\n",
    "        year divided by 4 is a leap year\n",
    "\n",
    "        if not divided by both 400 (century year) and 4 (not century year)\n",
    "        year is not leap year"
   ]
  },
  {
   "cell_type": "code",
   "execution_count": 9,
   "id": "12963a04",
   "metadata": {},
   "outputs": [
    {
     "name": "stdout",
     "output_type": "stream",
     "text": [
      "Enter year to check leep or not :100\n",
      "100 is not a leep year..!\n"
     ]
    }
   ],
   "source": [
    "year=int(input('Enter year to check leep or not :'))\n",
    "\n",
    "if (year % 400 == 0) and (year % 100 == 0):\n",
    "    print(year,'is a leep year..!')\n",
    "    \n",
    "elif (year % 4 == 0) and (year % 100 != 0):\n",
    "    print(year,'is a leep year..!')\n",
    "    \n",
    "else:\n",
    "    print(year,'is not a leep year..!')"
   ]
  },
  {
   "cell_type": "markdown",
   "id": "59785221",
   "metadata": {},
   "source": [
    "###### 9. Python Program to Check if a Number is Positive, Negative or 0"
   ]
  },
  {
   "cell_type": "code",
   "execution_count": 10,
   "id": "568f5a22",
   "metadata": {},
   "outputs": [
    {
     "name": "stdout",
     "output_type": "stream",
     "text": [
      "Enter required number to check +ve, -ve or zero : 100\n",
      "100.0 is a positive number\n"
     ]
    }
   ],
   "source": [
    "num = float(input('Enter required number to check +ve, -ve or zero : '))\n",
    "\n",
    "if num > 0:\n",
    "    print(num, \"is a positive number\")\n",
    "elif num == 0:\n",
    "    print(num, \"is a zero number\")\n",
    "else:\n",
    "    print(num, 'is negative number')"
   ]
  },
  {
   "cell_type": "markdown",
   "id": "f1c9cf8e",
   "metadata": {},
   "source": [
    "###### 10. Python Program to Find the Largest Among Three Numbers"
   ]
  },
  {
   "cell_type": "code",
   "execution_count": 11,
   "id": "aaa21da7",
   "metadata": {},
   "outputs": [
    {
     "name": "stdout",
     "output_type": "stream",
     "text": [
      "Enter 1st number : 10\n",
      "Enter 2nd number : 20\n",
      "Enter 3rd number : 30\n",
      "The largest number is : 30.0\n"
     ]
    }
   ],
   "source": [
    "a=float(input(\"Enter 1st number : \"))\n",
    "b=float(input(\"Enter 2nd number : \"))\n",
    "c=float(input(\"Enter 3rd number : \"))\n",
    "\n",
    "if (a>=b) and (a>=c):\n",
    "    largest=a\n",
    "    \n",
    "elif (b>=a) and (b>=c):\n",
    "    largest=b\n",
    "    \n",
    "else:\n",
    "    largest=c\n",
    "    \n",
    "print(\"The largest number is :\",largest)"
   ]
  },
  {
   "cell_type": "markdown",
   "id": "908b7cc9",
   "metadata": {},
   "source": [
    "                                                                            Date : 18_April-2023"
   ]
  },
  {
   "cell_type": "markdown",
   "id": "340a3725",
   "metadata": {},
   "source": [
    "###### 11. Cast integer number into str/float/complex/bool"
   ]
  },
  {
   "cell_type": "code",
   "execution_count": 12,
   "id": "26f135a9",
   "metadata": {},
   "outputs": [
    {
     "name": "stdout",
     "output_type": "stream",
     "text": [
      "Integer value 1000\n",
      "****************************************************************************************************\n",
      "Str value : 1000\n",
      "****************************************************************************************************\n",
      "Float value : 1000.0\n",
      "****************************************************************************************************\n",
      "Complex value : (1000+0j)\n",
      "****************************************************************************************************\n",
      "Boolean value : True\n",
      "****************************************************************************************************\n"
     ]
    }
   ],
   "source": [
    "int_num=1000\n",
    "print('Integer value',int_num)\n",
    "print('*'*100)\n",
    "\n",
    "str_num=str(int_num)\n",
    "print('Str value :',str_num)\n",
    "print('*'*100)\n",
    "\n",
    "flt_num=float(int_num)\n",
    "print('Float value :',flt_num)\n",
    "print('*'*100)\n",
    "\n",
    "comp_num=complex(int_num)\n",
    "print('Complex value :',comp_num)\n",
    "print('*'*100)\n",
    "\n",
    "bool_num=bool(int_num)\n",
    "print('Boolean value :',bool_num)\n",
    "print('*'*100)"
   ]
  },
  {
   "cell_type": "markdown",
   "id": "c125b00a",
   "metadata": {},
   "source": [
    "###### 12. Take two numbers and display output on operator functions "
   ]
  },
  {
   "cell_type": "code",
   "execution_count": 13,
   "id": "4d161011",
   "metadata": {},
   "outputs": [
    {
     "name": "stdout",
     "output_type": "stream",
     "text": [
      "x + y = 18\n",
      "....................................................................................................\n",
      "x - y = 10\n",
      "....................................................................................................\n",
      "x * y = 56\n",
      "....................................................................................................\n",
      "x / y = 3.5\n",
      "....................................................................................................\n",
      "x // y = 3\n",
      "....................................................................................................\n",
      "x % y = 2\n",
      "....................................................................................................\n",
      "x ** y = 38416\n"
     ]
    }
   ],
   "source": [
    "x=14\n",
    "y=4\n",
    "\n",
    "print('x + y =',x+y)\n",
    "print('.'*100)\n",
    "\n",
    "print('x - y =',x-y)\n",
    "print('.'*100)\n",
    "\n",
    "print('x * y =',x*y)\n",
    "print('.'*100)\n",
    "\n",
    "print('x / y =',x/y)\n",
    "print('.'*100)\n",
    "\n",
    "print('x // y =',x//y)\n",
    "print('.'*100)\n",
    "\n",
    "print('x % y =',x%y)\n",
    "print('.'*100)\n",
    "\n",
    "print('x ** y =',x**y)\n"
   ]
  },
  {
   "cell_type": "markdown",
   "id": "2fee846f",
   "metadata": {},
   "source": [
    "###### 13. create list by using user input, display ascending and descending order and access that elemets"
   ]
  },
  {
   "cell_type": "code",
   "execution_count": 11,
   "id": "fa381f34",
   "metadata": {},
   "outputs": [
    {
     "name": "stdout",
     "output_type": "stream",
     "text": [
      "Enter the number of elements in the list: 10\n",
      "Enter a number: 100\n",
      "Enter a number: 2\n",
      "Enter a number: 6\n",
      "Enter a number: 2\n",
      "Enter a number: 200\n",
      "Enter a number: 334455\n",
      "Enter a number: 6\n",
      "Enter a number: 7\n",
      "Enter a number: 89\n",
      "Enter a number: 30\n",
      "Original list: [100, 2, 6, 2, 200, 334455, 6, 7, 89, 30]\n",
      "List in ascending order: [2, 2, 6, 6, 7, 30, 89, 100, 200, 334455]\n",
      "List in descending order: [334455, 200, 100, 89, 30, 7, 6, 6, 2, 2]\n",
      "10\n",
      "[334455, 6]\n"
     ]
    }
   ],
   "source": [
    "numbers = []\n",
    "n = int(input(\"Enter the number of elements in the list: \"))\n",
    "\n",
    "for i in range(n):\n",
    "    num = int(input(\"Enter a number: \"))\n",
    "    numbers.append(num)\n",
    "\n",
    "print(\"Original list:\", numbers)\n",
    "\n",
    "print(\"List in ascending order:\", sorted(numbers))\n",
    "\n",
    "print(\"List in descending order:\", sorted(numbers, reverse=True))\n",
    "print(len(numbers))\n",
    "print(numbers[5:7])"
   ]
  },
  {
   "cell_type": "markdown",
   "id": "f3cbe719",
   "metadata": {},
   "source": [
    "###### 14. Create the tuple and append any number in tuple "
   ]
  },
  {
   "cell_type": "code",
   "execution_count": 12,
   "id": "ee2e7da6",
   "metadata": {},
   "outputs": [
    {
     "name": "stdout",
     "output_type": "stream",
     "text": [
      "(1, 2, 55, 66, 600) <class 'tuple'>\n",
      "****************************************************************************************************\n",
      "converting tup to list for append function:\n",
      "[1, 2, 55, 66, 600, 'Digvijay'] <class 'list'>\n",
      "****************************************************************************************************\n",
      "(1, 2, 55, 66, 600, 'Digvijay') <class 'tuple'>\n"
     ]
    }
   ],
   "source": [
    "tup=(1,2,55,66,600)\n",
    "print(tup,type(tup))\n",
    "print('*'*100)\n",
    "\n",
    "print('converting tup to list for append function:')\n",
    "list1=list(tup)\n",
    "list1.append('Digvijay')\n",
    "print(list1,type(list1))\n",
    "print('*'*100)\n",
    "\n",
    "tup=tuple(list1)\n",
    "print(tup,type(tup))"
   ]
  },
  {
   "cell_type": "markdown",
   "id": "79b39f9b",
   "metadata": {},
   "source": [
    "###### 15. create a tuple and display one element seperate from tuple"
   ]
  },
  {
   "cell_type": "code",
   "execution_count": 22,
   "id": "1e53b1aa",
   "metadata": {},
   "outputs": [
    {
     "name": "stdout",
     "output_type": "stream",
     "text": [
      "apple\n",
      "['banana', 'chiku', 'mango']\n",
      "****************************************************************************************************\n",
      "('a', 'b', 'c', 'd', 'e')\n",
      "('d', 's', 'm')\n",
      "merging two tuples: ('a', 'b', 'c', 'd', 'e', 'd', 's', 'm')\n"
     ]
    }
   ],
   "source": [
    "tup=('apple','banana','chiku','mango')\n",
    "(a,*b)=tup\n",
    "print(a)\n",
    "print(b)\n",
    "\n",
    "print('*'*100)\n",
    "\n",
    "tup1=('a','b','c','d','e')\n",
    "tup2=('d','s','m')\n",
    "tup=(*tup1,*tup2)\n",
    "print(tup1)\n",
    "print(tup2)\n",
    "print(\"merging two tuples:\",tup)\n"
   ]
  },
  {
   "cell_type": "markdown",
   "id": "addad1ee",
   "metadata": {},
   "source": [
    "                                                                            Date : 19_April-2023"
   ]
  },
  {
   "cell_type": "markdown",
   "id": "0495ffe5",
   "metadata": {},
   "source": [
    "###### 16. create set and update one set to another"
   ]
  },
  {
   "cell_type": "code",
   "execution_count": 29,
   "id": "8bce1117",
   "metadata": {},
   "outputs": [
    {
     "name": "stdout",
     "output_type": "stream",
     "text": [
      "{1, 2, 3, 4, 5}\n",
      "{6, 7, 8, 9, 10}\n",
      "****************************************************************************************************\n",
      "Updating set1 to set2 : {1, 2, 3, 4, 5, 6, 7, 8, 9, 10}\n",
      "Updating set2 to set1 : {33, 6, 7, 8, 9, 10, 11, 44, 22, 55}\n"
     ]
    }
   ],
   "source": [
    "set1=set([1,2,3,4,5])\n",
    "set2=set((6,7,8,9,10))\n",
    "set3=set([11,22,33,44,55])\n",
    "\n",
    "print(set1)\n",
    "print(set2)\n",
    "print('*'*100)\n",
    "set1.update(set2)\n",
    "print('Updating set1 to set2 :',set1)\n",
    "set2.update(set3)\n",
    "print('Updating set2 to set1 :',set2)"
   ]
  },
  {
   "cell_type": "markdown",
   "id": "278a5a87",
   "metadata": {},
   "source": [
    "###### 17. create a dictionary and access it in different ways"
   ]
  },
  {
   "cell_type": "code",
   "execution_count": 6,
   "id": "ee7aad35",
   "metadata": {},
   "outputs": [
    {
     "name": "stdout",
     "output_type": "stream",
     "text": [
      "Created Dictionary is : {'a': 1, 'b': 2, 'c': 3, 'd': 4, 'e': 5}\n",
      "****************************************************************************************************\n",
      "Accesing element by using given key : 1\n",
      "Accesing element by using index : 1\n",
      "Accesing all keys : dict_keys(['a', 'b', 'c', 'd', 'e'])\n",
      "Accesing all values : dict_values([1, 2, 3, 4, 5])\n",
      "Accesing all key-value pair : dict_items([('a', 1), ('b', 2), ('c', 3), ('d', 4), ('e', 5)])\n"
     ]
    }
   ],
   "source": [
    "dict1={'a':1,'b':2,'c':3,'d':4,'e':5}\n",
    "print('Created Dictionary is :',dict1)\n",
    "print('*'*100)\n",
    "\n",
    "print('Accesing element by using given key :',dict1['a'])\n",
    "print('Accesing element by using index :',dict1.get('a'))\n",
    "print('Accesing all keys :',dict1.keys())\n",
    "print('Accesing all values :',dict1.values())\n",
    "print('Accesing all key-value pair :',dict1.items())"
   ]
  },
  {
   "cell_type": "markdown",
   "id": "a2399343",
   "metadata": {},
   "source": [
    "###### 18. write a program to swap any two values from a list using function swap()\n",
    "input  : list1=[1,2,3,4,5,8,10]\n",
    "output :list2=[1,2,10,4,5,8,3]"
   ]
  },
  {
   "cell_type": "code",
   "execution_count": 12,
   "id": "86476cc5",
   "metadata": {},
   "outputs": [
    {
     "name": "stdout",
     "output_type": "stream",
     "text": [
      "Input List : [1, 2, 3, 4, 5, 8, 10]\n",
      "Output List : [1, 2, 10, 4, 5, 8, 3]\n"
     ]
    }
   ],
   "source": [
    "def swap(lst,i, j):\n",
    "    temp = lst[i]\n",
    "    lst[i] = lst[j]\n",
    "    lst[j] = temp\n",
    "    return lst[i], lst[j]\n",
    "\n",
    "\n",
    "\n",
    "list1=[1,2,3,4,5,8,10] \n",
    "print('Input List :',list1)\n",
    "swap(list1,2,6)\n",
    "print('Output List :',list1)"
   ]
  },
  {
   "cell_type": "markdown",
   "id": "9f33263a",
   "metadata": {},
   "source": [
    "###### 19. pass list as argument and get the sum of list\n",
    "list1=[1,2,3,7,4,5,8,10]"
   ]
  },
  {
   "cell_type": "code",
   "execution_count": 15,
   "id": "013192b4",
   "metadata": {},
   "outputs": [
    {
     "name": "stdout",
     "output_type": "stream",
     "text": [
      "inlput list: [1, 2, 3, 7, 4, 5, 8, 10]\n",
      "sum of list : 40\n"
     ]
    }
   ],
   "source": [
    "def sum_list(lst):\n",
    "    total=0\n",
    "    for num in lst:\n",
    "        total+=num\n",
    "    return total \n",
    "    \n",
    "list1=[1,2,3,7,4,5,8,10]\n",
    "print('inlput list:',list1)\n",
    "print('sum of list :',sum_list(list1))"
   ]
  },
  {
   "cell_type": "markdown",
   "id": "2f1c7d8d",
   "metadata": {},
   "source": [
    "###### 20. pass tuple and count number of elemnt in tuple\n",
    "tup=(1,2,3,7,4,5,8,10)"
   ]
  },
  {
   "cell_type": "code",
   "execution_count": 17,
   "id": "af6bf4e1",
   "metadata": {},
   "outputs": [
    {
     "name": "stdout",
     "output_type": "stream",
     "text": [
      "count of tuple is : 8\n"
     ]
    }
   ],
   "source": [
    "def count_ele(tup):\n",
    "    count=len(tup)\n",
    "    return count\n",
    "\n",
    "tup=(1,2,3,4,5,67,99,77)\n",
    "print('count of tuple is :',count_ele(tup))"
   ]
  },
  {
   "cell_type": "code",
   "execution_count": null,
   "id": "000d56af",
   "metadata": {},
   "outputs": [],
   "source": []
  }
 ],
 "metadata": {
  "kernelspec": {
   "display_name": "Python 3 (ipykernel)",
   "language": "python",
   "name": "python3"
  },
  "language_info": {
   "codemirror_mode": {
    "name": "ipython",
    "version": 3
   },
   "file_extension": ".py",
   "mimetype": "text/x-python",
   "name": "python",
   "nbconvert_exporter": "python",
   "pygments_lexer": "ipython3",
   "version": "3.11.3"
  }
 },
 "nbformat": 4,
 "nbformat_minor": 5
}
