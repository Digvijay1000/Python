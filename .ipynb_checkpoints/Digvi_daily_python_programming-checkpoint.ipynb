{
 "cells": [
  {
   "cell_type": "markdown",
   "id": "02178d94",
   "metadata": {},
   "source": [
    "                                                                               Date: 16_April-2023"
   ]
  },
  {
   "cell_type": "markdown",
   "id": "88ef62b5",
   "metadata": {},
   "source": [
    "###### 1. WAP for finding common & uncommon element from list and dictionary"
   ]
  },
  {
   "cell_type": "code",
   "execution_count": 1,
   "id": "d8e56b41",
   "metadata": {},
   "outputs": [
    {
     "name": "stdout",
     "output_type": "stream",
     "text": [
      "Values of Common elements from list & dictionary : [10, 20, 30]\n",
      "******************************************************************************************\n",
      "Values of uncommon elements from list & dictionary : [40, 50]\n",
      "******************************************************************************************\n",
      "Keys of common elements from list & dictionary : ['A', 'B', 'C']\n",
      "******************************************************************************************\n",
      "Keys of uncommon elements from list & dictionary : ['D', 'E']\n"
     ]
    }
   ],
   "source": [
    "list1=['A','B','C']\n",
    "dict1={'A':10,'B':20,'C':30,'D':40,'E':50}\n",
    "\n",
    "com=[]\n",
    "uncom=[]\n",
    "com_keys=[]\n",
    "uncom_keys=[]\n",
    "\n",
    "for i in list1:\n",
    "    if i in dict1:\n",
    "        com.append(dict1[i])      \n",
    "\n",
    "for i in dict1:\n",
    "    if i not in list1:\n",
    "        uncom.append(dict1[i])\n",
    "            \n",
    "for i in list1:\n",
    "    if i in dict1:\n",
    "        com_keys.append(i)\n",
    "             \n",
    "for i in dict1:\n",
    "    if i not in list1:\n",
    "        uncom_keys.append(i)\n",
    "          \n",
    "        \n",
    "print('Values of Common elements from list & dictionary :',com)\n",
    "print('*'*90)\n",
    "\n",
    "print(\"Values of uncommon elements from list & dictionary :\",uncom)     \n",
    "print('*'*90)\n",
    "\n",
    "print('Keys of common elements from list & dictionary :',com_keys)     \n",
    "print('*'*90)\n",
    "\n",
    "print('Keys of uncommon elements from list & dictionary :',uncom_keys)"
   ]
  },
  {
   "cell_type": "markdown",
   "id": "bfaf4c83",
   "metadata": {},
   "source": [
    "###### 2. WAP for finding even and odd numbers from range 1 to 100"
   ]
  },
  {
   "cell_type": "code",
   "execution_count": 2,
   "id": "c340a8cb",
   "metadata": {},
   "outputs": [
    {
     "name": "stdout",
     "output_type": "stream",
     "text": [
      "Even numbers are : [2, 4, 6, 8, 10, 12, 14, 16, 18, 20, 22, 24, 26, 28, 30, 32, 34, 36, 38, 40, 42, 44, 46, 48, 50, 52, 54, 56, 58, 60, 62, 64, 66, 68, 70, 72, 74, 76, 78, 80, 82, 84, 86, 88, 90, 92, 94, 96, 98, 100]\n",
      "****************************************************************************************************\n",
      "Odd numbers are : [1, 3, 5, 7, 9, 11, 13, 15, 17, 19, 21, 23, 25, 27, 29, 31, 33, 35, 37, 39, 41, 43, 45, 47, 49, 51, 53, 55, 57, 59, 61, 63, 65, 67, 69, 71, 73, 75, 77, 79, 81, 83, 85, 87, 89, 91, 93, 95, 97, 99]\n"
     ]
    }
   ],
   "source": [
    "even_number=[]\n",
    "odd_number=[]\n",
    "\n",
    "for i in range(1,101):\n",
    "    if i%2==0:\n",
    "        even_number.append(i)\n",
    "    else:\n",
    "        odd_number.append(i)\n",
    "        \n",
    "print(\"Even numbers are :\",even_number)\n",
    "print('*'*100)\n",
    "print(\"Odd numbers are :\",odd_number)"
   ]
  },
  {
   "cell_type": "markdown",
   "id": "e3ef5723",
   "metadata": {},
   "source": [
    "###### 3.  Program for finding given number is prime or not"
   ]
  },
  {
   "cell_type": "markdown",
   "id": "45b85a64",
   "metadata": {},
   "source": [
    "###### Prime Numbers\n",
    "\n",
    "    A prime number is a positive integer greater than 1 that has only two factors, 1 and itself. In other words, it is a number that is divisible by only 1 and itself. For example, 2, 3, 5, 7, 11, 13, 17, 19, 23, 29, 31, 37, 41, 43, 47, 53, 59, 61, 67, 71, 73, 79, 83, 89, 97 are all prime numbers."
   ]
  },
  {
   "cell_type": "code",
   "execution_count": 3,
   "id": "00010cea",
   "metadata": {},
   "outputs": [
    {
     "name": "stdout",
     "output_type": "stream",
     "text": [
      "Enter number100\n",
      "100 is not Prime number\n"
     ]
    }
   ],
   "source": [
    "num=int(input('Enter number'))\n",
    "\n",
    "for i in range(2,num):\n",
    "    if num%i == 0:\n",
    "        print(num,'is not Prime number')\n",
    "        break\n",
    "    else:\n",
    "        print(num,'is Prime number')"
   ]
  },
  {
   "cell_type": "markdown",
   "id": "c5603e15",
   "metadata": {},
   "source": [
    "###### 4. Program for sorting prime /unprime numbers from given range"
   ]
  },
  {
   "cell_type": "code",
   "execution_count": 4,
   "id": "e0ee912b",
   "metadata": {},
   "outputs": [
    {
     "name": "stdout",
     "output_type": "stream",
     "text": [
      "not_prime list : [0, 1, 4, 6, 8, 9, 10, 12, 14, 15, 16, 18, 20, 21, 22, 24, 25, 26, 27, 28, 30, 32, 33, 34, 35, 36, 38, 39, 40, 42, 44, 45, 46, 48, 49, 50, 51, 52, 54, 55, 56, 57, 58, 60, 62, 63, 64, 65, 66, 68, 69, 70, 72, 74, 75, 76, 77, 78, 80, 81, 82, 84, 85, 86, 87, 88, 90, 91, 92, 93, 94, 95, 96, 98, 99, 100]\n",
      "****************************************************************************************************\n",
      "prime_num list : [2, 3, 5, 7, 11, 13, 17, 19, 23, 29, 31, 37, 41, 43, 47, 53, 59, 61, 67, 71, 73, 79, 83, 89, 97]\n"
     ]
    }
   ],
   "source": [
    "def is_prime(n):\n",
    "    if n < 2:\n",
    "        return False\n",
    "    for i in range(2,n):\n",
    "        if n % i == 0:\n",
    "            return False\n",
    "    return True\n",
    "\n",
    "prime_num=[]\n",
    "not_prime=[]\n",
    "\n",
    "for i in range(0,101):\n",
    "    if is_prime(i):\n",
    "        prime_num.append(i)\n",
    "    else:\n",
    "        not_prime.append(i)\n",
    "        \n",
    "print('not_prime list :',not_prime)\n",
    "print('*'*100)\n",
    "print('prime_num list :',prime_num)"
   ]
  },
  {
   "cell_type": "markdown",
   "id": "961e0b86",
   "metadata": {},
   "source": [
    "###### 5. Addition of string and integer Using Explicit Conversion"
   ]
  },
  {
   "cell_type": "code",
   "execution_count": 5,
   "id": "75fef5c9",
   "metadata": {},
   "outputs": [
    {
     "name": "stdout",
     "output_type": "stream",
     "text": [
      "string value : 1000\n",
      "<class 'str'>\n",
      "Integer value : 2000\n",
      "<class 'int'>\n",
      "****************************************************************************************************\n",
      "explicit conversion str_var to int_var :\n",
      "New converted str_var : 1000\n",
      "<class 'int'>\n",
      "****************************************************************************************************\n",
      "Addition of new_str_var and int_var : 3000\n"
     ]
    }
   ],
   "source": [
    "str_var='1000'\n",
    "int_var=2000\n",
    "\n",
    "print('string value :',str_var)\n",
    "print(type(str_var))\n",
    "\n",
    "print('Integer value :',int_var)\n",
    "print(type(int_var))\n",
    "\n",
    "print('*'*100)\n",
    "\n",
    "print('explicit conversion str_var to int_var :')\n",
    "new_str_var=int(str_var) # explicit conversion string to int\n",
    "print('New converted str_var :',new_str_var)\n",
    "print(type(new_str_var))\n",
    "\n",
    "print('*'*100)\n",
    "\n",
    "print('Addition of new_str_var and int_var :',new_str_var+int_var)"
   ]
  },
  {
   "cell_type": "markdown",
   "id": "179284e6",
   "metadata": {},
   "source": [
    "                                                                             Date : 17_April-2023"
   ]
  },
  {
   "cell_type": "markdown",
   "id": "cd943439",
   "metadata": {},
   "source": [
    "###### 6. Python program output of two print statemets in single line."
   ]
  },
  {
   "cell_type": "code",
   "execution_count": 6,
   "id": "a48fdb51",
   "metadata": {},
   "outputs": [
    {
     "name": "stdout",
     "output_type": "stream",
     "text": [
      "Do it now, sometimes later becomes never..! Practice makes man perfect..!\n"
     ]
    }
   ],
   "source": [
    "# print with end whitespace\n",
    "print('Do it now, sometimes later becomes never..!', end= ' ')\n",
    "print('Practice makes man perfect..!')"
   ]
  },
  {
   "cell_type": "code",
   "execution_count": 7,
   "id": "32801902",
   "metadata": {},
   "outputs": [
    {
     "name": "stdout",
     "output_type": "stream",
     "text": [
      "Do it now, sometimes later becomes never..! Practice makes man perfect..!\n"
     ]
    }
   ],
   "source": [
    "# print with the help of variables\n",
    "pr1='Do it now, sometimes later becomes never..!'\n",
    "pr2='Practice makes man perfect..!'\n",
    "\n",
    "print(pr1,pr2)"
   ]
  },
  {
   "cell_type": "markdown",
   "id": "6925a429",
   "metadata": {},
   "source": [
    "###### 7. Python Program to Generate a Random Number"
   ]
  },
  {
   "cell_type": "code",
   "execution_count": 8,
   "id": "c9cc3e52",
   "metadata": {},
   "outputs": [
    {
     "name": "stdout",
     "output_type": "stream",
     "text": [
      "7\n"
     ]
    }
   ],
   "source": [
    "import random\n",
    "\n",
    "var= random.randint(0,9)\n",
    "print(var)"
   ]
  },
  {
   "cell_type": "markdown",
   "id": "16c546c0",
   "metadata": {},
   "source": [
    "###### 8. Python program to check if year is a leap year or not\n",
    "\n",
    "        divided by 100 means century year (ending with 00)\n",
    "        century year divided by 400 is leap year\n",
    "\n",
    "        not divided by 100 means not a century year\n",
    "        year divided by 4 is a leap year\n",
    "\n",
    "        if not divided by both 400 (century year) and 4 (not century year)\n",
    "        year is not leap year"
   ]
  },
  {
   "cell_type": "code",
   "execution_count": 9,
   "id": "12963a04",
   "metadata": {},
   "outputs": [
    {
     "name": "stdout",
     "output_type": "stream",
     "text": [
      "Enter year to check leep or not :100\n",
      "100 is not a leep year..!\n"
     ]
    }
   ],
   "source": [
    "year=int(input('Enter year to check leep or not :'))\n",
    "\n",
    "if (year % 400 == 0) and (year % 100 == 0):\n",
    "    print(year,'is a leep year..!')\n",
    "    \n",
    "elif (year % 4 == 0) and (year % 100 != 0):\n",
    "    print(year,'is a leep year..!')\n",
    "    \n",
    "else:\n",
    "    print(year,'is not a leep year..!')"
   ]
  },
  {
   "cell_type": "markdown",
   "id": "59785221",
   "metadata": {},
   "source": [
    "###### 9. Python Program to Check if a Number is Positive, Negative or 0"
   ]
  },
  {
   "cell_type": "code",
   "execution_count": 10,
   "id": "568f5a22",
   "metadata": {},
   "outputs": [
    {
     "name": "stdout",
     "output_type": "stream",
     "text": [
      "Enter required number to check +ve, -ve or zero : 100\n",
      "100.0 is a positive number\n"
     ]
    }
   ],
   "source": [
    "num = float(input('Enter required number to check +ve, -ve or zero : '))\n",
    "\n",
    "if num > 0:\n",
    "    print(num, \"is a positive number\")\n",
    "elif num == 0:\n",
    "    print(num, \"is a zero number\")\n",
    "else:\n",
    "    print(num, 'is negative number')"
   ]
  },
  {
   "cell_type": "markdown",
   "id": "f1c9cf8e",
   "metadata": {},
   "source": [
    "###### 10. Python Program to Find the Largest Among Three Numbers"
   ]
  },
  {
   "cell_type": "code",
   "execution_count": 11,
   "id": "aaa21da7",
   "metadata": {},
   "outputs": [
    {
     "name": "stdout",
     "output_type": "stream",
     "text": [
      "Enter 1st number : 10\n",
      "Enter 2nd number : 20\n",
      "Enter 3rd number : 30\n",
      "The largest number is : 30.0\n"
     ]
    }
   ],
   "source": [
    "a=float(input(\"Enter 1st number : \"))\n",
    "b=float(input(\"Enter 2nd number : \"))\n",
    "c=float(input(\"Enter 3rd number : \"))\n",
    "\n",
    "if (a>=b) and (a>=c):\n",
    "    largest=a\n",
    "    \n",
    "elif (b>=a) and (b>=c):\n",
    "    largest=b\n",
    "    \n",
    "else:\n",
    "    largest=c\n",
    "    \n",
    "print(\"The largest number is :\",largest)"
   ]
  },
  {
   "cell_type": "markdown",
   "id": "908b7cc9",
   "metadata": {},
   "source": [
    "                                                                            Date : 18_April-2023"
   ]
  },
  {
   "cell_type": "markdown",
   "id": "340a3725",
   "metadata": {},
   "source": [
    "###### 11. Cast integer number into str/float/complex/bool"
   ]
  },
  {
   "cell_type": "code",
   "execution_count": 12,
   "id": "26f135a9",
   "metadata": {},
   "outputs": [
    {
     "name": "stdout",
     "output_type": "stream",
     "text": [
      "Integer value 1000\n",
      "****************************************************************************************************\n",
      "Str value : 1000\n",
      "****************************************************************************************************\n",
      "Float value : 1000.0\n",
      "****************************************************************************************************\n",
      "Complex value : (1000+0j)\n",
      "****************************************************************************************************\n",
      "Boolean value : True\n",
      "****************************************************************************************************\n"
     ]
    }
   ],
   "source": [
    "int_num=1000\n",
    "print('Integer value',int_num)\n",
    "print('*'*100)\n",
    "\n",
    "str_num=str(int_num)\n",
    "print('Str value :',str_num)\n",
    "print('*'*100)\n",
    "\n",
    "flt_num=float(int_num)\n",
    "print('Float value :',flt_num)\n",
    "print('*'*100)\n",
    "\n",
    "comp_num=complex(int_num)\n",
    "print('Complex value :',comp_num)\n",
    "print('*'*100)\n",
    "\n",
    "bool_num=bool(int_num)\n",
    "print('Boolean value :',bool_num)\n",
    "print('*'*100)"
   ]
  },
  {
   "cell_type": "markdown",
   "id": "c125b00a",
   "metadata": {},
   "source": [
    "###### 12. Take two numbers and display output on operator functions "
   ]
  },
  {
   "cell_type": "code",
   "execution_count": 13,
   "id": "4d161011",
   "metadata": {},
   "outputs": [
    {
     "name": "stdout",
     "output_type": "stream",
     "text": [
      "x + y = 18\n",
      "....................................................................................................\n",
      "x - y = 10\n",
      "....................................................................................................\n",
      "x * y = 56\n",
      "....................................................................................................\n",
      "x / y = 3.5\n",
      "....................................................................................................\n",
      "x // y = 3\n",
      "....................................................................................................\n",
      "x % y = 2\n",
      "....................................................................................................\n",
      "x ** y = 38416\n"
     ]
    }
   ],
   "source": [
    "x=14\n",
    "y=4\n",
    "\n",
    "print('x + y =',x+y)\n",
    "print('.'*100)\n",
    "\n",
    "print('x - y =',x-y)\n",
    "print('.'*100)\n",
    "\n",
    "print('x * y =',x*y)\n",
    "print('.'*100)\n",
    "\n",
    "print('x / y =',x/y)\n",
    "print('.'*100)\n",
    "\n",
    "print('x // y =',x//y)\n",
    "print('.'*100)\n",
    "\n",
    "print('x % y =',x%y)\n",
    "print('.'*100)\n",
    "\n",
    "print('x ** y =',x**y)\n"
   ]
  },
  {
   "cell_type": "markdown",
   "id": "2fee846f",
   "metadata": {},
   "source": [
    "###### 13. create list by using user input, display ascending and descending order and access that elemets"
   ]
  },
  {
   "cell_type": "code",
   "execution_count": 11,
   "id": "fa381f34",
   "metadata": {},
   "outputs": [
    {
     "name": "stdout",
     "output_type": "stream",
     "text": [
      "Enter the number of elements in the list: 10\n",
      "Enter a number: 100\n",
      "Enter a number: 2\n",
      "Enter a number: 6\n",
      "Enter a number: 2\n",
      "Enter a number: 200\n",
      "Enter a number: 334455\n",
      "Enter a number: 6\n",
      "Enter a number: 7\n",
      "Enter a number: 89\n",
      "Enter a number: 30\n",
      "Original list: [100, 2, 6, 2, 200, 334455, 6, 7, 89, 30]\n",
      "List in ascending order: [2, 2, 6, 6, 7, 30, 89, 100, 200, 334455]\n",
      "List in descending order: [334455, 200, 100, 89, 30, 7, 6, 6, 2, 2]\n",
      "10\n",
      "[334455, 6]\n"
     ]
    }
   ],
   "source": [
    "numbers = []\n",
    "n = int(input(\"Enter the number of elements in the list: \"))\n",
    "\n",
    "for i in range(n):\n",
    "    num = int(input(\"Enter a number: \"))\n",
    "    numbers.append(num)\n",
    "\n",
    "print(\"Original list:\", numbers)\n",
    "\n",
    "print(\"List in ascending order:\", sorted(numbers))\n",
    "\n",
    "print(\"List in descending order:\", sorted(numbers, reverse=True))\n",
    "print(len(numbers))\n",
    "print(numbers[5:7])"
   ]
  },
  {
   "cell_type": "markdown",
   "id": "f3cbe719",
   "metadata": {},
   "source": [
    "###### 14. Create the tuple and append any number in tuple "
   ]
  },
  {
   "cell_type": "code",
   "execution_count": 12,
   "id": "ee2e7da6",
   "metadata": {},
   "outputs": [
    {
     "name": "stdout",
     "output_type": "stream",
     "text": [
      "(1, 2, 55, 66, 600) <class 'tuple'>\n",
      "****************************************************************************************************\n",
      "converting tup to list for append function:\n",
      "[1, 2, 55, 66, 600, 'Digvijay'] <class 'list'>\n",
      "****************************************************************************************************\n",
      "(1, 2, 55, 66, 600, 'Digvijay') <class 'tuple'>\n"
     ]
    }
   ],
   "source": [
    "tup=(1,2,55,66,600)\n",
    "print(tup,type(tup))\n",
    "print('*'*100)\n",
    "\n",
    "print('converting tup to list for append function:')\n",
    "list1=list(tup)\n",
    "list1.append('Digvijay')\n",
    "print(list1,type(list1))\n",
    "print('*'*100)\n",
    "\n",
    "tup=tuple(list1)\n",
    "print(tup,type(tup))"
   ]
  },
  {
   "cell_type": "markdown",
   "id": "79b39f9b",
   "metadata": {},
   "source": [
    "###### 15. create a tuple and display one element seperate from tuple"
   ]
  },
  {
   "cell_type": "code",
   "execution_count": 22,
   "id": "1e53b1aa",
   "metadata": {},
   "outputs": [
    {
     "name": "stdout",
     "output_type": "stream",
     "text": [
      "apple\n",
      "['banana', 'chiku', 'mango']\n",
      "****************************************************************************************************\n",
      "('a', 'b', 'c', 'd', 'e')\n",
      "('d', 's', 'm')\n",
      "merging two tuples: ('a', 'b', 'c', 'd', 'e', 'd', 's', 'm')\n"
     ]
    }
   ],
   "source": [
    "tup=('apple','banana','chiku','mango')\n",
    "(a,*b)=tup\n",
    "print(a)\n",
    "print(b)\n",
    "\n",
    "print('*'*100)\n",
    "\n",
    "tup1=('a','b','c','d','e')\n",
    "tup2=('d','s','m')\n",
    "tup=(*tup1,*tup2)\n",
    "print(tup1)\n",
    "print(tup2)\n",
    "print(\"merging two tuples:\",tup)\n"
   ]
  },
  {
   "cell_type": "markdown",
   "id": "addad1ee",
   "metadata": {},
   "source": [
    "                                                                            Date : 19_April-2023"
   ]
  },
  {
   "cell_type": "markdown",
   "id": "0495ffe5",
   "metadata": {},
   "source": [
    "###### 16. create set and update one set to another"
   ]
  },
  {
   "cell_type": "code",
   "execution_count": 29,
   "id": "8bce1117",
   "metadata": {},
   "outputs": [
    {
     "name": "stdout",
     "output_type": "stream",
     "text": [
      "{1, 2, 3, 4, 5}\n",
      "{6, 7, 8, 9, 10}\n",
      "****************************************************************************************************\n",
      "Updating set1 to set2 : {1, 2, 3, 4, 5, 6, 7, 8, 9, 10}\n",
      "Updating set2 to set1 : {33, 6, 7, 8, 9, 10, 11, 44, 22, 55}\n"
     ]
    }
   ],
   "source": [
    "set1=set([1,2,3,4,5])\n",
    "set2=set((6,7,8,9,10))\n",
    "set3=set([11,22,33,44,55])\n",
    "\n",
    "print(set1)\n",
    "print(set2)\n",
    "print('*'*100)\n",
    "set1.update(set2)\n",
    "print('Updating set1 to set2 :',set1)\n",
    "set2.update(set3)\n",
    "print('Updating set2 to set1 :',set2)"
   ]
  },
  {
   "cell_type": "markdown",
   "id": "278a5a87",
   "metadata": {},
   "source": [
    "###### 17. create a dictionary and access it in different ways"
   ]
  },
  {
   "cell_type": "code",
   "execution_count": 6,
   "id": "ee7aad35",
   "metadata": {},
   "outputs": [
    {
     "name": "stdout",
     "output_type": "stream",
     "text": [
      "Created Dictionary is : {'a': 1, 'b': 2, 'c': 3, 'd': 4, 'e': 5}\n",
      "****************************************************************************************************\n",
      "Accesing element by using given key : 1\n",
      "Accesing element by using index : 1\n",
      "Accesing all keys : dict_keys(['a', 'b', 'c', 'd', 'e'])\n",
      "Accesing all values : dict_values([1, 2, 3, 4, 5])\n",
      "Accesing all key-value pair : dict_items([('a', 1), ('b', 2), ('c', 3), ('d', 4), ('e', 5)])\n"
     ]
    }
   ],
   "source": [
    "dict1={'a':1,'b':2,'c':3,'d':4,'e':5}\n",
    "print('Created Dictionary is :',dict1)\n",
    "print('*'*100)\n",
    "\n",
    "print('Accesing element by using given key :',dict1['a'])\n",
    "print('Accesing element by using index :',dict1.get('a'))\n",
    "print('Accesing all keys :',dict1.keys())\n",
    "print('Accesing all values :',dict1.values())\n",
    "print('Accesing all key-value pair :',dict1.items())"
   ]
  },
  {
   "cell_type": "markdown",
   "id": "a2399343",
   "metadata": {},
   "source": [
    "###### 18. write a program to swap any two values from a list using function swap()\n",
    "input  : list1=[1,2,3,4,5,8,10]\n",
    "output :list2=[1,2,10,4,5,8,3]"
   ]
  },
  {
   "cell_type": "code",
   "execution_count": 12,
   "id": "86476cc5",
   "metadata": {},
   "outputs": [
    {
     "name": "stdout",
     "output_type": "stream",
     "text": [
      "Input List : [1, 2, 3, 4, 5, 8, 10]\n",
      "Output List : [1, 2, 10, 4, 5, 8, 3]\n"
     ]
    }
   ],
   "source": [
    "def swap(lst,i, j):\n",
    "    temp = lst[i]\n",
    "    lst[i] = lst[j]\n",
    "    lst[j] = temp\n",
    "    return lst[i], lst[j]\n",
    "\n",
    "\n",
    "\n",
    "list1=[1,2,3,4,5,8,10] \n",
    "print('Input List :',list1)\n",
    "swap(list1,2,6) # input, index num, index num\n",
    "print('Output List :',list1)"
   ]
  },
  {
   "cell_type": "markdown",
   "id": "9f33263a",
   "metadata": {},
   "source": [
    "###### 19. pass list as argument and get the sum of list\n",
    "list1=[1,2,3,7,4,5,8,10]"
   ]
  },
  {
   "cell_type": "code",
   "execution_count": 15,
   "id": "013192b4",
   "metadata": {},
   "outputs": [
    {
     "name": "stdout",
     "output_type": "stream",
     "text": [
      "inlput list: [1, 2, 3, 7, 4, 5, 8, 10]\n",
      "sum of list : 40\n"
     ]
    }
   ],
   "source": [
    "def sum_list(lst):\n",
    "    total=0\n",
    "    for num in lst:\n",
    "        total+=num\n",
    "    return total \n",
    "    \n",
    "list1=[1,2,3,7,4,5,8,10]\n",
    "print('inlput list:',list1)\n",
    "print('sum of list :',sum_list(list1))"
   ]
  },
  {
   "cell_type": "markdown",
   "id": "2f1c7d8d",
   "metadata": {},
   "source": [
    "###### 20. pass tuple and count number of elemnt in tuple\n",
    "tup=(1,2,3,7,4,5,8,10)"
   ]
  },
  {
   "cell_type": "code",
   "execution_count": 17,
   "id": "af6bf4e1",
   "metadata": {},
   "outputs": [
    {
     "name": "stdout",
     "output_type": "stream",
     "text": [
      "count of tuple is : 8\n"
     ]
    }
   ],
   "source": [
    "def count_ele(tup):\n",
    "    count=len(tup)\n",
    "    return count\n",
    "\n",
    "tup=(1,2,3,4,5,67,99,77)\n",
    "print('count of tuple is :',count_ele(tup))"
   ]
  },
  {
   "cell_type": "markdown",
   "id": "da263cc5",
   "metadata": {},
   "source": [
    "                                                                               Date: 20_April-2023"
   ]
  },
  {
   "cell_type": "markdown",
   "id": "46111f71",
   "metadata": {},
   "source": [
    "###### 21. Create nested dictionary and acces element"
   ]
  },
  {
   "cell_type": "code",
   "execution_count": 14,
   "id": "534da692",
   "metadata": {},
   "outputs": [
    {
     "name": "stdout",
     "output_type": "stream",
     "text": [
      "{'person1': {'name': 'Rohit', 'age': 35, 'address': {'city': 'Mumbai', 'state': 'MH'}}, 'person2': {'name': 'Virat', 'age': 34, 'address': {'city': 'Delhi', 'state': 'DL'}}}\n",
      "****************************************************************************************************\n",
      "accessing address for Person1: {'city': 'Mumbai', 'state': 'MH'}\n",
      "accessing state for Person1: MH\n",
      "accessing address for Person1: Virat\n"
     ]
    }
   ],
   "source": [
    "nested_dict = {\n",
    "    'person1': {'name': 'Rohit', 'age': 35, 'address': {'city': 'Mumbai', 'state': 'MH'}},\n",
    "    'person2': {'name': 'Virat', 'age': 34, 'address': {'city': 'Delhi', 'state': 'DL'}}\n",
    "              }\n",
    "\n",
    "print(nested_dict)\n",
    "print('*'*100)\n",
    "\n",
    "# Accessing element from nested dictionary\n",
    "\n",
    "print('accessing address for Person1:',nested_dict['person1']['address'])\n",
    "print('accessing state for Person1:',nested_dict['person1']['address']['state'])\n",
    "print('accessing address for Person1:',nested_dict['person2']['name'])   \n",
    "      "
   ]
  },
  {
   "cell_type": "code",
   "execution_count": 18,
   "id": "94224a6a",
   "metadata": {},
   "outputs": [
    {
     "name": "stdout",
     "output_type": "stream",
     "text": [
      "{'f_key': {'p_key': {'s_key': {'g_name': 'grans_son_name'}, 's_name': 'son_name'}, 'p_name': 'Parent_name'}}\n"
     ]
    }
   ],
   "source": [
    "grandson = { 'g_name':'grans_son_name'} \n",
    "\n",
    "son = { 's_key' : grandson,'s_name': 'son_name'} \n",
    "\n",
    "parent = {'p_key':son,'p_name':'Parent_name'}\n",
    "\n",
    "family ={'f_key':parent}\n",
    "\n",
    "print(family)"
   ]
  },
  {
   "cell_type": "code",
   "execution_count": 20,
   "id": "eb315210",
   "metadata": {},
   "outputs": [
    {
     "name": "stdout",
     "output_type": "stream",
     "text": [
      "Parent_name\n"
     ]
    }
   ],
   "source": [
    "print(parent['p_name'])"
   ]
  },
  {
   "cell_type": "markdown",
   "id": "0ca322a4",
   "metadata": {},
   "source": [
    "###### 22. For example, assigning grades (A, B, C) based on marks obtained by a student.\n",
    "if the percentage is above 90, assign grade A, if the percentage is above 75, assign grade B,\n",
    "if the percentage is above 65, assign grade C"
   ]
  },
  {
   "cell_type": "code",
   "execution_count": 40,
   "id": "e3ac3b25",
   "metadata": {},
   "outputs": [
    {
     "name": "stdout",
     "output_type": "stream",
     "text": [
      "[99, 100, 56, 75, 88, 34, 30, 50]\n",
      "****************************************************************************************************\n",
      "['A', 'A', 'PASS', 'B', 'B', 'FAIL', 'FAIL', 'PASS']\n"
     ]
    }
   ],
   "source": [
    "lst=[99,100,56,75,88,34,30,50]\n",
    "\n",
    "final_res=[]\n",
    "\n",
    "def result(lst):\n",
    "    for i in lst:\n",
    "        if i<=100 and i>90:\n",
    "            final_res.append('A')\n",
    "        \n",
    "        elif i<90 and i>=75:\n",
    "            final_res.append('B')\n",
    "    \n",
    "        elif i<75 and i>=60:\n",
    "            final_res.append('C')\n",
    "                \n",
    "        elif i<60 and i>=35:\n",
    "            final_res.append('PASS')\n",
    "                \n",
    "        else:\n",
    "            final_res.append('FAIL')\n",
    "    \n",
    "    \n",
    "result(lst)\n",
    "print(lst)\n",
    "print('*'*100)\n",
    "print(final_res)\n",
    "        "
   ]
  },
  {
   "cell_type": "code",
   "execution_count": 46,
   "id": "904036fa",
   "metadata": {},
   "outputs": [
    {
     "name": "stdout",
     "output_type": "stream",
     "text": [
      "{'MAR': 99, 'HINDI': 100, 'ENG': 56, 'SCI': 75, 'SPORT': 88, 'HIST': 34, 'GEO': 30, 'SOCIAL': 50}\n",
      "****************************************************************************************************\n",
      "MAR : A\n",
      "HINDI : A\n",
      "ENG : PASS\n",
      "SCI : B\n",
      "SPORT : B\n",
      "HIST : FAIL\n",
      "GEO : FAIL\n",
      "SOCIAL : PASS\n"
     ]
    }
   ],
   "source": [
    "dict1={'MAR':99,'HINDI':100,'ENG':56,'SCI':75,'SPORT':88,'HIST':34,'GEO':30,'SOCIAL':50}\n",
    "\n",
    "def result(dict1):\n",
    "    for sub, marks in dict1.items():\n",
    "        if marks<=100 and marks>90:\n",
    "            print(sub,\": A\")\n",
    "        \n",
    "        elif marks<90 and marks>=75:\n",
    "            print(sub,\": B\")\n",
    "    \n",
    "        elif marks<75 and marks>=60:\n",
    "            print(sub,\": C\")\n",
    "                \n",
    "        elif marks<60 and marks>=35:\n",
    "            print(sub,\": PASS\")\n",
    "                \n",
    "        else:\n",
    "            print(sub,\": FAIL\")\n",
    "    \n",
    "    \n",
    "\n",
    "print(dict1)\n",
    "print('*'*100)\n",
    "result(dict1)\n",
    "        "
   ]
  },
  {
   "cell_type": "markdown",
   "id": "72553858",
   "metadata": {},
   "source": [
    "###### 23. Python program to find the sum of all items in a dictionary"
   ]
  },
  {
   "cell_type": "code",
   "execution_count": 47,
   "id": "fd48da78",
   "metadata": {},
   "outputs": [
    {
     "name": "stdout",
     "output_type": "stream",
     "text": [
      "532\n"
     ]
    }
   ],
   "source": [
    "dict1={'MAR':99,'HINDI':100,'ENG':56,'SCI':75,'SPORT':88,'HIST':34,'GEO':30,'SOCIAL':50}\n",
    "\n",
    "sum_of_values=sum(dict1.values())\n",
    "\n",
    "print(sum_of_values)"
   ]
  },
  {
   "cell_type": "markdown",
   "id": "f007f29d",
   "metadata": {},
   "source": [
    "###### 24. Python program to remove a key from a dictionary"
   ]
  },
  {
   "cell_type": "code",
   "execution_count": 52,
   "id": "6346ad83",
   "metadata": {},
   "outputs": [
    {
     "name": "stdout",
     "output_type": "stream",
     "text": [
      "Before removing a key: {'IND': 438, 'AUS': 476, 'SA': 434, 'NZ': 380}\n",
      "Key AUS removed from the dictionary\n",
      "After removing a key: {'IND': 438, 'SA': 434, 'NZ': 380}\n"
     ]
    }
   ],
   "source": [
    "my_dict={'IND':438,'AUS':476,'SA':434,'NZ':380}\n",
    "\n",
    "print(\"Before removing a key:\", my_dict)\n",
    "\n",
    "# we need to remove 'AUS' from dictionary\n",
    "remove_key='AUS'\n",
    "\n",
    "if remove_key in my_dict:\n",
    "    del my_dict[remove_key]\n",
    "    print('Key',remove_key ,'removed from the dictionary')\n",
    "else:\n",
    "    print('Key',remove_key ,'not found in the dictionary')\n",
    "    \n",
    "print(\"After removing a key:\", my_dict)"
   ]
  },
  {
   "cell_type": "markdown",
   "id": "ece3ed45",
   "metadata": {},
   "source": [
    "###### 25. Python program to merge two Dictionaries"
   ]
  },
  {
   "cell_type": "code",
   "execution_count": 62,
   "id": "3f273bb2",
   "metadata": {},
   "outputs": [
    {
     "name": "stdout",
     "output_type": "stream",
     "text": [
      "Dictionary 1: {'A': 10, 'B': 20, 'C': 30}\n",
      "Dictionary 2: {'D': 40, 'E': 50, 'F': 50}\n",
      "****************************************************************************************************\n",
      "Merged Dictionary : {'A': 10, 'B': 20, 'C': 30, 'D': 40, 'E': 50, 'F': 50}\n"
     ]
    }
   ],
   "source": [
    "dict1={'A':10, 'B':20, 'C':30}\n",
    "dict2={'D':40, 'E':50, 'F':50}\n",
    "\n",
    "merged_dict={**dict1,**dict2}\n",
    "print('Dictionary 1:',dict1)\n",
    "print('Dictionary 2:',dict2)\n",
    "print('*'*100)\n",
    "print('Merged Dictionary :',merged_dict)"
   ]
  },
  {
   "cell_type": "markdown",
   "id": "20733284",
   "metadata": {},
   "source": [
    "                                                                               Date: 21-April-2023"
   ]
  },
  {
   "cell_type": "markdown",
   "id": "683c8a5b",
   "metadata": {},
   "source": [
    "###### 26. Sort a list of tuples by the second Item"
   ]
  },
  {
   "cell_type": "code",
   "execution_count": 19,
   "id": "1b8143a1",
   "metadata": {},
   "outputs": [
    {
     "name": "stdout",
     "output_type": "stream",
     "text": [
      "[('Rhaul', 1), ('Virat', 18), ('Hardik', 33), ('Rohit', 45)]\n"
     ]
    }
   ],
   "source": [
    "my_list = [('Rohit', 45), ('Virat', 18), ('Hardik', 33), ('Rhaul', 1)]\n",
    "\n",
    "sorted_list = sorted(my_list, key=lambda x: x[1])\n",
    "\n",
    "print(sorted_list)\n"
   ]
  },
  {
   "cell_type": "code",
   "execution_count": 20,
   "id": "558ecba6",
   "metadata": {},
   "outputs": [
    {
     "name": "stdout",
     "output_type": "stream",
     "text": [
      "[(4, 1), (1, 2), (2, 5), (3, 7)]\n"
     ]
    }
   ],
   "source": [
    "my_list = [(2, 5), (1, 2), (4, 1), (3, 7)]\n",
    "\n",
    "sorted_list = sorted(my_list, key=lambda x: x[1])\n",
    "\n",
    "print(sorted_list)\n"
   ]
  },
  {
   "cell_type": "code",
   "execution_count": 38,
   "id": "65dedcc8",
   "metadata": {},
   "outputs": [
    {
     "name": "stdout",
     "output_type": "stream",
     "text": [
      "[{'name': 'Kate', 'age': 18}, {'name': 'Alice', 'age': 20}, {'name': 'John', 'age': 25}, {'name': 'Bob', 'age': 32}]\n"
     ]
    }
   ],
   "source": [
    "# Write a Python program to sort a list of dictionaries using Lambda\n",
    "\n",
    "my_dict_list = [\n",
    "    {'name': 'John', 'age': 25},\n",
    "    {'name': 'Kate', 'age': 18},\n",
    "    {'name': 'Bob', 'age': 32},\n",
    "    {'name': 'Alice', 'age': 20}\n",
    "]\n",
    "\n",
    "sorted_dict = sorted(my_dict_list,key=lambda x: x['age'])\n",
    "\n",
    "print(sorted_dict)"
   ]
  },
  {
   "cell_type": "markdown",
   "id": "6a9c427b",
   "metadata": {},
   "source": [
    "###### 27. Write a Python program to find square and cube every number in a given list of integers using Lambda\n"
   ]
  },
  {
   "cell_type": "code",
   "execution_count": 29,
   "id": "59eb0714",
   "metadata": {},
   "outputs": [
    {
     "name": "stdout",
     "output_type": "stream",
     "text": [
      "[(1, 1), (9, 27), (25, 125), (49, 343), (81, 729), (121, 1331)]\n"
     ]
    }
   ],
   "source": [
    "list1=[1,3,5,7,9,11]\n",
    "\n",
    "# one way\n",
    "funcition_square_cube=lambda x:(x**2,x**3)\n",
    "\n",
    "result=map(funcition_square_cube, list1) # map(function, iterable)\n",
    "\n",
    "print(list(result))"
   ]
  },
  {
   "cell_type": "code",
   "execution_count": 31,
   "id": "b5b3048e",
   "metadata": {},
   "outputs": [
    {
     "name": "stdout",
     "output_type": "stream",
     "text": [
      "[[1, 1], [4, 8], [9, 27], [16, 64]]\n"
     ]
    }
   ],
   "source": [
    "list1=[1,2,3,4]\n",
    "\n",
    "# another way\n",
    "function=lambda x:[x**2,x**3]\n",
    "\n",
    "result=list(map(function,list1))\n",
    "\n",
    "print(result)"
   ]
  },
  {
   "cell_type": "markdown",
   "id": "2c53cb5f",
   "metadata": {},
   "source": [
    "###### 28. Write a Python program to find if a given string starts with a given character using Lambda\n"
   ]
  },
  {
   "cell_type": "code",
   "execution_count": 33,
   "id": "59ebe06d",
   "metadata": {},
   "outputs": [
    {
     "name": "stdout",
     "output_type": "stream",
     "text": [
      "True\n"
     ]
    }
   ],
   "source": [
    "string = 'Digvijay'\n",
    "my_char = 'D'\n",
    "\n",
    "function = lambda x: True if string.startswith(my_char) else False\n",
    "\n",
    "result=function(string)\n",
    "\n",
    "print(result)"
   ]
  },
  {
   "cell_type": "code",
   "execution_count": 36,
   "id": "a69d1d70",
   "metadata": {},
   "outputs": [
    {
     "name": "stdout",
     "output_type": "stream",
     "text": [
      "True\n"
     ]
    }
   ],
   "source": [
    "str1='India is my country'\n",
    "my_char='i'\n",
    "\n",
    "function= lambda x: True if str1.startswith(my_char.upper()) else False\n",
    "\n",
    "print(function(str1))"
   ]
  },
  {
   "cell_type": "markdown",
   "id": "694f7c61",
   "metadata": {},
   "source": [
    "###### 29. Write a Python program to check whether a given string is number or not using Lambda"
   ]
  },
  {
   "cell_type": "code",
   "execution_count": 44,
   "id": "0c3f30c6",
   "metadata": {},
   "outputs": [
    {
     "name": "stdout",
     "output_type": "stream",
     "text": [
      "Given string is number : True\n"
     ]
    }
   ],
   "source": [
    "string='1231'\n",
    "\n",
    "function = lambda x: True if string.isnumeric() else False\n",
    "\n",
    "print(\"Given string is number :\",function(string))"
   ]
  },
  {
   "cell_type": "markdown",
   "id": "2e0e81c4",
   "metadata": {},
   "source": [
    "###### 30. Write a Python program to add two given lists using map and lambda"
   ]
  },
  {
   "cell_type": "code",
   "execution_count": 48,
   "id": "b06f8c21",
   "metadata": {},
   "outputs": [
    {
     "name": "stdout",
     "output_type": "stream",
     "text": [
      "[1, 2, 3, 4, 5]\n",
      "[1, 2, 3, 4, 5]\n",
      "****************************************************************************************************\n",
      "Addition of two list : [2, 4, 6, 8, 10]\n"
     ]
    }
   ],
   "source": [
    "list1=[1,2,3,4,5]\n",
    "list2=[1,2,3,4,5]\n",
    "\n",
    "list12=list1 and list2\n",
    "\n",
    "function = lambda x: x+x\n",
    "\n",
    "result=list(map(function,(list12)))\n",
    "\n",
    "print(list1)\n",
    "print(list2)\n",
    "print('*'*100)\n",
    "print('Addition of two list :',result)"
   ]
  },
  {
   "cell_type": "markdown",
   "id": "88594679",
   "metadata": {},
   "source": [
    "                                                                               Date: 22-April-2023"
   ]
  },
  {
   "cell_type": "markdown",
   "id": "1fc795fb",
   "metadata": {},
   "source": [
    "###### 31. Write a Python program to create Fibonacci series using Lambda\n",
    "\n",
    "\n",
    "    The Fibonacci series is a sequence of numbers that starts with 0 and 1, and each subsequent number in the sequence is the sum of the previous two. The first few numbers in the Fibonacci series are:\n",
    "\n",
    "    0, 1, 1, 2, 3, 5, 8, 13, 21, 34, 55, 89, 144, ..."
   ]
  },
  {
   "cell_type": "code",
   "execution_count": 50,
   "id": "db818aa7",
   "metadata": {},
   "outputs": [
    {
     "name": "stdout",
     "output_type": "stream",
     "text": [
      "0 1 1 2 3 5 8 13 21 "
     ]
    }
   ],
   "source": [
    "# programmed by using \"for loop\" but not understanding in \"lambda\"\n",
    "\n",
    "def fibonacci(num):\n",
    "    first=0\n",
    "    second=1\n",
    "    print(first,end=' ')\n",
    "    print(second,end=' ')\n",
    "    for i in range(num-2):\n",
    "        third=first+second\n",
    "        first=second\n",
    "        second=third\n",
    "        print(third,end=\" \")\n",
    "        \n",
    "fibonacci(9)"
   ]
  },
  {
   "cell_type": "markdown",
   "id": "1bce89ae",
   "metadata": {},
   "source": [
    "###### 32. create set , modify it and access that set elements"
   ]
  },
  {
   "cell_type": "code",
   "execution_count": 54,
   "id": "4b784ea2",
   "metadata": {},
   "outputs": [
    {
     "name": "stdout",
     "output_type": "stream",
     "text": [
      "{1, 2, 4, 5, 6, 7, 8, 9, 44, 45, 50, 55}\n",
      "{1, 2, 4, 5, 6, 7, 8, 9, 100, 44, 45, 50, 55}\n",
      "Accessed element is in set: True\n"
     ]
    }
   ],
   "source": [
    "sett={1,2,44,4,45,5,5,55,50,6,7,7,8,8,8,9}\n",
    "print(sett)\n",
    "\n",
    "# we can modify set by using add method because set is mutable but unordered\n",
    "sett.add(100)\n",
    "print(sett)\n",
    "\n",
    "# accessing modified element\n",
    "access= 100 in sett\n",
    "print('Accessed element is in set:',access)"
   ]
  },
  {
   "cell_type": "markdown",
   "id": "c25d6c54",
   "metadata": {},
   "source": [
    "###### 33. create two sets and display common elements and uncommon elements from both"
   ]
  },
  {
   "cell_type": "code",
   "execution_count": 57,
   "id": "bbd53d26",
   "metadata": {},
   "outputs": [
    {
     "name": "stdout",
     "output_type": "stream",
     "text": [
      "{1, 2, 3, 4}\n",
      "{3, 4, 5, 6, 7}\n",
      "****************************************************************************************************\n",
      "Common elements from both sets are: {3, 4}\n",
      "Uncommon elemets from both sets are: {1, 2, 5, 6, 7}\n"
     ]
    }
   ],
   "source": [
    "s1={1,2,3,4}\n",
    "s2={3,4,5,6,7}\n",
    "\n",
    "print(s1)\n",
    "print(s2)\n",
    "print('*'*100)\n",
    "common_ele = s1.intersection(s2)\n",
    "print('Common elements from both sets are:',common_ele)\n",
    "\n",
    "uncommon_ele=s1.symmetric_difference(s2)\n",
    "print('Uncommon elemets from both sets are:',uncommon_ele)"
   ]
  },
  {
   "cell_type": "markdown",
   "id": "b84a677e",
   "metadata": {},
   "source": [
    "###### 34. create a series of 0 to 30 but skip the 15 and 25"
   ]
  },
  {
   "cell_type": "code",
   "execution_count": 65,
   "id": "a21ee6cb",
   "metadata": {},
   "outputs": [
    {
     "name": "stdout",
     "output_type": "stream",
     "text": [
      "1\n",
      "2\n",
      "3\n",
      "4\n",
      "5\n",
      "6\n",
      "7\n",
      "8\n",
      "9\n",
      "10\n",
      "11\n",
      "12\n",
      "13\n",
      "14\n",
      "Skiped Value : 15\n",
      "16\n",
      "17\n",
      "18\n",
      "19\n",
      "20\n",
      "21\n",
      "22\n",
      "23\n",
      "24\n",
      "Skiped Value : 25\n",
      "26\n",
      "27\n",
      "28\n",
      "29\n",
      "30\n"
     ]
    }
   ],
   "source": [
    "x=1\n",
    "\n",
    "while x<=30:\n",
    "    \n",
    "    if x==15 or x==25:\n",
    "        x+=1\n",
    "        print('Skiped Value :',x-1)\n",
    "        continue\n",
    "    print(x)\n",
    "    x+=1"
   ]
  },
  {
   "cell_type": "markdown",
   "id": "a28e9d7f",
   "metadata": {},
   "source": [
    "###### 35. create a dictionary and display iteration of keys "
   ]
  },
  {
   "cell_type": "code",
   "execution_count": 72,
   "id": "2fb7fed8",
   "metadata": {},
   "outputs": [
    {
     "name": "stdout",
     "output_type": "stream",
     "text": [
      "Name\n",
      "Team\n",
      "Jourcy No\n",
      "Role\n",
      "Sold Value\n"
     ]
    }
   ],
   "source": [
    "dict1 = {\n",
    "    'Name' : 'Rohit',\n",
    "    'Team' : 'Mumbai Indians',\n",
    "    'Jourcy No' : 45,\n",
    "    'Role' : 'Batter',\n",
    "    'Sold Value' : 160000000 \n",
    "       }\n",
    "for i in dict1:\n",
    "    print(i)"
   ]
  },
  {
   "cell_type": "markdown",
   "id": "04f69650",
   "metadata": {},
   "source": [
    "                                                                               Date: 23-April-2023"
   ]
  },
  {
   "cell_type": "markdown",
   "id": "b2d6aea6",
   "metadata": {},
   "source": [
    "###### 36. create a dictionary with unique key-value pair and assign common value to each key"
   ]
  },
  {
   "cell_type": "code",
   "execution_count": 1,
   "id": "25cc1cc6",
   "metadata": {},
   "outputs": [
    {
     "name": "stdout",
     "output_type": "stream",
     "text": [
      "{'A': 10, 'B': 20, 'C': 30, 40: 'D', 50: 'E', 60: 'F'}\n",
      "Assigning same value (\"Common\") to each key\n",
      "{'A': 'Common', 'B': 'Common', 'C': 'Common', 40: 'Common', 50: 'Common', 60: 'Common'}\n"
     ]
    }
   ],
   "source": [
    "dict1={'A':10, 'B': 20, 'C':30, 40:'D', 50:'E', 60:'F' }\n",
    "print(dict1)\n",
    "\n",
    "print('Assigning same value (\"Common\") to each key :')\n",
    "\n",
    "newdict=dict.fromkeys(dict1,'Common')\n",
    "print(newdict)\n"
   ]
  },
  {
   "cell_type": "markdown",
   "id": "cd32cc6e",
   "metadata": {},
   "source": [
    "###### 37. write a program and for removing every third element from list"
   ]
  },
  {
   "cell_type": "code",
   "execution_count": 25,
   "id": "d051a177",
   "metadata": {},
   "outputs": [
    {
     "name": "stdout",
     "output_type": "stream",
     "text": [
      "Sorted list: [1, 2, 4, 5, 7, 8, 10, 11, 13, 14]\n"
     ]
    }
   ],
   "source": [
    "lst = [1,2,3,4,5,6,7,8,9,10,11,12,13,14,15]\n",
    "\n",
    "i=2\n",
    "while i <len(lst):\n",
    "    del lst[i]\n",
    "    i+=2\n",
    "    \n",
    "print('Sorted list:',lst)"
   ]
  },
  {
   "cell_type": "code",
   "execution_count": 9,
   "id": "11e179f7",
   "metadata": {},
   "outputs": [
    {
     "name": "stdout",
     "output_type": "stream",
     "text": [
      "Sorted list: [1, 2, 4, 5, 7, 8, 10, 11, 13, 14]\n",
      "Removed elements [3, 6, 9, 12, 15]\n"
     ]
    }
   ],
   "source": [
    "lst = [1,2,3,4,5,6,7,8,9,10,11,12,13,14,15]\n",
    "\n",
    "removed_elements=[]\n",
    "i=2\n",
    "while i <len(lst):\n",
    "    removed_elements.append(lst.pop(i))\n",
    "    i+=2\n",
    "    \n",
    "print('Sorted list:',lst)\n",
    "print('Removed elements',removed_elements)"
   ]
  },
  {
   "cell_type": "markdown",
   "id": "edf445b4",
   "metadata": {},
   "source": [
    "###### 38. write a program for display five students record by using user input"
   ]
  },
  {
   "cell_type": "code",
   "execution_count": 32,
   "id": "ae1b2f4d",
   "metadata": {},
   "outputs": [
    {
     "name": "stdout",
     "output_type": "stream",
     "text": [
      "Name of student : Abhimanyu\n",
      "Age of student :6\n",
      "Score in percentage : 91.91\n",
      "****************************************************************************************************\n",
      "Student Record :\n",
      "Name: Abhimanyu Age: 6 Score(%) 91.91\n",
      "@@@@@@@@@@@@@@@@@@@@@@@@@@@@@@@@@@@@@@@@@@@@@@@@@@@@@@@@@@@@@@@@@@@@@@@@@@@@@@@@@@@@@@@@@@@@@@@@@@@@\n",
      "Name of student : Shourya\n",
      "Age of student :7\n",
      "Score in percentage : 93.91\n",
      "****************************************************************************************************\n",
      "Student Record :\n",
      "Name: Shourya Age: 7 Score(%) 93.91\n",
      "@@@@@@@@@@@@@@@@@@@@@@@@@@@@@@@@@@@@@@@@@@@@@@@@@@@@@@@@@@@@@@@@@@@@@@@@@@@@@@@@@@@@@@@@@@@@@@@@@@@@\n",
      "Name of student : Atharv\n",
      "Age of student :7\n",
      "Score in percentage : 94.91\n",
      "****************************************************************************************************\n",
      "Student Record :\n",
      "Name: Atharv Age: 7 Score(%) 94.91\n",
      "@@@@@@@@@@@@@@@@@@@@@@@@@@@@@@@@@@@@@@@@@@@@@@@@@@@@@@@@@@@@@@@@@@@@@@@@@@@@@@@@@@@@@@@@@@@@@@@@@@@@\n",
      "Name of student : Amey\n",
      "Age of student :2\n",
      "Score in percentage : 99\n",
      "****************************************************************************************************\n",
      "Student Record :\n",
      "Name: Amey Age: 2 Score(%) 99.0\n",
      "@@@@@@@@@@@@@@@@@@@@@@@@@@@@@@@@@@@@@@@@@@@@@@@@@@@@@@@@@@@@@@@@@@@@@@@@@@@@@@@@@@@@@@@@@@@@@@@@@@@@\n",
      "Name of student : Aditi\n",
      "Age of student :12\n",
      "Score in percentage : 95\n",
      "****************************************************************************************************\n",
      "Student Record :\n",
      "Name: Aditi Age: 12 Score(%) 95.0\n",
      "@@@@@@@@@@@@@@@@@@@@@@@@@@@@@@@@@@@@@@@@@@@@@@@@@@@@@@@@@@@@@@@@@@@@@@@@@@@@@@@@@@@@@@@@@@@@@@@@@@@@\n"
     ]
    }
   ],
   "source": [
    "def stud_record():\n",
    "    name=input('Name of student : ')\n",
    "    age=int(input('Age of student :'))\n",
    "    score=float(input('Score in percentage : '))\n",
    "    print('*'*100)\n",
    "    print('Student Record :')\n",
    "    print('Name:',name,'Age:',age,'Score(%)',score)\n",
    "    print('@'*100)\n",
    "    \n",
    "for i in range(0,5):\n",
    "    stud_record()"
   ]
  },
  {
   "cell_type": "markdown",
   "id": "a982eacd",
   "metadata": {},
   "source": [
    "###### 39. write program for addition of n no of unknown numbers"
   ]
  },
  {
   "cell_type": "code",
   "execution_count": 33,
   "id": "d63f4fe2",
   "metadata": {},
   "outputs": [
    {
     "name": "stdout",
     "output_type": "stream",
     "text": [
      "Addition of unknwokn numbers : 919780\n"
     ]
    }
   ],
   "source": [
    "def add(*numbers):\n",
    "    print('Addition of unknwokn numbers :',sum(numbers))\n",
    "    \n",
    "add(4555,54353,6466,774747,77457,777,757,223,445)"
   ]
  },
  {
   "cell_type": "markdown",
   "id": "bece3a92",
   "metadata": {},
   "source": [
    "###### 40. write a program forargument is key-value pair where order does not matter"
   ]
  },
  {
   "cell_type": "code",
   "execution_count": 34,
   "id": "35d87188",
   "metadata": {},
   "outputs": [
    {
     "name": "stdout",
     "output_type": "stream",
     "text": [
      "first std kid is : Akashay\n",
      "second std kid is : Rohit\n",
      "third std kid is : VIRAT\n",
      "fourth std kid is : Dhoni\n",
      "fifth std kid is : Hardik\n"
     ]
    }
   ],
   "source": [
    "def my_display(kid1,kid3,kid5,kid2,kid4):\n",
    "    print('first std kid is :',kid1)\n",
    "    print('second std kid is :',kid2)\n",
    "    print('third std kid is :',kid3)\n",
    "    print('fourth std kid is :',kid4)\n",
    "    print('fifth std kid is :',kid5)\n",
    "    \n",
    "my_display(kid3='VIRAT',kid2='Rohit',kid1='Akashay',kid4='Dhoni',kid5='Hardik')"
   ]
  },
  {
   "cell_type": "markdown",
   "id": "f4f61e89",
   "metadata": {},
   "source": [
    "                                                                               Date: 24-April-2023"
   ]
  },
  {
   "cell_type": "markdown",
   "id": "eb25749f",
   "metadata": {},
   "source": [
    "###### 41. write a program to create dictionary without manually and dict function  and acces that elements"
   ]
  },
  {
   "cell_type": "code",
   "execution_count": 1,
   "id": "f508fbe7",
   "metadata": {},
   "outputs": [
    {
     "name": "stdout",
     "output_type": "stream",
     "text": [
      "My user defined dictionary : {'Team': 'Mumbai', 'Captan': 'Rohit', 'Age': 36, 'Role': 'Batter'}\n",
      "Accessing dictionary elements : 36\n"
     ]
    }
   ],
   "source": [
    "def dictionary(**name):\n",
    "    print('My user defined dictionary :',name)\n",
    "    print('Accessing dictionary elements :',name['Age'])\n",
    "    \n",
    "dictionary(Team='Mumbai',Captan='Rohit',Age=36,Role='Batter')"
   ]
  },
  {
   "cell_type": "markdown",
   "id": "f6337885",
   "metadata": {},
   "source": [
    "###### 42. write  aprogram for to pass unlimited letters, display lenth of letters and iterate that letters"
   ]
  },
  {
   "cell_type": "code",
   "execution_count": 2,
   "id": "04a1ce22",
   "metadata": {},
   "outputs": [
    {
     "name": "stdout",
     "output_type": "stream",
     "text": [
      "My letters are : ('C', 'H', 'A', 'T', 'R', 'A', 'P', 'A', 'T', 'I', 'S', 'H', 'I', 'V', 'A', 'J', 'I', 'M', 'A', 'H', 'A', 'R', 'A', 'J')\n",
      "Length of letters : 24\n",
      "C\n",
      "H\n",
      "A\n",
      "T\n",
      "R\n",
      "A\n",
      "P\n",
      "A\n",
      "T\n",
      "I\n",
      "S\n",
      "H\n",
      "I\n",
      "V\n",
      "A\n",
      "J\n",
      "I\n",
      "M\n",
      "A\n",
      "H\n",
      "A\n",
      "R\n",
      "A\n",
      "J\n"
     ]
    }
   ],
   "source": [
    "def display(*letters):\n",
    "    print('My letters are :',letters)\n",
    "    l=len(letters)\n",
    "    print('Length of letters :',l)\n",
    "    \n",
    "    for i in letters:\n",
    "        print(i)\n",
    "        \n",
    "display('C','H','A','T','R','A','P','A','T','I','S','H','I','V','A','J','I','M','A','H','A','R','A','J')"
   ]
  },
  {
   "cell_type": "markdown",
   "id": "b37be891",
   "metadata": {},
   "source": [
    "###### 43. write program for display record of student by using init method"
   ]
  },
  {
   "cell_type": "code",
   "execution_count": 7,
   "id": "5a1968f4",
   "metadata": {},
   "outputs": [
    {
     "name": "stdout",
     "output_type": "stream",
     "text": [
      "Total number of student records =3\n",
      "Name of student 1 =A\n",
      "Class name of student 1 =F\n",
      "Roll No of student 1 =10\n",
      "School Name of student 1 =VISION\n",
      "....................................................................................................\n",
      "Name of student 2 =B\n",
      "Class name of student 2 =S\n",
      "Roll No of student 2 =20\n",
      "School Name of student 2 =BLOSSOM\n",
      "....................................................................................................\n",
      "Name of student 3 =C\n",
      "Class name of student 3 =S\n",
      "Roll No of student 3 =30\n",
      "School Name of student 3 =ZP\n",
      "....................................................................................................\n",
      "Name : A\n",
      "Class : F\n",
      "Roll No: 10\n",
      "School Name : VISION\n",
      "****************************************************************************************************\n",
      "Name : B\n",
      "Class : S\n",
      "Roll No: 20\n",
      "School Name : BLOSSOM\n",
      "****************************************************************************************************\n",
      "Name : C\n",
      "Class : S\n",
      "Roll No: 30\n",
      "School Name : ZP\n",
      "****************************************************************************************************\n"
     ]
    }
   ],
   "source": [
    "class Stud_record:\n",
    "    \n",
    "    def __init__(self,name,cls,rollno,school):\n",
    "        self.name=name\n",
    "        self.cls=cls\n",
    "        self.rollno=rollno\n",
    "        self.school=school\n",
    "        \n",
    "    def display_record(self):\n",
    "        print('Name :',self.name)\n",
    "        print('Class :',self.cls)\n",
    "        print('Roll No:',self.rollno)\n",
    "        print('School Name :',self.school)\n",
    "        \n",
    "\n",
    "number_of_stud=int(input('Total number of student records ='))\n",
    "\n",
    "object_list=[]\n",
    "\n",
    "for i in range(number_of_stud):\n",
    "    name=input('Name of student {} ='.format(i+1))\n",
    "    cls=input('Class name of student {} ='.format(i+1))\n",
    "    rollno=int(input('Roll No of student {} ='.format(i+1)))\n",
    "    school=input('School Name of student {} ='.format(i+1))\n",
    "    object_list.append(Stud_record(name,cls,rollno,school))\n",
    "    print('.'*100)\n",
    "    \n",
    "print('Displaying Student Record .......')\n",
    "print('.'*100)\n",
    "\n",
    "for student in object_list:\n",
    "    student.display_record()\n",
    "    print('*'*100)\n",
    "    "
   ]
  },
  {
   "cell_type": "markdown",
   "id": "5d6baaa2",
   "metadata": {},
   "source": [
    "###### 44. write program for \"how for loop internally work\" by using iter and next."
   ]
  },
  {
   "cell_type": "code",
   "execution_count": 5,
   "id": "c86a57a9",
   "metadata": {},
   "outputs": [
    {
     "name": "stdout",
     "output_type": "stream",
     "text": [
      "1\n",
      "2\n",
      "3\n",
      "4\n",
      "5\n",
      "6\n",
      "7\n",
      "8\n",
      "9\n",
      "10\n"
     ]
    }
   ],
   "source": [
    "class internal_code_forloop:\n",
    "    \n",
    "    def __iter__(self):\n",
    "        self.val=1\n",
    "        return self\n",
    "    \n",
    "    def __next__(self):\n",
    "        x=self.val\n",
    "        self.val+=1\n",
    "        \n",
    "        if x>10:\n",
    "            raise StopIteration\n",
    "        return x\n",
    "    \n",
    "loop = internal_code_forloop()\n",
    "\n",
    "itr=iter(loop)\n",
    "\n",
    "for i in itr:\n",
    "    print(i)"
   ]
  },
  {
   "cell_type": "markdown",
   "id": "585e059d",
   "metadata": {},
   "source": [
    "###### 45. write a program for class 2 inherit properties of class 1 "
   ]
  },
  {
   "cell_type": "code",
   "execution_count": 6,
   "id": "8dbdc617",
   "metadata": {},
   "outputs": [
    {
     "name": "stdout",
     "output_type": "stream",
     "text": [
      "Accessing through paratent class:\n",
      "Player Name: Rohit\n",
      "Team Name : Mumbai Indians\n",
      "City Name : Mumbai\n",
      "....................................................................................................\n",
      "Accessing parent through child class:\n",
      "Player Name: Rohit\n",
      "Team Name : Mumbai Indians\n",
      "City Name : Mumbai\n",
      "....................................................................................................\n",
      "Accessing child through child class:\n",
      "Player Name: Rohit\n",
      "Team Name : Mumbai Indians\n",
      "City Name : Mumbai\n",
      "Jersey Number: 45\n"
     ]
    }
   ],
   "source": [
    "class base:\n",
    "    \n",
    "    def __init__(self,name,team,city):\n",
    "        self.name=name\n",
    "        self.team=team\n",
    "        self.city=city\n",
    "        \n",
    "    def pdisplay(self):\n",
    "        print('Player Name:',self.name)\n",
    "        print('Team Name :',self.team)\n",
    "        print('City Name :',self.city)\n",
    "        \n",
    "class child(base):\n",
    "    \n",
    "    def __init__(self,name,team,city,jersey):\n",
    "        self.name=name\n",
    "        self.team=team\n",
    "        self.city=city\n",
    "        self.jersey=jersey\n",
    "        \n",
    "    def cdisplay(self):\n",
    "        print('Player Name:',self.name)\n",
    "        print('Team Name :',self.team)\n",
    "        print('City Name :',self.city)\n",
    "        print('Jersey Number:',self.jersey)\n",
    "        \n",
    "\n",
    "print('Accessing through paratent class:')    \n",
    "obj=base('Rohit','Mumbai Indians','Mumbai')\n",
    "obj.pdisplay()\n",
    "\n",
    "print('.'*100)\n",
    "\n",
    "print('Accessing parent through child class:')    \n",
    "obj=child('Rohit','Mumbai Indians','Mumbai',45)\n",
    "obj.pdisplay()\n",
    "\n",
    "print('.'*100)\n",
    "\n",
    "print('Accessing child through child class:')    \n",
    "obj=child('Rohit','Mumbai Indians','Mumbai',45)\n",
    "obj.cdisplay()"
   ]
  },
  {
   "cell_type": "markdown",
   "id": "e6aecbce",
   "metadata": {},
   "source": [
    "                                                                               Date: 25-April-2023"
   ]
  },
  {
   "cell_type": "markdown",
   "id": "cec9ca0a",
   "metadata": {},
   "source": [
    "###### 46. write program for match object of \"is\" and \"who\" for given string and also display start and end location of above object\n",
    "“Progress is impossible without change, and those who cannot change their minds cannot change anything”"
   ]
  },
  {
   "cell_type": "code",
   "execution_count": 10,
   "id": "4d3b71ac",
   "metadata": {},
   "outputs": [
    {
     "name": "stdout",
     "output_type": "stream",
     "text": [
      "Yes string starts with 'Progress' Ends with 'anything'\n",
      "input string for above string : Progress is impossible without change, and those who cannot change their minds cannot change anything\n",
      "start index 0\n",
      "end index 101\n",
      "start and end index for above object (0, 101)\n"
     ]
    }
   ],
   "source": [
    "import re\n",
    "txt = \"Progress is impossible without change, and those who cannot change their minds cannot change anything\"\n",
    "x=re.search(\"^Progress.*anything$\",txt)\n",
    "\n",
    "if x:\n",
    "    print(\"Yes string starts with 'Progress' Ends with 'anything'\")\n",
    "else:\n",
    "    print('Does not have match')\n",
    "    \n",
    "print('input string for above string :',x.string)\n",
    "print('start index',x.start())\n",
    "print('end index',x.end())\n",
    "print('start and end index for above object',x.span())"
   ]
  },
  {
   "cell_type": "markdown",
   "id": "c9858ec2",
   "metadata": {},
   "source": [
    "###### 47. write the program for to find the perticular characters occurance in a string. "
   ]
  },
  {
   "cell_type": "code",
   "execution_count": 25,
   "id": "11b90564",
   "metadata": {},
   "outputs": [
    {
     "name": "stdout",
     "output_type": "stream",
     "text": [
      "Enter string to findout perticular words: After spending five years in this organization\n",
      "txt : After spending five years in this organization\n",
      "Enter word to find :i\n"
     ]
    },
    {
     "data": {
      "text/plain": [
       "[6]"
      ]
     },
     "execution_count": 25,
     "metadata": {},
     "output_type": "execute_result"
    }
   ],
   "source": [
    "def occurance():\n",
    "    import re\n",
    "    count=[]\n",
    "    txt=input('Enter string to findout perticular words: ')\n",
    "    print('txt :',txt)\n",
    "    list1=input('Enter word to find :')\n",
    "    \n",
    "    for i in list1:\n",
    "        cnt=re.findall(i,txt)\n",
    "        count.append(len(cnt))\n",
    "    return count\n",
    "\n",
    "occurance()    "
   ]
  },
  {
   "cell_type": "markdown",
   "id": "877aa451",
   "metadata": {},
   "source": [
    "###### 48. write the program for to find the words occurance in a string."
   ]
  },
  {
   "cell_type": "code",
   "execution_count": 28,
   "id": "7c08cab1",
   "metadata": {},
   "outputs": [
    {
     "data": {
      "text/plain": [
       "[3, 2, 3]"
      ]
     },
     "execution_count": 28,
     "metadata": {},
     "output_type": "execute_result"
    }
   ],
   "source": [
    "def word():\n",
    "    import re\n",
    "    count=[]\n",
    "    txt='I strongly believe that this new change in my career will be my new beginning towards advancement'\n",
    "    list1=['in','my','be']\n",
    "    \n",
    "    for i in list1:\n",
    "        cnt=re.findall(i,txt)\n",
    "        count.append(len(cnt))\n",
    "    return count\n",
    "\n",
    "word()"
   ]
  },
  {
   "cell_type": "markdown",
   "id": "e5bab85a",
   "metadata": {},
   "source": [
    "###### 49. write the program on try and except error on division opeartion"
   ]
  },
  {
   "cell_type": "code",
   "execution_count": 31,
   "id": "e6a4cba0",
   "metadata": {},
   "outputs": [
    {
     "name": "stdout",
     "output_type": "stream",
     "text": [
      "Yeah..! your answer is =  1\n"
     ]
    }
   ],
   "source": [
    "def divide(x,y):\n",
    "    try:\n",
    "        result=x//y\n",
    "        print('Yeah..! your answer is = ',result)\n",
    "        \n",
    "    except ZeroDivisionError:\n",
    "        print('Sorry ! You are dividing by zero')\n",
    "        \n",
    "divide(10,10)"
   ]
  },
  {
   "cell_type": "code",
   "execution_count": 32,
   "id": "af9b98d3",
   "metadata": {},
   "outputs": [
    {
     "name": "stdout",
     "output_type": "stream",
     "text": [
      "Sorry ! You are dividing by zero\n"
     ]
    }
   ],
   "source": [
    "def divide(x,y):\n",
    "    try:\n",
    "        result=x//y\n",
    "        print('Yeah..! your answer is = ',result)\n",
    "        \n",
    "    except ZeroDivisionError:\n",
    "        print('Sorry ! You are dividing by zero')\n",
    "        \n",
    "divide(10,0)"
   ]
  },
  {
   "cell_type": "markdown",
   "id": "b800c22e",
   "metadata": {},
   "source": [
    "###### 50. write program for findout value error by using try except method"
   ]
  },
  {
   "cell_type": "code",
   "execution_count": 34,
   "id": "a003c3c4",
   "metadata": {},
   "outputs": [
    {
     "name": "stdout",
     "output_type": "stream",
     "text": [
      "Enter number :99.99\n",
      "Oops! That was no valid number,Try again..!\n",
      "Enter number :100\n"
     ]
    }
   ],
   "source": [
    "while True:\n",
    "    try:\n",
    "        x=int(input('Enter number :'))\n",
    "        break\n",
    "    except ValueError:\n",
    "        print(\"Oops! That was no valid number,Try again..!\")"
   ]
  },
  {
   "cell_type": "markdown",
   "id": "316921e9",
   "metadata": {},
   "source": [
    "                                                                                                 Date: 26-April-2023"
   ]
  },
  {
   "cell_type": "markdown",
   "id": "3d3e4a02",
   "metadata": {},
   "source": [
    "###### 51. . Create a null vector of size 10"
   ]
  },
  {
   "cell_type": "code",
   "execution_count": 1,
   "id": "cd4774b6",
   "metadata": {},
   "outputs": [
    {
     "name": "stdout",
     "output_type": "stream",
     "text": [
      "[0. 0. 0. 0. 0. 0. 0. 0. 0. 0.]\n"
     ]
    }
   ],
   "source": [
    "import numpy as np\n",
    "\n",
    "arr=np.zeros(10)\n",
    "print(arr)"
   ]
  },
  {
   "cell_type": "markdown",
   "id": "f2286f5d",
   "metadata": {},
   "source": [
    "###### 52.  How to find the memory size of an array"
   ]
  },
  {
   "cell_type": "code",
   "execution_count": 10,
   "id": "5dfba345",
   "metadata": {},
   "outputs": [
    {
     "name": "stdout",
     "output_type": "stream",
     "text": [
      "[1 2 3 4 5 6 7 8 9]\n",
      "[[[1 2 3]\n",
      "  [4 5 6]\n",
      "  [7 8 9]]]\n",
      "memory size of arr in bytes : 4\n",
      "memory size of arr2 in bytes : 4\n"
     ]
    }
   ],
   "source": [
    "arr=np.arange(1,10)\n",
    "print(arr)\n",
    "arr2=arr.reshape(1,3,3)\n",
    "print(arr2)\n",
    "\n",
    "# checking memory size of array\n",
    "\n",
    "print('memory size of arr in bytes :',arr.itemsize)\n",
    "print('memory size of arr2 in bytes :',arr2.itemsize)"
   ]
  },
  {
   "cell_type": "markdown",
   "id": "63f628c0",
   "metadata": {},
   "source": [
    "###### 53. Create a null vector of size 10 but the fifth value which is 1"
   ]
  },
  {
   "cell_type": "code",
   "execution_count": 12,
   "id": "823718f9",
   "metadata": {},
   "outputs": [
    {
     "name": "stdout",
     "output_type": "stream",
     "text": [
      "[0. 0. 0. 0. 0. 1. 0. 0. 0. 0.]\n"
     ]
    }
   ],
   "source": [
    "arr=np.zeros(10)\n",
    "arr[5]=1\n",
    "print(arr)"
   ]
  },
  {
   "cell_type": "markdown",
   "id": "453f827a",
   "metadata": {},
   "source": [
    "###### 54.  Create a vector with values ranging from 15 to 45"
   ]
  },
  {
   "cell_type": "code",
   "execution_count": 13,
   "id": "4b739a8f",
   "metadata": {},
   "outputs": [
    {
     "name": "stdout",
     "output_type": "stream",
     "text": [
      "[15 16 17 18 19 20 21 22 23 24 25 26 27 28 29 30 31 32 33 34 35 36 37 38\n",
      " 39 40 41 42 43 44 45]\n"
     ]
    }
   ],
   "source": [
    "arr=np.arange(15,46)\n",
    "print(arr)"
   ]
  },
  {
   "cell_type": "markdown",
   "id": "b58161ad",
   "metadata": {},
   "source": [
    "###### 55. Reverse a vector (The first element becomes last)"
   ]
  },
  {
   "cell_type": "code",
   "execution_count": 17,
   "id": "024da1cc",
   "metadata": {},
   "outputs": [
    {
     "name": "stdout",
     "output_type": "stream",
     "text": [
      "original array : [1 2 3 4 5 6 7 8 9]\n",
      "modified array : [9 8 7 6 5 4 3 2 1]\n"
     ]
    }
   ],
   "source": [
    "arr=np.arange(1,10)\n",
    "print('original array :',arr)\n",
    "print('modified array :',arr[::-1])"
   ]
  },
  {
   "cell_type": "markdown",
   "id": "49e896c1",
   "metadata": {},
   "source": [
    "                                                                                                         Date: 27-April-2023"
   ]
  },
  {
   "cell_type": "markdown",
   "id": "52462592",
   "metadata": {},
   "source": [
    "###### 56. . Write a NumPy program to add, subtract, multiply, divide arguments element-wise"
   ]
  },
  {
   "cell_type": "code",
   "execution_count": 1,
   "id": "a8f51065",
   "metadata": {},
   "outputs": [
    {
     "name": "stdout",
     "output_type": "stream",
     "text": [
      "arr1 : [1 2 3 4 5]\n",
      "arr2 : [ 6  7  8  9 10]\n",
      "addition of arr1 and arr2 : [ 7  9 11 13 15]\n",
      "subsrtaction of arr1 and arr2 : [-5 -5 -5 -5 -5]\n",
      "multiplication of arr1 and arr2 : [ 6 14 24 36 50]\n",
      "division of arr1 and arr2 : [0.16666667 0.28571429 0.375      0.44444444 0.5       ]\n"
     ]
    }
   ],
   "source": [
    "import numpy as np\n",
    "\n",
    "arr1=np.arange(1,6)\n",
    "arr2=np.arange(6,11)\n",
    "print('arr1 :',arr1)\n",
    "print('arr2 :',arr2)\n",
    "\n",
    "add=np.array(arr1+arr2)\n",
    "print('addition of arr1 and arr2 :',add)\n",
    "\n",
    "sub=np.array(arr1-arr2)\n",
    "print('subsrtaction of arr1 and arr2 :',sub)\n",
    "\n",
    "mul=np.array(arr1*arr2)\n",
    "print('multiplication of arr1 and arr2 :',mul)\n",
    "\n",
    "div=np.array(arr1/arr2)\n",
    "print('division of arr1 and arr2 :',div)"
   ]
  },
  {
   "cell_type": "markdown",
   "id": "a0df54d4",
   "metadata": {},
   "source": [
    "###### 57. Write a NumPy program to round elements of the array to the nearest integer"
   ]
  },
  {
   "cell_type": "code",
   "execution_count": 3,
   "id": "190ebf88",
   "metadata": {},
   "outputs": [
    {
     "name": "stdout",
     "output_type": "stream",
     "text": [
      "Original array : [  1.25   1.55   1.75   1.99   2.18  10.77 100.9 ]\n",
      "Rounded array : [  1.   2.   2.   2.   2.  11. 101.]\n"
     ]
    }
   ],
   "source": [
    "arr=np.array([1.25, 1.55, 1.75, 1.99, 2.18, 10.77, 100.9])\n",
    "\n",
    "print('Original array :',arr)\n",
    "\n",
    "round_arr=np.round(arr)\n",
    "print('Rounded array :',round_arr)\n"
   ]
  },
  {
   "cell_type": "markdown",
   "id": "2af6c198",
   "metadata": {},
   "source": [
    "###### 58. Write a NumPy program to get the floor and ceiling values of the elements of a NumPy array"
   ]
  },
  {
   "cell_type": "code",
   "execution_count": 7,
   "id": "28b17bfb",
   "metadata": {},
   "outputs": [
    {
     "name": "stdout",
     "output_type": "stream",
     "text": [
      "array of elements : [10 20 30 40 50]\n",
      "array of divisors elements : [3 4 5 6 7]\n",
      "normal division : [3.33333333 5.         6.         6.66666667 7.14285714]\n",
      "floor division : [3 5 6 6 7]\n",
      "ceiling division : [4. 5. 6. 7. 8.]\n"
     ]
    }
   ],
   "source": [
    "arr = np.array([10, 20, 30, 40, 50])\n",
    "divisors = np.array([3, 4, 5, 6, 7])\n",
    "print('array of elements :',arr)\n",
    "print('array of divisors elements :',divisors)\n",
    "\n",
    "div_arr=np.array(arr/ divisors)\n",
    "print('normal division :',div_arr)\n",
    "\n",
    "floor_arr=np.floor_divide(arr, divisors)\n",
    "print('floor division :',floor_arr)\n",
    "\n",
    "ceiling_arr = np.ceil(arr/divisors)\n",
    "print('ceiling division :',ceiling_arr)"
   ]
  },
  {
   "cell_type": "markdown",
   "id": "ac14574d",
   "metadata": {},
   "source": [
    "###### 59. Write a NumPy program to calculate mean across dimensions, in a 2D NumPy array."
   ]
  },
  {
   "cell_type": "code",
   "execution_count": 13,
   "id": "0a5e3c84",
   "metadata": {},
   "outputs": [
    {
     "name": "stdout",
     "output_type": "stream",
     "text": [
      "2D array : [[1 2 3]\n",
      " [4 5 6]]\n",
      "Row means : [2. 5.]\n",
      "Columns means : [2.5 3.5 4.5]\n"
     ]
    }
   ],
   "source": [
    "arr=np.array([[1,2,3],[4,5,6]])\n",
    "print('2D array :',arr)\n",
    "\n",
    "row_mean=np.mean(arr,axis=1)\n",
    "print('Row means :',row_mean)\n",
    "\n",
    "col_mean=np.mean(arr,axis=0)\n",
    "print('Columns means :',col_mean)"
   ]
  },
  {
   "cell_type": "code",
   "execution_count": 16,
   "id": "777416bc",
   "metadata": {},
   "outputs": [
    {
     "name": "stdout",
     "output_type": "stream",
     "text": [
      "odd_array : [10 20 30]\n",
      "even_array : [20 40 60 80]\n",
      "odd array mean : 20.0\n",
      "odd array mean : 50.0\n"
     ]
    }
   ],
   "source": [
    "odd_data_point_arr=np.array([10,20,30])\n",
    "even_data_point_arr=np.array([20,40,60,80])\n",
    "print('odd_array :',odd_data_point_arr)\n",
    "print('even_array :',even_data_point_arr)\n",
    "\n",
    "odd_mean = np.mean(odd_data_point_arr)\n",
    "print('odd array mean :',odd_mean)\n",
    "\n",
    "even_mean = np.mean(even_data_point_arr)\n",
    "print('odd array mean :',even_mean)"
   ]
  },
  {
   "cell_type": "markdown",
   "id": "8e5faddb",
   "metadata": {},
   "source": [
    "###### 60. Write a NumPy program to convert angles from degrees to radians for all elements in a given array.\n",
    "\n",
    "A degree is a unit of angle measurement, where one full circle (360 degrees) represents a **complete rotation**. In NumPy, angles can be expressed in degrees using the deg unit.\n",
    "\n",
    "A radian is another unit of angle measurement, where one full circle (360 degrees) is equal to **2*pi radians**. In NumPy, angles can be expressed in radians using the rad unit.\n",
    "\n",
    "NumPy provides various functions to convert between degrees and radians, such as np.deg2rad() and np.rad2deg(). These functions can be used to convert an array of angles from one unit to another."
   ]
  },
  {
   "cell_type": "code",
   "execution_count": 17,
   "id": "09a111fc",
   "metadata": {},
   "outputs": [
    {
     "name": "stdout",
     "output_type": "stream",
     "text": [
      "degree element array : [  0  30  45  60  90 120 180 240 300 360]\n",
      "degree to radian converted array : [0.         0.52359878 0.78539816 1.04719755 1.57079633 2.0943951\n",
      " 3.14159265 4.1887902  5.23598776 6.28318531]\n"
     ]
    }
   ],
   "source": [
    "deg_arr=np.array([0, 30, 45 ,60, 90, 120, 180, 240, 300, 360])\n",
    "print('degree element array :',deg_arr)\n",
    "\n",
    "deg_to_rad_arr = np.deg2rad(deg_arr)\n",
    "\n",
    "print('degree to radian converted array :',deg_to_rad_arr)"
   ]
  },
  {
   "cell_type": "markdown",
   "id": "adfbdfc3",
   "metadata": {},
   "source": [
    "                                                                                                         Date: 28-April-2023"
   ]
  },
  {
   "cell_type": "markdown",
   "id": "d0fd301a",
   "metadata": {},
   "source": [
    "###### 61. What is the use of all and any function in numpy?"
   ]
  },
  {
   "cell_type": "markdown",
   "id": "5c822542",
   "metadata": {},
   "source": [
    "The **all()** function returns **True** if **all elements in the array evaluate to True** for the given condition, and **False otherwise**\n",
    "\n",
    "The **any()** function, on the other hand, returns **True if at least one element in the array** evaluates to True for the given condition, and **False otherwise**."
   ]
  },
  {
   "cell_type": "code",
   "execution_count": 12,
   "id": "8d23a56d",
   "metadata": {},
   "outputs": [
    {
     "name": "stdout",
     "output_type": "stream",
     "text": [
      "[1 0 1 1 2 3]\n",
      "[1 1 1 1 1 2]\n",
      "[0 0 0 0 0]\n",
      "****************************************************************************************************\n",
      "np.any() operation for arr1: True\n",
      "np.any() operation for arr2: True\n",
      "np.any() operation for arr3: False\n",
      "****************************************************************************************************\n",
      "np.all() operation for arr1: False\n",
      "np.all() operation for arr2: True\n",
      "np.all() operation for arr3: False\n"
     ]
    }
   ],
   "source": [
    "import numpy as np\n",
    "\n",
    "\n",
    "arr1=np.array([True, False, True, 1 , 2, 3])\n",
    "print(arr1)\n",
    "arr2=np.array([True, True, True, True, 1, 2])\n",
    "print(arr2)\n",
    "arr3=np.array([0,0,0,0,0])\n",
    "print(arr3)\n",
    "\n",
    "print('*'*100)\n",
    "\n",
    "print('np.any() operation for arr1:',np.any(arr1))\n",
    "print('np.any() operation for arr2:',np.any(arr2))\n",
    "print('np.any() operation for arr3:',np.any(arr3))\n",
    "\n",
    "print('*'*100)\n",
    "\n",
    "print('np.all() operation for arr1:',np.all(arr1))\n",
    "print('np.all() operation for arr2:',np.all(arr2))\n",
    "print('np.all() operation for arr3:',np.all(arr3))"
   ]
  },
  {
   "cell_type": "markdown",
   "id": "10b35a16",
   "metadata": {},
   "source": [
    "###### 62. Create a 3x3 matrix with values ranging from 0 to 8\n",
    "    [[0 1 2]\n",
    "    [3 4 5]\n",
    "    [6 7 8]]\n"
   ]
  },
  {
   "cell_type": "code",
   "execution_count": 24,
   "id": "9f67e2f7",
   "metadata": {},
   "outputs": [
    {
     "name": "stdout",
     "output_type": "stream",
     "text": [
      "[0 1 2 3 4 5 6 7 8]\n",
      "array for 3x3 matrix with values ranging from 0 to 8 :\n",
      " [[0 1 2]\n",
      " [3 4 5]\n",
      " [6 7 8]]\n"
     ]
    }
   ],
   "source": [
    "arr=np.arange(0,9)\n",
    "print(arr)\n",
    "arr_2d=arr.reshape(3,3)\n",
    "print('array for 3x3 matrix with values ranging from 0 to 8 :\\n',arr_2d)"
   ]
  },
  {
   "cell_type": "markdown",
   "id": "932cabbb",
   "metadata": {},
   "source": [
    "###### 63. How to reverse the columns of a 2D array?\n",
    "    ([[2, 1, 0],\n",
    "    [5, 4, 3],\n",
    "    [8, 7, 6]])\n"
   ]
  },
  {
   "cell_type": "code",
   "execution_count": 32,
   "id": "782dbd74",
   "metadata": {},
   "outputs": [
    {
     "name": "stdout",
     "output_type": "stream",
     "text": [
      "[[0 1 2]\n",
      " [3 4 5]\n",
      " [6 7 8]]\n",
      "****************************************************************************************************\n",
      "Printing reverse the columns of 2D array:\n"
     ]
    },
    {
     "data": {
      "text/plain": [
       "array([[2, 1, 0],\n",
       "       [5, 4, 3],\n",
       "       [8, 7, 6]])"
      ]
     },
     "execution_count": 32,
     "metadata": {},
     "output_type": "execute_result"
    }
   ],
   "source": [
    "arr=np.arange(0,9)\n",
    "arr_2d=arr.reshape(3,3)\n",
    "print(arr_2d)\n",
    "print('*'*100)\n",
    "print('Printing reverse the columns of 2D array:')\n",
    "arr_2d[:,::-1]"
   ]
  },
  {
   "cell_type": "markdown",
   "id": "054225ca",
   "metadata": {},
   "source": [
    "###### 64. How to reverse the rows of a 2D array?\n",
    "    [[6, 7, 8],\n",
    "    [3, 4, 5],\n",
    "    [0, 1, 2]]\n"
   ]
  },
  {
   "cell_type": "code",
   "execution_count": 37,
   "id": "fb1a8256",
   "metadata": {},
   "outputs": [
    {
     "name": "stdout",
     "output_type": "stream",
     "text": [
      "original array : [0 1 2 3 4 5 6 7 8]\n",
      "reversed  array : [8 7 6 5 4 3 2 1 0]\n",
      "Converted array : [[8 7 6]\n",
      " [5 4 3]\n",
      " [2 1 0]]\n",
      "****************************************************************************************************\n",
      "Printing reverse the columns of 2D array:\n",
      " [[6 7 8]\n",
      " [3 4 5]\n",
      " [0 1 2]]\n"
     ]
    }
   ],
   "source": [
    "arr=np.arange(0,9)\n",
    "print('original array :',arr)\n",
    "\n",
    "# making the array reverse \n",
    "arr2 = arr[::-1]\n",
    "print('reversed  array :',arr2)\n",
    "\n",
    "# converting array into 2d\n",
    "arr_2d=arr2.reshape(3,3)\n",
    "print(\"Converted array :\",arr_2d)\n",
    "\n",
    "print('*'*100)\n",
    "\n",
    "arr2=arr_2d[:,::-1]\n",
    "print('Printing reverse the columns of 2D array:\\n',arr2)"
   ]
  },
  {
   "cell_type": "markdown",
   "id": "8d47aa6e",
   "metadata": {},
   "source": [
    "###### 65.  Find indices of non-zero elements from [1,2,0,0,4,0]"
   ]
  },
  {
   "cell_type": "code",
   "execution_count": 39,
   "id": "7eaedb66",
   "metadata": {},
   "outputs": [
    {
     "name": "stdout",
     "output_type": "stream",
     "text": [
      "Original Array : [1 2 0 0 4 0]\n",
      "non-zero elements in array :\n",
      " (array([0, 1, 4], dtype=int64),)\n"
     ]
    }
   ],
   "source": [
    "arr=np.array([1,2,0,0,4,0])\n",
    "print('Original Array :',arr)\n",
    "\n",
    "non_zero_array=arr.nonzero()\n",
    "print('non-zero elements in array :\\n',non_zero_array)"
   ]
  },
  {
   "cell_type": "markdown",
   "id": "2e71d8fc",
   "metadata": {},
   "source": [
    "                                                                                                         Date: 29-April-2023"
   ]
  },
  {
   "cell_type": "markdown",
   "id": "4cdfca38",
   "metadata": {},
   "source": [
    "###### 66. Write a NumPy program to compute the determinant of an array."
   ]
  },
  {
   "cell_type": "raw",
   "id": "89395c8d",
   "metadata": {},
   "source": [
    "| a  b |\n",
    "| c  d |\n",
    "\n",
    "the determinant is defined as det(A) = ad - bc\n",
    "\n",
    "**Note that the det() function can only be used to compute the determinant of a square matrix**\n",
    "\n",
    "| 1  2 |\n",
    "| 3  4 |\n",
    "\n",
    "the determinant is defined as det(A) = 1*4 - 2*3 = 4 - 6 = -2"
   ]
  },
  {
   "cell_type": "code",
   "execution_count": 40,
   "id": "35bb810c",
   "metadata": {},
   "outputs": [
    {
     "name": "stdout",
     "output_type": "stream",
     "text": [
      "[[1 2]\n",
      " [3 4]]\n",
      "Determinant of array : -2.0000000000000004\n"
     ]
    }
   ],
   "source": [
    "arr=np.array([[1,2],[3,4]])\n",
    "print(arr)\n",
    "\n",
    "determinant=np.linalg.det(arr)\n",
    "print('Determinant of array :',determinant)"
   ]
  },
  {
   "cell_type": "markdown",
   "id": "01e6b7f7",
   "metadata": {},
   "source": [
    "###### 67. Write a NumPy program to compute the inverse of a given matrix"
   ]
  },
  {
   "cell_type": "code",
   "execution_count": 43,
   "id": "86007c05",
   "metadata": {},
   "outputs": [
    {
     "name": "stdout",
     "output_type": "stream",
     "text": [
      "[[1 2]\n",
      " [3 4]]\n",
      "Inverse of matrix:\n",
      " [[-2.   1. ]\n",
      " [ 1.5 -0.5]]\n"
     ]
    }
   ],
   "source": [
    "arr=np.array([[1,2],[3,4]])\n",
    "print(arr)\n",
    "\n",
    "determinant=np.linalg.inv(arr)\n",
    "print('Inverse of matrix:\\n',determinant)"
   ]
  },
  {
   "cell_type": "markdown",
   "id": "18d16c1f",
   "metadata": {},
   "source": [
    "###### 68. Create a random vector of size 30 and find the mean value"
   ]
  },
  {
   "cell_type": "code",
   "execution_count": 49,
   "id": "54523580",
   "metadata": {},
   "outputs": [
    {
     "name": "stdout",
     "output_type": "stream",
     "text": [
      "Random vector :\n",
      " [ 3 28  1  8 24 15 19  4 17 11 20  8 26 13  8  5  3 28 20 13  3 23 13 26\n",
      " 26 29 11  1 27  6]\n",
      "Size of random vector: 30\n",
      "MEAN : 2.5\n"
     ]
    }
   ],
   "source": [
    "random_vector=np.random.randint(1,31,30)\n",
    "print('Random vector :\\n',random_vector)\n",
    "print('Size of random vector:',random_vector.size)\n",
    "print('MEAN :',arr.mean())"
   ]
  },
  {
   "cell_type": "markdown",
   "id": "f017ccc4",
   "metadata": {},
   "source": [
    "###### 69. How to extract all numbers between a given range from a NumPy array?"
   ]
  },
  {
   "cell_type": "code",
   "execution_count": 50,
   "id": "87a4dc11",
   "metadata": {},
   "outputs": [
    {
     "name": "stdout",
     "output_type": "stream",
     "text": [
      "[3 4 5 6 7 8]\n"
     ]
    }
   ],
   "source": [
    "import numpy as np\n",
    "\n",
    "# Define an array\n",
    "arr = np.array([1, 2, 3, 4, 5, 6, 7, 8, 9, 10])\n",
    "\n",
    "# Define the range of values to extract\n",
    "start = 3\n",
    "end = 8\n",
    "\n",
    "# Use boolean indexing to extract the values in the range\n",
    "result = arr[(arr >= start) & (arr <= end)]\n",
    "\n",
    "print(result)\n"
   ]
  },
  {
   "cell_type": "markdown",
   "id": "9e97296c",
   "metadata": {},
   "source": [
    "###### 70.  Create a 3x3x3 array with random values"
   ]
  },
  {
   "cell_type": "code",
   "execution_count": 59,
   "id": "48c9a521",
   "metadata": {},
   "outputs": [
    {
     "name": "stdout",
     "output_type": "stream",
     "text": [
      "arr_3x3x3 array : [[[97 89 88]\n",
      "  [66 76 43]\n",
      "  [78 68 66]]\n",
      "\n",
      " [[17 40 70]\n",
      "  [16 71 94]\n",
      "  [92 28 73]]\n",
      "\n",
      " [[93 36 21]\n",
      "  [89 88 69]\n",
      "  [42 49 85]]]\n",
      "\n",
      "shape of array : (3, 3, 3)\n"
     ]
    }
   ],
   "source": [
    "arr=np.random.randint(1,100,27)\n",
    "arr_3x3x3=arr.reshape(3,3,3)\n",
    "\n",
    "print('arr_3x3x3 array :',arr_3x3x3)\n",
    "\n",
    "print('\\nshape of array :',arr_3x3x3.shape)"
   ]
  },
  {
   "cell_type": "code",
   "execution_count": null,
   "id": "b615245c",
   "metadata": {},
   "outputs": [],
   "source": []
  }
 ],
 "metadata": {
  "kernelspec": {
   "display_name": "Python 3 (ipykernel)",
   "language": "python",
   "name": "python3"
  },
  "language_info": {
   "codemirror_mode": {
    "name": "ipython",
    "version": 3
   },
   "file_extension": ".py",
   "mimetype": "text/x-python",
   "name": "python",
   "nbconvert_exporter": "python",
   "pygments_lexer": "ipython3",
   "version": "3.11.3"
  }
 },
 "nbformat": 4,
 "nbformat_minor": 5
}
