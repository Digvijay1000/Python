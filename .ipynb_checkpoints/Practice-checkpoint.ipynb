{
 "cells": [
  {
   "cell_type": "markdown",
   "id": "977d51ef",
   "metadata": {},
   "source": [
    "    object can not be changed after it has been created are called as immutability"
   ]
  },
  {
   "cell_type": "code",
   "execution_count": 3,
   "id": "31620469",
   "metadata": {},
   "outputs": [
    {
     "name": "stdout",
     "output_type": "stream",
     "text": [
      "140726035669928\n",
      "140726035670088\n"
     ]
    }
   ],
   "source": [
    "# immutability\n",
    "x=5\n",
    "print(id(x))\n",
    "x=10\n",
    "print(id(x))"
   ]
  },
  {
   "cell_type": "code",
   "execution_count": 9,
   "id": "b3c0cda3",
   "metadata": {},
   "outputs": [
    {
     "name": "stdout",
     "output_type": "stream",
     "text": [
      "[1, 2, 3]\n",
      "1645887196864\n",
      "[1, 2, [1, 2, 3]]\n",
      "1645887196864\n"
     ]
    }
   ],
   "source": [
    "# mutability\n",
    "list1=[1,2,3]\n",
    "print(list1)\n",
    "print(id(list1))\n",
    "list1[2]=[1,2,3]\n",
    "print(list1)\n",
    "print(id(list1))"
   ]
  },
  {
   "cell_type": "code",
   "execution_count": 27,
   "id": "939953fe",
   "metadata": {},
   "outputs": [
    {
     "name": "stdout",
     "output_type": "stream",
     "text": [
      "[1, 3, 3, 4, 4, 5] <class 'list'>\n",
      "1\n",
      "3\n",
      "3\n",
      "4\n",
      "4\n",
      "5\n",
      "****************************************************************************************************\n",
      "b'\\x01\\x03\\x03\\x04\\x04\\x05' <class 'bytes'>\n",
      "1\n",
      "3\n",
      "3\n",
      "4\n",
      "4\n",
      "5\n",
      "****************************************************************************************************\n",
      "b'DEF' <class 'bytes'>\n",
      "68\n",
      "69\n",
      "70\n"
     ]
    }
   ],
   "source": [
    "list1=[1,3,3,4,4,5]\n",
    "print(list1,type(list1))\n",
    "for i in list1:\n",
    "    print(i)\n",
    "print('*'*100)\n",
    "\n",
    "bytes1=bytes(list1)\n",
    "print(bytes1,type(bytes1))\n",
    "for i in bytes1:\n",
    "    print(i)\n",
    "print('*'*100)\n",
    "\n",
    "bytes2=b'DEF'\n",
    "print(bytes2,type(bytes2))\n",
    "for i in bytes2:\n",
    "    print(i)"
   ]
  },
  {
   "cell_type": "code",
   "execution_count": 20,
   "id": "72774cfe",
   "metadata": {},
   "outputs": [
    {
     "name": "stdout",
     "output_type": "stream",
     "text": [
      "[11, 22, 33, 44] <class 'list'>\n",
      "****************************************************************************************************\n",
      "bytearray(b'\\x0b\\x16!,') <class 'bytearray'>\n",
      "****************************************************************************************************\n",
      "11\n",
      "22\n",
      "33\n",
      "44\n"
     ]
    }
   ],
   "source": [
    "# bytearray\n",
    "\n",
    "list1=[11,22,33,44]\n",
    "print(list1,type(list1))\n",
    "print('*'*100)\n",
    "barray=bytearray(list1)\n",
    "print(barray,type(barray))\n",
    "print('*'*100)\n",
    "for i in barray:\n",
    "    print(i)"
   ]
  },
  {
   "cell_type": "code",
   "execution_count": 26,
   "id": "16d375db",
   "metadata": {},
   "outputs": [
    {
     "name": "stdout",
     "output_type": "stream",
     "text": [
      "bytearray(b'\\x01\\x02\\x03\\x04\\x04')\n",
      "1\n",
      "2\n",
      "3\n",
      "4\n",
      "4\n",
      "****************************************************************************************************\n",
      "bytearray(b'c\\x02\\x03\\x04\\x04')\n",
      "99\n",
      "2\n",
      "3\n",
      "4\n",
      "4\n"
     ]
    }
   ],
   "source": [
    "barray=bytearray([1,2,3,4,4])\n",
    "print(barray)\n",
    "for i in barray:\n",
    "    print(i)\n",
    "    \n",
    "print('*'*100)\n",
    "    \n",
    "barray[0]=99\n",
    "print(barray)\n",
    "for i in barray:\n",
    "    print(i)"
   ]
  },
  {
   "cell_type": "code",
   "execution_count": 98,
   "id": "e06bbb85",
   "metadata": {},
   "outputs": [
    {
     "name": "stdout",
     "output_type": "stream",
     "text": [
      "[1, 2, 3, 4, 5, 6, 7, 8, 9]\n",
      "[1, 2, 3, 4, 5, 6, 7, 8, 9, 100]\n"
     ]
    }
   ],
   "source": [
    "# opration on list\n",
    "lst=[1,2,3,4,5,6,7,8,9]\n",
    "print(lst)\n",
    "lst.append(100)\n",
    "print(lst)"
   ]
  },
  {
   "cell_type": "code",
   "execution_count": 99,
   "id": "29f91944",
   "metadata": {},
   "outputs": [
    {
     "name": "stdout",
     "output_type": "stream",
     "text": [
      "lst : [1, 2, 3, 4, 5, 6, 7, 8, 9, 100]\n",
      "lst1: [1, 2, 3, 4, 5, 6, 7, 8, 9, 100]\n"
     ]
    }
   ],
   "source": [
    "lst1=lst.copy()\n",
    "print('lst :',lst)\n",
    "print('lst1:',lst1)"
   ]
  },
  {
   "cell_type": "code",
   "execution_count": 100,
   "id": "3529010f",
   "metadata": {},
   "outputs": [
    {
     "data": {
      "text/plain": [
       "1"
      ]
     },
     "execution_count": 100,
     "metadata": {},
     "output_type": "execute_result"
    }
   ],
   "source": [
    "lst.count(100)"
   ]
  },
  {
   "cell_type": "code",
   "execution_count": 101,
   "id": "023b6ee5",
   "metadata": {},
   "outputs": [
    {
     "name": "stdout",
     "output_type": "stream",
     "text": [
      "[1, 2, 3, 4, 5, 6, 7, 8, 9, 100, 1, 2, 3, 4, 5, 6, 7, 8, 9, 100]\n"
     ]
    }
   ],
   "source": [
    "lst.extend(lst1)\n",
    "print(lst)"
   ]
  },
  {
   "cell_type": "code",
   "execution_count": 102,
   "id": "b16b4488",
   "metadata": {},
   "outputs": [
    {
     "name": "stdout",
     "output_type": "stream",
     "text": [
      "[5000, 1, 2, 3, 4, 5, 6, 7, 8, 9, 100, 1, 2, 3, 4, 5, 6, 7, 8, 9, 100]\n"
     ]
    }
   ],
   "source": [
    "lst.insert(0,5000)\n",
    "print(lst)"
   ]
  },
  {
   "cell_type": "code",
   "execution_count": 103,
   "id": "f1de622b",
   "metadata": {},
   "outputs": [
    {
     "data": {
      "text/plain": [
       "100"
      ]
     },
     "execution_count": 103,
     "metadata": {},
     "output_type": "execute_result"
    }
   ],
   "source": [
    "lst.pop()"
   ]
  },
  {
   "cell_type": "code",
   "execution_count": 104,
   "id": "9f720aef",
   "metadata": {},
   "outputs": [
    {
     "name": "stdout",
     "output_type": "stream",
     "text": [
      "[5000, 1, 2, 3, 4, 5, 6, 7, 8, 9, 100, 1, 2, 3, 4, 5, 6, 7, 8, 9]\n"
     ]
    }
   ],
   "source": [
    "print(lst)"
   ]
  },
  {
   "cell_type": "code",
   "execution_count": 105,
   "id": "6911cf4c",
   "metadata": {},
   "outputs": [
    {
     "name": "stdout",
     "output_type": "stream",
     "text": [
      "[5000, 1, 2, 3, 4, 5, 6, 7, 8, 9, 1, 2, 3, 4, 5, 6, 7, 8, 9]\n"
     ]
    }
   ],
   "source": [
    "lst.remove(100)\n",
    "print(lst)"
   ]
  },
  {
   "cell_type": "code",
   "execution_count": 106,
   "id": "a3970148",
   "metadata": {},
   "outputs": [
    {
     "name": "stdout",
     "output_type": "stream",
     "text": [
      "[9, 8, 7, 6, 5, 4, 3, 2, 1, 9, 8, 7, 6, 5, 4, 3, 2, 1, 5000]\n"
     ]
    }
   ],
   "source": [
    "lst.reverse()\n",
    "print(lst)"
   ]
  },
  {
   "cell_type": "code",
   "execution_count": 118,
   "id": "10de052e",
   "metadata": {},
   "outputs": [
    {
     "name": "stdout",
     "output_type": "stream",
     "text": [
      "[5000, 9, 9, 8, 8, 7, 7, 6, 6, 5, 5, 4, 4, 3, 3, 2, 2, 1, 1]\n"
     ]
    }
   ],
   "source": [
    "lst.sort(reverse=True)\n",
    "print(lst)"
   ]
  },
  {
   "cell_type": "code",
   "execution_count": 116,
   "id": "9cf05243",
   "metadata": {},
   "outputs": [
    {
     "data": {
      "text/plain": [
       "18"
      ]
     },
     "execution_count": 116,
     "metadata": {},
     "output_type": "execute_result"
    }
   ],
   "source": [
    "lst.index(5000,0,20)"
   ]
  },
  {
   "cell_type": "code",
   "execution_count": 95,
   "id": "ed682ec3",
   "metadata": {},
   "outputs": [],
   "source": [
    "# lst.clear()"
   ]
  },
  {
   "cell_type": "code",
   "execution_count": 119,
   "id": "458950cc",
   "metadata": {},
   "outputs": [
    {
     "data": {
      "text/plain": [
       "19"
      ]
     },
     "execution_count": 119,
     "metadata": {},
     "output_type": "execute_result"
    }
   ],
   "source": [
    "len(lst)"
   ]
  },
  {
   "cell_type": "code",
   "execution_count": 120,
   "id": "cfd0fd5f",
   "metadata": {},
   "outputs": [
    {
     "name": "stdout",
     "output_type": "stream",
     "text": [
      "(1, 0, 1, 0, 1, 0, 1, 0) <class 'tuple'>\n"
     ]
    }
   ],
   "source": [
    "tup=(1,0,1,0,1,0,1,0)\n",
    "print(tup,type(tup))"
   ]
  },
  {
   "cell_type": "code",
   "execution_count": 122,
   "id": "d6628e17",
   "metadata": {},
   "outputs": [],
   "source": [
    "# tup[0]=1000"
   ]
  },
  {
   "cell_type": "code",
   "execution_count": 123,
   "id": "e489e38b",
   "metadata": {},
   "outputs": [
    {
     "name": "stdout",
     "output_type": "stream",
     "text": [
      "(1000, 0, 1, 0, 1, 0, 1, 0) <class 'tuple'>\n"
     ]
    }
   ],
   "source": [
    "lst=list(tup)\n",
    "lst[0]=1000\n",
    "tup=tuple(lst)\n",
    "print(tup,type(tup))"
   ]
  },
  {
   "cell_type": "code",
   "execution_count": 126,
   "id": "d5363ee7",
   "metadata": {},
   "outputs": [
    {
     "data": {
      "text/plain": [
       "3"
      ]
     },
     "execution_count": 126,
     "metadata": {},
     "output_type": "execute_result"
    }
   ],
   "source": [
    "tup.count(1)"
   ]
  },
  {
   "cell_type": "code",
   "execution_count": 127,
   "id": "449df728",
   "metadata": {},
   "outputs": [
    {
     "name": "stdout",
     "output_type": "stream",
     "text": [
      "ram <class 'str'>\n",
      "('ram',) <class 'tuple'>\n"
     ]
    }
   ],
   "source": [
    "tup1=('ram'); print(tup1,type(tup1))\n",
    "tup1=('ram',); print(tup1,type(tup1))"
   ]
  },
  {
   "cell_type": "code",
   "execution_count": 130,
   "id": "59dbee4c",
   "metadata": {},
   "outputs": [
    {
     "name": "stdout",
     "output_type": "stream",
     "text": [
      "(1, 0, 1, 0, 1, 0, 1, 0, 1, 0, 1, 0, 1, 0, 1, 0)\n"
     ]
    }
   ],
   "source": [
    "tup1=(1,0,1,0,1,0,1,0)\n",
    "tup2=(1,0,1,0,1,0,1,0)\n",
    "add=tup1+tup1\n",
    "print(add)"
   ]
  },
  {
   "cell_type": "code",
   "execution_count": 129,
   "id": "04e141c2",
   "metadata": {},
   "outputs": [
    {
     "name": "stdout",
     "output_type": "stream",
     "text": [
      "('ram', 'ram')\n"
     ]
    }
   ],
   "source": [
    "print(add)"
   ]
  },
  {
   "cell_type": "code",
   "execution_count": 149,
   "id": "f370d0dc",
   "metadata": {},
   "outputs": [
    {
     "name": "stdout",
     "output_type": "stream",
     "text": [
      "1\n",
      "[0, 1, 0, 1, 0, 1, 0]\n"
     ]
    }
   ],
   "source": [
    "tup1=[1,0,1,0,1,0,1,0]\n",
    "tup2=(1,0,1,0,1,0,1,0)\n",
    "\n",
    "[a,*b]=tup1\n",
    "print(a)\n",
    "print(b)"
   ]
  },
  {
   "cell_type": "code",
   "execution_count": 152,
   "id": "860e37f1",
   "metadata": {},
   "outputs": [
    {
     "name": "stdout",
     "output_type": "stream",
     "text": [
      "[1, 0, 1, 0, 1, 0, 1, 0, 1, 0, 1, 0, 1, 0, 1, 0]\n"
     ]
    }
   ],
   "source": [
    "tup1=[1,0,1,0,1,0,1,0] # ()\n",
    "tup2=(1,0,1,0,1,0,1,0)\n",
    "tup=[*tup1,*tup2]\n",
    "print(tup)"
   ]
  },
  {
   "cell_type": "code",
   "execution_count": 155,
   "id": "daa07acf",
   "metadata": {},
   "outputs": [
    {
     "name": "stdout",
     "output_type": "stream",
     "text": [
      "6\n"
     ]
    }
   ],
   "source": [
    "def add(a,b,c):\n",
    "    return a+b+c\n",
    "\n",
    "numbers=add(1,2,3)\n",
    "print(numbers)"
   ]
  },
  {
   "cell_type": "code",
   "execution_count": 160,
   "id": "293d4e39",
   "metadata": {},
   "outputs": [
    {
     "name": "stdout",
     "output_type": "stream",
     "text": [
      "60\n"
     ]
    }
   ],
   "source": [
    "values=(10,20,30)\n",
    "numbers=add(*values)\n",
    "print(numbers)"
   ]
  },
  {
   "cell_type": "code",
   "execution_count": 161,
   "id": "8c8955c0",
   "metadata": {},
   "outputs": [
    {
     "data": {
      "text/plain": [
       "1"
      ]
     },
     "execution_count": 161,
     "metadata": {},
     "output_type": "execute_result"
    }
   ],
   "source": [
    "\n",
    "tup=(1,2,2,3,45,5,6,7,8,76,5,4,33,2,3,4,5,5,)\n",
    "\n",
    "tup.count(76)"
   ]
  },
  {
   "cell_type": "code",
   "execution_count": 162,
   "id": "2cd9a082",
   "metadata": {},
   "outputs": [
    {
     "data": {
      "text/plain": [
       "9"
      ]
     },
     "execution_count": 162,
     "metadata": {},
     "output_type": "execute_result"
    }
   ],
   "source": [
    "tup.index(76)"
   ]
  },
  {
   "cell_type": "code",
   "execution_count": 163,
   "id": "9960e09c",
   "metadata": {},
   "outputs": [
    {
     "name": "stdout",
     "output_type": "stream",
     "text": [
      "{1, 2, 3, 4, 5, 6, 7} <class 'set'>\n"
     ]
    }
   ],
   "source": [
    "s1={1,2,3,4,5,6,7,1,2,3}\n",
    "print(s1,type(s1))"
   ]
  },
  {
   "cell_type": "code",
   "execution_count": 165,
   "id": "c8b8accc",
   "metadata": {},
   "outputs": [
    {
     "name": "stdout",
     "output_type": "stream",
     "text": [
      "{1, 2, 3, 4, 5, 6, 7, 100}\n"
     ]
    }
   ],
   "source": [
    "s1.add(100)\n",
    "print(s1)"
   ]
  },
  {
   "cell_type": "code",
   "execution_count": 168,
   "id": "c33702f5",
   "metadata": {},
   "outputs": [
    {
     "name": "stdout",
     "output_type": "stream",
     "text": [
      "{1, 2, 3, 4}\n"
     ]
    }
   ],
   "source": [
    "lst=[1,2,3,4]\n",
    "tp=(11,22,33,44,1,2,3)\n",
    "s=set(lst)\n",
    "print(s)"
   ]
  },
  {
   "cell_type": "code",
   "execution_count": 169,
   "id": "53b10423",
   "metadata": {},
   "outputs": [],
   "source": [
    "s.add(tp)"
   ]
  },
  {
   "cell_type": "code",
   "execution_count": 170,
   "id": "88bdb51f",
   "metadata": {},
   "outputs": [
    {
     "name": "stdout",
     "output_type": "stream",
     "text": [
      "{1, 2, 3, 4, (11, 22, 33, 44, 1, 2, 3)}\n"
     ]
    }
   ],
   "source": [
    "print(s)"
   ]
  },
  {
   "cell_type": "code",
   "execution_count": 171,
   "id": "89119f1d",
   "metadata": {},
   "outputs": [
    {
     "name": "stdout",
     "output_type": "stream",
     "text": [
      "True\n"
     ]
    }
   ],
   "source": [
    "val=4 in s\n",
    "print(val)"
   ]
  },
  {
   "cell_type": "code",
   "execution_count": 175,
   "id": "798a8c9d",
   "metadata": {},
   "outputs": [
    {
     "name": "stdout",
     "output_type": "stream",
     "text": [
      "True\n"
     ]
    }
   ],
   "source": [
    "s= 2 in s\n",
    "print(s)"
   ]
  },
  {
   "cell_type": "code",
   "execution_count": 176,
   "id": "6ee079dd",
   "metadata": {},
   "outputs": [
    {
     "name": "stdout",
     "output_type": "stream",
     "text": [
      "{110, 210, 10, 310}\n",
      "{33, 22, 55, 11, 44}\n",
      "{555, 444, 333, 222, 111}\n",
      "****************************************************************************************************\n",
      "first update s1 {33, 10, 11, 44, 110, 210, 55, 310, 22}\n",
      "****************************************************************************************************\n",
      "second update s1 {33, 10, 11, 44, 555, 110, 333, 111, 210, 55, 310, 22, 444, 222}\n"
     ]
    }
   ],
   "source": [
    "s1={10,110,210,310}\n",
    "s2={11,22,33,44,55}\n",
    "s3={111,222,333,444,555}\n",
    "\n",
    "print(s1)\n",
    "print(s2)\n",
    "print(s3)\n",
    "print('*'*100)\n",
    "s1.update(s2)\n",
    "print('first update s1',s1)\n",
    "print('*'*100)\n",
    "s1.update(s3)\n",
    "print('second update s1',s1)"
   ]
  },
  {
   "cell_type": "code",
   "execution_count": 179,
   "id": "fda98392",
   "metadata": {},
   "outputs": [
    {
     "name": "stdout",
     "output_type": "stream",
     "text": [
      "{'C', 'A', 'E', 'D', 'G', 'F', 'B'}\n",
      "{'E', 'D', 'G', 'F'}\n"
     ]
    }
   ],
   "source": [
    "s={'A','B','C','D','E','F','G'}\n",
    "print(s)\n",
    "s.remove('A')\n",
    "s.discard('B')\n",
    "s.pop()\n",
    "print(s)\n"
   ]
  },
  {
   "cell_type": "code",
   "execution_count": 180,
   "id": "35c8aa30",
   "metadata": {},
   "outputs": [
    {
     "name": "stdout",
     "output_type": "stream",
     "text": [
      "{'C', 'A', 'E', 'D', 'G', 'F', 'B'}\n",
      "{'E', 'D', 'G', 'F'}\n"
     ]
    }
   ],
   "source": [
    "s={'A','B','C','D','E','F','G'}\n",
    "print(s)\n",
    "s.remove('A')\n",
    "s.discard('B')\n",
    "s.pop()\n",
    "print(s)"
   ]
  },
  {
   "cell_type": "code",
   "execution_count": 3,
   "id": "653986ce",
   "metadata": {},
   "outputs": [
    {
     "name": "stdout",
     "output_type": "stream",
     "text": [
      "{1, 2}\n",
      "None\n"
     ]
    }
   ],
   "source": [
    "# intersection\n",
    "\n",
    "set1={1,2,3,4,4}\n",
    "set2={1,2,6,7,8,8,7,9,10}\n",
    "set3={1,2,3,8,9,7}\n",
    "val1=set1.intersection(set2)\n",
    "print(val1)\n",
    "val2= set1.intersection_update(set3)\n",
    "print(val2)"
   ]
  },
  {
   "cell_type": "code",
   "execution_count": 6,
   "id": "701dabb2",
   "metadata": {},
   "outputs": [
    {
     "name": "stdout",
     "output_type": "stream",
     "text": [
      "{1, 2, 3, 4, 5}\n",
      "{4, 5, 6, 7, 8}\n",
      "intersection update: None\n",
      "{4, 5}\n",
      "{4, 5, 6, 7, 8}\n"
     ]
    }
   ],
   "source": [
    "set1 = {1, 2, 3, 4, 5}\n",
    "set2 = {4, 5, 6, 7, 8}\n",
    "print(set1)\n",
    "print(set2)\n",
    "val1=set1.intersection_update(set2)\n",
    "print(\"intersection update:\",val1)\n",
    "print(set1)\n",
    "print(set2)"
   ]
  },
  {
   "cell_type": "code",
   "execution_count": 13,
   "id": "aa19df1f",
   "metadata": {},
   "outputs": [
    {
     "name": "stdout",
     "output_type": "stream",
     "text": [
      "{1, 2, 3, 4, 5}\n",
      "{4, 5, 6, 7, 8}\n",
      "difference of set1 and set2: {1, 2, 3}\n",
      "difference of set2 and set1: {8, 6, 7}\n",
      "symmetric_difference: {1, 2, 3, 6, 7, 8}\n",
      "symmetric_difference_update : {1, 2, 3, 6, 7, 8}\n",
      "set1: {1, 2, 3, 6, 7, 8}\n",
      "set2: {4, 5, 6, 7, 8}\n"
     ]
    }
   ],
   "source": [
    "set1={1,2,3,4,5}\n",
    "set2={4,5,6,7,8}\n",
    "print(set1)\n",
    "print(set2)\n",
    "\n",
    "# difference: return new set with element which are not present in another set\n",
    "sd1=set1.difference(set2)\n",
    "print('difference of set1 and set2:',sd1)\n",
    "sd2=set2.difference(set1)\n",
    "print(\"difference of set2 and set1:\",sd2)\n",
    "\n",
    "\n",
    "# symmetric_difference : return new set with elements present in s1 but not in set2 and viceversa\n",
    "syd=set1.symmetric_difference(set2)\n",
    "print(\"symmetric_difference:\",syd)\n",
    "\n",
    "\n",
    "# symmetric_difference_update : update a set with symmetric_differnece iteself and another\n",
    "sdu=set1.symmetric_difference_update(set2)\n",
    "print(\"symmetric_difference_update :\",set1)\n",
    "print(\"set1:\",set1)\n",
    "print(\"set2:\",set2)\n"
   ]
  },
  {
   "cell_type": "code",
   "execution_count": 15,
   "id": "cd836de1",
   "metadata": {},
   "outputs": [
    {
     "name": "stdout",
     "output_type": "stream",
     "text": [
      "{1, 2, 3}\n",
      "{8, 6, 7}\n",
      "isdisjoint: True\n"
     ]
    }
   ],
   "source": [
    "# isdisjoint # true : if no common elements else false\n",
    "set1={1,2,3}\n",
    "set2={6,7,8}\n",
    "print(set1)\n",
    "print(set2)\n",
    "val=set1.isdisjoint(set2)\n",
    "print('isdisjoint:',val)"
   ]
  },
  {
   "cell_type": "code",
   "execution_count": 18,
   "id": "0a62466a",
   "metadata": {},
   "outputs": [
    {
     "name": "stdout",
     "output_type": "stream",
     "text": [
      "{1, 2, 3, 4, 5, 6, 7, 8}\n",
      "{4, 5, 6, 7, 8}\n",
      "set1.issubset(set2): False\n",
      "set1.issubset(set2): True\n"
     ]
    }
   ],
   "source": [
    "# issubset : true > if set2 is present at set1 else false\n",
    "set1={1,2,3,4,5,6,7,8}\n",
    "set2={4,5,6,7,8}\n",
    "print(set1)\n",
    "print(set2)\n",
    "val=set1.issubset(set2)\n",
    "print('set1.issubset(set2):',val)\n",
    "val2=set2.issubset(set1)\n",
    "print('set1.issubset(set2):',val2)"
   ]
  },
  {
   "cell_type": "code",
   "execution_count": 21,
   "id": "5bde1401",
   "metadata": {},
   "outputs": [
    {
     "name": "stdout",
     "output_type": "stream",
     "text": [
      "{1, 2, 3, 4, 5, 6, 7, 8}\n",
      "{4, 5, 6, 7, 8}\n",
      "set1.issuperset(set2): True\n",
      "set2.issuperset(set1): False\n"
     ]
    }
   ],
   "source": [
    "# isuperset : true > if set1 elements in set2  else false\n",
    "set1={1,2,3,4,5,6,7,8}\n",
    "set2={4,5,6,7,8}\n",
    "print(set1)\n",
    "print(set2)\n",
    "val=set1.issuperset(set2)\n",
    "print('set1.issuperset(set2):',val)\n",
    "val2=set2.issuperset(set1)\n",
    "print('set2.issuperset(set1):',val2)"
   ]
  },
  {
   "cell_type": "code",
   "execution_count": 22,
   "id": "dc11e70a",
   "metadata": {},
   "outputs": [
    {
     "name": "stdout",
     "output_type": "stream",
     "text": [
      "{1, 2, 3}\n",
      "mutable set1: {1, 2, 3, 4}\n"
     ]
    }
   ],
   "source": [
    "# set and frosen set immmutanility\n",
    "\n",
    "set1={1,2,3}\n",
    "print(set1)\n",
    "set1.add(4)\n",
    "print('mutable set1:',set1)"
   ]
  },
  {
   "cell_type": "code",
   "execution_count": 29,
   "id": "19cccd75",
   "metadata": {},
   "outputs": [
    {
     "name": "stdout",
     "output_type": "stream",
     "text": [
      "frozenset({1, 2, 3, 4}) <class 'frozenset'>\n"
     ]
    }
   ],
   "source": [
    "fset=frozenset(set1)\n",
    "print(fset,type(fset))\n",
    "# fset.add(set2)"
   ]
  },
  {
   "cell_type": "code",
   "execution_count": 33,
   "id": "b4ab47a3",
   "metadata": {},
   "outputs": [
    {
     "name": "stdout",
     "output_type": "stream",
     "text": [
      "frozenset({1, 2, 3, 4, 5}) <class 'frozenset'>\n",
      "frozenset({4, 5, 6, 7, 8}) <class 'frozenset'>\n"
     ]
    }
   ],
   "source": [
    "set1=frozenset({1,2,3,4,5})\n",
    "set2=frozenset({4,5,6,7,8})\n",
    "print(set1,type(set1))\n",
    "print(set2,type(set2))"
   ]
  },
  {
   "cell_type": "code",
   "execution_count": 35,
   "id": "a2e4d503",
   "metadata": {},
   "outputs": [
    {
     "name": "stdout",
     "output_type": "stream",
     "text": [
      "difference of set1 and set2: frozenset({1, 2, 3})\n",
      "difference of set2 and set1: frozenset({8, 6, 7})\n",
      "symmetric_difference: frozenset({1, 2, 3, 6, 7, 8})\n"
     ]
    }
   ],
   "source": [
    "# difference: return new set with element which are not present in another set\n",
    "sd1=set1.difference(set2)\n",
    "print('difference of set1 and set2:',sd1)\n",
    "sd2=set2.difference(set1)\n",
    "print(\"difference of set2 and set1:\",sd2)\n",
    "\n",
    "\n",
    "# symmetric_difference : return new set with elements present in s1 but not in set2 and viceversa\n",
    "syd=set1.symmetric_difference(set2)\n",
    "print(\"symmetric_difference:\",syd)\n",
    "\n",
    "\n",
    "# # symmetric_difference_update : update a set with symmetric_differnece iteself and another\n",
    "# sdu=set1.symmetric_difference_update(set2)\n",
    "# print(\"symmetric_difference_update :\",set1)\n",
    "# print(\"set1:\",set1)\n",
    "# print(\"set2:\",set2)\n"
   ]
  },
  {
   "cell_type": "code",
   "execution_count": 37,
   "id": "da576111",
   "metadata": {},
   "outputs": [
    {
     "name": "stdout",
     "output_type": "stream",
     "text": [
      "frozenset({1, 2, 3, 4, 5, 6, 7, 8})\n",
      "frozenset({4, 5, 6, 7, 8})\n",
      "set1.issuperset(set2): True\n",
      "set2.issuperset(set1): False\n"
     ]
    }
   ],
   "source": [
    "# isuperset : true > if set1 elements in set2  else false\n",
    "set1=frozenset({1,2,3,4,5,6,7,8})\n",
    "set2=frozenset({4,5,6,7,8})\n",
    "print(set1)\n",
    "print(set2)\n",
    "val=set1.issuperset(set2)\n",
    "print('set1.issuperset(set2):',val)\n",
    "val2=set2.issuperset(set1)\n",
    "print('set2.issuperset(set1):',val2)"
   ]
  },
  {
   "cell_type": "code",
   "execution_count": 38,
   "id": "9f27f76f",
   "metadata": {},
   "outputs": [
    {
     "name": "stdout",
     "output_type": "stream",
     "text": [
      "frozenset({4, 5, 6, 7, 8})\n",
      "banana is present in set2 ? >> True\n"
     ]
    }
   ],
   "source": [
    "print(set2)\n",
    "val= 8 in set2\n",
    "print(\"banana is present in set2 ? >>\",val)"
   ]
  },
  {
   "cell_type": "code",
   "execution_count": 77,
   "id": "500d2f57",
   "metadata": {},
   "outputs": [
    {
     "name": "stdout",
     "output_type": "stream",
     "text": [
      "{'A': 10, 'B': 20, 'C': 30, 40: 'D', 50: 'E'}\n",
      "dict_keys(['A', 'B', 'C', 40, 50])\n",
      "dict_values([10, 20, 30, 'D', 'E'])\n",
      "dict_items([('A', 10), ('B', 20), ('C', 30), (40, 'D'), (50, 'E')])\n",
      "10\n",
      "10\n",
      "{'A': 40, 'B': 40, 'C': 40, 40: 40, 50: 40}\n",
      "{'A': 10, 'B': 20, 'C': 30, 40: 'D', 50: 'E', 'F': 60}\n",
      "{'A': 10, 'B': 20, 'C': 30, 40: 'D', 50: 'E', 'F': 60, '1': 100}\n",
      "{'A': 10, 'B': 20, 'C': 30, 40: 'D', 50: 'E', 'F': 60, '1': 100}\n",
      "{'A': 40, 'B': 40, 'C': 40, 40: 40, 50: 40, 'F': 60, '1': 100}\n",
      "{'A': 40, 'B': 40, 'C': 40, 40: 40, 50: 40, 'F': 60, '1': 100}\n",
      "{'A': 40, 'B': 40, 'C': 40, 50: 40, 'F': 60, '1': 100}\n",
      "{'A': 40, 'B': 40, 'C': 40, 50: 40, 'F': 60, '1': 100}\n",
      "{'A': 40, 'B': 40, 'C': 40, 50: 40, 'F': 60}\n",
      "{'A': 40, 'B': 40, 'C': 40, 50: 40, 'F': 60}\n",
      "{'A': 40, 'B': 40, 'C': 40, 50: 40}\n"
     ]
    }
   ],
   "source": [
    "dict1={\n",
    "     'A' :10,\n",
    "     'B' :20,\n",
    "     'C' :30,\n",
    "     40  :'D',\n",
    "     50  :'E'\n",
    "}\n",
    "\n",
    "print(dict1)\n",
    "\n",
    "print(dict1.keys())\n",
    "\n",
    "print(dict1.values())\n",
    "\n",
    "print(dict1.items())\n",
    "\n",
    "# accesing elements\n",
    "print(dict1.get('A')) \n",
    "print(dict1['A'])\n",
    "\n",
    "d={'A': 10, 'B': 20, 'C': 30, 40: 'D', 50: 'E'}\n",
    "newdict=dict.fromkeys(d,40)\n",
    "print(newdict)\n",
    "\n",
    "dict1.setdefault('F',60)\n",
    "print(dict1)\n",
    "dict1.setdefault('1',100)\n",
    "print(dict1)\n",
    "dict1.setdefault('A',1000)\n",
    "print(dict1)\n",
    "\n",
    "dict1.update(newdict)\n",
    "print(dict1)\n",
    "\n",
    "print(dict1)\n",
    "dict1.pop(40)\n",
    "print(dict1)\n",
    "\n",
    "print(dict1)\n",
    "dict1.popitem()\n",
    "print(dict1)\n",
    "\n",
    "print(dict1)\n",
    "key,value = dict1.popitem()\n",
    "print(dict1)"
   ]
  },
  {
   "cell_type": "code",
   "execution_count": null,
   "id": "930ad218",
   "metadata": {},
   "outputs": [],
   "source": []
  }
 ],
 "metadata": {
  "kernelspec": {
   "display_name": "Python 3 (ipykernel)",
   "language": "python",
   "name": "python3"
  },
  "language_info": {
   "codemirror_mode": {
    "name": "ipython",
    "version": 3
   },
   "file_extension": ".py",
   "mimetype": "text/x-python",
   "name": "python",
   "nbconvert_exporter": "python",
   "pygments_lexer": "ipython3",
   "version": "3.11.3"
  }
 },
 "nbformat": 4,
 "nbformat_minor": 5
}
